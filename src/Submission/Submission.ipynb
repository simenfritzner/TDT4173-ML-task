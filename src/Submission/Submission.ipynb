{
 "cells": [
  {
   "cell_type": "code",
   "execution_count": 3,
   "id": "6e44cf18-9ad6-41cf-9e24-7a6fea8d1907",
   "metadata": {},
   "outputs": [
    {
     "name": "stdout",
     "output_type": "stream",
     "text": [
      "The autoreload extension is already loaded. To reload it, use:\n",
      "  %reload_ext autoreload\n",
      "Stored variables and their in-db values:\n"
     ]
    }
   ],
   "source": [
    "%load_ext autoreload"
   ]
  },
  {
   "cell_type": "code",
   "execution_count": 27,
   "id": "40dfdac3-8c6a-4508-98b0-2e557d2865d2",
   "metadata": {},
   "outputs": [],
   "source": [
    "%autoreload\n",
    "from submission import *\n",
    "import sys\n",
    "\n",
    "sys.path.insert(0, '../Models/Linear_regression')\n",
    "sys.path.insert(0, '../RF')\n",
    "sys.path.insert(0, '../XGB')"
   ]
  },
  {
   "cell_type": "markdown",
   "id": "e2d63639-14cb-4f0d-b72e-b4f5c9474811",
   "metadata": {},
   "source": [
    "# Load variables from Lin_reg, RF and XGB"
   ]
  },
  {
   "cell_type": "code",
   "execution_count": 17,
   "id": "b82a13e4-dc4b-4343-89fd-24a468ba8674",
   "metadata": {},
   "outputs": [
    {
     "name": "stdout",
     "output_type": "stream",
     "text": [
      "/Users/simenfritzner/Documents/Skole/Semester 5/Maskinlæring/ML_Task/TDT4173-ML-task/src/Models/Linear_Regression\n",
      "/Users/simenfritzner/Documents/Skole/Semester 5/Maskinlæring/ML_Task/TDT4173-ML-task/src/Models/RF\n",
      "/Users/simenfritzner/Documents/Skole/Semester 5/Maskinlæring/ML_Task/TDT4173-ML-task/src/Models/XGB\n",
      "/Users/simenfritzner/Documents/Skole/Semester 5/Maskinlæring/ML_Task/TDT4173-ML-task/src/Submission\n"
     ]
    }
   ],
   "source": [
    "%cd ../Models/Linear_Regression\n",
    "%store -r Lin_reg_pred_a\n",
    "%store -r Lin_reg_pred_b\n",
    "%store -r Lin_reg_pred_c\n",
    "%cd ../RF\n",
    "%store -r rf_pred_a\n",
    "%store -r rf_pred_b\n",
    "%store -r rf_pred_c\n",
    "%cd ../XGB\n",
    "%store -r xgb_pred_a\n",
    "%store -r xgb_pred_b\n",
    "%store -r xgb_pred_c\n",
    "%cd ../../Submission"
   ]
  },
  {
   "cell_type": "code",
   "execution_count": 30,
   "id": "357e29b9-5ba6-4f94-9b15-289603021fb7",
   "metadata": {},
   "outputs": [
    {
     "name": "stdout",
     "output_type": "stream",
     "text": [
      "Row 1:\n",
      "RF: 3.546703547155324 16.175522009651512 0.0036918276984934965\n",
      "Linreg: 0.0 24.767105102539062 26.79150390625\n",
      "XGB:     2.402895450592041 14.087639808654785 0.31838491559028625\n",
      "----------------------------------------\n",
      "Row 2:\n",
      "RF: 3.30515049849244 16.175522009651512 0.0036918276984934965\n",
      "Linreg: 0.0 24.76134490966797 26.79161834716797\n",
      "XGB:     2.402895450592041 14.087639808654785 0.31838491559028625\n",
      "----------------------------------------\n",
      "Row 3:\n",
      "RF: 3.234200250031195 16.022982016412456 0.0036918276984934965\n",
      "Linreg: 0.0 24.738327026367188 26.79193115234375\n",
      "XGB:     2.402895450592041 14.087639808654785 0.31838491559028625\n",
      "----------------------------------------\n",
      "Row 4:\n",
      "RF: 3.2033196350736945 38.94687255812239 0.011964043317977385\n",
      "Linreg: 17.298320770263672 0.0 26.824569702148438\n",
      "XGB:     2.402895450592041 14.878230094909668 0.31838491559028625\n",
      "----------------------------------------\n",
      "Row 5:\n",
      "RF: 3.2033196350736945 71.51135225324526 0.04421122761260102\n",
      "Linreg: 86.46194458007812 0.0 0.0\n",
      "XGB:     2.402895450592041 17.79566192626953 0.31838491559028625\n",
      "----------------------------------------\n",
      "Row 6:\n",
      "RF: 3.2319204326978697 72.30451037162032 0.020640991839408665\n",
      "Linreg: 91.05896759033203 0.0 0.0\n",
      "XGB:     2.402895450592041 17.79566192626953 0.31838491559028625\n",
      "----------------------------------------\n",
      "Row 7:\n",
      "RF: 5.727219428161408 102.44883972303886 0.1762797863125438\n",
      "Linreg: 96.08800506591797 0.0 0.0\n",
      "XGB:     2.402895450592041 21.17000961303711 3.6677916049957275\n",
      "----------------------------------------\n",
      "Row 8:\n",
      "RF: 6.7640320441682364 91.58328856229808 1.4609759887403886\n",
      "Linreg: 100.51431274414062 0.0 0.0\n",
      "XGB:     13.076583862304688 22.854167938232422 4.945333480834961\n",
      "----------------------------------------\n",
      "Row 9:\n",
      "RF: 12.02064187846407 85.64489749468434 2.06888632767949\n",
      "Linreg: 104.05780792236328 0.0 0.0\n",
      "XGB:     25.07733917236328 22.854167938232422 4.945333480834961\n",
      "----------------------------------------\n",
      "Row 10:\n",
      "RF: 14.669708752562633 79.32753995966704 2.3928797660460632\n",
      "Linreg: 106.42475891113281 0.0 0.0\n",
      "XGB:     25.07733917236328 22.854167938232422 4.945333480834961\n",
      "----------------------------------------\n",
      "Row 11:\n",
      "RF: 20.063717953977132 71.0414511435044 3.047538018625102\n",
      "Linreg: 107.23604583740234 0.0 0.0\n",
      "XGB:     27.06578826904297 22.854167938232422 4.945333480834961\n",
      "----------------------------------------\n",
      "Row 12:\n",
      "RF: 20.983545157201778 67.77429101043776 3.081748703497306\n",
      "Linreg: 106.685791015625 0.0 0.0\n",
      "XGB:     10.16646957397461 22.854167938232422 4.945333480834961\n",
      "----------------------------------------\n",
      "Row 13:\n",
      "RF: 22.871206943829762 54.4031188039729 3.2208853295952067\n",
      "Linreg: 104.23164367675781 0.0 0.0\n",
      "XGB:     12.751737594604492 21.17000961303711 3.996124029159546\n",
      "----------------------------------------\n",
      "Row 14:\n",
      "RF: 17.28406378123235 61.10649855834844 2.989542465551206\n",
      "Linreg: 100.61001586914062 0.0 0.0\n",
      "XGB:     10.16646957397461 21.17000961303711 0.6467174887657166\n",
      "----------------------------------------\n",
      "Row 15:\n",
      "RF: 13.320342289201454 74.64147868812651 2.380195084607911\n",
      "Linreg: 100.66455841064453 0.0 0.0\n",
      "XGB:     8.178022384643555 21.17000961303711 3.996124029159546\n",
      "----------------------------------------\n",
      "Row 16:\n",
      "RF: 10.937386394962495 89.34392616857815 1.589413156931522\n",
      "Linreg: 97.43162536621094 0.0 0.0\n",
      "XGB:     2.402895450592041 18.93060302734375 1.440633773803711\n",
      "----------------------------------------\n",
      "Row 17:\n",
      "RF: 6.7840071816720595 80.50028907219851 0.21071413682038342\n",
      "Linreg: 93.91703033447266 0.0 0.0\n",
      "XGB:     2.402895450592041 17.79566192626953 0.31838491559028625\n",
      "----------------------------------------\n",
      "Row 18:\n",
      "RF: 3.2033196350736945 72.53913090733461 0.020640991839408665\n",
      "Linreg: 89.57272338867188 0.0 0.0\n",
      "XGB:     2.402895450592041 17.79566192626953 0.31838491559028625\n",
      "----------------------------------------\n",
      "Row 19:\n",
      "RF: 3.2033196350736945 70.16501622990943 0.04314560976363077\n",
      "Linreg: 85.77518463134766 0.0 0.0\n",
      "XGB:     2.402895450592041 17.79566192626953 0.31838491559028625\n",
      "----------------------------------------\n",
      "Row 20:\n",
      "RF: 3.2033196350736945 18.003645072599696 0.03615059547100536\n",
      "Linreg: 0.0 2.8483352661132812 26.807350158691406\n",
      "XGB:     2.402895450592041 14.087639808654785 0.31838491559028625\n",
      "----------------------------------------\n"
     ]
    }
   ],
   "source": [
    "# Assuming that all prediction arrays have the same shape\n",
    "for i in range(20):\n",
    "    print(f\"Row {i+1}:\")\n",
    "    print(f\"RF: {rf_pred_a[i]} {rf_pred_b[i]} {rf_pred_c[i]}\")\n",
    "    print(f\"Linreg: {Lin_reg_pred_a[i]} {Lin_reg_pred_b[i]} {Lin_reg_pred_c[i]}\")\n",
    "    print(f\"XGB:     {xgb_pred_a[i]} {xgb_pred_b[i]} {xgb_pred_c[i]}\")\n",
    "    print(\"-\" * 40)  # printing a separator for better visibility"
   ]
  },
  {
   "cell_type": "markdown",
   "id": "0bbb6d3c-9f38-4b46-abf1-7caabaefbfe9",
   "metadata": {},
   "source": [
    "# Doing something fun with the predictions/modelse"
   ]
  },
  {
   "cell_type": "code",
   "execution_count": 20,
   "id": "97ee0f53-9861-4798-aa2a-90054ba8d8b3",
   "metadata": {},
   "outputs": [],
   "source": [
    "y_pred_mean_a = (Lin_reg_pred_a + rf_pred_a + xgb_pred_a) / 3\n",
    "y_pred_mean_b = (Lin_reg_pred_b + rf_pred_b + xgb_pred_b) / 3\n",
    "y_pred_mean_c = (Lin_reg_pred_c + rf_pred_c + xgb_pred_c) / 3"
   ]
  },
  {
   "cell_type": "code",
   "execution_count": 29,
   "id": "ec77d821-55bb-4510-b3db-bb05328c6029",
   "metadata": {},
   "outputs": [],
   "source": [
    "y_pred = np.concatenate([y_pred_mean_a, y_pred_mean_b, y_pred_mean_c], axis = 0)\n",
    "filename = \"../Data/CSV/The_great_submission_3.csv\"\n",
    "submission(filename, y_pred)"
   ]
  }
 ],
 "metadata": {
  "kernelspec": {
   "display_name": "Python 3 (ipykernel)",
   "language": "python",
   "name": "python3"
  },
  "language_info": {
   "codemirror_mode": {
    "name": "ipython",
    "version": 3
   },
   "file_extension": ".py",
   "mimetype": "text/x-python",
   "name": "python",
   "nbconvert_exporter": "python",
   "pygments_lexer": "ipython3",
   "version": "3.9.13"
  }
 },
 "nbformat": 4,
 "nbformat_minor": 5
}
