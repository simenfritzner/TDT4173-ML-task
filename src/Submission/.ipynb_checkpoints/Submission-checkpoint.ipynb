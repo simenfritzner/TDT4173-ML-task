{
 "cells": [
  {
   "cell_type": "code",
   "execution_count": 3,
   "id": "6e44cf18-9ad6-41cf-9e24-7a6fea8d1907",
   "metadata": {},
   "outputs": [
    {
     "name": "stdout",
     "output_type": "stream",
     "text": [
      "The autoreload extension is already loaded. To reload it, use:\n",
      "  %reload_ext autoreload\n",
      "Stored variables and their in-db values:\n"
     ]
    }
   ],
   "source": [
    "%load_ext autoreload"
   ]
  },
  {
   "cell_type": "code",
   "execution_count": 27,
   "id": "40dfdac3-8c6a-4508-98b0-2e557d2865d2",
   "metadata": {},
   "outputs": [],
   "source": [
    "%autoreload\n",
    "from submission import *\n",
    "import sys\n",
    "\n",
    "sys.path.insert(0, '../Models/Linear_regression')\n",
    "sys.path.insert(0, '../RF')\n",
    "sys.path.insert(0, '../XGB')"
   ]
  },
  {
   "cell_type": "markdown",
   "id": "e2d63639-14cb-4f0d-b72e-b4f5c9474811",
   "metadata": {},
   "source": [
    "# Load variables from Lin_reg, RF and XGB"
   ]
  },
  {
   "cell_type": "code",
   "execution_count": 17,
   "id": "b82a13e4-dc4b-4343-89fd-24a468ba8674",
   "metadata": {},
   "outputs": [
    {
     "name": "stdout",
     "output_type": "stream",
     "text": [
      "/Users/simenfritzner/Documents/Skole/Semester 5/Maskinlæring/ML_Task/TDT4173-ML-task/src/Models/Linear_Regression\n",
      "/Users/simenfritzner/Documents/Skole/Semester 5/Maskinlæring/ML_Task/TDT4173-ML-task/src/Models/RF\n",
      "/Users/simenfritzner/Documents/Skole/Semester 5/Maskinlæring/ML_Task/TDT4173-ML-task/src/Models/XGB\n",
      "/Users/simenfritzner/Documents/Skole/Semester 5/Maskinlæring/ML_Task/TDT4173-ML-task/src/Submission\n"
     ]
    }
   ],
   "source": [
    "%cd ../Models/Linear_Regression\n",
    "%store -r Lin_reg_pred_a\n",
    "%store -r Lin_reg_pred_b\n",
    "%store -r Lin_reg_pred_c\n",
    "%cd ../RF\n",
    "%store -r rf_pred_a\n",
    "%store -r rf_pred_b\n",
    "%store -r rf_pred_c\n",
    "%cd ../XGB\n",
    "%store -r xgb_pred_a\n",
    "%store -r xgb_pred_b\n",
    "%store -r xgb_pred_c\n",
    "%cd ../../Submission"
   ]
  },
  {
   "cell_type": "markdown",
   "id": "0bbb6d3c-9f38-4b46-abf1-7caabaefbfe9",
   "metadata": {},
   "source": [
    "# Doing something fun with the predictions/modelse"
   ]
  },
  {
   "cell_type": "code",
   "execution_count": 20,
   "id": "97ee0f53-9861-4798-aa2a-90054ba8d8b3",
   "metadata": {},
   "outputs": [],
   "source": [
    "y_pred_mean_a = (Lin_reg_pred_a + rf_pred_a + xgb_pred_a) / 3\n",
    "y_pred_mean_b = (Lin_reg_pred_b + rf_pred_b + xgb_pred_b) / 3\n",
    "y_pred_mean_c = (Lin_reg_pred_c + rf_pred_c + xgb_pred_c) / 3"
   ]
  },
  {
   "cell_type": "code",
   "execution_count": 29,
   "id": "ec77d821-55bb-4510-b3db-bb05328c6029",
   "metadata": {},
   "outputs": [],
   "source": [
    "y_pred = np.concatenate([y_pred_mean_a, y_pred_mean_b, y_pred_mean_c], axis = 0)\n",
    "filename = \"../Data/CSV/The_great_submission_3.csv\"\n",
    "submission(filename, y_pred)"
   ]
  }
 ],
 "metadata": {
  "kernelspec": {
   "display_name": "Python 3 (ipykernel)",
   "language": "python",
   "name": "python3"
  },
  "language_info": {
   "codemirror_mode": {
    "name": "ipython",
    "version": 3
   },
   "file_extension": ".py",
   "mimetype": "text/x-python",
   "name": "python",
   "nbconvert_exporter": "python",
   "pygments_lexer": "ipython3",
   "version": "3.9.13"
  }
 },
 "nbformat": 4,
 "nbformat_minor": 5
}
