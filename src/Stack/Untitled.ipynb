{
 "cells": [
  {
   "cell_type": "code",
   "execution_count": 17,
   "id": "8f08244d-f19d-474c-830f-5e1bf19b8864",
   "metadata": {
    "tags": []
   },
   "outputs": [
    {
     "name": "stdout",
     "output_type": "stream",
     "text": [
      "The autoreload extension is already loaded. To reload it, use:\n",
      "  %reload_ext autoreload\n"
     ]
    }
   ],
   "source": [
    "%load_ext autoreload\n",
    "#To update the imported files"
   ]
  },
  {
   "cell_type": "code",
   "execution_count": 18,
   "id": "1482470d-9235-4207-a302-ec6ed5dc6e57",
   "metadata": {
    "tags": []
   },
   "outputs": [],
   "source": [
    "%autoreload\n",
    "import os\n",
    "import pandas as pd\n",
    "import numpy as np\n",
    "import matplotlib.pylab as plt\n",
    "from sklearn.model_selection import train_test_split\n",
    "from sklearn.preprocessing import StandardScaler\n",
    "from sklearn.linear_model import LinearRegression\n",
    "from sklearn.metrics import classification_report, accuracy_score\n",
    "from sklearn.metrics import mean_absolute_error\n",
    "import seaborn as sns\n",
    "%matplotlib inline\n",
    "\n",
    "pd.set_option('display.max_rows', 200)\n",
    "pd.set_option('display.max_columns', 200)"
   ]
  },
  {
   "cell_type": "code",
   "execution_count": 38,
   "id": "55245bb3-47b0-4fe8-aa79-dbbfc2e530df",
   "metadata": {
    "tags": []
   },
   "outputs": [
    {
     "name": "stdout",
     "output_type": "stream",
     "text": [
      "C:\\Users\\Gustav\\Documents\\maskinlaering\\ML_prosject\\TDT4173-ML-task\\src\\Linear_Regression\n",
      "C:\\Users\\Gustav\\Documents\\maskinlaering\\ML_prosject\\TDT4173-ML-task\\src\\Linear_Regression\n",
      "The autoreload extension is already loaded. To reload it, use:\n",
      "  %reload_ext autoreload\n",
      "A: Mean Absolute Error: 290.8027368366438\n",
      "B: Mean Absolute Error: 45.47061924626252\n",
      "C: Mean Absolute Error: 51.524004739398606\n",
      "[[-0.6670817  -1.111886   -1.081068    1.912505    0.613693  ]\n",
      " [-0.6670817  -1.111886   -1.081068    1.912505    0.58469915]\n",
      " [-0.6670817  -1.111886   -1.081068    1.912505    0.46711427]\n",
      " ...\n",
      " [-0.6670817  -1.1077288  -1.064515    1.912505    0.470336  ]\n",
      " [-0.6670817  -1.111886   -1.081068    1.912505    0.7087274 ]\n",
      " [-0.6670817  -1.111886   -1.081068    1.912505    0.78926516]]\n",
      "[[-0.6670847  -1.1118907  -1.0810686   1.9090255   0.6124732 ]\n",
      " [-0.6670847  -1.1118907  -1.0810686   1.9090255   0.5834794 ]\n",
      " [-0.6670847  -1.1118907  -1.0810686   1.9090255   0.46750328]\n",
      " ...\n",
      " [-0.6670847  -1.1077335  -1.0645152   1.9090255   0.46428156]\n",
      " [-0.6670847  -1.1118907  -1.0810686   1.9090255   0.7026768 ]\n",
      " [-0.6670847  -1.1118907  -1.0810686   1.9090255   0.78643686]]\n",
      "[[-0.6631393  -1.1112114  -1.0805107   1.7000666   0.6291268 ]\n",
      " [-0.6631393  -1.1112114  -1.0805107   1.7000666   0.5656663 ]\n",
      " [-0.6631393  -1.1112114  -1.0805107   1.7000666   0.40066963]\n",
      " ...\n",
      " [-0.6631393  -1.1072206  -1.0645202   1.7000666   0.5958104 ]\n",
      " [-0.6631393  -1.1112114  -1.0805107   1.7000666   0.8099896 ]\n",
      " [-0.6631393  -1.1112114  -1.0805107   1.7000666   0.86075765]]\n",
      "[ 0.        0.        0.       ... 26.786922 26.78125  26.780815]\n",
      "C:\\Users\\Gustav\\Documents\\maskinlaering\\ML_prosject\\TDT4173-ML-task\\src\\Linear_Regression\n",
      "C:\\Users\\Gustav\\Documents\\maskinlaering\\ML_prosject\\TDT4173-ML-task\\src\\XG_Boost\n",
      "The autoreload extension is already loaded. To reload it, use:\n",
      "  %reload_ext autoreload\n"
     ]
    },
    {
     "name": "stderr",
     "output_type": "stream",
     "text": [
      "C:\\Users\\Gustav\\anaconda3\\Lib\\site-packages\\sklearn\\base.py:464: UserWarning: X does not have valid feature names, but LinearRegression was fitted with feature names\n",
      "  warnings.warn(\n",
      "C:\\Users\\Gustav\\anaconda3\\Lib\\site-packages\\sklearn\\base.py:464: UserWarning: X does not have valid feature names, but LinearRegression was fitted with feature names\n",
      "  warnings.warn(\n",
      "C:\\Users\\Gustav\\anaconda3\\Lib\\site-packages\\sklearn\\base.py:464: UserWarning: X does not have valid feature names, but LinearRegression was fitted with feature names\n",
      "  warnings.warn(\n"
     ]
    },
    {
     "name": "stdout",
     "output_type": "stream",
     "text": [
      "A: Mean Absolute Error: 271.50978408702275\n",
      "B: Mean Absolute Error: 45.25430121435226\n",
      "C: Mean Absolute Error: 49.398893013268584\n",
      "[[-0.6670817  -1.111886   -1.081068    1.912505    0.613693  ]\n",
      " [-0.6670817  -1.111886   -1.081068    1.912505    0.58469915]\n",
      " [-0.6670817  -1.111886   -1.081068    1.912505    0.46711427]\n",
      " ...\n",
      " [-0.6670817  -1.1077288  -1.064515    1.912505    0.470336  ]\n",
      " [-0.6670817  -1.111886   -1.081068    1.912505    0.7087274 ]\n",
      " [-0.6670817  -1.111886   -1.081068    1.912505    0.78926516]]\n",
      "[[-0.6670847  -1.1118907  -1.0810686   1.9090255   0.6124732 ]\n",
      " [-0.6670847  -1.1118907  -1.0810686   1.9090255   0.5834794 ]\n",
      " [-0.6670847  -1.1118907  -1.0810686   1.9090255   0.46750328]\n",
      " ...\n",
      " [-0.6670847  -1.1077335  -1.0645152   1.9090255   0.46428156]\n",
      " [-0.6670847  -1.1118907  -1.0810686   1.9090255   0.7026768 ]\n",
      " [-0.6670847  -1.1118907  -1.0810686   1.9090255   0.78643686]]\n",
      "[[-0.6631393  -1.1112114  -1.0805107   1.7000666   0.6291268 ]\n",
      " [-0.6631393  -1.1112114  -1.0805107   1.7000666   0.5656663 ]\n",
      " [-0.6631393  -1.1112114  -1.0805107   1.7000666   0.40066963]\n",
      " ...\n",
      " [-0.6631393  -1.1072206  -1.0645202   1.7000666   0.5958104 ]\n",
      " [-0.6631393  -1.1112114  -1.0805107   1.7000666   0.8099896 ]\n",
      " [-0.6631393  -1.1112114  -1.0805107   1.7000666   0.86075765]]\n",
      "[13.548817 13.548817 13.548817 ...  0.        0.        0.      ]\n"
     ]
    }
   ],
   "source": [
    "%cd -\n",
    "%cd \"C:/Users/Gustav/Documents/maskinlaering/ML_prosject/TDT4173-ML-task/src/Linear_Regression\"\n",
    "%run Linear_regression.ipynb\n",
    "lin_pred = y_pred_linear_regression\n",
    "print(lin_pred)\n",
    "%cd -\n",
    "%cd \"C:/Users/Gustav/Documents/maskinlaering/ML_prosject/TDT4173-ML-task/src/XG_Boost\"\n",
    "%run XGBoost.ipynb\n",
    "xg_pred = y_pred_xgBoost\n",
    "print(xg_pred)"
   ]
  },
  {
   "cell_type": "code",
   "execution_count": 45,
   "id": "3e825f0f-b293-4138-b398-cb3a15e19e97",
   "metadata": {
    "tags": []
   },
   "outputs": [
    {
     "ename": "TypeError",
     "evalue": "LinearRegression.fit() missing 2 required positional arguments: 'X' and 'y'",
     "output_type": "error",
     "traceback": [
      "\u001b[1;31m---------------------------------------------------------------------------\u001b[0m",
      "\u001b[1;31mTypeError\u001b[0m                                 Traceback (most recent call last)",
      "Cell \u001b[1;32mIn[45], line 2\u001b[0m\n\u001b[0;32m      1\u001b[0m meta_model \u001b[38;5;241m=\u001b[39m LinearRegression()\n\u001b[1;32m----> 2\u001b[0m meta_model\u001b[38;5;241m.\u001b[39mfit()\n",
      "File \u001b[1;32m~\\anaconda3\\Lib\\site-packages\\sklearn\\base.py:1151\u001b[0m, in \u001b[0;36m_fit_context.<locals>.decorator.<locals>.wrapper\u001b[1;34m(estimator, *args, **kwargs)\u001b[0m\n\u001b[0;32m   1144\u001b[0m     estimator\u001b[38;5;241m.\u001b[39m_validate_params()\n\u001b[0;32m   1146\u001b[0m \u001b[38;5;28;01mwith\u001b[39;00m config_context(\n\u001b[0;32m   1147\u001b[0m     skip_parameter_validation\u001b[38;5;241m=\u001b[39m(\n\u001b[0;32m   1148\u001b[0m         prefer_skip_nested_validation \u001b[38;5;129;01mor\u001b[39;00m global_skip_validation\n\u001b[0;32m   1149\u001b[0m     )\n\u001b[0;32m   1150\u001b[0m ):\n\u001b[1;32m-> 1151\u001b[0m     \u001b[38;5;28;01mreturn\u001b[39;00m fit_method(estimator, \u001b[38;5;241m*\u001b[39margs, \u001b[38;5;241m*\u001b[39m\u001b[38;5;241m*\u001b[39mkwargs)\n",
      "\u001b[1;31mTypeError\u001b[0m: LinearRegression.fit() missing 2 required positional arguments: 'X' and 'y'"
     ]
    }
   ],
   "source": [
    "meta_model = LinearRegression()\n",
    "#den må fittes\n",
    "meta_model.fit()"
   ]
  },
  {
   "cell_type": "code",
   "execution_count": 47,
   "id": "bfdbe2a5-a99b-414b-9344-3b24750371c5",
   "metadata": {
    "tags": []
   },
   "outputs": [
    {
     "ename": "AttributeError",
     "evalue": "'Lin_reg' object has no attribute 'predict'",
     "output_type": "error",
     "traceback": [
      "\u001b[1;31m---------------------------------------------------------------------------\u001b[0m",
      "\u001b[1;31mAttributeError\u001b[0m                            Traceback (most recent call last)",
      "Cell \u001b[1;32mIn[47], line 3\u001b[0m\n\u001b[0;32m      1\u001b[0m X_new_meta \u001b[38;5;241m=\u001b[39m np\u001b[38;5;241m.\u001b[39mcolumn_stack((lin_pred, xg_pred))\n\u001b[1;32m----> 3\u001b[0m y_new_pred \u001b[38;5;241m=\u001b[39m Lin_reg_a\u001b[38;5;241m.\u001b[39mpredict(X_new_meta)\n",
      "\u001b[1;31mAttributeError\u001b[0m: 'Lin_reg' object has no attribute 'predict'"
     ]
    }
   ],
   "source": [
    "X_new_meta = np.column_stack((lin_pred, xg_pred))\n",
    "\n",
    "y_new_pred = y_pred_linear_regression.predict(X_new_meta)\n"
   ]
  },
  {
   "cell_type": "code",
   "execution_count": null,
   "id": "5b123307-fe65-4ebe-88d4-dc380b7cc529",
   "metadata": {},
   "outputs": [],
   "source": []
  }
 ],
 "metadata": {
  "kernelspec": {
   "display_name": "Python 3 (ipykernel)",
   "language": "python",
   "name": "python3"
  },
  "language_info": {
   "codemirror_mode": {
    "name": "ipython",
    "version": 3
   },
   "file_extension": ".py",
   "mimetype": "text/x-python",
   "name": "python",
   "nbconvert_exporter": "python",
   "pygments_lexer": "ipython3",
   "version": "3.11.4"
  }
 },
 "nbformat": 4,
 "nbformat_minor": 5
}
