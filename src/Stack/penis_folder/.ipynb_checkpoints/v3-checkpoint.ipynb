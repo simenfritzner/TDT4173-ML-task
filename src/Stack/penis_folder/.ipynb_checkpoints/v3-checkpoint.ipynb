{
 "cells": [
  {
   "cell_type": "code",
   "execution_count": 31,
   "id": "8f08244d-f19d-474c-830f-5e1bf19b8864",
   "metadata": {
    "tags": []
   },
   "outputs": [
    {
     "name": "stdout",
     "output_type": "stream",
     "text": [
      "The autoreload extension is already loaded. To reload it, use:\n",
      "  %reload_ext autoreload\n"
     ]
    }
   ],
   "source": [
    "%load_ext autoreload\n",
    "#To update the imported files"
   ]
  },
  {
   "cell_type": "code",
   "execution_count": 61,
   "id": "1482470d-9235-4207-a302-ec6ed5dc6e57",
   "metadata": {
    "tags": []
   },
   "outputs": [],
   "source": [
    "%autoreload\n",
    "import os\n",
    "import pandas as pd\n",
    "import numpy as np\n",
    "import matplotlib.pylab as plt\n",
    "from sklearn.model_selection import train_test_split\n",
    "from sklearn.preprocessing import StandardScaler\n",
    "from sklearn.linear_model import LinearRegression\n",
    "from sklearn.metrics import classification_report, accuracy_score\n",
    "from sklearn.metrics import mean_absolute_error\n",
    "import seaborn as sns\n",
    "from sklearn.datasets import make_classification\n",
    "from sklearn.ensemble import RandomForestClassifier, StackingClassifier\n",
    "from sklearn.ensemble import StackingRegressor\n",
    "%matplotlib inline\n",
    "\n",
    "pd.set_option('display.max_rows', 200)\n",
    "pd.set_option('display.max_columns', 200)"
   ]
  },
  {
   "cell_type": "code",
   "execution_count": 33,
   "id": "f41fbd46-8a29-4038-b0e1-4921eab60c12",
   "metadata": {
    "tags": []
   },
   "outputs": [],
   "source": [
    "# Store the initial directory when you start the notebook\n",
    "initial_directory = os.getcwd()\n",
    "\n",
    "# Create a function to reset to the initial directory\n",
    "def reset_to_initial_directory():\n",
    "    os.chdir(initial_directory)"
   ]
  },
  {
   "cell_type": "code",
   "execution_count": 34,
   "id": "8556bc35-28d3-41af-99c3-c5b32a6dbd31",
   "metadata": {
    "tags": []
   },
   "outputs": [],
   "source": [
    "import sys\n",
    "sys.path.append(\"../Models\")\n",
    "from constants import *\n",
    "from utilities import *\n",
    "from utilities_RF import *\n",
    "from utilities_xgb import *\n",
    "from lin_reg import *"
   ]
  },
  {
   "cell_type": "code",
   "execution_count": 35,
   "id": "6e938780-228e-452f-bd42-9a62c98e88b0",
   "metadata": {
    "tags": []
   },
   "outputs": [],
   "source": [
    "reset_to_initial_directory()"
   ]
  },
  {
   "cell_type": "code",
   "execution_count": 36,
   "id": "cf24996b-bf9c-4be3-b63e-4b349265d46e",
   "metadata": {
    "tags": []
   },
   "outputs": [
    {
     "name": "stdout",
     "output_type": "stream",
     "text": [
      "Current Path: C:\\Users\\Gustav\\Documents\\maskinlaering\\ML_prosject\\TDT4173-ML-task\\src\\Stack\n"
     ]
    }
   ],
   "source": [
    "current_path = os.getcwd()\n",
    "print(\"Current Path:\", current_path)"
   ]
  },
  {
   "cell_type": "code",
   "execution_count": 37,
   "id": "bbfced86-9479-447a-a54b-e703381f80a6",
   "metadata": {
    "tags": []
   },
   "outputs": [],
   "source": [
    "pred_size = 720\n",
    "valid_size_a = 3407\n",
    "valid_size_b = 3282\n",
    "valid_size_c = 2608"
   ]
  },
  {
   "cell_type": "code",
   "execution_count": 38,
   "id": "65585dde-94d2-48aa-a209-50379bd7217b",
   "metadata": {
    "tags": []
   },
   "outputs": [
    {
     "name": "stdout",
     "output_type": "stream",
     "text": [
      "C:\\Users\\Gustav\\Documents\\maskinlaering\\ML_prosject\\TDT4173-ML-task\\src\\Models\\Export_Data_to_Excel\n",
      "The autoreload extension is already loaded. To reload it, use:\n",
      "  %reload_ext autoreload\n"
     ]
    }
   ],
   "source": [
    "reset_to_initial_directory()\n",
    "%cd \"../Models/Export_Data_to_Excel\"\n",
    "%run Data_analyse.ipynb\n",
    "subset_X_observed_a_copy = subset_X_observed_a\n",
    "subset_X_observed_b_copy = subset_X_observed_b\n",
    "subset_X_observed_c_copy = subset_X_observed_c\n",
    "reset_to_initial_directory()"
   ]
  },
  {
   "cell_type": "code",
   "execution_count": 39,
   "id": "2d076844-decd-481f-b7ac-fccf39e7266d",
   "metadata": {
    "tags": []
   },
   "outputs": [],
   "source": [
    "selected_features_rf = ['date_forecast',\n",
    " 'absolute_humidity_2m:gm3',\n",
    " 'air_density_2m:kgm3',\n",
    " 'clear_sky_energy_1h:J',\n",
    " 'clear_sky_rad:W',\n",
    " 'dew_or_rime:idx',\n",
    " 'dew_point_2m:K',\n",
    " 'diffuse_rad:W',\n",
    " 'diffuse_rad_1h:J',\n",
    " 'direct_rad_1h:J',\n",
    " 'effective_cloud_cover:p',\n",
    " 'elevation:m',\n",
    " 'fresh_snow_12h:cm',\n",
    " 'fresh_snow_1h:cm',\n",
    " 'fresh_snow_24h:cm',\n",
    " 'fresh_snow_3h:cm',\n",
    " 'fresh_snow_6h:cm',\n",
    " 'is_day:idx',\n",
    " 'is_in_shadow:idx',\n",
    " 'msl_pressure:hPa',\n",
    " 'precip_5min:mm',\n",
    " 'precip_type_5min:idx',\n",
    " 'pressure_100m:hPa',\n",
    " 'pressure_50m:hPa',\n",
    " 'prob_rime:p',\n",
    " 'rain_water:kgm2',\n",
    " 'relative_humidity_1000hPa:p',\n",
    " 'sfc_pressure:hPa',\n",
    " 'snow_depth:cm',\n",
    " 'snow_drift:idx',\n",
    " 'snow_melt_10min:mm',\n",
    " 'snow_water:kgm2',\n",
    " 'sun_azimuth:d',\n",
    " 'sun_elevation:d',\n",
    " 'super_cooled_liquid_water:kgm2',\n",
    " 't_1000hPa:K',\n",
    " 'total_cloud_cover:p',\n",
    " 'visibility:m',\n",
    " 'wind_speed_10m:ms',\n",
    " 'wind_speed_u_10m:ms',\n",
    " 'wind_speed_v_10m:ms',\n",
    " 'wind_speed_w_1000hPa:ms']\n",
    "hyperparameters_rf = {'max_depth': None, 'n_estimators': 100, 'n_jobs' : -1}"
   ]
  },
  {
   "cell_type": "code",
   "execution_count": 40,
   "id": "65563462-fc64-44fc-b4d2-bc46e215f4b6",
   "metadata": {
    "tags": []
   },
   "outputs": [],
   "source": [
    "meta_model_a = Random_Forest(hyperparameters_rf, subset_X_observed_a_copy, X_estimated_a, y_a, selected_features_rf)\n",
    "\n",
    "meta_model_b =Random_Forest(hyperparameters_rf, subset_X_observed_a_copy, X_estimated_b, y_b, selected_features_rf)\n",
    "\n",
    "meta_model_c =Random_Forest(hyperparameters_rf, subset_X_observed_a_copy, X_estimated_c, y_c, selected_features_rf)"
   ]
  },
  {
   "cell_type": "code",
   "execution_count": 41,
   "id": "bdfdb2fc-d252-468e-bf85-d1c68b5c0602",
   "metadata": {
    "tags": []
   },
   "outputs": [],
   "source": [
    "selected_features_xgb = [\"date_forecast\", 'direct_rad:W', 'direct_rad_1h:J', 'clear_sky_rad:W',\n",
    "                     'clear_sky_energy_1h:J', 'diffuse_rad:W', 'sun_elevation:d', 'is_in_shadow:idx', 'is_day:idx']\n",
    "hyperparameters_xgb = {'colsample_bytree': 0.7, 'learning_rate': 0.1, 'max_depth': 4, 'n_estimators': 100, 'objective': 'reg:squarederror', 'subsample': 0.7}"
   ]
  },
  {
   "cell_type": "code",
   "execution_count": 42,
   "id": "8b4c2646-a6b9-43ff-9241-26d9706db23f",
   "metadata": {
    "tags": []
   },
   "outputs": [],
   "source": [
    "#Cleaning data such that only wanted features are included\n",
    "selected_features_linear = [\"date_forecast\", 'direct_rad:W', 'direct_rad_1h:J', 'clear_sky_rad:W',\n",
    "                     'clear_sky_energy_1h:J', 'diffuse_rad:W', 'sun_elevation:d', 'is_in_shadow:idx', 'is_day:idx']"
   ]
  },
  {
   "cell_type": "code",
   "execution_count": 43,
   "id": "f8813cee-66c8-471b-ae06-b47e556307a9",
   "metadata": {
    "tags": []
   },
   "outputs": [],
   "source": [
    "base_learners = [\n",
    "                 (\"XGB\",XGB_model(hyperparameters_xgb, subset_X_observed_a_copy, X_estimated_a, y_a, selected_features_xgb)),\n",
    "                 (\"linear\", Lin_reg(subset_X_observed_a_copy, X_estimated_a, y_a, selected_features_linear))\n",
    "                ]"
   ]
  },
  {
   "cell_type": "code",
   "execution_count": 64,
   "id": "a3024c73-0780-43a7-894f-669760bbdffb",
   "metadata": {
    "tags": []
   },
   "outputs": [],
   "source": [
    "meta_model_a = Random_Forest(hyperparameters_rf, subset_X_observed_a_copy, X_estimated_a, y_a, selected_features_rf)\n",
    "meta_model_b = Random_Forest(hyperparameters_rf, subset_X_observed_b_copy, X_estimated_b, y_b, selected_features_rf)\n",
    "meta_model_c = Random_Forest(hyperparameters_rf, subset_X_observed_c_copy, X_estimated_c, y_c, selected_features_rf)"
   ]
  },
  {
   "cell_type": "code",
   "execution_count": 65,
   "id": "04d11a32-a08f-47ac-8d76-64f86a926d0c",
   "metadata": {
    "tags": []
   },
   "outputs": [
    {
     "ename": "InvalidParameterError",
     "evalue": "The 'estimators' parameter of StackingRegressor must be an instance of 'list'. Got XGBRegressor(base_score=None, booster=None, callbacks=None,\n             colsample_bylevel=None, colsample_bynode=None,\n             colsample_bytree=0.7, device=None, early_stopping_rounds=None,\n             enable_categorical=False, eval_metric=None, feature_types=None,\n             gamma=None, grow_policy=None, importance_type=None,\n             interaction_constraints=None, learning_rate=0.1, max_bin=None,\n             max_cat_threshold=None, max_cat_to_onehot=None,\n             max_delta_step=None, max_depth=4, max_leaves=None,\n             min_child_weight=None, missing=nan, monotone_constraints=None,\n             multi_strategy=None, n_estimators=100, n_jobs=None,\n             num_parallel_tree=None, random_state=None, ...) instead.",
     "output_type": "error",
     "traceback": [
      "\u001b[1;31m---------------------------------------------------------------------------\u001b[0m",
      "\u001b[1;31mInvalidParameterError\u001b[0m                     Traceback (most recent call last)",
      "Cell \u001b[1;32mIn[65], line 16\u001b[0m\n\u001b[0;32m     11\u001b[0m base_learners \u001b[38;5;241m=\u001b[39m [\n\u001b[0;32m     12\u001b[0m     (\u001b[38;5;124m\"\u001b[39m\u001b[38;5;124mXGB\u001b[39m\u001b[38;5;124m\"\u001b[39m, xgb_model_a),\n\u001b[0;32m     13\u001b[0m     (\u001b[38;5;124m\"\u001b[39m\u001b[38;5;124mlinear\u001b[39m\u001b[38;5;124m\"\u001b[39m, lin_reg_model_a)\n\u001b[0;32m     14\u001b[0m ]\n\u001b[0;32m     15\u001b[0m stacking_regressor_a \u001b[38;5;241m=\u001b[39m StackingRegressor(estimators\u001b[38;5;241m=\u001b[39mxgb_model_a, final_estimator\u001b[38;5;241m=\u001b[39mrf_model_a)\n\u001b[1;32m---> 16\u001b[0m stacking_regressor_a\u001b[38;5;241m.\u001b[39mfit(meta_model_a\u001b[38;5;241m.\u001b[39mX_train, meta_model_a\u001b[38;5;241m.\u001b[39my_train[\u001b[38;5;124m\"\u001b[39m\u001b[38;5;124mpv_measurement\u001b[39m\u001b[38;5;124m\"\u001b[39m])\n",
      "File \u001b[1;32m~\\anaconda3\\Lib\\site-packages\\sklearn\\ensemble\\_stacking.py:956\u001b[0m, in \u001b[0;36mStackingRegressor.fit\u001b[1;34m(self, X, y, sample_weight)\u001b[0m\n\u001b[0;32m    934\u001b[0m \u001b[38;5;250m\u001b[39m\u001b[38;5;124;03m\"\"\"Fit the estimators.\u001b[39;00m\n\u001b[0;32m    935\u001b[0m \n\u001b[0;32m    936\u001b[0m \u001b[38;5;124;03mParameters\u001b[39;00m\n\u001b[1;32m   (...)\u001b[0m\n\u001b[0;32m    953\u001b[0m \u001b[38;5;124;03m    Returns a fitted instance.\u001b[39;00m\n\u001b[0;32m    954\u001b[0m \u001b[38;5;124;03m\"\"\"\u001b[39;00m\n\u001b[0;32m    955\u001b[0m y \u001b[38;5;241m=\u001b[39m column_or_1d(y, warn\u001b[38;5;241m=\u001b[39m\u001b[38;5;28;01mTrue\u001b[39;00m)\n\u001b[1;32m--> 956\u001b[0m \u001b[38;5;28;01mreturn\u001b[39;00m \u001b[38;5;28msuper\u001b[39m()\u001b[38;5;241m.\u001b[39mfit(X, y, sample_weight)\n",
      "File \u001b[1;32m~\\anaconda3\\Lib\\site-packages\\sklearn\\base.py:1144\u001b[0m, in \u001b[0;36m_fit_context.<locals>.decorator.<locals>.wrapper\u001b[1;34m(estimator, *args, **kwargs)\u001b[0m\n\u001b[0;32m   1139\u001b[0m partial_fit_and_fitted \u001b[38;5;241m=\u001b[39m (\n\u001b[0;32m   1140\u001b[0m     fit_method\u001b[38;5;241m.\u001b[39m\u001b[38;5;18m__name__\u001b[39m \u001b[38;5;241m==\u001b[39m \u001b[38;5;124m\"\u001b[39m\u001b[38;5;124mpartial_fit\u001b[39m\u001b[38;5;124m\"\u001b[39m \u001b[38;5;129;01mand\u001b[39;00m _is_fitted(estimator)\n\u001b[0;32m   1141\u001b[0m )\n\u001b[0;32m   1143\u001b[0m \u001b[38;5;28;01mif\u001b[39;00m \u001b[38;5;129;01mnot\u001b[39;00m global_skip_validation \u001b[38;5;129;01mand\u001b[39;00m \u001b[38;5;129;01mnot\u001b[39;00m partial_fit_and_fitted:\n\u001b[1;32m-> 1144\u001b[0m     estimator\u001b[38;5;241m.\u001b[39m_validate_params()\n\u001b[0;32m   1146\u001b[0m \u001b[38;5;28;01mwith\u001b[39;00m config_context(\n\u001b[0;32m   1147\u001b[0m     skip_parameter_validation\u001b[38;5;241m=\u001b[39m(\n\u001b[0;32m   1148\u001b[0m         prefer_skip_nested_validation \u001b[38;5;129;01mor\u001b[39;00m global_skip_validation\n\u001b[0;32m   1149\u001b[0m     )\n\u001b[0;32m   1150\u001b[0m ):\n\u001b[0;32m   1151\u001b[0m     \u001b[38;5;28;01mreturn\u001b[39;00m fit_method(estimator, \u001b[38;5;241m*\u001b[39margs, \u001b[38;5;241m*\u001b[39m\u001b[38;5;241m*\u001b[39mkwargs)\n",
      "File \u001b[1;32m~\\anaconda3\\Lib\\site-packages\\sklearn\\base.py:637\u001b[0m, in \u001b[0;36mBaseEstimator._validate_params\u001b[1;34m(self)\u001b[0m\n\u001b[0;32m    629\u001b[0m \u001b[38;5;28;01mdef\u001b[39;00m \u001b[38;5;21m_validate_params\u001b[39m(\u001b[38;5;28mself\u001b[39m):\n\u001b[0;32m    630\u001b[0m \u001b[38;5;250m    \u001b[39m\u001b[38;5;124;03m\"\"\"Validate types and values of constructor parameters\u001b[39;00m\n\u001b[0;32m    631\u001b[0m \n\u001b[0;32m    632\u001b[0m \u001b[38;5;124;03m    The expected type and values must be defined in the `_parameter_constraints`\u001b[39;00m\n\u001b[1;32m   (...)\u001b[0m\n\u001b[0;32m    635\u001b[0m \u001b[38;5;124;03m    accepted constraints.\u001b[39;00m\n\u001b[0;32m    636\u001b[0m \u001b[38;5;124;03m    \"\"\"\u001b[39;00m\n\u001b[1;32m--> 637\u001b[0m     validate_parameter_constraints(\n\u001b[0;32m    638\u001b[0m         \u001b[38;5;28mself\u001b[39m\u001b[38;5;241m.\u001b[39m_parameter_constraints,\n\u001b[0;32m    639\u001b[0m         \u001b[38;5;28mself\u001b[39m\u001b[38;5;241m.\u001b[39mget_params(deep\u001b[38;5;241m=\u001b[39m\u001b[38;5;28;01mFalse\u001b[39;00m),\n\u001b[0;32m    640\u001b[0m         caller_name\u001b[38;5;241m=\u001b[39m\u001b[38;5;28mself\u001b[39m\u001b[38;5;241m.\u001b[39m\u001b[38;5;18m__class__\u001b[39m\u001b[38;5;241m.\u001b[39m\u001b[38;5;18m__name__\u001b[39m,\n\u001b[0;32m    641\u001b[0m     )\n",
      "File \u001b[1;32m~\\anaconda3\\Lib\\site-packages\\sklearn\\utils\\_param_validation.py:95\u001b[0m, in \u001b[0;36mvalidate_parameter_constraints\u001b[1;34m(parameter_constraints, params, caller_name)\u001b[0m\n\u001b[0;32m     89\u001b[0m \u001b[38;5;28;01melse\u001b[39;00m:\n\u001b[0;32m     90\u001b[0m     constraints_str \u001b[38;5;241m=\u001b[39m (\n\u001b[0;32m     91\u001b[0m         \u001b[38;5;124mf\u001b[39m\u001b[38;5;124m\"\u001b[39m\u001b[38;5;132;01m{\u001b[39;00m\u001b[38;5;124m'\u001b[39m\u001b[38;5;124m, \u001b[39m\u001b[38;5;124m'\u001b[39m\u001b[38;5;241m.\u001b[39mjoin([\u001b[38;5;28mstr\u001b[39m(c)\u001b[38;5;250m \u001b[39m\u001b[38;5;28;01mfor\u001b[39;00m\u001b[38;5;250m \u001b[39mc\u001b[38;5;250m \u001b[39m\u001b[38;5;129;01min\u001b[39;00m\u001b[38;5;250m \u001b[39mconstraints[:\u001b[38;5;241m-\u001b[39m\u001b[38;5;241m1\u001b[39m]])\u001b[38;5;132;01m}\u001b[39;00m\u001b[38;5;124m or\u001b[39m\u001b[38;5;124m\"\u001b[39m\n\u001b[0;32m     92\u001b[0m         \u001b[38;5;124mf\u001b[39m\u001b[38;5;124m\"\u001b[39m\u001b[38;5;124m \u001b[39m\u001b[38;5;132;01m{\u001b[39;00mconstraints[\u001b[38;5;241m-\u001b[39m\u001b[38;5;241m1\u001b[39m]\u001b[38;5;132;01m}\u001b[39;00m\u001b[38;5;124m\"\u001b[39m\n\u001b[0;32m     93\u001b[0m     )\n\u001b[1;32m---> 95\u001b[0m \u001b[38;5;28;01mraise\u001b[39;00m InvalidParameterError(\n\u001b[0;32m     96\u001b[0m     \u001b[38;5;124mf\u001b[39m\u001b[38;5;124m\"\u001b[39m\u001b[38;5;124mThe \u001b[39m\u001b[38;5;132;01m{\u001b[39;00mparam_name\u001b[38;5;132;01m!r}\u001b[39;00m\u001b[38;5;124m parameter of \u001b[39m\u001b[38;5;132;01m{\u001b[39;00mcaller_name\u001b[38;5;132;01m}\u001b[39;00m\u001b[38;5;124m must be\u001b[39m\u001b[38;5;124m\"\u001b[39m\n\u001b[0;32m     97\u001b[0m     \u001b[38;5;124mf\u001b[39m\u001b[38;5;124m\"\u001b[39m\u001b[38;5;124m \u001b[39m\u001b[38;5;132;01m{\u001b[39;00mconstraints_str\u001b[38;5;132;01m}\u001b[39;00m\u001b[38;5;124m. Got \u001b[39m\u001b[38;5;132;01m{\u001b[39;00mparam_val\u001b[38;5;132;01m!r}\u001b[39;00m\u001b[38;5;124m instead.\u001b[39m\u001b[38;5;124m\"\u001b[39m\n\u001b[0;32m     98\u001b[0m )\n",
      "\u001b[1;31mInvalidParameterError\u001b[0m: The 'estimators' parameter of StackingRegressor must be an instance of 'list'. Got XGBRegressor(base_score=None, booster=None, callbacks=None,\n             colsample_bylevel=None, colsample_bynode=None,\n             colsample_bytree=0.7, device=None, early_stopping_rounds=None,\n             enable_categorical=False, eval_metric=None, feature_types=None,\n             gamma=None, grow_policy=None, importance_type=None,\n             interaction_constraints=None, learning_rate=0.1, max_bin=None,\n             max_cat_threshold=None, max_cat_to_onehot=None,\n             max_delta_step=None, max_depth=4, max_leaves=None,\n             min_child_weight=None, missing=nan, monotone_constraints=None,\n             multi_strategy=None, n_estimators=100, n_jobs=None,\n             num_parallel_tree=None, random_state=None, ...) instead."
     ]
    }
   ],
   "source": [
    "# int a\n",
    "rf_model_a = RandomForestRegressor(**hyperparameters_rf, random_state=42)\n",
    "xgb_model_a = xgb.XGBRegressor(**hyperparameters_xgb)\n",
    "lin_reg_model_a = LinearRegression()\n",
    "\n",
    "rf_model_a.fit(meta_model_a.X_train, meta_model_a.y_train[\"pv_measurement\"])\n",
    "xgb_model_a.fit(meta_model_a.X_train, meta_model_a.y_train[\"pv_measurement\"])\n",
    "lin_reg_model_a.fit(meta_model_a.X_train, meta_model_a.y_train[\"pv_measurement\"])\n",
    "\n",
    "# Use them in StackingRegressor\n",
    "base_learners = [\n",
    "    (\"XGB\", xgb_model_a),\n",
    "    (\"linear\", lin_reg_model_a)\n",
    "]\n",
    "stacking_regressor_a = StackingRegressor(estimators=xgb_model_a, final_estimator=rf_model_a)\n",
    "stacking_regressor_a.fit(meta_model_a.X_train, meta_model_a.y_train[\"pv_measurement\"])"
   ]
  },
  {
   "cell_type": "code",
   "execution_count": 66,
   "id": "3a32f5d4-98b7-4548-9a6e-6a03691acbc5",
   "metadata": {
    "tags": []
   },
   "outputs": [
    {
     "ename": "ValueError",
     "evalue": "Found input variables with inconsistent numbers of samples: [8468, 10460]",
     "output_type": "error",
     "traceback": [
      "\u001b[1;31m---------------------------------------------------------------------------\u001b[0m",
      "\u001b[1;31mValueError\u001b[0m                                Traceback (most recent call last)",
      "Cell \u001b[1;32mIn[66], line 6\u001b[0m\n\u001b[0;32m      3\u001b[0m xgb_model_b \u001b[38;5;241m=\u001b[39m xgb\u001b[38;5;241m.\u001b[39mXGBRegressor(\u001b[38;5;241m*\u001b[39m\u001b[38;5;241m*\u001b[39mhyperparameters_xgb)\n\u001b[0;32m      4\u001b[0m lin_reg_model_b \u001b[38;5;241m=\u001b[39m LinearRegression()\n\u001b[1;32m----> 6\u001b[0m rf_model_b\u001b[38;5;241m.\u001b[39mfit(meta_model_b\u001b[38;5;241m.\u001b[39mX_train, meta_model_a\u001b[38;5;241m.\u001b[39my_train[\u001b[38;5;124m\"\u001b[39m\u001b[38;5;124mpv_measurement\u001b[39m\u001b[38;5;124m\"\u001b[39m])\n\u001b[0;32m      7\u001b[0m xgb_model_b\u001b[38;5;241m.\u001b[39mfit(meta_model_b\u001b[38;5;241m.\u001b[39mX_train, meta_model_a\u001b[38;5;241m.\u001b[39my_train[\u001b[38;5;124m\"\u001b[39m\u001b[38;5;124mpv_measurement\u001b[39m\u001b[38;5;124m\"\u001b[39m])\n\u001b[0;32m      8\u001b[0m lin_reg_model_b\u001b[38;5;241m.\u001b[39mfit(meta_model_b\u001b[38;5;241m.\u001b[39mX_train, meta_model_a\u001b[38;5;241m.\u001b[39my_train[\u001b[38;5;124m\"\u001b[39m\u001b[38;5;124mpv_measurement\u001b[39m\u001b[38;5;124m\"\u001b[39m])\n",
      "File \u001b[1;32m~\\anaconda3\\Lib\\site-packages\\sklearn\\base.py:1151\u001b[0m, in \u001b[0;36m_fit_context.<locals>.decorator.<locals>.wrapper\u001b[1;34m(estimator, *args, **kwargs)\u001b[0m\n\u001b[0;32m   1144\u001b[0m     estimator\u001b[38;5;241m.\u001b[39m_validate_params()\n\u001b[0;32m   1146\u001b[0m \u001b[38;5;28;01mwith\u001b[39;00m config_context(\n\u001b[0;32m   1147\u001b[0m     skip_parameter_validation\u001b[38;5;241m=\u001b[39m(\n\u001b[0;32m   1148\u001b[0m         prefer_skip_nested_validation \u001b[38;5;129;01mor\u001b[39;00m global_skip_validation\n\u001b[0;32m   1149\u001b[0m     )\n\u001b[0;32m   1150\u001b[0m ):\n\u001b[1;32m-> 1151\u001b[0m     \u001b[38;5;28;01mreturn\u001b[39;00m fit_method(estimator, \u001b[38;5;241m*\u001b[39margs, \u001b[38;5;241m*\u001b[39m\u001b[38;5;241m*\u001b[39mkwargs)\n",
      "File \u001b[1;32m~\\anaconda3\\Lib\\site-packages\\sklearn\\ensemble\\_forest.py:348\u001b[0m, in \u001b[0;36mBaseForest.fit\u001b[1;34m(self, X, y, sample_weight)\u001b[0m\n\u001b[0;32m    346\u001b[0m \u001b[38;5;28;01mif\u001b[39;00m issparse(y):\n\u001b[0;32m    347\u001b[0m     \u001b[38;5;28;01mraise\u001b[39;00m \u001b[38;5;167;01mValueError\u001b[39;00m(\u001b[38;5;124m\"\u001b[39m\u001b[38;5;124msparse multilabel-indicator for y is not supported.\u001b[39m\u001b[38;5;124m\"\u001b[39m)\n\u001b[1;32m--> 348\u001b[0m X, y \u001b[38;5;241m=\u001b[39m \u001b[38;5;28mself\u001b[39m\u001b[38;5;241m.\u001b[39m_validate_data(\n\u001b[0;32m    349\u001b[0m     X, y, multi_output\u001b[38;5;241m=\u001b[39m\u001b[38;5;28;01mTrue\u001b[39;00m, accept_sparse\u001b[38;5;241m=\u001b[39m\u001b[38;5;124m\"\u001b[39m\u001b[38;5;124mcsc\u001b[39m\u001b[38;5;124m\"\u001b[39m, dtype\u001b[38;5;241m=\u001b[39mDTYPE\n\u001b[0;32m    350\u001b[0m )\n\u001b[0;32m    351\u001b[0m \u001b[38;5;28;01mif\u001b[39;00m sample_weight \u001b[38;5;129;01mis\u001b[39;00m \u001b[38;5;129;01mnot\u001b[39;00m \u001b[38;5;28;01mNone\u001b[39;00m:\n\u001b[0;32m    352\u001b[0m     sample_weight \u001b[38;5;241m=\u001b[39m _check_sample_weight(sample_weight, X)\n",
      "File \u001b[1;32m~\\anaconda3\\Lib\\site-packages\\sklearn\\base.py:621\u001b[0m, in \u001b[0;36mBaseEstimator._validate_data\u001b[1;34m(self, X, y, reset, validate_separately, cast_to_ndarray, **check_params)\u001b[0m\n\u001b[0;32m    619\u001b[0m         y \u001b[38;5;241m=\u001b[39m check_array(y, input_name\u001b[38;5;241m=\u001b[39m\u001b[38;5;124m\"\u001b[39m\u001b[38;5;124my\u001b[39m\u001b[38;5;124m\"\u001b[39m, \u001b[38;5;241m*\u001b[39m\u001b[38;5;241m*\u001b[39mcheck_y_params)\n\u001b[0;32m    620\u001b[0m     \u001b[38;5;28;01melse\u001b[39;00m:\n\u001b[1;32m--> 621\u001b[0m         X, y \u001b[38;5;241m=\u001b[39m check_X_y(X, y, \u001b[38;5;241m*\u001b[39m\u001b[38;5;241m*\u001b[39mcheck_params)\n\u001b[0;32m    622\u001b[0m     out \u001b[38;5;241m=\u001b[39m X, y\n\u001b[0;32m    624\u001b[0m \u001b[38;5;28;01mif\u001b[39;00m \u001b[38;5;129;01mnot\u001b[39;00m no_val_X \u001b[38;5;129;01mand\u001b[39;00m check_params\u001b[38;5;241m.\u001b[39mget(\u001b[38;5;124m\"\u001b[39m\u001b[38;5;124mensure_2d\u001b[39m\u001b[38;5;124m\"\u001b[39m, \u001b[38;5;28;01mTrue\u001b[39;00m):\n",
      "File \u001b[1;32m~\\anaconda3\\Lib\\site-packages\\sklearn\\utils\\validation.py:1165\u001b[0m, in \u001b[0;36mcheck_X_y\u001b[1;34m(X, y, accept_sparse, accept_large_sparse, dtype, order, copy, force_all_finite, ensure_2d, allow_nd, multi_output, ensure_min_samples, ensure_min_features, y_numeric, estimator)\u001b[0m\n\u001b[0;32m   1147\u001b[0m X \u001b[38;5;241m=\u001b[39m check_array(\n\u001b[0;32m   1148\u001b[0m     X,\n\u001b[0;32m   1149\u001b[0m     accept_sparse\u001b[38;5;241m=\u001b[39maccept_sparse,\n\u001b[1;32m   (...)\u001b[0m\n\u001b[0;32m   1160\u001b[0m     input_name\u001b[38;5;241m=\u001b[39m\u001b[38;5;124m\"\u001b[39m\u001b[38;5;124mX\u001b[39m\u001b[38;5;124m\"\u001b[39m,\n\u001b[0;32m   1161\u001b[0m )\n\u001b[0;32m   1163\u001b[0m y \u001b[38;5;241m=\u001b[39m _check_y(y, multi_output\u001b[38;5;241m=\u001b[39mmulti_output, y_numeric\u001b[38;5;241m=\u001b[39my_numeric, estimator\u001b[38;5;241m=\u001b[39mestimator)\n\u001b[1;32m-> 1165\u001b[0m check_consistent_length(X, y)\n\u001b[0;32m   1167\u001b[0m \u001b[38;5;28;01mreturn\u001b[39;00m X, y\n",
      "File \u001b[1;32m~\\anaconda3\\Lib\\site-packages\\sklearn\\utils\\validation.py:409\u001b[0m, in \u001b[0;36mcheck_consistent_length\u001b[1;34m(*arrays)\u001b[0m\n\u001b[0;32m    407\u001b[0m uniques \u001b[38;5;241m=\u001b[39m np\u001b[38;5;241m.\u001b[39munique(lengths)\n\u001b[0;32m    408\u001b[0m \u001b[38;5;28;01mif\u001b[39;00m \u001b[38;5;28mlen\u001b[39m(uniques) \u001b[38;5;241m>\u001b[39m \u001b[38;5;241m1\u001b[39m:\n\u001b[1;32m--> 409\u001b[0m     \u001b[38;5;28;01mraise\u001b[39;00m \u001b[38;5;167;01mValueError\u001b[39;00m(\n\u001b[0;32m    410\u001b[0m         \u001b[38;5;124m\"\u001b[39m\u001b[38;5;124mFound input variables with inconsistent numbers of samples: \u001b[39m\u001b[38;5;132;01m%r\u001b[39;00m\u001b[38;5;124m\"\u001b[39m\n\u001b[0;32m    411\u001b[0m         \u001b[38;5;241m%\u001b[39m [\u001b[38;5;28mint\u001b[39m(l) \u001b[38;5;28;01mfor\u001b[39;00m l \u001b[38;5;129;01min\u001b[39;00m lengths]\n\u001b[0;32m    412\u001b[0m     )\n",
      "\u001b[1;31mValueError\u001b[0m: Found input variables with inconsistent numbers of samples: [8468, 10460]"
     ]
    }
   ],
   "source": [
    "# Initialize and fit your models\n",
    "rf_model_b = RandomForestRegressor(**hyperparameters_rf, random_state=42)\n",
    "xgb_model_b = xgb.XGBRegressor(**hyperparameters_xgb)\n",
    "lin_reg_model_b = LinearRegression()\n",
    "\n",
    "rf_model_b.fit(meta_model_b.X_train, meta_model_a.y_train[\"pv_measurement\"])\n",
    "xgb_model_b.fit(meta_model_b.X_train, meta_model_a.y_train[\"pv_measurement\"])\n",
    "lin_reg_model_b.fit(meta_model_b.X_train, meta_model_a.y_train[\"pv_measurement\"])\n",
    "\n",
    "# Use them in StackingRegressor\n",
    "base_learners = [\n",
    "    (\"XGB\", xgb_model),\n",
    "    (\"linear\", lin_reg_model)\n",
    "]\n",
    "stacking_regressor_a = StackingRegressor(estimators=base_learners, final_estimator=rf_model)\n",
    "stacking_regressor_a.fit(meta_model_a.X_train, meta_model_a.y_train[\"pv_measurement\"])"
   ]
  },
  {
   "cell_type": "code",
   "execution_count": null,
   "id": "2d952df9-1293-4223-ab68-fc5acf62edab",
   "metadata": {},
   "outputs": [],
   "source": [
    "# Initialize and fit your models\n",
    "rf_model = RandomForestRegressor(**hyperparameters_rf, random_state=42)\n",
    "xgb_model = xgb.XGBRegressor(**hyperparameters_xgb)\n",
    "lin_reg_model = LinearRegression()\n",
    "\n",
    "rf_model.fit(meta_model_a.X_train, meta_model_a.y_train[\"pv_measurement\"])\n",
    "xgb_model.fit(meta_model_a.X_train, meta_model_a.y_train[\"pv_measurement\"])\n",
    "lin_reg_model.fit(meta_model_a.X_train, meta_model_a.y_train[\"pv_measurement\"])\n",
    "\n",
    "# Use them in StackingRegressor\n",
    "base_learners = [\n",
    "    (\"XGB\", xgb_model),\n",
    "    (\"linear\", lin_reg_model)\n",
    "]\n",
    "stacking_regressor_a = StackingRegressor(estimators=base_learners, final_estimator=rf_model)\n",
    "stacking_regressor_a.fit(meta_model_a.X_train, meta_model_a.y_train[\"pv_measurement\"])"
   ]
  },
  {
   "cell_type": "code",
   "execution_count": null,
   "id": "e324a341-6f8b-4a4b-ad03-aad8319fe35c",
   "metadata": {},
   "outputs": [],
   "source": [
    "stacking_regressor_a.predict("
   ]
  },
  {
   "cell_type": "code",
   "execution_count": null,
   "id": "0d5f3da7-e9fa-45e3-8ab5-51f2aeb30faf",
   "metadata": {
    "tags": []
   },
   "outputs": [],
   "source": [
    "submission(\"/stack_xgb.csv\", y_new_pred, \"../\")"
   ]
  }
 ],
 "metadata": {
  "kernelspec": {
   "display_name": "Python 3 (ipykernel)",
   "language": "python",
   "name": "python3"
  },
  "language_info": {
   "codemirror_mode": {
    "name": "ipython",
    "version": 3
   },
   "file_extension": ".py",
   "mimetype": "text/x-python",
   "name": "python",
   "nbconvert_exporter": "python",
   "pygments_lexer": "ipython3",
   "version": "3.11.4"
  }
 },
 "nbformat": 4,
 "nbformat_minor": 5
}
