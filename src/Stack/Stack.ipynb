{
 "cells": [
  {
   "cell_type": "code",
   "execution_count": null,
   "id": "8f08244d-f19d-474c-830f-5e1bf19b8864",
   "metadata": {
    "tags": []
   },
   "outputs": [],
   "source": [
    "%load_ext autoreload\n",
    "#To update the imported files"
   ]
  },
  {
   "cell_type": "code",
   "execution_count": null,
   "id": "1482470d-9235-4207-a302-ec6ed5dc6e57",
   "metadata": {
    "tags": []
   },
   "outputs": [],
   "source": [
    "%autoreload\n",
    "import os\n",
    "import pandas as pd\n",
    "import numpy as np\n",
    "import matplotlib.pylab as plt\n",
    "from sklearn.model_selection import train_test_split\n",
    "from sklearn.preprocessing import StandardScaler\n",
    "from sklearn.linear_model import LinearRegression\n",
    "from sklearn.metrics import classification_report, accuracy_score\n",
    "from sklearn.metrics import mean_absolute_error\n",
    "import seaborn as sns\n",
    "%matplotlib inline\n",
    "\n",
    "pd.set_option('display.max_rows', 200)\n",
    "pd.set_option('display.max_columns', 200)"
   ]
  },
  {
   "cell_type": "code",
   "execution_count": null,
   "id": "f41fbd46-8a29-4038-b0e1-4921eab60c12",
   "metadata": {
    "tags": []
   },
   "outputs": [],
   "source": [
    "# Store the initial directory when you start the notebook\n",
    "initial_directory = os.getcwd()\n",
    "\n",
    "# Create a function to reset to the initial directory\n",
    "def reset_to_initial_directory():\n",
    "    os.chdir(initial_directory)"
   ]
  },
  {
   "cell_type": "code",
   "execution_count": null,
   "id": "8556bc35-28d3-41af-99c3-c5b32a6dbd31",
   "metadata": {
    "tags": []
   },
   "outputs": [],
   "source": [
    "import sys\n",
    "sys.path.append(\"../Models\")\n",
    "from utilities import *\n",
    "sys.path.append(\"../Models/Linear_Regression\")\n",
    "from lin_reg import *"
   ]
  },
  {
   "cell_type": "code",
   "execution_count": null,
   "id": "6e938780-228e-452f-bd42-9a62c98e88b0",
   "metadata": {
    "tags": []
   },
   "outputs": [],
   "source": [
    "reset_to_initial_directory()"
   ]
  },
  {
   "cell_type": "code",
   "execution_count": null,
   "id": "cf24996b-bf9c-4be3-b63e-4b349265d46e",
   "metadata": {
    "tags": []
   },
   "outputs": [],
   "source": [
    "current_path = os.getcwd()\n",
    "print(\"Current Path:\", current_path)"
   ]
  },
  {
   "cell_type": "code",
   "execution_count": null,
   "id": "bbfced86-9479-447a-a54b-e703381f80a6",
   "metadata": {
    "tags": []
   },
   "outputs": [],
   "source": [
    "pred_size = 720\n",
    "valid_size_a = 3407\n",
    "valid_size_b = 3282\n",
    "valid_size_c = 2608"
   ]
  },
  {
   "cell_type": "code",
   "execution_count": null,
   "id": "1b80b2cc-fc8c-4021-b1b6-62340cf8ed5a",
   "metadata": {
    "tags": []
   },
   "outputs": [],
   "source": [
    "reset_to_initial_directory()\n",
    "%cd \"../Models/KNN\"\n",
    "%run KNN.ipynb\n",
    "knn_a_valid_pred = knn_a_cross_val_predictions\n",
    "knn_b_valid_pred = knn_b_cross_val_predictions\n",
    "knn_c_valid_pred = knn_c_cross_val_predictions\n",
    "y_valid_a = knn_a_cross_val_actuals\n",
    "y_valid_b = knn_b_cross_val_actuals\n",
    "y_valid_c = knn_c_cross_val_actuals\n",
    "knn_a_test = knn_a_test_pred \n",
    "knn_b_test = knn_b_test_pred \n",
    "knn_c_test = knn_c_test_pred \n",
    "reset_to_initial_directory()"
   ]
  },
  {
   "cell_type": "code",
   "execution_count": null,
   "id": "566f24d5-aaf8-4a68-9248-9612f7a528a1",
   "metadata": {},
   "outputs": [],
   "source": [
    "reset_to_initial_directory()\n",
    "%cd \"../Models/RF\"\n",
    "%run Random_Forest.ipynb\n",
    "rf_a_valid_pred = rf_a_cross_val_predictions\n",
    "rf_b_valid_pred = rf_b_cross_val_predictions\n",
    "rf_c_valid_pred = rf_c_cross_val_predictions\n",
    "rf_a_test = rf_a_test_pred\n",
    "rf_b_test = rf_b_test_pred\n",
    "rf_c_test = rf_c_test_pred\n",
    "reset_to_initial_directory()"
   ]
  },
  {
   "cell_type": "code",
   "execution_count": null,
   "id": "14f305cc-47a1-47e9-bac8-98d2a03a672c",
   "metadata": {
    "tags": []
   },
   "outputs": [],
   "source": [
    "reset_to_initial_directory()\n",
    "%cd \"../Models/XGB\"\n",
    "%run XGBoost.ipynb\n",
    "xgb_a_valid_pred = xgb_a_cross_val_predictions\n",
    "xgb_b_valid_pred = xgb_b_cross_val_predictions\n",
    "xgb_c_valid_pred = xgb_c_cross_val_predictions\n",
    "xgb_a_test = xgb_a_test_pred\n",
    "xgb_b_test = xgb_b_test_pred\n",
    "xgb_c_test = xgb_c_test_pred\n",
    "reset_to_initial_directory()"
   ]
  },
  {
   "cell_type": "code",
   "execution_count": null,
   "id": "b2577133-3d08-4f29-ac5d-b53da583ce08",
   "metadata": {},
   "outputs": [],
   "source": [
    "X_train_a = pd.DataFrame({\"KNN\" : knn_a_valid_pred, \"RF\" : rf_a_valid_pred, \"XGB\" : xgb_a_valid_pred})\n",
    "X_train_b = pd.DataFrame({\"KNN\" : knn_b_valid_pred, \"RF\" : rf_b_valid_pred, \"XGB\" : xgb_b_valid_pred})\n",
    "X_train_c = pd.DataFrame({\"KNN\" : knn_c_valid_pred, \"RF\" : rf_c_valid_pred, \"XGB\" : xgb_c_valid_pred})"
   ]
  },
  {
   "cell_type": "code",
   "execution_count": null,
   "id": "0e22318d-bbc6-47ff-b72e-dfa065ff711e",
   "metadata": {},
   "outputs": [],
   "source": [
    "X_test_a = pd.DataFrame({\"KNN\" : knn_a_test, \"RF\" : rf_a_test, \"XGB\" : xgb_a_test})\n",
    "X_test_b = pd.DataFrame({\"KNN\" : knn_b_test, \"RF\" : rf_b_test, \"XGB\" : xgb_b_test})\n",
    "X_test_c = pd.DataFrame({\"KNN\" : knn_c_test, \"RF\" : rf_c_test, \"XGB\" : xgb_c_test})"
   ]
  },
  {
   "cell_type": "code",
   "execution_count": null,
   "id": "476ea5e8-57c0-4eea-a54d-89e1c2621330",
   "metadata": {},
   "outputs": [],
   "source": [
    "y_train_a = pd.DataFrame({\"pv_measurement\" : y_valid_a})\n",
    "y_train_b = pd.DataFrame({\"pv_measurement\" : y_valid_b})\n",
    "y_train_c = pd.DataFrame({\"pv_measurement\" : y_valid_c})"
   ]
  },
  {
   "cell_type": "code",
   "execution_count": null,
   "id": "c229901c-9c4b-42bc-83b0-1d8b2bbb86e9",
   "metadata": {},
   "outputs": [],
   "source": [
    "meta_model_a = Lin_reg(X_train_a, X_test_a, y_train_a)\n",
    "meta_model_b = Lin_reg(X_train_b, X_test_b, y_train_b)\n",
    "meta_model_c = Lin_reg(X_train_c, X_test_c, y_train_c)"
   ]
  },
  {
   "cell_type": "code",
   "execution_count": null,
   "id": "cdf14267-3241-411d-9471-a0f094b4516d",
   "metadata": {},
   "outputs": [],
   "source": [
    "meta_model_a.cross_validate(X_train_a, y_train_a)\n",
    "meta_model_b.cross_validate(X_train_b, y_train_b)\n",
    "meta_model_c.cross_validate(X_train_c, y_train_c)"
   ]
  },
  {
   "cell_type": "code",
   "execution_count": null,
   "id": "0d5f3da7-e9fa-45e3-8ab5-51f2aeb30faf",
   "metadata": {},
   "outputs": [],
   "source": [
    "submission(\"/stack_xgb.csv\", y_new_pred, \"../\")"
   ]
  }
 ],
 "metadata": {
  "kernelspec": {
   "display_name": "Python 3 (ipykernel)",
   "language": "python",
   "name": "python3"
  },
  "language_info": {
   "codemirror_mode": {
    "name": "ipython",
    "version": 3
   },
   "file_extension": ".py",
   "mimetype": "text/x-python",
   "name": "python",
   "nbconvert_exporter": "python",
   "pygments_lexer": "ipython3",
   "version": "3.11.4"
  }
 },
 "nbformat": 4,
 "nbformat_minor": 5
}
