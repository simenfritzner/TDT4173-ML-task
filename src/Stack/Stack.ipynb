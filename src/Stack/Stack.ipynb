{
 "cells": [
  {
   "cell_type": "code",
   "execution_count": 24,
   "id": "8f08244d-f19d-474c-830f-5e1bf19b8864",
   "metadata": {
    "tags": []
   },
   "outputs": [
    {
     "name": "stdout",
     "output_type": "stream",
     "text": [
      "The autoreload extension is already loaded. To reload it, use:\n",
      "  %reload_ext autoreload\n"
     ]
    }
   ],
   "source": [
    "%load_ext autoreload\n",
    "#To update the imported files"
   ]
  },
  {
   "cell_type": "code",
   "execution_count": 27,
   "id": "1482470d-9235-4207-a302-ec6ed5dc6e57",
   "metadata": {
    "tags": []
   },
   "outputs": [],
   "source": [
    "%autoreload\n",
    "import os\n",
    "import pandas as pd\n",
    "import numpy as np\n",
    "import matplotlib.pylab as plt\n",
    "from sklearn.model_selection import train_test_split\n",
    "from sklearn.preprocessing import StandardScaler\n",
    "from sklearn.linear_model import LinearRegression\n",
    "from sklearn.metrics import classification_report, accuracy_score\n",
    "from sklearn.metrics import mean_absolute_error\n",
    "import seaborn as sns\n",
    "%matplotlib inline\n",
    "\n",
    "pd.set_option('display.max_rows', 200)\n",
    "pd.set_option('display.max_columns', 200)"
   ]
  },
  {
   "cell_type": "code",
   "execution_count": 3,
   "id": "f41fbd46-8a29-4038-b0e1-4921eab60c12",
   "metadata": {
    "tags": []
   },
   "outputs": [],
   "source": [
    "# Store the initial directory when you start the notebook\n",
    "initial_directory = os.getcwd()\n",
    "\n",
    "# Create a function to reset to the initial directory\n",
    "def reset_to_initial_directory():\n",
    "    os.chdir(initial_directory)"
   ]
  },
  {
   "cell_type": "code",
   "execution_count": 29,
   "id": "8556bc35-28d3-41af-99c3-c5b32a6dbd31",
   "metadata": {
    "tags": []
   },
   "outputs": [],
   "source": [
    "import sys\n",
    "sys.path.append(\"../Models\")\n",
    "from utilities import *"
   ]
  },
  {
   "cell_type": "code",
   "execution_count": 5,
   "id": "6e938780-228e-452f-bd42-9a62c98e88b0",
   "metadata": {
    "tags": []
   },
   "outputs": [],
   "source": [
    "reset_to_initial_directory()"
   ]
  },
  {
   "cell_type": "code",
   "execution_count": 6,
   "id": "cf24996b-bf9c-4be3-b63e-4b349265d46e",
   "metadata": {
    "tags": []
   },
   "outputs": [
    {
     "name": "stdout",
     "output_type": "stream",
     "text": [
      "Current Path: C:\\Users\\Gustav\\Documents\\maskinlaering\\ML_prosject\\TDT4173-ML-task\\src\\Stack\n"
     ]
    }
   ],
   "source": [
    "current_path = os.getcwd()\n",
    "print(\"Current Path:\", current_path)"
   ]
  },
  {
   "cell_type": "code",
   "execution_count": 7,
   "id": "bbfced86-9479-447a-a54b-e703381f80a6",
   "metadata": {
    "tags": []
   },
   "outputs": [],
   "source": [
    "pred_size = 720\n",
    "valid_size_a = 3407\n",
    "valid_size_b = 3282\n",
    "valid_size_c = 2608"
   ]
  },
  {
   "cell_type": "code",
   "execution_count": 8,
   "id": "1b80b2cc-fc8c-4021-b1b6-62340cf8ed5a",
   "metadata": {},
   "outputs": [
    {
     "name": "stdout",
     "output_type": "stream",
     "text": [
      "C:\\Users\\Gustav\\Documents\\maskinlaering\\ML_prosject\\TDT4173-ML-task\\src\\Models\\KNN\n",
      "The autoreload extension is already loaded. To reload it, use:\n",
      "  %reload_ext autoreload\n",
      "A: Mean Absolute Error: 150.38370883475199\n",
      "B: Mean Absolute Error: 28.47088031198807\n",
      "C: Mean Absolute Error: 28.467947852760734\n",
      "3282\n"
     ]
    }
   ],
   "source": [
    "reset_to_initial_directory()\n",
    "%cd \"../Models/KNN\"\n",
    "%run KNN.ipynb\n",
    "knn_test = y_pred_knn_test\n",
    "knn_valid = y_pred_knn_valid\n",
    "reset_to_initial_directory()\n",
    "\n",
    "knn_test_a_recovered = knn_test[:pred_size]\n",
    "knn_test_b_recovered = knn_test[pred_size:pred_size+pred_size]\n",
    "knn_test_c_recovered = knn_test[pred_size+pred_size:]\n",
    "\n",
    "knn_valid_a_recovered = knn_valid[:valid_size_a]\n",
    "knn_valid_b_recovered = knn_valid[valid_size_a:valid_size_a+valid_size_b]\n",
    "knn_valid_c_recovered = knn_valid[valid_size_a+valid_size_b:]\n",
    "\n",
    "print(knn_valid_b_recovered.shape[0])\n"
   ]
  },
  {
   "cell_type": "code",
   "execution_count": 9,
   "id": "571d2254-c856-4249-b1e4-549dd8ef5025",
   "metadata": {},
   "outputs": [
    {
     "data": {
      "text/plain": [
       "'#ikke opprerbart atm\\nreset_to_initial_directory()\\n%cd \"../Models/LGBM\"\\n%run XGBoost.ipynb\\nlgb_pred = y_pred_xgBoost\\nprint(xg_pred)\\nreset_to_initial_directory()'"
      ]
     },
     "execution_count": 9,
     "metadata": {},
     "output_type": "execute_result"
    }
   ],
   "source": [
    "\"\"\"#ikke opprerbart atm\n",
    "reset_to_initial_directory()\n",
    "%cd \"../Models/LGBM\"\n",
    "%run XGBoost.ipynb\n",
    "lgb_pred = y_pred_xgBoost\n",
    "print(xg_pred)\n",
    "reset_to_initial_directory()\"\"\""
   ]
  },
  {
   "cell_type": "code",
   "execution_count": 12,
   "id": "8585cfd2-23fd-468d-8c31-24ec81ca707a",
   "metadata": {},
   "outputs": [
    {
     "name": "stdout",
     "output_type": "stream",
     "text": [
      "C:\\Users\\Gustav\\Documents\\maskinlaering\\ML_prosject\\TDT4173-ML-task\\src\\Models\\Linear_Regression\n",
      "The autoreload extension is already loaded. To reload it, use:\n",
      "  %reload_ext autoreload\n",
      "A: Mean Absolute Error: 164.3402795368281\n",
      "B: Mean Absolute Error: 27.53432354253654\n",
      "C: Mean Absolute Error: 27.467160453612635\n"
     ]
    }
   ],
   "source": [
    "reset_to_initial_directory()\n",
    "%cd \"../Models/Linear_Regression\"\n",
    "%run Linear_regression.ipynb\n",
    "lin_test = y_pred_Lin_reg_test\n",
    "lin_valid = y_pred_Lin_reg_valid\n",
    "y_valid = y_valid\n",
    "reset_to_initial_directory()\n",
    "lin_test_a_recovered = lin_test[:pred_size]\n",
    "lin_test_b_recovered = lin_test[pred_size:pred_size+pred_size]\n",
    "lin_test_c_recovered = lin_test[pred_size+pred_size:]\n",
    "\n",
    "lin_valid_a_recovered = lin_valid[:valid_size_a]\n",
    "lin_valid_b_recovered = lin_valid[valid_size_a:valid_size_a+valid_size_b]\n",
    "lin_valid_c_recovered = lin_valid[valid_size_a+valid_size_b:]\n",
    "\n",
    "y_valid_a = y_valid[:valid_size_a]\n",
    "y_valid_b = y_valid[valid_size_a:valid_size_a+valid_size_b]\n",
    "y_valid_c = y_valid[valid_size_a+valid_size_b:]\n"
   ]
  },
  {
   "cell_type": "code",
   "execution_count": 13,
   "id": "566f24d5-aaf8-4a68-9248-9612f7a528a1",
   "metadata": {},
   "outputs": [
    {
     "name": "stdout",
     "output_type": "stream",
     "text": [
      "C:\\Users\\Gustav\\Documents\\maskinlaering\\ML_prosject\\TDT4173-ML-task\\src\\Models\\RF\n",
      "The autoreload extension is already loaded. To reload it, use:\n",
      "  %reload_ext autoreload\n",
      "A: Mean Absolute Error: 145.33008687405132\n",
      "B: Mean Absolute Error: 26.282431729341678\n",
      "C: Mean Absolute Error: 25.280872107754124\n",
      "3282\n"
     ]
    }
   ],
   "source": [
    "reset_to_initial_directory()\n",
    "%cd \"../Models/RF\"\n",
    "%run Random_Forest.ipynb\n",
    "RF_test = y_pred_rf_test\n",
    "RF_valid= y_pred_rf_valid\n",
    "reset_to_initial_directory()\n",
    "RF_test_a_recovered = RF_test[:pred_size]\n",
    "RF_test_b_recovered = RF_test[pred_size:pred_size+pred_size]\n",
    "RF_test_c_recovered = RF_test[pred_size+pred_size:]\n",
    "\n",
    "RF_valid_a_recovered = RF_valid[:valid_size_a]\n",
    "RF_valid_b_recovered = RF_valid[valid_size_a:valid_size_a+valid_size_b]\n",
    "RF_valid_c_recovered = RF_valid[valid_size_a+valid_size_b:]\n",
    "print(RF_valid_b_recovered.shape[0])\n"
   ]
  },
  {
   "cell_type": "code",
   "execution_count": 14,
   "id": "14f305cc-47a1-47e9-bac8-98d2a03a672c",
   "metadata": {
    "tags": []
   },
   "outputs": [
    {
     "name": "stdout",
     "output_type": "stream",
     "text": [
      "C:\\Users\\Gustav\\Documents\\maskinlaering\\ML_prosject\\TDT4173-ML-task\\src\\Models\\XGB\n",
      "The autoreload extension is already loaded. To reload it, use:\n",
      "  %reload_ext autoreload\n",
      "A: Mean Absolute Error: 149.87812712439\n",
      "B: Mean Absolute Error: 28.06017782398375\n",
      "C: Mean Absolute Error: 25.29183991301668\n",
      "3282\n"
     ]
    }
   ],
   "source": [
    "reset_to_initial_directory()\n",
    "%cd \"../Models/XGB\"\n",
    "%run XGBoost.ipynb\n",
    "XGB_test = y_pred_xgb_test\n",
    "XGB_valid = y_pred_xgb_valid\n",
    "reset_to_initial_directory()\n",
    "\n",
    "XGB_test_a_recovered = XGB_test[:pred_size]\n",
    "XGB_test_b_recovered = XGB_test[pred_size:pred_size+pred_size]\n",
    "XGB_test_c_recovered = XGB_test[pred_size+pred_size:]\n",
    "\n",
    "XGB_valid_a_recovered = XGB_valid[:valid_size_a]\n",
    "XGB_valid_b_recovered = XGB_valid[valid_size_a:valid_size_a+valid_size_b]\n",
    "XGB_valid_c_recovered = XGB_valid[valid_size_a+valid_size_b:]\n",
    "\n",
    "print(XGB_valid_b_recovered.shape[0])\n"
   ]
  },
  {
   "cell_type": "code",
   "execution_count": 15,
   "id": "d932aef0-aed4-4da1-9e97-55d0d7f20536",
   "metadata": {
    "tags": []
   },
   "outputs": [],
   "source": [
    "#Lager meta modell\n",
    "X_test_meta_a = np.column_stack((knn_test_a_recovered, lin_test_a_recovered, RF_test_a_recovered, XGB_test_a_recovered))\n",
    "X_test_meta_b = np.column_stack((knn_test_b_recovered, lin_test_b_recovered, RF_test_b_recovered, XGB_test_b_recovered))\n",
    "X_test_meta_c = np.column_stack((knn_test_c_recovered, lin_test_c_recovered, RF_test_c_recovered, XGB_test_c_recovered))\n",
    "\n",
    "X_val_meta_a = np.column_stack((knn_valid_a_recovered, lin_valid_a_recovered, RF_valid_a_recovered, XGB_valid_a_recovered))\n",
    "X_val_meta_b = np.column_stack((knn_valid_b_recovered, lin_valid_b_recovered, RF_valid_b_recovered, XGB_valid_b_recovered))\n",
    "X_val_meta_c = np.column_stack((knn_valid_c_recovered, lin_valid_c_recovered, RF_valid_c_recovered, XGB_valid_c_recovered))"
   ]
  },
  {
   "cell_type": "code",
   "execution_count": 38,
   "id": "88544af7-e552-4915-a548-31468eeba05c",
   "metadata": {
    "tags": []
   },
   "outputs": [
    {
     "data": {
      "text/html": [
       "<style>#sk-container-id-3 {color: black;}#sk-container-id-3 pre{padding: 0;}#sk-container-id-3 div.sk-toggleable {background-color: white;}#sk-container-id-3 label.sk-toggleable__label {cursor: pointer;display: block;width: 100%;margin-bottom: 0;padding: 0.3em;box-sizing: border-box;text-align: center;}#sk-container-id-3 label.sk-toggleable__label-arrow:before {content: \"▸\";float: left;margin-right: 0.25em;color: #696969;}#sk-container-id-3 label.sk-toggleable__label-arrow:hover:before {color: black;}#sk-container-id-3 div.sk-estimator:hover label.sk-toggleable__label-arrow:before {color: black;}#sk-container-id-3 div.sk-toggleable__content {max-height: 0;max-width: 0;overflow: hidden;text-align: left;background-color: #f0f8ff;}#sk-container-id-3 div.sk-toggleable__content pre {margin: 0.2em;color: black;border-radius: 0.25em;background-color: #f0f8ff;}#sk-container-id-3 input.sk-toggleable__control:checked~div.sk-toggleable__content {max-height: 200px;max-width: 100%;overflow: auto;}#sk-container-id-3 input.sk-toggleable__control:checked~label.sk-toggleable__label-arrow:before {content: \"▾\";}#sk-container-id-3 div.sk-estimator input.sk-toggleable__control:checked~label.sk-toggleable__label {background-color: #d4ebff;}#sk-container-id-3 div.sk-label input.sk-toggleable__control:checked~label.sk-toggleable__label {background-color: #d4ebff;}#sk-container-id-3 input.sk-hidden--visually {border: 0;clip: rect(1px 1px 1px 1px);clip: rect(1px, 1px, 1px, 1px);height: 1px;margin: -1px;overflow: hidden;padding: 0;position: absolute;width: 1px;}#sk-container-id-3 div.sk-estimator {font-family: monospace;background-color: #f0f8ff;border: 1px dotted black;border-radius: 0.25em;box-sizing: border-box;margin-bottom: 0.5em;}#sk-container-id-3 div.sk-estimator:hover {background-color: #d4ebff;}#sk-container-id-3 div.sk-parallel-item::after {content: \"\";width: 100%;border-bottom: 1px solid gray;flex-grow: 1;}#sk-container-id-3 div.sk-label:hover label.sk-toggleable__label {background-color: #d4ebff;}#sk-container-id-3 div.sk-serial::before {content: \"\";position: absolute;border-left: 1px solid gray;box-sizing: border-box;top: 0;bottom: 0;left: 50%;z-index: 0;}#sk-container-id-3 div.sk-serial {display: flex;flex-direction: column;align-items: center;background-color: white;padding-right: 0.2em;padding-left: 0.2em;position: relative;}#sk-container-id-3 div.sk-item {position: relative;z-index: 1;}#sk-container-id-3 div.sk-parallel {display: flex;align-items: stretch;justify-content: center;background-color: white;position: relative;}#sk-container-id-3 div.sk-item::before, #sk-container-id-3 div.sk-parallel-item::before {content: \"\";position: absolute;border-left: 1px solid gray;box-sizing: border-box;top: 0;bottom: 0;left: 50%;z-index: -1;}#sk-container-id-3 div.sk-parallel-item {display: flex;flex-direction: column;z-index: 1;position: relative;background-color: white;}#sk-container-id-3 div.sk-parallel-item:first-child::after {align-self: flex-end;width: 50%;}#sk-container-id-3 div.sk-parallel-item:last-child::after {align-self: flex-start;width: 50%;}#sk-container-id-3 div.sk-parallel-item:only-child::after {width: 0;}#sk-container-id-3 div.sk-dashed-wrapped {border: 1px dashed gray;margin: 0 0.4em 0.5em 0.4em;box-sizing: border-box;padding-bottom: 0.4em;background-color: white;}#sk-container-id-3 div.sk-label label {font-family: monospace;font-weight: bold;display: inline-block;line-height: 1.2em;}#sk-container-id-3 div.sk-label-container {text-align: center;}#sk-container-id-3 div.sk-container {/* jupyter's `normalize.less` sets `[hidden] { display: none; }` but bootstrap.min.css set `[hidden] { display: none !important; }` so we also need the `!important` here to be able to override the default hidden behavior on the sphinx rendered scikit-learn.org. See: https://github.com/scikit-learn/scikit-learn/issues/21755 */display: inline-block !important;position: relative;}#sk-container-id-3 div.sk-text-repr-fallback {display: none;}</style><div id=\"sk-container-id-3\" class=\"sk-top-container\"><div class=\"sk-text-repr-fallback\"><pre>XGBRegressor(base_score=None, booster=None, callbacks=None,\n",
       "             colsample_bylevel=None, colsample_bynode=None,\n",
       "             colsample_bytree=None, device=None, early_stopping_rounds=None,\n",
       "             enable_categorical=False, eval_metric=None, feature_types=None,\n",
       "             gamma=None, grow_policy=None, importance_type=None,\n",
       "             interaction_constraints=None, learning_rate=None, max_bin=None,\n",
       "             max_cat_threshold=None, max_cat_to_onehot=None,\n",
       "             max_delta_step=None, max_depth=None, max_leaves=None,\n",
       "             min_child_weight=None, missing=nan, monotone_constraints=None,\n",
       "             multi_strategy=None, n_estimators=None, n_jobs=None,\n",
       "             num_parallel_tree=None, random_state=None, ...)</pre><b>In a Jupyter environment, please rerun this cell to show the HTML representation or trust the notebook. <br />On GitHub, the HTML representation is unable to render, please try loading this page with nbviewer.org.</b></div><div class=\"sk-container\" hidden><div class=\"sk-item\"><div class=\"sk-estimator sk-toggleable\"><input class=\"sk-toggleable__control sk-hidden--visually\" id=\"sk-estimator-id-3\" type=\"checkbox\" checked><label for=\"sk-estimator-id-3\" class=\"sk-toggleable__label sk-toggleable__label-arrow\">XGBRegressor</label><div class=\"sk-toggleable__content\"><pre>XGBRegressor(base_score=None, booster=None, callbacks=None,\n",
       "             colsample_bylevel=None, colsample_bynode=None,\n",
       "             colsample_bytree=None, device=None, early_stopping_rounds=None,\n",
       "             enable_categorical=False, eval_metric=None, feature_types=None,\n",
       "             gamma=None, grow_policy=None, importance_type=None,\n",
       "             interaction_constraints=None, learning_rate=None, max_bin=None,\n",
       "             max_cat_threshold=None, max_cat_to_onehot=None,\n",
       "             max_delta_step=None, max_depth=None, max_leaves=None,\n",
       "             min_child_weight=None, missing=nan, monotone_constraints=None,\n",
       "             multi_strategy=None, n_estimators=None, n_jobs=None,\n",
       "             num_parallel_tree=None, random_state=None, ...)</pre></div></div></div></div></div>"
      ],
      "text/plain": [
       "XGBRegressor(base_score=None, booster=None, callbacks=None,\n",
       "             colsample_bylevel=None, colsample_bynode=None,\n",
       "             colsample_bytree=None, device=None, early_stopping_rounds=None,\n",
       "             enable_categorical=False, eval_metric=None, feature_types=None,\n",
       "             gamma=None, grow_policy=None, importance_type=None,\n",
       "             interaction_constraints=None, learning_rate=None, max_bin=None,\n",
       "             max_cat_threshold=None, max_cat_to_onehot=None,\n",
       "             max_delta_step=None, max_depth=None, max_leaves=None,\n",
       "             min_child_weight=None, missing=nan, monotone_constraints=None,\n",
       "             multi_strategy=None, n_estimators=None, n_jobs=None,\n",
       "             num_parallel_tree=None, random_state=None, ...)"
      ]
     },
     "execution_count": 38,
     "metadata": {},
     "output_type": "execute_result"
    }
   ],
   "source": [
    "from xgboost import XGBRegressor\n",
    "meta_model_a = XGBRegressor()\n",
    "meta_model_a.fit(X_val_meta_a, y_valid_a)\n",
    "meta_model_b = XGBRegressor()\n",
    "meta_model_b.fit(X_val_meta_b, y_valid_b)\n",
    "meta_model_c = XGBRegressor()\n",
    "meta_model_c.fit(X_val_meta_c, y_valid_c)"
   ]
  },
  {
   "cell_type": "code",
   "execution_count": 39,
   "id": "bfdbe2a5-a99b-414b-9344-3b24750371c5",
   "metadata": {
    "tags": []
   },
   "outputs": [],
   "source": [
    "y_new_pred_a = meta_model_a.predict(X_test_meta_a)\n",
    "y_new_pred_b = meta_model_b.predict(X_test_meta_b)\n",
    "y_new_pred_c = meta_model_c.predict(X_test_meta_c)"
   ]
  },
  {
   "cell_type": "code",
   "execution_count": 40,
   "id": "5b123307-fe65-4ebe-88d4-dc380b7cc529",
   "metadata": {},
   "outputs": [],
   "source": [
    "y_new_pred = np.concatenate((y_new_pred_a, y_new_pred_b, y_new_pred_c), axis=0)"
   ]
  },
  {
   "cell_type": "code",
   "execution_count": 41,
   "id": "0d5f3da7-e9fa-45e3-8ab5-51f2aeb30faf",
   "metadata": {},
   "outputs": [],
   "source": [
    "submission(\"/stack_xgb.csv\", y_new_pred, \"../\")"
   ]
  },
  {
   "cell_type": "code",
   "execution_count": null,
   "id": "db78a163-847e-447d-bd3d-7dbf1eba070c",
   "metadata": {},
   "outputs": [],
   "source": []
  }
 ],
 "metadata": {
  "kernelspec": {
   "display_name": "Python 3 (ipykernel)",
   "language": "python",
   "name": "python3"
  },
  "language_info": {
   "codemirror_mode": {
    "name": "ipython",
    "version": 3
   },
   "file_extension": ".py",
   "mimetype": "text/x-python",
   "name": "python",
   "nbconvert_exporter": "python",
   "pygments_lexer": "ipython3",
   "version": "3.9.13"
  }
 },
 "nbformat": 4,
 "nbformat_minor": 5
}
