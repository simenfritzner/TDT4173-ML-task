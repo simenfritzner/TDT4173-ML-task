{
 "cells": [
  {
   "cell_type": "code",
   "execution_count": 1,
   "id": "1482470d-9235-4207-a302-ec6ed5dc6e57",
   "metadata": {
    "tags": []
   },
   "outputs": [
    {
     "name": "stderr",
     "output_type": "stream",
     "text": [
      "UsageError: Line magic function `%autoreload` not found.\n"
     ]
    }
   ],
   "source": [
    "%autoreload\n",
    "import os\n",
    "import pandas as pd\n",
    "import numpy as np\n",
    "import matplotlib.pylab as plt\n",
    "from sklearn.model_selection import train_test_split\n",
    "from sklearn.preprocessing import StandardScaler\n",
    "from sklearn.linear_model import LinearRegression\n",
    "from sklearn.metrics import classification_report, accuracy_score\n",
    "from sklearn.metrics import mean_absolute_error\n",
    "import seaborn as sns\n",
    "%matplotlib inline\n",
    "%load_ext autoreload\n",
    "%autoreload 2\n",
    "%reload_ext autoreload\n",
    "#To update the imported files\n",
    "\n",
    "pd.set_option('display.max_rows', 200)\n",
    "pd.set_option('display.max_columns', 200)"
   ]
  },
  {
   "cell_type": "code",
   "execution_count": 2,
   "id": "b7bb5be6-83eb-4578-94a2-fa3b6543eba7",
   "metadata": {},
   "outputs": [],
   "source": [
    "import sys\n",
    "sys.path.append(\"../Models\")\n",
    "from utilities import *\n",
    "sys.path.append(\"../Models/Linear_Regression\")\n",
    "from lin_reg import *"
   ]
  },
  {
   "cell_type": "code",
   "execution_count": 3,
   "id": "f41fbd46-8a29-4038-b0e1-4921eab60c12",
   "metadata": {
    "tags": []
   },
   "outputs": [
    {
     "ename": "NameError",
     "evalue": "name 'os' is not defined",
     "output_type": "error",
     "traceback": [
      "\u001b[0;31m---------------------------------------------------------------------------\u001b[0m",
      "\u001b[0;31mNameError\u001b[0m                                 Traceback (most recent call last)",
      "\u001b[1;32m/Users/erik/Library/CloudStorage/OneDrive-NTNU/Maskinlæring/Oppgave 2 gruppe/Faktisk git/TDT4173-ML-task/src/Stack/Stack.ipynb Cell 3\u001b[0m line \u001b[0;36m2\n\u001b[1;32m      <a href='vscode-notebook-cell:/Users/erik/Library/CloudStorage/OneDrive-NTNU/Maskinl%C3%A6ring/Oppgave%202%20gruppe/Faktisk%20git/TDT4173-ML-task/src/Stack/Stack.ipynb#W2sZmlsZQ%3D%3D?line=0'>1</a>\u001b[0m \u001b[39m# Store the initial directory when you start the notebook\u001b[39;00m\n\u001b[0;32m----> <a href='vscode-notebook-cell:/Users/erik/Library/CloudStorage/OneDrive-NTNU/Maskinl%C3%A6ring/Oppgave%202%20gruppe/Faktisk%20git/TDT4173-ML-task/src/Stack/Stack.ipynb#W2sZmlsZQ%3D%3D?line=1'>2</a>\u001b[0m initial_directory \u001b[39m=\u001b[39m os\u001b[39m.\u001b[39mgetcwd()\n\u001b[1;32m      <a href='vscode-notebook-cell:/Users/erik/Library/CloudStorage/OneDrive-NTNU/Maskinl%C3%A6ring/Oppgave%202%20gruppe/Faktisk%20git/TDT4173-ML-task/src/Stack/Stack.ipynb#W2sZmlsZQ%3D%3D?line=3'>4</a>\u001b[0m \u001b[39m# Create a function to reset to the initial directory\u001b[39;00m\n\u001b[1;32m      <a href='vscode-notebook-cell:/Users/erik/Library/CloudStorage/OneDrive-NTNU/Maskinl%C3%A6ring/Oppgave%202%20gruppe/Faktisk%20git/TDT4173-ML-task/src/Stack/Stack.ipynb#W2sZmlsZQ%3D%3D?line=4'>5</a>\u001b[0m \u001b[39mdef\u001b[39;00m \u001b[39mreset_to_initial_directory\u001b[39m():\n",
      "\u001b[0;31mNameError\u001b[0m: name 'os' is not defined"
     ]
    }
   ],
   "source": [
    "# Store the initial directory when you start the notebook\n",
    "initial_directory = os.getcwd()\n",
    "\n",
    "# Create a function to reset to the initial directory\n",
    "def reset_to_initial_directory():\n",
    "    os.chdir(initial_directory)"
   ]
  },
  {
   "cell_type": "code",
   "execution_count": null,
   "id": "6e938780-228e-452f-bd42-9a62c98e88b0",
   "metadata": {
    "tags": []
   },
   "outputs": [],
   "source": [
    "reset_to_initial_directory()"
   ]
  },
  {
   "cell_type": "code",
   "execution_count": null,
   "id": "cf24996b-bf9c-4be3-b63e-4b349265d46e",
   "metadata": {
    "tags": []
   },
   "outputs": [],
   "source": [
    "current_path = os.getcwd()\n",
    "print(\"Current Path:\", current_path)"
   ]
  },
  {
   "cell_type": "code",
   "execution_count": null,
   "id": "1b80b2cc-fc8c-4021-b1b6-62340cf8ed5a",
   "metadata": {
    "tags": []
   },
   "outputs": [],
   "source": [
    "reset_to_initial_directory()\n",
    "%cd \"../Models/KNN\"\n",
    "%run KNN.ipynb\n",
    "knn_a_valid_pred = knn_a_cross_val_predictions\n",
    "knn_b_valid_pred = knn_b_cross_val_predictions\n",
    "knn_c_valid_pred = knn_c_cross_val_predictions\n",
    "y_valid_a = knn_a_cross_val_actuals\n",
    "y_valid_b = knn_b_cross_val_actuals\n",
    "y_valid_c = knn_c_cross_val_actuals\n",
    "knn_a_test = knn_a_test_pred \n",
    "knn_b_test = knn_b_test_pred \n",
    "knn_c_test = knn_c_test_pred \n",
    "reset_to_initial_directory()"
   ]
  },
  {
   "cell_type": "code",
   "execution_count": null,
   "id": "566f24d5-aaf8-4a68-9248-9612f7a528a1",
   "metadata": {},
   "outputs": [],
   "source": [
    "reset_to_initial_directory()\n",
    "%cd \"../Models/RF\"\n",
    "%run Random_Forest.ipynb\n",
    "rf_a_valid_pred = rf_a_cross_val_predictions\n",
    "rf_b_valid_pred = rf_b_cross_val_predictions\n",
    "rf_c_valid_pred = rf_c_cross_val_predictions\n",
    "rf_a_test = rf_a_test_pred\n",
    "rf_b_test = rf_b_test_pred\n",
    "rf_c_test = rf_c_test_pred\n",
    "reset_to_initial_directory()"
   ]
  },
  {
   "cell_type": "code",
   "execution_count": null,
   "id": "14f305cc-47a1-47e9-bac8-98d2a03a672c",
   "metadata": {
    "tags": []
   },
   "outputs": [],
   "source": [
    "reset_to_initial_directory()\n",
    "%cd \"../Models/XGB\"\n",
    "%run XGBoost.ipynb\n",
    "xgb_a_valid_pred = xgb_a_cross_val_predictions\n",
    "xgb_b_valid_pred = xgb_b_cross_val_predictions\n",
    "xgb_c_valid_pred = xgb_c_cross_val_predictions\n",
    "xgb_a_test = xgb_a_test_pred\n",
    "xgb_b_test = xgb_b_test_pred\n",
    "xgb_c_test = xgb_c_test_pred\n",
    "reset_to_initial_directory()"
   ]
  },
  {
   "cell_type": "code",
   "execution_count": null,
   "id": "737bc54f-05b4-40f3-a98c-7d44fb6eb624",
   "metadata": {},
   "outputs": [],
   "source": [
    "reset_to_initial_directory()\n",
    "%cd \"../Models/LightGBM\"\n",
    "%run LightGBM.ipynb\n",
    "lightGBM_a_valid_pred = lightGBM_a_cross_val_predictions\n",
    "lightGBM_b_valid_pred = lightGBM_b_cross_val_predictions\n",
    "lightGBM_c_valid_pred = lightGBM_c_cross_val_predictions\n",
    "lightGBM_a_test = lightGBM_a_test_pred\n",
    "lightGBM_b_test = lightGBM_b_test_pred\n",
    "lightGBM_c_test = lightGBM_c_test_pred\n",
    "reset_to_initial_directory()"
   ]
  },
  {
   "cell_type": "code",
   "execution_count": null,
   "id": "3b09ff82-08ad-4a55-a071-f17c2ba58960",
   "metadata": {},
   "outputs": [],
   "source": [
    "reset_to_initial_directory()\n",
    "%cd \"../Models/Catboost\"\n",
    "%run Catboost.ipynb\n",
    "catboost_a_valid_pred = catboost_a_cross_val_predictions\n",
    "catboost_b_valid_pred = catboost_b_cross_val_predictions\n",
    "catboost_c_valid_pred = catboost_c_cross_val_predictions\n",
    "catboost_a_test = catboost_a_test_pred\n",
    "catboost_b_test = catboost_b_test_pred\n",
    "catboost_c_test = catboost_c_test_pred\n",
    "reset_to_initial_directory()"
   ]
  },
  {
   "cell_type": "code",
   "execution_count": null,
   "id": "b2577133-3d08-4f29-ac5d-b53da583ce08",
   "metadata": {},
   "outputs": [],
   "source": [
    "X_train_a = pd.DataFrame({\"KNN\" : knn_a_valid_pred, \"RF\" : rf_a_valid_pred, \"XGB\" : xgb_a_valid_pred, \"LightGBM\" : lightGBM_a_valid_pred, \"Catboost\" : catboost_a_valid_pred})\n",
    "X_train_b = pd.DataFrame({\"KNN\" : knn_b_valid_pred, \"RF\" : rf_b_valid_pred, \"XGB\" : xgb_b_valid_pred, \"LightGBM\" : lightGBM_b_valid_pred, \"Catboost\" : catboost_b_valid_pred})\n",
    "X_train_c = pd.DataFrame({\"KNN\" : knn_c_valid_pred, \"RF\" : rf_c_valid_pred, \"XGB\" : xgb_c_valid_pred, \"LightGBM\" : lightGBM_c_valid_pred, \"Catboost\" : catboost_c_valid_pred})"
   ]
  },
  {
   "cell_type": "code",
   "execution_count": null,
   "id": "0e22318d-bbc6-47ff-b72e-dfa065ff711e",
   "metadata": {},
   "outputs": [],
   "source": [
    "X_test_a = pd.DataFrame({\"KNN\" : knn_a_test, \"RF\" : rf_a_test, \"XGB\" : xgb_a_test, \"LightGBM\" : lightGBM_a_test, \"Catboost\" : catboost_a_test})\n",
    "X_test_b = pd.DataFrame({\"KNN\" : knn_b_test, \"RF\" : rf_b_test, \"XGB\" : xgb_b_test, \"LightGBM\" : lightGBM_b_test, \"Catboost\" : catboost_b_test})\n",
    "X_test_c = pd.DataFrame({\"KNN\" : knn_c_test, \"RF\" : rf_c_test, \"XGB\" : xgb_c_test, \"LightGBM\" : lightGBM_c_test, \"Catboost\" : catboost_c_test})"
   ]
  },
  {
   "cell_type": "code",
   "execution_count": null,
   "id": "476ea5e8-57c0-4eea-a54d-89e1c2621330",
   "metadata": {},
   "outputs": [],
   "source": [
    "y_train_a = pd.DataFrame({\"pv_measurement\" : y_valid_a})\n",
    "y_train_b = pd.DataFrame({\"pv_measurement\" : y_valid_b})\n",
    "y_train_c = pd.DataFrame({\"pv_measurement\" : y_valid_c})"
   ]
  },
  {
   "cell_type": "code",
   "execution_count": null,
   "id": "c229901c-9c4b-42bc-83b0-1d8b2bbb86e9",
   "metadata": {},
   "outputs": [],
   "source": [
    "meta_model_a = Lin_reg(X_train_a, X_test_a, y_train_a)\n",
    "meta_model_b = Lin_reg(X_train_b, X_test_b, y_train_b)\n",
    "meta_model_c = Lin_reg(X_train_c, X_test_c, y_train_c)"
   ]
  },
  {
   "cell_type": "code",
   "execution_count": null,
   "id": "cdf14267-3241-411d-9471-a0f094b4516d",
   "metadata": {},
   "outputs": [],
   "source": [
    "meta_model_a.cross_validate(X_train_a, y_train_a)\n",
    "meta_model_b.cross_validate(X_train_b, y_train_b)\n",
    "meta_model_c.cross_validate(X_train_c, y_train_c)"
   ]
  },
  {
   "cell_type": "markdown",
   "metadata": {},
   "source": [
    "1. a: 235.67 b: 38.92 c: 32.49"
   ]
  },
  {
   "cell_type": "code",
   "execution_count": null,
   "id": "053e3a94-b73b-43f1-a5bd-e916b002ad6d",
   "metadata": {},
   "outputs": [],
   "source": [
    "meta_model_a.fit()\n",
    "meta_model_a.pred()\n",
    "meta_model_a_pred = meta_model_a.prediction"
   ]
  },
  {
   "cell_type": "code",
   "execution_count": null,
   "id": "5f11ec5f-564b-4fb4-aee8-9cf68cf2a251",
   "metadata": {},
   "outputs": [],
   "source": [
    "meta_model_b.fit()\n",
    "meta_model_b.pred()\n",
    "meta_model_b_pred = meta_model_b.prediction"
   ]
  },
  {
   "cell_type": "code",
   "execution_count": null,
   "id": "88214402-1fbb-4e46-9401-a60f42c9a0aa",
   "metadata": {},
   "outputs": [],
   "source": [
    "meta_model_c.fit()\n",
    "meta_model_c.pred()\n",
    "meta_model_c_pred = meta_model_c.prediction"
   ]
  },
  {
   "cell_type": "code",
   "execution_count": null,
   "id": "549c15a7-efa0-4c87-9a05-8e4e445cfe12",
   "metadata": {},
   "outputs": [],
   "source": [
    "X_test_a_f = pd.read_parquet('../Data/Data_and_task/A/X_test_estimated.parquet')\n",
    "X_test_b_f = pd.read_parquet('../Data/Data_and_task/B/X_test_estimated.parquet')\n",
    "X_test_c_f = pd.read_parquet('../Data/Data_and_task/C/X_test_estimated.parquet')\n",
    "\n",
    "hours_to_zero_out_a = {5:[21,22, 23, 0], 6:[22, 23, 0], 7:[22, 23, 0]}\n",
    "hours_to_zero_out_b = {5:[21,22, 23, 0, 1], 6:[22, 23, 0], 7:[21,22, 23, 0]}\n",
    "hours_to_zero_out_c = {5:[21,22, 23, 0, 1], 6:[22, 23, 0, 1], 7:[21,22, 23, 0, 1]}\n",
    "\n",
    "pred_a_floored = remove_all_predicted_values_during_given_time_frame(X_test_a_f, meta_model_a_pred, hours_to_zero_out_a)\n",
    "pred_b_floored = remove_all_predicted_values_during_given_time_frame(X_test_b_f, meta_model_b_pred, hours_to_zero_out_b)\n",
    "pred_c_floored = remove_all_predicted_values_during_given_time_frame(X_test_c_f, meta_model_c_pred, hours_to_zero_out_c)\n",
    "y_new_pred = np.concatenate((pred_a_floored, pred_b_floored, pred_c_floored), axis = 0)"
   ]
  },
  {
   "cell_type": "code",
   "execution_count": null,
   "id": "0d5f3da7-e9fa-45e3-8ab5-51f2aeb30faf",
   "metadata": {},
   "outputs": [],
   "source": [
    "submission(\"/Submissions/erikzzzzzz.csv\", y_new_pred, \"../\")"
   ]
  }
 ],
 "metadata": {
  "kernelspec": {
   "display_name": "Python 3 (ipykernel)",
   "language": "python",
   "name": "python3"
  },
  "language_info": {
   "codemirror_mode": {
    "name": "ipython",
    "version": 3
   },
   "file_extension": ".py",
   "mimetype": "text/x-python",
   "name": "python",
   "nbconvert_exporter": "python",
   "pygments_lexer": "ipython3",
   "version": "3.11.4"
  }
 },
 "nbformat": 4,
 "nbformat_minor": 5
}
