{
 "cells": [
  {
   "cell_type": "code",
   "execution_count": 114,
   "id": "dc50b679-9eff-455e-bfe2-84c9a5b2e3e8",
   "metadata": {
    "tags": []
   },
   "outputs": [
    {
     "name": "stdout",
     "output_type": "stream",
     "text": [
      "The autoreload extension is already loaded. To reload it, use:\n",
      "  %reload_ext autoreload\n"
     ]
    }
   ],
   "source": [
    "%load_ext autoreload\n",
    "#To update the imported files"
   ]
  },
  {
   "cell_type": "code",
   "execution_count": 115,
   "id": "e7268e6d-d405-42cb-b769-1906c0dda04c",
   "metadata": {
    "tags": []
   },
   "outputs": [],
   "source": [
    "%autoreload\n",
    "import os\n",
    "import pandas as pd\n",
    "import numpy as np\n",
    "import matplotlib.pylab as plt\n",
    "from sklearn.model_selection import train_test_split\n",
    "from sklearn.preprocessing import StandardScaler\n",
    "from sklearn.linear_model import LinearRegression\n",
    "from sklearn.metrics import classification_report, accuracy_score\n",
    "from sklearn.metrics import mean_absolute_error\n",
    "from utilities import *\n",
    "import seaborn as sns\n",
    "%matplotlib inline\n",
    "\n",
    "\n",
    "pd.set_option('display.max_rows', 200)\n",
    "pd.set_option('display.max_columns', 200)"
   ]
  },
  {
   "cell_type": "code",
   "execution_count": 116,
   "id": "8e8b4625-d0d5-4140-9803-ceff93b93ca4",
   "metadata": {
    "tags": []
   },
   "outputs": [],
   "source": [
    "#Loading the y-paramter from file, might be changed to y_a etc.\n",
    "train_a = pd.read_parquet('../Data_and_task/A/train_targets.parquet')\n",
    "train_b = pd.read_parquet('../Data_and_task/B/train_targets.parquet')\n",
    "train_c = pd.read_parquet('../Data_and_task/C/train_targets.parquet')\n",
    "\n"
   ]
  },
  {
   "cell_type": "code",
   "execution_count": 117,
   "id": "01007176-36d4-4044-93eb-c8284b3a7a7e",
   "metadata": {
    "tags": []
   },
   "outputs": [],
   "source": [
    "#Loading estimated/forecasted training_weather from file\n",
    "X_train_estimated_a = pd.read_parquet('../Data_and_task/A/X_train_estimated.parquet')\n",
    "X_train_estimated_b = pd.read_parquet('../Data_and_task/B/X_train_estimated.parquet')\n",
    "X_train_estimated_c = pd.read_parquet('../Data_and_task/C/X_train_estimated.parquet')"
   ]
  },
  {
   "cell_type": "code",
   "execution_count": 118,
   "id": "e6290827-1675-4bd6-8557-daa3622cea24",
   "metadata": {
    "tags": []
   },
   "outputs": [],
   "source": [
    "#Loading observed weather from file\n",
    "X_train_observed_a = pd.read_parquet('../Data_and_task/A/X_train_observed.parquet')\n",
    "X_train_observed_b = pd.read_parquet('../Data_and_task/B/X_train_observed.parquet')\n",
    "X_train_observed_c = pd.read_parquet('../Data_and_task/C/X_train_observed.parquet')"
   ]
  },
  {
   "cell_type": "code",
   "execution_count": 119,
   "id": "96b86c3d-9bc1-40ca-93f6-7bd5baeddeb3",
   "metadata": {
    "tags": []
   },
   "outputs": [],
   "source": [
    "#Loading estimated/forecasted test_weather from file\n",
    "X_test_estimated_a = pd.read_parquet('../Data_and_task/A/X_test_estimated.parquet')\n",
    "X_test_estimated_b = pd.read_parquet('../Data_and_task/B/X_test_estimated.parquet')\n",
    "X_test_estimated_c = pd.read_parquet('../Data_and_task/C/X_test_estimated.parquet')"
   ]
  },
  {
   "cell_type": "code",
   "execution_count": 70,
   "id": "42f3fd52-910d-4eb0-ac53-0fcba4b8119b",
   "metadata": {
    "tags": []
   },
   "outputs": [],
   "source": [
    "#X_train_estimated_a.head()\n",
    "#X_test_estimated_b.head()\n",
    "#X_test_estimated_c.head()"
   ]
  },
  {
   "cell_type": "code",
   "execution_count": 120,
   "id": "22088567-301c-473c-9c71-c069caa7da3f",
   "metadata": {
    "tags": []
   },
   "outputs": [],
   "source": [
    "#Cleaning data such that only wanted features are included\n",
    "selected_features = [\n",
    "    \"date_forecast\", \"clear_sky_rad:W\", \"diffuse_rad:W\", \"direct_rad:W\",\n",
    "    \"absolute_humidity_2m:gm3\", \"effective_cloud_cover:p\",\n",
    "    \"is_day:idx\", \"is_in_shadow:idx\", \"fresh_snow_12h:cm\", \"fresh_snow_1h:cm\",\n",
    "    \"fresh_snow_24h:cm\", \"fresh_snow_3h:cm\", \"fresh_snow_6h:cm\",\n",
    "    \"snow_depth:cm\", \"snow_melt_10min:mm\", \"sun_azimuth:d\", \n",
    "    \"sun_elevation:d\", \"wind_speed_10m:ms\"\n",
    "]\n",
    "\n",
    "#Defining y_fetures, will always be the same\n",
    "y_features = [\"time\", \"pv_measurement\"]\n",
    "\n",
    "X_train_observed_a_clean = X_train_observed_a[selected_features].copy()\n",
    "X_train_estimated_a_clean = X_train_estimated_a[selected_features].copy()"
   ]
  },
  {
   "cell_type": "code",
   "execution_count": 121,
   "id": "6e94fed4-bcc4-4067-a544-4e9dfe3e1c3e",
   "metadata": {},
   "outputs": [
    {
     "name": "stdout",
     "output_type": "stream",
     "text": [
      "calculation complete\n"
     ]
    }
   ],
   "source": [
    "#calculating average of x value \n",
    "#NB this calculation takes a long time, and one should feture engineer all dataframes before running to \n",
    "#shorten the runtime\n",
    "X_train_observed_a_average = X_train_observed_a_clean.groupby(X_train_observed_a_clean.index // 4).apply(custom_mean2).reset_index(drop=True)\n",
    "#X_train_observed_b_average = X_train_observed_b.groupby(X_train_observed_b.index // 4).apply(custom_mean2).reset_index(drop=True)\n",
    "#X_train_observed_c_average = X_train_observed_c.groupby(X_train_observed_c.index // 4).apply(custom_mean2).reset_index(drop=True)\n",
    "#check when finished\n",
    "print(\"calculation complete\")"
   ]
  },
  {
   "cell_type": "code",
   "execution_count": 122,
   "id": "38f685e5-6c57-4ae8-aae6-80712d9e521d",
   "metadata": {
    "tags": []
   },
   "outputs": [
    {
     "name": "stdout",
     "output_type": "stream",
     "text": [
      "calculation complete\n"
     ]
    }
   ],
   "source": [
    "X_train_estimated_a_average = X_train_estimated_a_clean.groupby(X_train_estimated_a_clean.index // 4).apply(custom_mean2).reset_index(drop=True)\n",
    "X_train_estimated_b_average = X_test_estimated_b.groupby(X_test_estimated_b.index // 4).apply(custom_mean2).reset_index(drop=True)\n",
    "X_train_estimated_c_average = X_test_estimated_c.groupby(X_test_estimated_c.index // 4).apply(custom_mean2).reset_index(drop=True)\n",
    "#check when finished\n",
    "print(\"calculation complete\")"
   ]
  },
  {
   "cell_type": "code",
   "execution_count": 83,
   "id": "15b2631d-2621-44d1-81df-d6f45cda2377",
   "metadata": {
    "tags": []
   },
   "outputs": [],
   "source": [
    "#export data to exel file\n",
    "file_name2 = \"X_train_observed_a_average.xlsx\" \n",
    "# saving the excel\n",
    "X_train_observed_a_average.to_excel(file_name2)"
   ]
  },
  {
   "cell_type": "code",
   "execution_count": 129,
   "id": "2e1ab81b-f363-4f61-bb11-cf52523ec86f",
   "metadata": {},
   "outputs": [],
   "source": [
    "X_test_estimated_a_clean = X_train_estimated_a_average.drop(columns = [\"date_forecast\"]).copy()\n",
    "X_test_estimated_b_clean = X_train_estimated_b_average.drop(columns = [\"date_forecast\"]).copy()\n",
    "X_test_estimated_c_clean = X_train_estimated_c_average.drop(columns = [\"date_forecast\"]).copy()"
   ]
  },
  {
   "cell_type": "code",
   "execution_count": 125,
   "id": "30415cbf-33cd-4df6-ba55-c91095bf01be",
   "metadata": {
    "tags": []
   },
   "outputs": [
    {
     "name": "stdout",
     "output_type": "stream",
     "text": [
      "Mean Absolute Error: 370.14963323421324\n"
     ]
    }
   ],
   "source": [
    "#Training a Linear regression model on X_observed_a and testing it on X_estimated_a and evaluating it on MAE, PURELY for testing!\n",
    "#See below for how its done when submitting for A\n",
    "X_train_observed_a_resized, y_train_observed_a = resize_trainingdata(X_train_observed_a_average, train_a, \"date_forecast\", y_features)\n",
    "X_train_estimated_a_resized, y_train_estimated_a = resize_trainingdata(X_train_estimated_a_average, train_a, \"date_forecast\", y_features)\n",
    "\n",
    "#print(X_train_observed_a_resized)\n",
    "#print(y_train_observed_a)\n",
    "\n",
    "#Scaling the data for more fair comparions and faster convergence, ChatGPT\n",
    "scaler = StandardScaler()\n",
    "X_train_scaled = scaler.fit_transform(X_train_observed_a_resized)\n",
    "X_test_scaled = scaler.fit_transform(X_train_estimated_a_resized)\n",
    "\n",
    "#Training the model\n",
    "reg = LinearRegression()\n",
    "reg.fit(X_train_scaled, y_train_observed_a[\"pv_measurement\"])\n",
    "\n",
    "# Make predictions\n",
    "y_pred = reg.predict(X_test_scaled)\n",
    "\n",
    "#Evaluate mean asbolute error\n",
    "mae = mean_absolute_error(y_train_estimated_a[\"pv_measurement\"], y_pred)\n",
    "print(\"Mean Absolute Error:\", mae)"
   ]
  },
  {
   "cell_type": "code",
   "execution_count": 126,
   "id": "2b0c881b-90b8-4bb2-a41b-1ecf5e5a680f",
   "metadata": {
    "tags": []
   },
   "outputs": [
    {
     "ename": "NameError",
     "evalue": "name 'X_train_observed_b_clean' is not defined",
     "output_type": "error",
     "traceback": [
      "\u001b[1;31m---------------------------------------------------------------------------\u001b[0m",
      "\u001b[1;31mNameError\u001b[0m                                 Traceback (most recent call last)",
      "Cell \u001b[1;32mIn[126], line 2\u001b[0m\n\u001b[0;32m      1\u001b[0m \u001b[38;5;66;03m#for b\u001b[39;00m\n\u001b[1;32m----> 2\u001b[0m X_train_observed_b_resized, y_train_observed_b \u001b[38;5;241m=\u001b[39m resize_trainingdata(X_train_observed_b_clean, train_b, \u001b[38;5;124m\"\u001b[39m\u001b[38;5;124mdate_forecast\u001b[39m\u001b[38;5;124m\"\u001b[39m, y_features)\n\u001b[0;32m      3\u001b[0m X_train_estimated_b_resized, y_train_estimated_b \u001b[38;5;241m=\u001b[39m resize_trainingdata(X_train_estimated_b_clean, train_b, \u001b[38;5;124m\"\u001b[39m\u001b[38;5;124mdate_forecast\u001b[39m\u001b[38;5;124m\"\u001b[39m, y_features)\n\u001b[0;32m      5\u001b[0m scaler \u001b[38;5;241m=\u001b[39m StandardScaler()\n",
      "\u001b[1;31mNameError\u001b[0m: name 'X_train_observed_b_clean' is not defined"
     ]
    }
   ],
   "source": [
    "#for b\n",
    "X_train_observed_b_resized, y_train_observed_b = resize_trainingdata(X_train_observed_b_clean, train_b, \"date_forecast\", y_features)\n",
    "X_train_estimated_b_resized, y_train_estimated_b = resize_trainingdata(X_train_estimated_b_clean, train_b, \"date_forecast\", y_features)\n",
    "\n",
    "scaler = StandardScaler()\n",
    "X_train_scaled = scaler.fit_transform(X_train_observed_b_resized)\n",
    "X_test_scaled = scaler.fit_transform(X_train_estimated_b_resized)\n",
    "\n",
    "y_train_observed_b = remove_NaN_from_Y(y_train_observed_b,\"pv_measurement\")\n",
    "#Training the model\n",
    "reg = LinearRegression()\n",
    "reg.fit(X_train_scaled, y_train_observed_b[\"pv_measurement\"])\n",
    "\n",
    "# Make predictions\n",
    "y_pred = reg.predict(X_test_scaled)\n",
    "\n",
    "#Evaluate mean asbolute error\n",
    "mae = mean_absolute_error(y_train_estimated_b[\"pv_measurement\"], y_pred)\n",
    "print(\"Mean Absolute Error:\", mae)"
   ]
  },
  {
   "cell_type": "code",
   "execution_count": 105,
   "id": "6b9803a8-27a3-40b8-9bca-ca6506df8998",
   "metadata": {},
   "outputs": [
    {
     "data": {
      "text/plain": [
       "(29668, 18)"
      ]
     },
     "execution_count": 105,
     "metadata": {},
     "output_type": "execute_result"
    }
   ],
   "source": [
    "X_train_observed_a_average.shape\n"
   ]
  },
  {
   "cell_type": "code",
   "execution_count": 132,
   "id": "0a69c04e-2a63-4eb5-8ff0-e79d3bf661f8",
   "metadata": {
    "tags": []
   },
   "outputs": [
    {
     "name": "stdout",
     "output_type": "stream",
     "text": [
      "      clear_sky_rad:W  diffuse_rad:W  direct_rad:W  absolute_humidity_2m:gm3  \\\n",
      "0            0.000000       0.000000      0.000000                  8.349999   \n",
      "1            0.000000       0.000000      0.000000                  8.100000   \n",
      "2            0.000000       0.000000      0.000000                  8.150000   \n",
      "3            0.000000       0.000000      0.000000                  8.200000   \n",
      "4            0.000000       0.000000      0.000000                  8.375000   \n",
      "...               ...            ...           ...                       ...   \n",
      "5829        84.775002      32.200001     13.450001                  8.400000   \n",
      "5830        24.550001      13.875000      2.400000                  8.600000   \n",
      "5831         1.225000       1.250000      0.000000                  8.875000   \n",
      "5832         0.000000       0.000000      0.000000                  9.000000   \n",
      "5833         0.000000       0.000000      0.000000                  8.950000   \n",
      "\n",
      "      effective_cloud_cover:p  is_day:idx  is_in_shadow:idx  \\\n",
      "0                  100.000000        0.00               1.0   \n",
      "1                  100.000000        0.00               1.0   \n",
      "2                  100.000000        0.00               1.0   \n",
      "3                  100.000000        0.00               1.0   \n",
      "4                  100.000000        0.00               1.0   \n",
      "...                       ...         ...               ...   \n",
      "5829                87.474998        1.00               0.0   \n",
      "5830                78.075005        1.00               0.5   \n",
      "5831                79.550003        0.25               1.0   \n",
      "5832               100.000000        0.00               1.0   \n",
      "5833               100.000000        0.00               1.0   \n",
      "\n",
      "      fresh_snow_12h:cm  fresh_snow_1h:cm  fresh_snow_24h:cm  \\\n",
      "0                   0.0               0.0                0.0   \n",
      "1                   0.0               0.0                0.0   \n",
      "2                   0.0               0.0                0.0   \n",
      "3                   0.0               0.0                0.0   \n",
      "4                   0.0               0.0                0.0   \n",
      "...                 ...               ...                ...   \n",
      "5829                0.0               0.0                0.0   \n",
      "5830                0.0               0.0                0.0   \n",
      "5831                0.0               0.0                0.0   \n",
      "5832                0.0               0.0                0.0   \n",
      "5833                0.0               0.0                0.0   \n",
      "\n",
      "      fresh_snow_3h:cm  fresh_snow_6h:cm  snow_depth:cm  snow_melt_10min:mm  \\\n",
      "0                  0.0               0.0            0.0                 0.0   \n",
      "1                  0.0               0.0            0.0                 0.0   \n",
      "2                  0.0               0.0            0.0                 0.0   \n",
      "3                  0.0               0.0            0.0                 0.0   \n",
      "4                  0.0               0.0            0.0                 0.0   \n",
      "...                ...               ...            ...                 ...   \n",
      "5829               0.0               0.0            0.0                 0.0   \n",
      "5830               0.0               0.0            0.0                 0.0   \n",
      "5831               0.0               0.0            0.0                 0.0   \n",
      "5832               0.0               0.0            0.0                 0.0   \n",
      "5833               0.0               0.0            0.0                 0.0   \n",
      "\n",
      "      sun_azimuth:d  sun_elevation:d  wind_speed_10m:ms  air_density_2m:kgm3  \\\n",
      "0        347.822754       -39.065247              0.700                  NaN   \n",
      "1         96.748245       -39.382252              0.775                  NaN   \n",
      "2         24.241001       -38.040501              1.500                  NaN   \n",
      "3         41.830750       -34.390503              1.575                  NaN   \n",
      "4         57.993248       -29.268749              2.200                  NaN   \n",
      "...             ...              ...                ...                  ...   \n",
      "5829     306.688995         8.131000              2.175              1.19675   \n",
      "5830     319.703003         3.239500              2.200              1.20000   \n",
      "5831     333.037231        -0.477000              2.250              1.20350   \n",
      "5832     346.682739        -2.787750              1.875              1.20650   \n",
      "5833     180.515762        -3.535750              1.700              1.20700   \n",
      "\n",
      "      ceiling_height_agl:m  clear_sky_energy_1h:J  cloud_base_agl:m  \\\n",
      "0                      NaN                    NaN               NaN   \n",
      "1                      NaN                    NaN               NaN   \n",
      "2                      NaN                    NaN               NaN   \n",
      "3                      NaN                    NaN               NaN   \n",
      "4                      NaN                    NaN               NaN   \n",
      "...                    ...                    ...               ...   \n",
      "5829           3493.649902          475981.343750       1967.375000   \n",
      "5830           3078.750000          183261.359375       1449.500000   \n",
      "5831           2308.399902           36831.074219       1543.649902   \n",
      "5832           2000.449951             344.575012       1725.949951   \n",
      "5833           2005.525024               0.000000       1284.849976   \n",
      "\n",
      "      dew_or_rime:idx  dew_point_2m:K  diffuse_rad_1h:J  direct_rad_1h:J  \\\n",
      "0                 NaN             NaN               NaN              NaN   \n",
      "1                 NaN             NaN               NaN              NaN   \n",
      "2                 NaN             NaN               NaN              NaN   \n",
      "3                 NaN             NaN               NaN              NaN   \n",
      "4                 NaN             NaN               NaN              NaN   \n",
      "...               ...             ...               ...              ...   \n",
      "5829              0.0      281.700012     162567.531250     53064.925781   \n",
      "5830              0.0      282.024994      82875.351562     28523.800781   \n",
      "5831              0.0      282.350006      27210.250000      4322.475098   \n",
      "5832              0.0      282.600006       2242.149902         0.000000   \n",
      "5833              0.0      282.475006          0.000000         0.000000   \n",
      "\n",
      "      elevation:m  msl_pressure:hPa  precip_5min:mm  precip_type_5min:idx  \\\n",
      "0             NaN               NaN             NaN                   NaN   \n",
      "1             NaN               NaN             NaN                   NaN   \n",
      "2             NaN               NaN             NaN                   NaN   \n",
      "3             NaN               NaN             NaN                   NaN   \n",
      "4             NaN               NaN             NaN                   NaN   \n",
      "...           ...               ...             ...                   ...   \n",
      "5829         24.0        992.150024             0.0                   0.0   \n",
      "5830         24.0        992.575012             0.0                   0.0   \n",
      "5831         24.0        992.949951             0.0                   0.0   \n",
      "5832         24.0        993.275024             0.0                   0.0   \n",
      "5833         24.0        993.575012             0.0                   0.0   \n",
      "\n",
      "      pressure_100m:hPa  pressure_50m:hPa  prob_rime:p  rain_water:kgm2  \\\n",
      "0                   NaN               NaN          NaN              NaN   \n",
      "1                   NaN               NaN          NaN              NaN   \n",
      "2                   NaN               NaN          NaN              NaN   \n",
      "3                   NaN               NaN          NaN              NaN   \n",
      "4                   NaN               NaN          NaN              NaN   \n",
      "...                 ...               ...          ...              ...   \n",
      "5829         977.575012        983.400024          0.0              0.0   \n",
      "5830         977.974976        983.849976          0.0              0.0   \n",
      "5831         978.250000        984.150024          0.0              0.0   \n",
      "5832         978.650024        984.549988          0.0              0.0   \n",
      "5833         978.949951        984.849976          0.0              0.0   \n",
      "\n",
      "      relative_humidity_1000hPa:p  sfc_pressure:hPa  snow_density:kgm3  \\\n",
      "0                             NaN               NaN                NaN   \n",
      "1                             NaN               NaN                NaN   \n",
      "2                             NaN               NaN                NaN   \n",
      "3                             NaN               NaN                NaN   \n",
      "4                             NaN               NaN                NaN   \n",
      "...                           ...               ...                ...   \n",
      "5829                    71.649994        989.300049                NaN   \n",
      "5830                    75.324997        989.750000                NaN   \n",
      "5831                    80.425003        990.075012                NaN   \n",
      "5832                    83.799995        990.474976                NaN   \n",
      "5833                    84.599998        990.775024                NaN   \n",
      "\n",
      "      snow_drift:idx  snow_water:kgm2  super_cooled_liquid_water:kgm2  \\\n",
      "0                NaN              NaN                             NaN   \n",
      "1                NaN              NaN                             NaN   \n",
      "2                NaN              NaN                             NaN   \n",
      "3                NaN              NaN                             NaN   \n",
      "4                NaN              NaN                             NaN   \n",
      "...              ...              ...                             ...   \n",
      "5829             0.0              0.0                           0.100   \n",
      "5830             0.0              0.0                           0.000   \n",
      "5831             0.0              0.0                           0.000   \n",
      "5832             0.0              0.0                           0.075   \n",
      "5833             0.0              0.0                           0.150   \n",
      "\n",
      "      t_1000hPa:K  total_cloud_cover:p  visibility:m  wind_speed_u_10m:ms  \\\n",
      "0             NaN                  NaN           NaN                  NaN   \n",
      "1             NaN                  NaN           NaN                  NaN   \n",
      "2             NaN                  NaN           NaN                  NaN   \n",
      "3             NaN                  NaN           NaN                  NaN   \n",
      "4             NaN                  NaN           NaN                  NaN   \n",
      "...           ...                  ...           ...                  ...   \n",
      "5829   286.850006            88.175003  41007.898438                 1.90   \n",
      "5830   286.450012            78.949997  41315.949219                 2.00   \n",
      "5831   285.950012            80.449997  41665.898438                 2.05   \n",
      "5832   285.450012           100.000000  39007.601562                 1.70   \n",
      "5833   285.100006           100.000000  39117.500000                 1.60   \n",
      "\n",
      "      wind_speed_v_10m:ms  wind_speed_w_1000hPa:ms  \n",
      "0                     NaN                      NaN  \n",
      "1                     NaN                      NaN  \n",
      "2                     NaN                      NaN  \n",
      "3                     NaN                      NaN  \n",
      "4                     NaN                      NaN  \n",
      "...                   ...                      ...  \n",
      "5829               -1.075                      0.0  \n",
      "5830               -0.925                      0.0  \n",
      "5831               -0.950                      0.0  \n",
      "5832               -0.775                      0.0  \n",
      "5833               -0.600                      0.0  \n",
      "\n",
      "[5834 rows x 45 columns]\n"
     ]
    },
    {
     "name": "stderr",
     "output_type": "stream",
     "text": [
      "C:\\Users\\Gustav\\anaconda3\\Lib\\site-packages\\sklearn\\base.py:464: UserWarning: X does not have valid feature names, but LinearRegression was fitted with feature names\n",
      "  warnings.warn(\n"
     ]
    },
    {
     "ename": "ValueError",
     "evalue": "Input X contains NaN.\nLinearRegression does not accept missing values encoded as NaN natively. For supervised learning, you might want to consider sklearn.ensemble.HistGradientBoostingClassifier and Regressor which accept missing values encoded as NaNs natively. Alternatively, it is possible to preprocess the data, for instance by using an imputer transformer in a pipeline or drop samples with missing values. See https://scikit-learn.org/stable/modules/impute.html You can find a list of all estimators that handle NaN values at the following page: https://scikit-learn.org/stable/modules/impute.html#estimators-that-handle-nan-values",
     "output_type": "error",
     "traceback": [
      "\u001b[1;31m---------------------------------------------------------------------------\u001b[0m",
      "\u001b[1;31mValueError\u001b[0m                                Traceback (most recent call last)",
      "Cell \u001b[1;32mIn[132], line 22\u001b[0m\n\u001b[0;32m     19\u001b[0m reg_a\u001b[38;5;241m.\u001b[39mfit(X_train_a, y_train_a[\u001b[38;5;124m\"\u001b[39m\u001b[38;5;124mpv_measurement\u001b[39m\u001b[38;5;124m\"\u001b[39m])\n\u001b[0;32m     21\u001b[0m \u001b[38;5;66;03m# Make predictions for A,B,C on the model trained on only A. Problems with the B and C datasets which need to be explored\u001b[39;00m\n\u001b[1;32m---> 22\u001b[0m y_pred \u001b[38;5;241m=\u001b[39m reg_a\u001b[38;5;241m.\u001b[39mpredict(X_test_a_scaled)\n\u001b[0;32m     24\u001b[0m \u001b[38;5;66;03m#Saving y_pred in a proper csv file\u001b[39;00m\n\u001b[0;32m     25\u001b[0m filename \u001b[38;5;241m=\u001b[39m \u001b[38;5;124m\"\u001b[39m\u001b[38;5;124mCSV/second_submission.csv\u001b[39m\u001b[38;5;124m\"\u001b[39m\n",
      "File \u001b[1;32m~\\anaconda3\\Lib\\site-packages\\sklearn\\linear_model\\_base.py:386\u001b[0m, in \u001b[0;36mLinearModel.predict\u001b[1;34m(self, X)\u001b[0m\n\u001b[0;32m    372\u001b[0m \u001b[38;5;28;01mdef\u001b[39;00m \u001b[38;5;21mpredict\u001b[39m(\u001b[38;5;28mself\u001b[39m, X):\n\u001b[0;32m    373\u001b[0m \u001b[38;5;250m    \u001b[39m\u001b[38;5;124;03m\"\"\"\u001b[39;00m\n\u001b[0;32m    374\u001b[0m \u001b[38;5;124;03m    Predict using the linear model.\u001b[39;00m\n\u001b[0;32m    375\u001b[0m \n\u001b[1;32m   (...)\u001b[0m\n\u001b[0;32m    384\u001b[0m \u001b[38;5;124;03m        Returns predicted values.\u001b[39;00m\n\u001b[0;32m    385\u001b[0m \u001b[38;5;124;03m    \"\"\"\u001b[39;00m\n\u001b[1;32m--> 386\u001b[0m     \u001b[38;5;28;01mreturn\u001b[39;00m \u001b[38;5;28mself\u001b[39m\u001b[38;5;241m.\u001b[39m_decision_function(X)\n",
      "File \u001b[1;32m~\\anaconda3\\Lib\\site-packages\\sklearn\\linear_model\\_base.py:369\u001b[0m, in \u001b[0;36mLinearModel._decision_function\u001b[1;34m(self, X)\u001b[0m\n\u001b[0;32m    366\u001b[0m \u001b[38;5;28;01mdef\u001b[39;00m \u001b[38;5;21m_decision_function\u001b[39m(\u001b[38;5;28mself\u001b[39m, X):\n\u001b[0;32m    367\u001b[0m     check_is_fitted(\u001b[38;5;28mself\u001b[39m)\n\u001b[1;32m--> 369\u001b[0m     X \u001b[38;5;241m=\u001b[39m \u001b[38;5;28mself\u001b[39m\u001b[38;5;241m.\u001b[39m_validate_data(X, accept_sparse\u001b[38;5;241m=\u001b[39m[\u001b[38;5;124m\"\u001b[39m\u001b[38;5;124mcsr\u001b[39m\u001b[38;5;124m\"\u001b[39m, \u001b[38;5;124m\"\u001b[39m\u001b[38;5;124mcsc\u001b[39m\u001b[38;5;124m\"\u001b[39m, \u001b[38;5;124m\"\u001b[39m\u001b[38;5;124mcoo\u001b[39m\u001b[38;5;124m\"\u001b[39m], reset\u001b[38;5;241m=\u001b[39m\u001b[38;5;28;01mFalse\u001b[39;00m)\n\u001b[0;32m    370\u001b[0m     \u001b[38;5;28;01mreturn\u001b[39;00m safe_sparse_dot(X, \u001b[38;5;28mself\u001b[39m\u001b[38;5;241m.\u001b[39mcoef_\u001b[38;5;241m.\u001b[39mT, dense_output\u001b[38;5;241m=\u001b[39m\u001b[38;5;28;01mTrue\u001b[39;00m) \u001b[38;5;241m+\u001b[39m \u001b[38;5;28mself\u001b[39m\u001b[38;5;241m.\u001b[39mintercept_\n",
      "File \u001b[1;32m~\\anaconda3\\Lib\\site-packages\\sklearn\\base.py:604\u001b[0m, in \u001b[0;36mBaseEstimator._validate_data\u001b[1;34m(self, X, y, reset, validate_separately, cast_to_ndarray, **check_params)\u001b[0m\n\u001b[0;32m    602\u001b[0m         out \u001b[38;5;241m=\u001b[39m X, y\n\u001b[0;32m    603\u001b[0m \u001b[38;5;28;01melif\u001b[39;00m \u001b[38;5;129;01mnot\u001b[39;00m no_val_X \u001b[38;5;129;01mand\u001b[39;00m no_val_y:\n\u001b[1;32m--> 604\u001b[0m     out \u001b[38;5;241m=\u001b[39m check_array(X, input_name\u001b[38;5;241m=\u001b[39m\u001b[38;5;124m\"\u001b[39m\u001b[38;5;124mX\u001b[39m\u001b[38;5;124m\"\u001b[39m, \u001b[38;5;241m*\u001b[39m\u001b[38;5;241m*\u001b[39mcheck_params)\n\u001b[0;32m    605\u001b[0m \u001b[38;5;28;01melif\u001b[39;00m no_val_X \u001b[38;5;129;01mand\u001b[39;00m \u001b[38;5;129;01mnot\u001b[39;00m no_val_y:\n\u001b[0;32m    606\u001b[0m     out \u001b[38;5;241m=\u001b[39m _check_y(y, \u001b[38;5;241m*\u001b[39m\u001b[38;5;241m*\u001b[39mcheck_params)\n",
      "File \u001b[1;32m~\\anaconda3\\Lib\\site-packages\\sklearn\\utils\\validation.py:959\u001b[0m, in \u001b[0;36mcheck_array\u001b[1;34m(array, accept_sparse, accept_large_sparse, dtype, order, copy, force_all_finite, ensure_2d, allow_nd, ensure_min_samples, ensure_min_features, estimator, input_name)\u001b[0m\n\u001b[0;32m    953\u001b[0m         \u001b[38;5;28;01mraise\u001b[39;00m \u001b[38;5;167;01mValueError\u001b[39;00m(\n\u001b[0;32m    954\u001b[0m             \u001b[38;5;124m\"\u001b[39m\u001b[38;5;124mFound array with dim \u001b[39m\u001b[38;5;132;01m%d\u001b[39;00m\u001b[38;5;124m. \u001b[39m\u001b[38;5;132;01m%s\u001b[39;00m\u001b[38;5;124m expected <= 2.\u001b[39m\u001b[38;5;124m\"\u001b[39m\n\u001b[0;32m    955\u001b[0m             \u001b[38;5;241m%\u001b[39m (array\u001b[38;5;241m.\u001b[39mndim, estimator_name)\n\u001b[0;32m    956\u001b[0m         )\n\u001b[0;32m    958\u001b[0m     \u001b[38;5;28;01mif\u001b[39;00m force_all_finite:\n\u001b[1;32m--> 959\u001b[0m         _assert_all_finite(\n\u001b[0;32m    960\u001b[0m             array,\n\u001b[0;32m    961\u001b[0m             input_name\u001b[38;5;241m=\u001b[39minput_name,\n\u001b[0;32m    962\u001b[0m             estimator_name\u001b[38;5;241m=\u001b[39mestimator_name,\n\u001b[0;32m    963\u001b[0m             allow_nan\u001b[38;5;241m=\u001b[39mforce_all_finite \u001b[38;5;241m==\u001b[39m \u001b[38;5;124m\"\u001b[39m\u001b[38;5;124mallow-nan\u001b[39m\u001b[38;5;124m\"\u001b[39m,\n\u001b[0;32m    964\u001b[0m         )\n\u001b[0;32m    966\u001b[0m \u001b[38;5;28;01mif\u001b[39;00m ensure_min_samples \u001b[38;5;241m>\u001b[39m \u001b[38;5;241m0\u001b[39m:\n\u001b[0;32m    967\u001b[0m     n_samples \u001b[38;5;241m=\u001b[39m _num_samples(array)\n",
      "File \u001b[1;32m~\\anaconda3\\Lib\\site-packages\\sklearn\\utils\\validation.py:124\u001b[0m, in \u001b[0;36m_assert_all_finite\u001b[1;34m(X, allow_nan, msg_dtype, estimator_name, input_name)\u001b[0m\n\u001b[0;32m    121\u001b[0m \u001b[38;5;28;01mif\u001b[39;00m first_pass_isfinite:\n\u001b[0;32m    122\u001b[0m     \u001b[38;5;28;01mreturn\u001b[39;00m\n\u001b[1;32m--> 124\u001b[0m _assert_all_finite_element_wise(\n\u001b[0;32m    125\u001b[0m     X,\n\u001b[0;32m    126\u001b[0m     xp\u001b[38;5;241m=\u001b[39mxp,\n\u001b[0;32m    127\u001b[0m     allow_nan\u001b[38;5;241m=\u001b[39mallow_nan,\n\u001b[0;32m    128\u001b[0m     msg_dtype\u001b[38;5;241m=\u001b[39mmsg_dtype,\n\u001b[0;32m    129\u001b[0m     estimator_name\u001b[38;5;241m=\u001b[39mestimator_name,\n\u001b[0;32m    130\u001b[0m     input_name\u001b[38;5;241m=\u001b[39minput_name,\n\u001b[0;32m    131\u001b[0m )\n",
      "File \u001b[1;32m~\\anaconda3\\Lib\\site-packages\\sklearn\\utils\\validation.py:173\u001b[0m, in \u001b[0;36m_assert_all_finite_element_wise\u001b[1;34m(X, xp, allow_nan, msg_dtype, estimator_name, input_name)\u001b[0m\n\u001b[0;32m    156\u001b[0m \u001b[38;5;28;01mif\u001b[39;00m estimator_name \u001b[38;5;129;01mand\u001b[39;00m input_name \u001b[38;5;241m==\u001b[39m \u001b[38;5;124m\"\u001b[39m\u001b[38;5;124mX\u001b[39m\u001b[38;5;124m\"\u001b[39m \u001b[38;5;129;01mand\u001b[39;00m has_nan_error:\n\u001b[0;32m    157\u001b[0m     \u001b[38;5;66;03m# Improve the error message on how to handle missing values in\u001b[39;00m\n\u001b[0;32m    158\u001b[0m     \u001b[38;5;66;03m# scikit-learn.\u001b[39;00m\n\u001b[0;32m    159\u001b[0m     msg_err \u001b[38;5;241m+\u001b[39m\u001b[38;5;241m=\u001b[39m (\n\u001b[0;32m    160\u001b[0m         \u001b[38;5;124mf\u001b[39m\u001b[38;5;124m\"\u001b[39m\u001b[38;5;130;01m\\n\u001b[39;00m\u001b[38;5;132;01m{\u001b[39;00mestimator_name\u001b[38;5;132;01m}\u001b[39;00m\u001b[38;5;124m does not accept missing values\u001b[39m\u001b[38;5;124m\"\u001b[39m\n\u001b[0;32m    161\u001b[0m         \u001b[38;5;124m\"\u001b[39m\u001b[38;5;124m encoded as NaN natively. For supervised learning, you might want\u001b[39m\u001b[38;5;124m\"\u001b[39m\n\u001b[1;32m   (...)\u001b[0m\n\u001b[0;32m    171\u001b[0m         \u001b[38;5;124m\"\u001b[39m\u001b[38;5;124m#estimators-that-handle-nan-values\u001b[39m\u001b[38;5;124m\"\u001b[39m\n\u001b[0;32m    172\u001b[0m     )\n\u001b[1;32m--> 173\u001b[0m \u001b[38;5;28;01mraise\u001b[39;00m \u001b[38;5;167;01mValueError\u001b[39;00m(msg_err)\n",
      "\u001b[1;31mValueError\u001b[0m: Input X contains NaN.\nLinearRegression does not accept missing values encoded as NaN natively. For supervised learning, you might want to consider sklearn.ensemble.HistGradientBoostingClassifier and Regressor which accept missing values encoded as NaNs natively. Alternatively, it is possible to preprocess the data, for instance by using an imputer transformer in a pipeline or drop samples with missing values. See https://scikit-learn.org/stable/modules/impute.html You can find a list of all estimators that handle NaN values at the following page: https://scikit-learn.org/stable/modules/impute.html#estimators-that-handle-nan-values"
     ]
    }
   ],
   "source": [
    "#Training model, running infernece on testing data and saving it in a csv file ready for submission\n",
    "X_train_observed_a_resized, y_train_observed_a = resize_trainingdata(X_train_observed_a_average, train_a, \"date_forecast\", y_features)\n",
    "X_train_estimated_a_resized, y_train_estimated_a = resize_trainingdata(X_train_estimated_a_average, train_a, \"date_forecast\", y_features)\n",
    "\n",
    "#Merging observed and estimated data to one big df\n",
    "X_train_a = pd.concat([X_train_observed_a_resized, X_train_estimated_a_resized], ignore_index=True)\n",
    "y_train_a = pd.concat([y_train_observed_a, y_train_estimated_a], ignore_index=True)\n",
    "X_test = pd.concat([X_test_estimated_a_clean, X_test_estimated_b_clean, X_test_estimated_c_clean], ignore_index=True)\n",
    "print(X_test)\n",
    "#display(X_test)\n",
    "#Scaling the data for more fair comparions and faster convergence, ChatGPT\n",
    "scaler = StandardScaler()\n",
    "X_train_a_scaled = scaler.fit_transform(X_train_a)\n",
    "X_test_a_scaled=scaler.fit_transform(X_test)\n",
    "\n",
    "#Training the models\n",
    "#Model A:\n",
    "reg_a = LinearRegression()\n",
    "reg_a.fit(X_train_a, y_train_a[\"pv_measurement\"])\n",
    "\n",
    "# Make predictions for A,B,C on the model trained on only A. Problems with the B and C datasets which need to be explored\n",
    "y_pred = reg_a.predict(X_test_a_scaled)\n",
    "\n",
    "#Saving y_pred in a proper csv file\n",
    "filename = \"CSV/second_submission.csv\"\n",
    "submission(filename, y_pred)"
   ]
  },
  {
   "cell_type": "code",
   "execution_count": 110,
   "id": "b049e6d4-9f90-4be0-a23e-466b5f02f7ac",
   "metadata": {},
   "outputs": [
    {
     "data": {
      "text/plain": [
       "(4394, 2)"
      ]
     },
     "execution_count": 110,
     "metadata": {},
     "output_type": "execute_result"
    }
   ],
   "source": [
    "y_train_estimated_a.shape"
   ]
  },
  {
   "cell_type": "code",
   "execution_count": null,
   "id": "414af49a-6ae4-46b0-82a8-5cb7f7bebc9f",
   "metadata": {},
   "outputs": [],
   "source": []
  },
  {
   "cell_type": "code",
   "execution_count": null,
   "id": "9c5ef57d-b9d2-4aeb-970e-ef98de509e6c",
   "metadata": {},
   "outputs": [],
   "source": []
  }
 ],
 "metadata": {
  "kernelspec": {
   "display_name": "Python 3 (ipykernel)",
   "language": "python",
   "name": "python3"
  },
  "language_info": {
   "codemirror_mode": {
    "name": "ipython",
    "version": 3
   },
   "file_extension": ".py",
   "mimetype": "text/x-python",
   "name": "python",
   "nbconvert_exporter": "python",
   "pygments_lexer": "ipython3",
   "version": "3.11.4"
  }
 },
 "nbformat": 4,
 "nbformat_minor": 5
}
