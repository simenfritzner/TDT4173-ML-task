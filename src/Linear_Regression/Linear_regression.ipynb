{
 "cells": [
  {
   "cell_type": "code",
   "execution_count": 1,
   "id": "dc50b679-9eff-455e-bfe2-84c9a5b2e3e8",
   "metadata": {},
   "outputs": [],
   "source": [
    "%load_ext autoreload\n",
    "#To update the imported files"
   ]
  },
  {
   "cell_type": "code",
   "execution_count": 26,
   "id": "e7268e6d-d405-42cb-b769-1906c0dda04c",
   "metadata": {},
   "outputs": [],
   "source": [
    "%autoreload\n",
    "import os\n",
    "import pandas as pd\n",
    "import numpy as np\n",
    "import numpy as np\n",
    "import seaborn as sns\n",
    "import matplotlib.pylab as plt\n",
    "from sklearn.metrics import mean_absolute_error\n",
    "from utilities import *\n",
    "%matplotlib inline\n",
    "\n",
    "pd.set_option('display.max_rows', 200)\n",
    "pd.set_option('display.max_columns', 200)"
   ]
  },
  {
   "cell_type": "markdown",
   "id": "b84a1c46-5454-47db-b00a-8c18334b620c",
   "metadata": {},
   "source": [
    "# Loading in the data from file:"
   ]
  },
  {
   "cell_type": "code",
   "execution_count": 3,
   "id": "8e8b4625-d0d5-4140-9803-ceff93b93ca4",
   "metadata": {},
   "outputs": [],
   "source": [
    "#Loading the y-paramter from file, might be changed to y_a etc.\n",
    "y_a = pd.read_parquet('../Data_and_task/A/train_targets.parquet')\n",
    "y_b = pd.read_parquet('../Data_and_task/B/train_targets.parquet')\n",
    "y_c = pd.read_parquet('../Data_and_task/C/train_targets.parquet')\n",
    "y_b = y_b.dropna()\n",
    "y_c=y_c.dropna()"
   ]
  },
  {
   "cell_type": "code",
   "execution_count": 4,
   "id": "01007176-36d4-4044-93eb-c8284b3a7a7e",
   "metadata": {},
   "outputs": [],
   "source": [
    "#Loading estimated/forecasted training_weather from file\n",
    "X_estimated_a = pd.read_parquet('../Data_and_task/A/X_train_estimated.parquet')\n",
    "X_estimated_b = pd.read_parquet('../Data_and_task/B/X_train_estimated.parquet')\n",
    "X_estimated_c = pd.read_parquet('../Data_and_task/C/X_train_estimated.parquet')"
   ]
  },
  {
   "cell_type": "code",
   "execution_count": 5,
   "id": "e6290827-1675-4bd6-8557-daa3622cea24",
   "metadata": {},
   "outputs": [],
   "source": [
    "#Loading observed weather from file\n",
    "X_observed_a = pd.read_parquet('../Data_and_task/A/X_train_observed.parquet')\n",
    "X_observed_b = pd.read_parquet('../Data_and_task/B/X_train_observed.parquet')\n",
    "X_observed_c = pd.read_parquet('../Data_and_task/C/X_train_observed.parquet')"
   ]
  },
  {
   "cell_type": "code",
   "execution_count": 6,
   "id": "96b86c3d-9bc1-40ca-93f6-7bd5baeddeb3",
   "metadata": {},
   "outputs": [],
   "source": [
    "#Loading estimated/forecasted test_weather from file\n",
    "X_test_a = pd.read_parquet('../Data_and_task/A/X_test_estimated.parquet')\n",
    "X_test_b = pd.read_parquet('../Data_and_task/B/X_test_estimated.parquet')\n",
    "X_test_c = pd.read_parquet('../Data_and_task/C/X_test_estimated.parquet')"
   ]
  },
  {
   "cell_type": "markdown",
   "id": "60c58f83-8498-4777-a443-a4a0e48e22e9",
   "metadata": {},
   "source": [
    "# Defining the features we want to keep for the model"
   ]
  },
  {
   "cell_type": "code",
   "execution_count": 29,
   "id": "22088567-301c-473c-9c71-c069caa7da3f",
   "metadata": {},
   "outputs": [],
   "source": [
    "#Cleaning data such that only wanted features are included\n",
    "selected_features = [\"date_forecast\", 'direct_rad:W', 'direct_rad_1h:J', 'clear_sky_rad:W', 'clear_sky_energy_1h:J', 'diffuse_rad:W', 'sun_elevation:d', 'is_in_shadow:idx', 'is_day:idx']"
   ]
  },
  {
   "cell_type": "code",
   "execution_count": 15,
   "id": "9fe77d39-ad80-4852-b54a-646a427c8c9e",
   "metadata": {},
   "outputs": [],
   "source": [
    "selected_features = [\"date_forecast\", \"direct_rad:W\", \"clear_sky_rad:W\" , \"diffuse_rad:W\",\"is_in_shadow:idx\", \"relative_humidity_1000hPa:p\"]"
   ]
  },
  {
   "cell_type": "markdown",
   "id": "2810471a-815a-4748-a8d4-8890d2f1c900",
   "metadata": {},
   "source": [
    "# Fitting a linear regression model and predicting on test data from X_estimated"
   ]
  },
  {
   "cell_type": "code",
   "execution_count": 30,
   "id": "81830e22-d04c-49e7-9c0d-5aa389586cf0",
   "metadata": {},
   "outputs": [
    {
     "name": "stdout",
     "output_type": "stream",
     "text": [
      "1704\n",
      "1641\n",
      "1304\n"
     ]
    },
    {
     "name": "stderr",
     "output_type": "stream",
     "text": [
      "/Users/simenfritzner/opt/anaconda3/lib/python3.9/site-packages/sklearn/utils/validation.py:623: FutureWarning: is_sparse is deprecated and will be removed in a future version. Check `isinstance(dtype, pd.SparseDtype)` instead.\n",
      "  if not hasattr(array, \"sparse\") and array.dtypes.apply(is_sparse).any():\n",
      "/Users/simenfritzner/opt/anaconda3/lib/python3.9/site-packages/sklearn/utils/validation.py:623: FutureWarning: is_sparse is deprecated and will be removed in a future version. Check `isinstance(dtype, pd.SparseDtype)` instead.\n",
      "  if not hasattr(array, \"sparse\") and array.dtypes.apply(is_sparse).any():\n",
      "/Users/simenfritzner/opt/anaconda3/lib/python3.9/site-packages/sklearn/utils/validation.py:623: FutureWarning: is_sparse is deprecated and will be removed in a future version. Check `isinstance(dtype, pd.SparseDtype)` instead.\n",
      "  if not hasattr(array, \"sparse\") and array.dtypes.apply(is_sparse).any():\n",
      "/Users/simenfritzner/opt/anaconda3/lib/python3.9/site-packages/sklearn/utils/validation.py:623: FutureWarning: is_sparse is deprecated and will be removed in a future version. Check `isinstance(dtype, pd.SparseDtype)` instead.\n",
      "  if not hasattr(array, \"sparse\") and array.dtypes.apply(is_sparse).any():\n",
      "/Users/simenfritzner/opt/anaconda3/lib/python3.9/site-packages/sklearn/utils/validation.py:623: FutureWarning: is_sparse is deprecated and will be removed in a future version. Check `isinstance(dtype, pd.SparseDtype)` instead.\n",
      "  if not hasattr(array, \"sparse\") and array.dtypes.apply(is_sparse).any():\n",
      "/Users/simenfritzner/opt/anaconda3/lib/python3.9/site-packages/sklearn/utils/validation.py:623: FutureWarning: is_sparse is deprecated and will be removed in a future version. Check `isinstance(dtype, pd.SparseDtype)` instead.\n",
      "  if not hasattr(array, \"sparse\") and array.dtypes.apply(is_sparse).any():\n"
     ]
    }
   ],
   "source": [
    "Lin_reg_a = Lin_reg(X_observed_a, X_estimated_a, y_a, selected_features)\n",
    "Lin_reg_a.fit()\n",
    "Lin_reg_a.pred()\n",
    "\n",
    "Lin_reg_b = Lin_reg(X_observed_b, X_estimated_b, y_b, selected_features)\n",
    "Lin_reg_b.fit()\n",
    "Lin_reg_b.pred()\n",
    "\n",
    "Lin_reg_c = Lin_reg(X_observed_c, X_estimated_c, y_c, selected_features)\n",
    "Lin_reg_c.fit()\n",
    "Lin_reg_c.pred()"
   ]
  },
  {
   "cell_type": "markdown",
   "id": "1e05db8d-1563-4d9e-9fc0-b0037ccbc5d0",
   "metadata": {},
   "source": [
    "# Evaluating Mean Absolute Error on the test data from X_estimated"
   ]
  },
  {
   "cell_type": "code",
   "execution_count": 31,
   "id": "275d6461-83d4-42f9-8161-d85857d479ad",
   "metadata": {},
   "outputs": [
    {
     "name": "stdout",
     "output_type": "stream",
     "text": [
      "A: Mean Absolute Error: 288.2111765114019\n",
      "B: Mean Absolute Error: 45.59633598366053\n",
      "C: Mean Absolute Error: 49.78413230989608\n"
     ]
    }
   ],
   "source": [
    "#Evaluate mean asbolute error\n",
    "mae_a = Lin_reg_a.mae()\n",
    "print(\"A: Mean Absolute Error:\", mae_a)\n",
    "\n",
    "mae_b =Lin_reg_b.mae()\n",
    "print(\"B: Mean Absolute Error:\", mae_b)\n",
    "\n",
    "mae_c = Lin_reg_c.mae()\n",
    "print(\"C: Mean Absolute Error:\", mae_c)\n",
    "\n",
    "#Saving y_pred in a proper csv file\n",
    "#filename = \"CSV/second_submission.csv\"\n",
    "#submission(filename, y_pred)"
   ]
  },
  {
   "cell_type": "markdown",
   "id": "e713fbca-5401-4bfc-bd1c-bee2b7af8a73",
   "metadata": {},
   "source": [
    "# Making predictions on the test data and saving it in proper format for delivery"
   ]
  },
  {
   "cell_type": "code",
   "execution_count": 35,
   "id": "b65ad405-bba5-495f-b72b-a60f2163b599",
   "metadata": {},
   "outputs": [
    {
     "name": "stdout",
     "output_type": "stream",
     "text": [
      "[[-0.6670817  -0.6754636  -1.111886   ... -1.6562892   1.912505\n",
      "  -2.0602422 ]\n",
      " [-0.6670817  -0.6754636  -1.111886   ... -1.5141356   1.912505\n",
      "  -2.0602422 ]\n",
      " [-0.6670817  -0.6754636  -1.111886   ... -1.2950369   1.912505\n",
      "  -2.0602422 ]\n",
      " ...\n",
      " [-0.6670817  -0.66498566 -1.1077288  ... -1.1139005   1.912505\n",
      "  -1.4113469 ]\n",
      " [-0.6670817  -0.6754636  -1.111886   ... -1.2378317   1.912505\n",
      "  -2.0602422 ]\n",
      " [-0.6670817  -0.6754636  -1.111886   ... -1.2779559   1.912505\n",
      "  -2.0602422 ]]\n",
      "[[-0.6670847  -0.6754676  -1.1118907  ... -1.6562748   1.9090255\n",
      "  -2.0602422 ]\n",
      " [-0.6670847  -0.6754676  -1.1118907  ... -1.5141326   1.9090255\n",
      "  -2.0602422 ]\n",
      " [-0.6670847  -0.6754676  -1.1118907  ... -1.2950308   1.9090255\n",
      "  -2.0602422 ]\n",
      " ...\n",
      " [-0.6670847  -0.66498446 -1.1077335  ... -1.1139053   1.9090255\n",
      "  -1.4113469 ]\n",
      " [-0.6670847  -0.6754676  -1.1118907  ... -1.2378383   1.9090255\n",
      "  -2.0602422 ]\n",
      " [-0.6670847  -0.6754676  -1.1118907  ... -1.2779496   1.9090255\n",
      "  -2.0602422 ]]\n",
      "[[-0.6631393  -0.6716192  -1.1112114  ... -1.6557639   1.7000666\n",
      "  -2.0568197 ]\n",
      " [-0.6631393  -0.6716192  -1.1112114  ... -1.5136337   1.7000666\n",
      "  -2.0568197 ]\n",
      " [-0.6631393  -0.6716192  -1.1112114  ... -1.2945449   1.7000666\n",
      "  -2.0568197 ]\n",
      " ...\n",
      " [-0.6631393  -0.66451144 -1.1072206  ... -1.1139556   1.7000666\n",
      "  -1.4084352 ]\n",
      " [-0.6631393  -0.6716192  -1.1112114  ... -1.2379022   1.7000666\n",
      "  -2.0568197 ]\n",
      " [-0.6631393  -0.6716192  -1.1112114  ... -1.2780241   1.7000666\n",
      "  -2.0568197 ]]\n"
     ]
    },
    {
     "name": "stderr",
     "output_type": "stream",
     "text": [
      "/Users/simenfritzner/opt/anaconda3/lib/python3.9/site-packages/sklearn/utils/validation.py:623: FutureWarning: is_sparse is deprecated and will be removed in a future version. Check `isinstance(dtype, pd.SparseDtype)` instead.\n",
      "  if not hasattr(array, \"sparse\") and array.dtypes.apply(is_sparse).any():\n",
      "/Users/simenfritzner/opt/anaconda3/lib/python3.9/site-packages/sklearn/utils/validation.py:623: FutureWarning: is_sparse is deprecated and will be removed in a future version. Check `isinstance(dtype, pd.SparseDtype)` instead.\n",
      "  if not hasattr(array, \"sparse\") and array.dtypes.apply(is_sparse).any():\n",
      "/Users/simenfritzner/opt/anaconda3/lib/python3.9/site-packages/sklearn/base.py:450: UserWarning: X does not have valid feature names, but LinearRegression was fitted with feature names\n",
      "  warnings.warn(\n",
      "/Users/simenfritzner/opt/anaconda3/lib/python3.9/site-packages/sklearn/utils/validation.py:623: FutureWarning: is_sparse is deprecated and will be removed in a future version. Check `isinstance(dtype, pd.SparseDtype)` instead.\n",
      "  if not hasattr(array, \"sparse\") and array.dtypes.apply(is_sparse).any():\n",
      "/Users/simenfritzner/opt/anaconda3/lib/python3.9/site-packages/sklearn/utils/validation.py:623: FutureWarning: is_sparse is deprecated and will be removed in a future version. Check `isinstance(dtype, pd.SparseDtype)` instead.\n",
      "  if not hasattr(array, \"sparse\") and array.dtypes.apply(is_sparse).any():\n",
      "/Users/simenfritzner/opt/anaconda3/lib/python3.9/site-packages/sklearn/base.py:450: UserWarning: X does not have valid feature names, but LinearRegression was fitted with feature names\n",
      "  warnings.warn(\n",
      "/Users/simenfritzner/opt/anaconda3/lib/python3.9/site-packages/sklearn/utils/validation.py:623: FutureWarning: is_sparse is deprecated and will be removed in a future version. Check `isinstance(dtype, pd.SparseDtype)` instead.\n",
      "  if not hasattr(array, \"sparse\") and array.dtypes.apply(is_sparse).any():\n",
      "/Users/simenfritzner/opt/anaconda3/lib/python3.9/site-packages/sklearn/utils/validation.py:623: FutureWarning: is_sparse is deprecated and will be removed in a future version. Check `isinstance(dtype, pd.SparseDtype)` instead.\n",
      "  if not hasattr(array, \"sparse\") and array.dtypes.apply(is_sparse).any():\n",
      "/Users/simenfritzner/opt/anaconda3/lib/python3.9/site-packages/sklearn/base.py:450: UserWarning: X does not have valid feature names, but LinearRegression was fitted with feature names\n",
      "  warnings.warn(\n"
     ]
    }
   ],
   "source": [
    "Lin_reg_a.pred(X_test_a)\n",
    "\n",
    "Lin_reg_b.pred(X_test_b)\n",
    "\n",
    "Lin_reg_c.pred(X_test_c)"
   ]
  },
  {
   "cell_type": "code",
   "execution_count": 179,
   "id": "68b3e688-31df-4c9c-929f-e7b1a9fd5ffa",
   "metadata": {},
   "outputs": [],
   "source": [
    "y_pred = np.concatenate([Lin_reg_a.pred, Lin_reg_b.pred, Lin_reg_c.pred], axis = 0)\n",
    "\n",
    "filename = \"CSV/The_great_submission_2.csv\"\n",
    "submission(filename, y_pred)"
   ]
  },
  {
   "cell_type": "markdown",
   "id": "e108bb9d-7714-49de-ab59-bc4970c71452",
   "metadata": {},
   "source": [
    "# Everything below is not LinReg related"
   ]
  },
  {
   "cell_type": "markdown",
   "id": "bbb3810b-df8d-43bb-a647-f8743f3af210",
   "metadata": {},
   "source": [
    "# Loading in X_test from models trained on google colab"
   ]
  },
  {
   "cell_type": "code",
   "execution_count": 32,
   "id": "c3cfb8f9-1841-4e05-986d-f07a82f1cbbe",
   "metadata": {},
   "outputs": [],
   "source": [
    "pred_a_Linreg = Lin_reg_a.pred\n",
    "pred_c_Linreg = Lin_reg_b.pred\n",
    "pred_b_Linreg = Lin_reg_c.pred\n",
    "\n",
    "pred_a_LightGB = np.load(\"arrays/X_test_a.npy\").clip(min = 0, max = None)\n",
    "pred_b_LightGB = np.load(\"arrays/X_test_b.npy\").clip(min = 0, max = None)\n",
    "pred_c_LightGB = np.load(\"arrays/X_test_c.npy\").clip(min = 0, max = None)\n",
    "\n",
    "pred_a_XGB = np.load(\"../Colab_model_data/XGB/X_test_a.npy\").clip(min = 0, max = None)\n",
    "pred_b_XGB = np.load(\"../Colab_model_data/XGB/X_test_b.npy\").clip(min = 0, max = None)\n",
    "pred_c_XGB = np.load(\"../Colab_model_data/XGB/X_test_c.npy\").clip(min = 0, max = None)\n",
    "\n",
    "pred_a_RNN = np.load(\"../Colab_model_data/RNN/X_test_a.npy\").clip(min = 0, max = None)\n",
    "pred_b_RNN = np.load(\"../Colab_model_data/RNN/X_test_b.npy\").clip(min = 0, max = None)\n",
    "pred_c_RNN = np.load(\"../Colab_model_data/RNN/X_test_c.npy\").clip(min = 0, max = None)\n",
    "\n",
    "pred_a_RF = np.load(\"../Colab_model_data/RF/X_test_a.npy\").clip(min = 0, max = None)\n",
    "pred_b_RF = np.load(\"../Colab_model_data/RF/X_test_b.npy\").clip(min = 0, max = None)\n",
    "pred_c_RF = np.load(\"../Colab_model_data/RF/X_test_c.npy\").clip(min = 0, max = None)\n",
    "\n",
    "# Assuming rnn_predictions is your array of predictions\n",
    "pred_a_RNN = pred_a_RNN.flatten()\n",
    "pred_b_RNN = pred_b_RNN.flatten()\n",
    "pred_c_RNN = pred_c_RNN.flatten()"
   ]
  },
  {
   "cell_type": "markdown",
   "id": "c1f9d840-428c-45a7-b419-6013d0926a46",
   "metadata": {},
   "source": [
    "# Printing out data to compare"
   ]
  },
  {
   "cell_type": "code",
   "execution_count": 36,
   "id": "6c1d385d-441a-464d-9b0f-782d034e6b15",
   "metadata": {},
   "outputs": [
    {
     "name": "stdout",
     "output_type": "stream",
     "text": [
      "Row 1:\n",
      "RF: 2.2119014080605823 5.50124640954798 0.2581545508689449\n"
     ]
    },
    {
     "ename": "TypeError",
     "evalue": "'method' object is not subscriptable",
     "output_type": "error",
     "traceback": [
      "\u001b[0;31m---------------------------------------------------------------------------\u001b[0m",
      "\u001b[0;31mTypeError\u001b[0m                                 Traceback (most recent call last)",
      "\u001b[0;32m/var/folders/zv/y859gnz93mbf363l25xgs_bw0000gn/T/ipykernel_26656/3471610563.py\u001b[0m in \u001b[0;36m<module>\u001b[0;34m\u001b[0m\n\u001b[1;32m      3\u001b[0m     \u001b[0mprint\u001b[0m\u001b[0;34m(\u001b[0m\u001b[0;34mf\"Row {i+1}:\"\u001b[0m\u001b[0;34m)\u001b[0m\u001b[0;34m\u001b[0m\u001b[0;34m\u001b[0m\u001b[0m\n\u001b[1;32m      4\u001b[0m     \u001b[0mprint\u001b[0m\u001b[0;34m(\u001b[0m\u001b[0;34mf\"RF: {pred_a_RF[i]} {pred_b_RF[i]} {pred_c_RF[i]}\"\u001b[0m\u001b[0;34m)\u001b[0m\u001b[0;34m\u001b[0m\u001b[0;34m\u001b[0m\u001b[0m\n\u001b[0;32m----> 5\u001b[0;31m     \u001b[0mprint\u001b[0m\u001b[0;34m(\u001b[0m\u001b[0;34mf\"Linreg: {pred_a_Linreg[i]} {pred_b_Linreg[i]} {pred_c_Linreg[i]}\"\u001b[0m\u001b[0;34m)\u001b[0m\u001b[0;34m\u001b[0m\u001b[0;34m\u001b[0m\u001b[0m\n\u001b[0m\u001b[1;32m      6\u001b[0m     \u001b[0mprint\u001b[0m\u001b[0;34m(\u001b[0m\u001b[0;34mf\"LightGB: {pred_a_LightGB[i]} {pred_b_LightGB[i]} {pred_c_LightGB[i]}\"\u001b[0m\u001b[0;34m)\u001b[0m\u001b[0;34m\u001b[0m\u001b[0;34m\u001b[0m\u001b[0m\n\u001b[1;32m      7\u001b[0m     \u001b[0mprint\u001b[0m\u001b[0;34m(\u001b[0m\u001b[0;34mf\"XGB:     {pred_a_XGB[i]} {pred_b_XGB[i]} {pred_c_XGB[i]}\"\u001b[0m\u001b[0;34m)\u001b[0m\u001b[0;34m\u001b[0m\u001b[0;34m\u001b[0m\u001b[0m\n",
      "\u001b[0;31mTypeError\u001b[0m: 'method' object is not subscriptable"
     ]
    }
   ],
   "source": [
    "# Assuming that all prediction arrays have the same shape\n",
    "for i in range(20):\n",
    "    print(f\"Row {i+1}:\")\n",
    "    print(f\"RF: {pred_a_RF[i]} {pred_b_RF[i]} {pred_c_RF[i]}\")\n",
    "    print(f\"Linreg: {pred_a_Linreg[i]} {pred_b_Linreg[i]} {pred_c_Linreg[i]}\")\n",
    "    print(f\"LightGB: {pred_a_LightGB[i]} {pred_b_LightGB[i]} {pred_c_LightGB[i]}\")\n",
    "    print(f\"XGB:     {pred_a_XGB[i]} {pred_b_XGB[i]} {pred_c_XGB[i]}\")\n",
    "    print(f\"RNN:     {pred_a_RNN[i]} {pred_b_RNN[i]} {pred_c_RNN[i]}\")\n",
    "    print(\"-\" * 40)  # printing a separator for better visibility"
   ]
  },
  {
   "cell_type": "markdown",
   "id": "4124c77d-42a1-4d79-b37a-14f622e4ee56",
   "metadata": {},
   "source": [
    "# Taking mean of all models"
   ]
  },
  {
   "cell_type": "code",
   "execution_count": 253,
   "id": "9b17b09d-34c4-4017-8186-f1b58cc3fec6",
   "metadata": {},
   "outputs": [],
   "source": [
    "y_pred_mean_a = (Lin_reg_a.pred + pred_a_LightGB + pred_a_XGB + pred_a_RNN) / 4\n",
    "y_pred_mean_b = (Lin_reg_b.pred + pred_b_LightGB + pred_b_XGB + pred_b_RNN) / 4\n",
    "y_pred_mean_c = (Lin_reg_c.pred + pred_c_LightGB + pred_c_XGB + pred_c_RNN) / 4"
   ]
  },
  {
   "cell_type": "code",
   "execution_count": 250,
   "id": "21d5fb6d-6009-47c1-a486-708d9b36b365",
   "metadata": {},
   "outputs": [],
   "source": [
    "y_pred = np.concatenate([pred_a_RNN, pred_b_RNN, pred_c_RNN], axis = 0)\n",
    "filename = \"CSV/The_great_submission_3.csv\"\n",
    "submission(filename, y_pred)"
   ]
  },
  {
   "cell_type": "code",
   "execution_count": 252,
   "id": "f7d8c453-4832-45bd-b889-badb01e72801",
   "metadata": {},
   "outputs": [],
   "source": [
    "y_pred = np.concatenate([y_pred_mean_a, y_pred_mean_b, y_pred_mean_c], axis = 0)\n",
    "#y_pred[y_pred < 5] = 0\n",
    "filename = \"CSV/The_great_submission_3.csv\"\n",
    "submission(filename, y_pred)"
   ]
  }
 ],
 "metadata": {
  "kernelspec": {
   "display_name": "Python 3 (ipykernel)",
   "language": "python",
   "name": "python3"
  },
  "language_info": {
   "codemirror_mode": {
    "name": "ipython",
    "version": 3
   },
   "file_extension": ".py",
   "mimetype": "text/x-python",
   "name": "python",
   "nbconvert_exporter": "python",
   "pygments_lexer": "ipython3",
   "version": "3.9.13"
  }
 },
 "nbformat": 4,
 "nbformat_minor": 5
}
