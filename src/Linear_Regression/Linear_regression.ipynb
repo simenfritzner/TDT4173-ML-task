{
 "cells": [
  {
   "cell_type": "code",
   "execution_count": 1,
   "id": "dc50b679-9eff-455e-bfe2-84c9a5b2e3e8",
   "metadata": {},
   "outputs": [],
   "source": [
    "%load_ext autoreload\n",
    "#To update the imported files"
   ]
  },
  {
   "cell_type": "code",
   "execution_count": 26,
   "id": "e7268e6d-d405-42cb-b769-1906c0dda04c",
   "metadata": {},
   "outputs": [],
   "source": [
    "%autoreload\n",
    "import os\n",
    "import pandas as pd\n",
    "import numpy as np\n",
    "import numpy as np\n",
    "import seaborn as sns\n",
    "import matplotlib.pylab as plt\n",
    "from sklearn.metrics import mean_absolute_error\n",
    "from utilities import *\n",
    "%matplotlib inline\n",
    "\n",
    "pd.set_option('display.max_rows', 200)\n",
    "pd.set_option('display.max_columns', 200)"
   ]
  },
  {
   "cell_type": "markdown",
   "id": "b84a1c46-5454-47db-b00a-8c18334b620c",
   "metadata": {},
   "source": [
    "# Loading in the data from file:"
   ]
  },
  {
   "cell_type": "code",
   "execution_count": 3,
   "id": "8e8b4625-d0d5-4140-9803-ceff93b93ca4",
   "metadata": {},
   "outputs": [],
   "source": [
    "#Loading the y-paramter from file, might be changed to y_a etc.\n",
    "y_a = pd.read_parquet('../Data_and_task/A/train_targets.parquet')\n",
    "y_b = pd.read_parquet('../Data_and_task/B/train_targets.parquet')\n",
    "y_c = pd.read_parquet('../Data_and_task/C/train_targets.parquet')\n",
    "y_b = y_b.dropna()\n",
    "y_c=y_c.dropna()"
   ]
  },
  {
   "cell_type": "code",
   "execution_count": 4,
   "id": "01007176-36d4-4044-93eb-c8284b3a7a7e",
   "metadata": {},
   "outputs": [],
   "source": [
    "#Loading estimated/forecasted training_weather from file\n",
    "X_estimated_a = pd.read_parquet('../Data_and_task/A/X_train_estimated.parquet')\n",
    "X_estimated_b = pd.read_parquet('../Data_and_task/B/X_train_estimated.parquet')\n",
    "X_estimated_c = pd.read_parquet('../Data_and_task/C/X_train_estimated.parquet')"
   ]
  },
  {
   "cell_type": "code",
   "execution_count": 5,
   "id": "e6290827-1675-4bd6-8557-daa3622cea24",
   "metadata": {},
   "outputs": [],
   "source": [
    "#Loading observed weather from file\n",
    "X_observed_a = pd.read_parquet('../Data_and_task/A/X_train_observed.parquet')\n",
    "X_observed_b = pd.read_parquet('../Data_and_task/B/X_train_observed.parquet')\n",
    "X_observed_c = pd.read_parquet('../Data_and_task/C/X_train_observed.parquet')"
   ]
  },
  {
   "cell_type": "code",
   "execution_count": 6,
   "id": "96b86c3d-9bc1-40ca-93f6-7bd5baeddeb3",
   "metadata": {},
   "outputs": [],
   "source": [
    "#Loading estimated/forecasted test_weather from file\n",
    "X_test_a = pd.read_parquet('../Data_and_task/A/X_test_estimated.parquet')\n",
    "X_test_b = pd.read_parquet('../Data_and_task/B/X_test_estimated.parquet')\n",
    "X_test_c = pd.read_parquet('../Data_and_task/C/X_test_estimated.parquet')"
   ]
  },
  {
   "cell_type": "markdown",
   "id": "60c58f83-8498-4777-a443-a4a0e48e22e9",
   "metadata": {},
   "source": [
    "# Defining the features we want to keep for the model"
   ]
  },
  {
   "cell_type": "code",
   "execution_count": 29,
   "id": "22088567-301c-473c-9c71-c069caa7da3f",
   "metadata": {},
   "outputs": [],
   "source": [
    "#Cleaning data such that only wanted features are included\n",
    "selected_features = [\"date_forecast\", 'direct_rad:W', 'direct_rad_1h:J', 'clear_sky_rad:W', 'clear_sky_energy_1h:J', 'diffuse_rad:W', 'sun_elevation:d', 'is_in_shadow:idx', 'is_day:idx']"
   ]
  },
  {
   "cell_type": "code",
   "execution_count": 15,
   "id": "9fe77d39-ad80-4852-b54a-646a427c8c9e",
   "metadata": {},
   "outputs": [],
   "source": [
    "selected_features = [\"date_forecast\", \"direct_rad:W\", \"clear_sky_rad:W\" , \"diffuse_rad:W\",\"is_in_shadow:idx\", \"relative_humidity_1000hPa:p\"]"
   ]
  },
  {
   "cell_type": "markdown",
   "id": "2810471a-815a-4748-a8d4-8890d2f1c900",
   "metadata": {},
   "source": [
    "# Fitting a linear regression model and predicting on test data from X_estimated"
   ]
  },
  {
   "cell_type": "code",
   "execution_count": 30,
   "id": "81830e22-d04c-49e7-9c0d-5aa389586cf0",
   "metadata": {},
   "outputs": [
    {
     "name": "stdout",
     "output_type": "stream",
     "text": [
      "1704\n",
      "1641\n",
      "1304\n"
     ]
    },
    {
     "name": "stderr",
     "output_type": "stream",
     "text": [
      "/Users/simenfritzner/opt/anaconda3/lib/python3.9/site-packages/sklearn/utils/validation.py:623: FutureWarning: is_sparse is deprecated and will be removed in a future version. Check `isinstance(dtype, pd.SparseDtype)` instead.\n",
      "  if not hasattr(array, \"sparse\") and array.dtypes.apply(is_sparse).any():\n",
      "/Users/simenfritzner/opt/anaconda3/lib/python3.9/site-packages/sklearn/utils/validation.py:623: FutureWarning: is_sparse is deprecated and will be removed in a future version. Check `isinstance(dtype, pd.SparseDtype)` instead.\n",
      "  if not hasattr(array, \"sparse\") and array.dtypes.apply(is_sparse).any():\n",
      "/Users/simenfritzner/opt/anaconda3/lib/python3.9/site-packages/sklearn/utils/validation.py:623: FutureWarning: is_sparse is deprecated and will be removed in a future version. Check `isinstance(dtype, pd.SparseDtype)` instead.\n",
      "  if not hasattr(array, \"sparse\") and array.dtypes.apply(is_sparse).any():\n",
      "/Users/simenfritzner/opt/anaconda3/lib/python3.9/site-packages/sklearn/utils/validation.py:623: FutureWarning: is_sparse is deprecated and will be removed in a future version. Check `isinstance(dtype, pd.SparseDtype)` instead.\n",
      "  if not hasattr(array, \"sparse\") and array.dtypes.apply(is_sparse).any():\n",
      "/Users/simenfritzner/opt/anaconda3/lib/python3.9/site-packages/sklearn/utils/validation.py:623: FutureWarning: is_sparse is deprecated and will be removed in a future version. Check `isinstance(dtype, pd.SparseDtype)` instead.\n",
      "  if not hasattr(array, \"sparse\") and array.dtypes.apply(is_sparse).any():\n",
      "/Users/simenfritzner/opt/anaconda3/lib/python3.9/site-packages/sklearn/utils/validation.py:623: FutureWarning: is_sparse is deprecated and will be removed in a future version. Check `isinstance(dtype, pd.SparseDtype)` instead.\n",
      "  if not hasattr(array, \"sparse\") and array.dtypes.apply(is_sparse).any():\n"
     ]
    }
   ],
   "source": [
    "Lin_reg_a = Lin_reg(X_observed_a, X_estimated_a, y_a, selected_features)\n",
    "Lin_reg_a.fit()\n",
    "Lin_reg_a.pred()\n",
    "\n",
    "Lin_reg_b = Lin_reg(X_observed_b, X_estimated_b, y_b, selected_features)\n",
    "Lin_reg_b.fit()\n",
    "Lin_reg_b.pred()\n",
    "\n",
    "Lin_reg_c = Lin_reg(X_observed_c, X_estimated_c, y_c, selected_features)\n",
    "Lin_reg_c.fit()\n",
    "Lin_reg_c.pred()"
   ]
  },
  {
   "cell_type": "markdown",
   "id": "1e05db8d-1563-4d9e-9fc0-b0037ccbc5d0",
   "metadata": {},
   "source": [
    "# Evaluating Mean Absolute Error on the test data from X_estimated"
   ]
  },
  {
   "cell_type": "code",
   "execution_count": 31,
   "id": "275d6461-83d4-42f9-8161-d85857d479ad",
   "metadata": {},
   "outputs": [
    {
     "name": "stdout",
     "output_type": "stream",
     "text": [
      "A: Mean Absolute Error: 288.2111765114019\n",
      "B: Mean Absolute Error: 45.59633598366053\n",
      "C: Mean Absolute Error: 49.78413230989608\n"
     ]
    }
   ],
   "source": [
    "#Evaluate mean asbolute error\n",
    "mae_a = Lin_reg_a.mae()\n",
    "print(\"A: Mean Absolute Error:\", mae_a)\n",
    "\n",
    "mae_b =Lin_reg_b.mae()\n",
    "print(\"B: Mean Absolute Error:\", mae_b)\n",
    "\n",
    "mae_c = Lin_reg_c.mae()\n",
    "print(\"C: Mean Absolute Error:\", mae_c)\n",
    "\n",
    "#Saving y_pred in a proper csv file\n",
    "#filename = \"CSV/second_submission.csv\"\n",
    "#submission(filename, y_pred)"
   ]
  },
  {
   "cell_type": "code",
   "execution_count": null,
   "id": "e970e4ab-429f-409a-9dca-501eabdb12e6",
   "metadata": {},
   "outputs": [],
   "source": [
    "print("
   ]
  },
  {
   "cell_type": "markdown",
   "id": "e713fbca-5401-4bfc-bd1c-bee2b7af8a73",
   "metadata": {},
   "source": [
    "# Making predictions on the test data and saving it in proper format for delivery"
   ]
  },
  {
   "cell_type": "code",
   "execution_count": 178,
   "id": "b65ad405-bba5-495f-b72b-a60f2163b599",
   "metadata": {},
   "outputs": [
    {
     "name": "stderr",
     "output_type": "stream",
     "text": [
      "/Users/simenfritzner/opt/anaconda3/lib/python3.9/site-packages/sklearn/utils/validation.py:623: FutureWarning: is_sparse is deprecated and will be removed in a future version. Check `isinstance(dtype, pd.SparseDtype)` instead.\n",
      "  if not hasattr(array, \"sparse\") and array.dtypes.apply(is_sparse).any():\n",
      "/Users/simenfritzner/opt/anaconda3/lib/python3.9/site-packages/sklearn/utils/validation.py:623: FutureWarning: is_sparse is deprecated and will be removed in a future version. Check `isinstance(dtype, pd.SparseDtype)` instead.\n",
      "  if not hasattr(array, \"sparse\") and array.dtypes.apply(is_sparse).any():\n",
      "/Users/simenfritzner/opt/anaconda3/lib/python3.9/site-packages/sklearn/utils/validation.py:623: FutureWarning: is_sparse is deprecated and will be removed in a future version. Check `isinstance(dtype, pd.SparseDtype)` instead.\n",
      "  if not hasattr(array, \"sparse\") and array.dtypes.apply(is_sparse).any():\n",
      "/Users/simenfritzner/opt/anaconda3/lib/python3.9/site-packages/sklearn/utils/validation.py:623: FutureWarning: is_sparse is deprecated and will be removed in a future version. Check `isinstance(dtype, pd.SparseDtype)` instead.\n",
      "  if not hasattr(array, \"sparse\") and array.dtypes.apply(is_sparse).any():\n",
      "/Users/simenfritzner/opt/anaconda3/lib/python3.9/site-packages/sklearn/utils/validation.py:623: FutureWarning: is_sparse is deprecated and will be removed in a future version. Check `isinstance(dtype, pd.SparseDtype)` instead.\n",
      "  if not hasattr(array, \"sparse\") and array.dtypes.apply(is_sparse).any():\n",
      "/Users/simenfritzner/opt/anaconda3/lib/python3.9/site-packages/sklearn/utils/validation.py:623: FutureWarning: is_sparse is deprecated and will be removed in a future version. Check `isinstance(dtype, pd.SparseDtype)` instead.\n",
      "  if not hasattr(array, \"sparse\") and array.dtypes.apply(is_sparse).any():\n"
     ]
    }
   ],
   "source": [
    "Lin_reg_a.pred(X_test_a)\n",
    "\n",
    "Lin_reg_b.pred(X_test_b)\n",
    "\n",
    "Lin_reg_c.pred(X_test_c)"
   ]
  },
  {
   "cell_type": "code",
   "execution_count": 179,
   "id": "68b3e688-31df-4c9c-929f-e7b1a9fd5ffa",
   "metadata": {},
   "outputs": [],
   "source": [
    "y_pred = np.concatenate([Lin_reg_a.pred, Lin_reg_b.pred, Lin_reg_c.pred], axis = 0)\n",
    "\n",
    "filename = \"CSV/The_great_submission_2.csv\"\n",
    "submission(filename, y_pred)"
   ]
  },
  {
   "cell_type": "markdown",
   "id": "e108bb9d-7714-49de-ab59-bc4970c71452",
   "metadata": {},
   "source": [
    "# Everything below is not LinReg related"
   ]
  },
  {
   "cell_type": "markdown",
   "id": "bbb3810b-df8d-43bb-a647-f8743f3af210",
   "metadata": {},
   "source": [
    "# Loading in X_test from models trained on google colab"
   ]
  },
  {
   "cell_type": "code",
   "execution_count": 248,
   "id": "c3cfb8f9-1841-4e05-986d-f07a82f1cbbe",
   "metadata": {},
   "outputs": [],
   "source": [
    "pred_a_Linreg = Lin_reg_a.pred\n",
    "pred_c_Linreg = Lin_reg_b.pred\n",
    "pred_b_Linreg = Lin_reg_c.pred\n",
    "\n",
    "pred_a_LightGB = np.load(\"arrays/X_test_a.npy\").clip(min = 0, max = None)\n",
    "pred_b_LightGB = np.load(\"arrays/X_test_b.npy\").clip(min = 0, max = None)\n",
    "pred_c_LightGB = np.load(\"arrays/X_test_c.npy\").clip(min = 0, max = None)\n",
    "\n",
    "pred_a_XGB = np.load(\"../Colab_model_data/XGB/X_test_a.npy\").clip(min = 0, max = None)\n",
    "pred_b_XGB = np.load(\"../Colab_model_data/XGB/X_test_b.npy\").clip(min = 0, max = None)\n",
    "pred_c_XGB = np.load(\"../Colab_model_data/XGB/X_test_c.npy\").clip(min = 0, max = None)\n",
    "\n",
    "pred_a_RNN = np.load(\"../Colab_model_data/RNN/X_test_a.npy\").clip(min = 0, max = None)\n",
    "pred_b_RNN = np.load(\"../Colab_model_data/RNN/X_test_b.npy\").clip(min = 0, max = None)\n",
    "pred_c_RNN = np.load(\"../Colab_model_data/RNN/X_test_c.npy\").clip(min = 0, max = None)\n",
    "\n",
    "# Assuming rnn_predictions is your array of predictions\n",
    "pred_a_RNN = pred_a_RNN.flatten()\n",
    "pred_b_RNN = pred_b_RNN.flatten()\n",
    "pred_c_RNN = pred_c_RNN.flatten()"
   ]
  },
  {
   "cell_type": "markdown",
   "id": "c1f9d840-428c-45a7-b419-6013d0926a46",
   "metadata": {},
   "source": [
    "# Printing out data to compare"
   ]
  },
  {
   "cell_type": "code",
   "execution_count": 249,
   "id": "6c1d385d-441a-464d-9b0f-782d034e6b15",
   "metadata": {},
   "outputs": [
    {
     "name": "stdout",
     "output_type": "stream",
     "text": [
      "Row 1:\n",
      "Linreg: 0.0 0.0 0.0\n",
      "LightGB: 6.2319825808995875 7.595586324490012 1.0297447299539864\n",
      "XGB:     7.219025611877441 6.6916823387146 0.4570075571537018\n",
      "RNN:     0.011827468872070312 0.013881206512451172 0.0\n",
      "----------------------------------------\n",
      "Row 2:\n",
      "Linreg: 0.0 0.0 0.0\n",
      "LightGB: 6.2319825808995875 7.4734626721335395 1.0297447299539864\n",
      "XGB:     7.219025611877441 6.630281925201416 0.4570075571537018\n",
      "RNN:     0.011240005493164062 0.013911724090576172 0.0\n",
      "----------------------------------------\n",
      "Row 3:\n",
      "Linreg: 0.0 0.0 0.0\n",
      "LightGB: 6.2319825808995875 7.377642206819508 1.0297447299539864\n",
      "XGB:     7.219025611877441 6.408478260040283 0.4570075571537018\n",
      "RNN:     0.010473251342773438 0.014182567596435547 0.0\n",
      "----------------------------------------\n",
      "Row 4:\n",
      "Linreg: 0.0 0.0 0.0\n",
      "LightGB: 92.09421105204999 18.156824701943798 5.133977918703432\n",
      "XGB:     100.11888885498047 16.716293334960938 7.143462657928467\n",
      "RNN:     249.77488708496094 24.38973617553711 16.638404846191406\n",
      "----------------------------------------\n",
      "Row 5:\n",
      "Linreg: 4.14019775390625 0.0 0.0\n",
      "LightGB: 463.28885229160255 46.46817556044471 31.205618841292534\n",
      "XGB:     485.2833557128906 52.541019439697266 41.06221389770508\n",
      "RNN:     651.5133666992188 125.53990936279297 60.93178939819336\n",
      "----------------------------------------\n",
      "Row 6:\n",
      "Linreg: 441.7852783203125 9.925880432128906 31.174869537353516\n",
      "LightGB: 1077.0287879546026 116.2520853077674 79.15259055543694\n",
      "XGB:     1073.023681640625 123.39789581298828 97.28878784179688\n",
      "RNN:     654.553955078125 164.4735565185547 125.83993530273438\n",
      "----------------------------------------\n",
      "Row 7:\n",
      "Linreg: 973.7193603515625 94.29531860351562 122.09355163574219\n",
      "LightGB: 1776.8888219741905 227.21607567572178 153.08991663329513\n",
      "XGB:     1709.1517333984375 229.4822998046875 234.3851776123047\n",
      "RNN:     654.5532836914062 284.1409912109375 227.09613037109375\n",
      "----------------------------------------\n",
      "Row 8:\n",
      "Linreg: 1454.508544921875 171.62918090820312 206.75442504882812\n",
      "LightGB: 2462.0982417319556 334.54466859883235 259.9558814483757\n",
      "XGB:     2410.365234375 303.8662109375 359.1911926269531\n",
      "RNN:     654.5543212890625 284.1331787109375 235.0150909423828\n",
      "----------------------------------------\n",
      "Row 9:\n",
      "Linreg: 1803.33251953125 232.82476806640625 268.57476806640625\n",
      "LightGB: 2984.138428533559 451.9732518091602 254.62796975487356\n",
      "XGB:     3077.789306640625 429.1493835449219 390.7966003417969\n",
      "RNN:     654.5538330078125 284.1883850097656 235.01600646972656\n",
      "----------------------------------------\n",
      "Row 10:\n",
      "Linreg: 2014.0943603515625 268.7393493652344 307.2372741699219\n",
      "LightGB: 3463.1638891961543 538.2544758262324 245.98199871013657\n",
      "XGB:     3720.801513671875 560.5948486328125 559.203857421875\n",
      "RNN:     654.5525512695312 284.1895446777344 235.0166473388672\n",
      "----------------------------------------\n",
      "Row 11:\n",
      "Linreg: 2023.9837646484375 274.662109375 311.51446533203125\n",
      "LightGB: 3426.8867729997055 599.7394394584732 314.552945120929\n",
      "XGB:     3468.793212890625 581.17333984375 552.2229614257812\n",
      "RNN:     654.5458374023438 284.1889953613281 235.01611328125\n",
      "----------------------------------------\n",
      "Row 12:\n",
      "Linreg: 1867.273681640625 255.1852569580078 286.0491943359375\n",
      "LightGB: 2938.4541722361587 514.9348554331827 421.3741984237196\n",
      "XGB:     2969.498779296875 508.0065002441406 586.6104125976562\n",
      "RNN:     654.541748046875 284.1885681152344 235.0149688720703\n",
      "----------------------------------------\n",
      "Row 13:\n",
      "Linreg: 1530.2802734375 191.69223022460938 232.36851501464844\n",
      "LightGB: 2454.77286873181 464.20408078170374 244.2595724525767\n",
      "XGB:     2731.42431640625 473.7094421386719 420.97064208984375\n",
      "RNN:     654.4479370117188 283.655517578125 234.99205017089844\n",
      "----------------------------------------\n",
      "Row 14:\n",
      "Linreg: 1272.70556640625 151.00238037109375 198.36801147460938\n",
      "LightGB: 2312.6114517003325 400.94924947339274 248.2994197994317\n",
      "XGB:     2276.210693359375 418.4927978515625 357.43939208984375\n",
      "RNN:     654.4481811523438 280.5191345214844 235.00279235839844\n",
      "----------------------------------------\n",
      "Row 15:\n",
      "Linreg: 1339.8505859375 150.93923950195312 196.65701293945312\n",
      "LightGB: 2466.845781996914 289.28762699219556 240.6426983318419\n",
      "XGB:     2361.116455078125 316.8517761230469 327.7320556640625\n",
      "RNN:     654.4750366210938 283.01416015625 235.00123596191406\n",
      "----------------------------------------\n",
      "Row 16:\n",
      "Linreg: 986.6617431640625 98.33999633789062 130.8098907470703\n",
      "LightGB: 1482.2935608902974 226.09729177356257 182.49244637319802\n",
      "XGB:     1614.3953857421875 217.13449096679688 232.05747985839844\n",
      "RNN:     647.3018188476562 174.94772338867188 153.92054748535156\n",
      "----------------------------------------\n",
      "Row 17:\n",
      "Linreg: 655.9766845703125 41.96931838989258 69.58930969238281\n",
      "LightGB: 1013.1045915878035 146.9796194128776 80.04619204787797\n",
      "XGB:     1000.1085205078125 143.22438049316406 115.69051361083984\n",
      "RNN:     487.21240234375 91.85518646240234 62.01414108276367\n",
      "----------------------------------------\n",
      "Row 18:\n",
      "Linreg: 285.6131896972656 0.0 6.7086181640625\n",
      "LightGB: 710.3216403075975 85.05706213446871 59.48973632828272\n",
      "XGB:     682.8660888671875 94.3844985961914 78.3868179321289\n",
      "RNN:     203.5295867919922 33.00396728515625 22.09857177734375\n",
      "----------------------------------------\n",
      "Row 19:\n",
      "Linreg: 0.0 0.0 0.0\n",
      "LightGB: 397.3625749397798 38.093186630574884 24.14533906789121\n",
      "XGB:     386.5835266113281 35.91085433959961 23.67176055908203\n",
      "RNN:     6.145265579223633 0.262937068939209 0.1800088882446289\n",
      "----------------------------------------\n",
      "Row 20:\n",
      "Linreg: 0.0 0.0 0.0\n",
      "LightGB: 50.142542672097676 11.57762727715546 3.061043999668726\n",
      "XGB:     28.520042419433594 12.733094215393066 2.9950294494628906\n",
      "RNN:     0.1434192657470703 0.0 0.41579151153564453\n",
      "----------------------------------------\n"
     ]
    }
   ],
   "source": [
    "# Assuming that all prediction arrays have the same shape\n",
    "for i in range(20):\n",
    "    print(f\"Row {i+1}:\")\n",
    "    print(f\"Linreg: {pred_a_Linreg[i]} {pred_b_Linreg[i]} {pred_c_Linreg[i]}\")\n",
    "    print(f\"LightGB: {pred_a_LightGB[i]} {pred_b_LightGB[i]} {pred_c_LightGB[i]}\")\n",
    "    print(f\"XGB:     {pred_a_XGB[i]} {pred_b_XGB[i]} {pred_c_XGB[i]}\")\n",
    "    print(f\"RNN:     {pred_a_RNN[i]} {pred_b_RNN[i]} {pred_c_RNN[i]}\")\n",
    "    print(\"-\" * 40)  # printing a separator for better visibility"
   ]
  },
  {
   "cell_type": "markdown",
   "id": "4124c77d-42a1-4d79-b37a-14f622e4ee56",
   "metadata": {},
   "source": [
    "# Taking mean of all models"
   ]
  },
  {
   "cell_type": "code",
   "execution_count": 253,
   "id": "9b17b09d-34c4-4017-8186-f1b58cc3fec6",
   "metadata": {},
   "outputs": [],
   "source": [
    "y_pred_mean_a = (Lin_reg_a.pred + pred_a_LightGB + pred_a_XGB + pred_a_RNN) / 4\n",
    "y_pred_mean_b = (Lin_reg_b.pred + pred_b_LightGB + pred_b_XGB + pred_b_RNN) / 4\n",
    "y_pred_mean_c = (Lin_reg_c.pred + pred_c_LightGB + pred_c_XGB + pred_c_RNN) / 4"
   ]
  },
  {
   "cell_type": "code",
   "execution_count": 250,
   "id": "21d5fb6d-6009-47c1-a486-708d9b36b365",
   "metadata": {},
   "outputs": [],
   "source": [
    "y_pred = np.concatenate([pred_a_RNN, pred_b_RNN, pred_c_RNN], axis = 0)\n",
    "filename = \"CSV/The_great_submission_3.csv\"\n",
    "submission(filename, y_pred)"
   ]
  },
  {
   "cell_type": "code",
   "execution_count": 252,
   "id": "f7d8c453-4832-45bd-b889-badb01e72801",
   "metadata": {},
   "outputs": [],
   "source": [
    "y_pred = np.concatenate([y_pred_mean_a, y_pred_mean_b, y_pred_mean_c], axis = 0)\n",
    "#y_pred[y_pred < 5] = 0\n",
    "filename = \"CSV/The_great_submission_3.csv\"\n",
    "submission(filename, y_pred)"
   ]
  }
 ],
 "metadata": {
  "kernelspec": {
   "display_name": "Python 3 (ipykernel)",
   "language": "python",
   "name": "python3"
  },
  "language_info": {
   "codemirror_mode": {
    "name": "ipython",
    "version": 3
   },
   "file_extension": ".py",
   "mimetype": "text/x-python",
   "name": "python",
   "nbconvert_exporter": "python",
   "pygments_lexer": "ipython3",
   "version": "3.9.13"
  }
 },
 "nbformat": 4,
 "nbformat_minor": 5
}
