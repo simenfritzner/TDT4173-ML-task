{
 "cells": [
  {
   "cell_type": "code",
   "execution_count": 111,
   "metadata": {
    "tags": []
   },
   "outputs": [
    {
     "name": "stdout",
     "output_type": "stream",
     "text": [
      "The autoreload extension is already loaded. To reload it, use:\n",
      "  %reload_ext autoreload\n"
     ]
    }
   ],
   "source": [
    "%load_ext autoreload\n",
    "#To update the imported files"
   ]
  },
  {
   "cell_type": "code",
   "execution_count": 112,
   "metadata": {
    "executionInfo": {
     "elapsed": 274,
     "status": "ok",
     "timestamp": 1697196751282,
     "user": {
      "displayName": "Simen Fritzner",
      "userId": "09016032329545939855"
     },
     "user_tz": -120
    },
    "id": "szO4WgD6RS1a",
    "tags": []
   },
   "outputs": [],
   "source": [
    "%autoreload\n",
    "import os\n",
    "import numpy as np\n",
    "import pandas as pd\n",
    "from sklearn.preprocessing import StandardScaler\n",
    "import xgboost as xgb\n",
    "from sklearn.metrics import mean_absolute_error\n",
    "from sklearn.base import clone\n",
    "from utilities_xgBoost import *\n",
    "\n",
    "%matplotlib inline\n",
    "\n",
    "pd.set_option('display.max_rows', 200)\n",
    "pd.set_option('display.max_columns', 200)"
   ]
  },
  {
   "cell_type": "code",
   "execution_count": 113,
   "metadata": {
    "executionInfo": {
     "elapsed": 3,
     "status": "ok",
     "timestamp": 1697196751776,
     "user": {
      "displayName": "Simen Fritzner",
      "userId": "09016032329545939855"
     },
     "user_tz": -120
    },
    "id": "suQmYz7HRWg-"
   },
   "outputs": [
    {
     "data": {
      "text/plain": [
       "'def training_data_split(X_observed_clean, X_estimated_clean_mean):\\n    X_train_estimated = X_estimated_clean_mean[:int(X_estimated_clean_mean.shape[0] * 3 / 4)]\\n    X_valid = X_estimated_clean_mean[int(X_estimated_clean_mean.shape[0] * 3 / 4):int(X_estimated_clean_mean.shape[0] * 9 / 10)]\\n    X_test = X_estimated_clean_mean[int(X_estimated_clean_mean.shape[0] * 9 / 10):]\\n\\n    X_train = pd.concat([X_observed_clean, X_train_estimated])\\n    return X_train, X_valid, X_test\\n\\n#A function which takes the mean out of every 4th column and saves it on the time on the time of the 4th. Makes it so it is every hour.\\n#TODO: Should be swapped for Gustavs code!\\ndef mean_df(df):\\n    # Assuming df is your DataFrame and \\'date_forecast\\' is your date column\\n    # Making a copy of the DataFrame to avoid modifying the original data\\n    df_copy = df.copy()\\n\\n    # Step 1: Keeping every 4th row in the date column\\n    date_column = df_copy[\\'date_forecast\\'].iloc[::4]\\n\\n    # Step 2: Creating a grouping key\\n    grouping_key = np.floor(np.arange(len(df_copy)) / 4)\\n\\n    # Step 3: Group by the key and calculate the mean, excluding the date column\\n    averaged_data = df_copy.drop(columns=[\\'date_forecast\\']).groupby(grouping_key).mean()\\n\\n    # Step 4: Reset index and merge the date column\\n    averaged_data.reset_index(drop=True, inplace=True)\\n    averaged_data[\\'date_forecast\\'] = date_column.values\\n    return averaged_data\\n\\n#Removes all features from a df except selected_features\\ndef clean_df(df, selected_features):\\n    return df[selected_features]\\n\\n  #Scales all the feature value in a way they take a simmilar range\\ndef scale_df(df):\\n    scaler = StandardScaler()\\n    df = scaler.fit_transform(df)\\n    return df\\n\\n#Function which resizes the training data such that only the rows with the same date and time for weather is kept.\\n#X_train is either observed or forcasted weather and y_train is how much energy is produced.\\n#y_features are a list containing the column names of y_train\\n#X_date_feature is the feature name which the date and time for the weather is savew. This will probably always be \"date_forecast\" and may be changed\\ndef resize_training_data(X_train, y_train):\\n    y_features = y_train.columns.tolist()\\n    X_date_feature = \"date_forecast\"\\n\\n    merged = pd.merge(X_train, y_train,left_on=X_date_feature, right_on=\\'time\\', how=\\'inner\\')\\n    y_train_resized = merged[y_features]\\n    columns_to_drop = y_features + [X_date_feature]\\n    X_train_resized = merged.drop(columns = columns_to_drop)\\n    return X_train_resized, y_train_resized'"
      ]
     },
     "execution_count": 113,
     "metadata": {},
     "output_type": "execute_result"
    }
   ],
   "source": [
    "\"\"\"def training_data_split(X_observed_clean, X_estimated_clean_mean):\n",
    "    X_train_estimated = X_estimated_clean_mean[:int(X_estimated_clean_mean.shape[0] * 3 / 4)]\n",
    "    X_valid = X_estimated_clean_mean[int(X_estimated_clean_mean.shape[0] * 3 / 4):int(X_estimated_clean_mean.shape[0] * 9 / 10)]\n",
    "    X_test = X_estimated_clean_mean[int(X_estimated_clean_mean.shape[0] * 9 / 10):]\n",
    "\n",
    "    X_train = pd.concat([X_observed_clean, X_train_estimated])\n",
    "    return X_train, X_valid, X_test\n",
    "\n",
    "#A function which takes the mean out of every 4th column and saves it on the time on the time of the 4th. Makes it so it is every hour.\n",
    "#TODO: Should be swapped for Gustavs code!\n",
    "def mean_df(df):\n",
    "    # Assuming df is your DataFrame and 'date_forecast' is your date column\n",
    "    # Making a copy of the DataFrame to avoid modifying the original data\n",
    "    df_copy = df.copy()\n",
    "\n",
    "    # Step 1: Keeping every 4th row in the date column\n",
    "    date_column = df_copy['date_forecast'].iloc[::4]\n",
    "\n",
    "    # Step 2: Creating a grouping key\n",
    "    grouping_key = np.floor(np.arange(len(df_copy)) / 4)\n",
    "\n",
    "    # Step 3: Group by the key and calculate the mean, excluding the date column\n",
    "    averaged_data = df_copy.drop(columns=['date_forecast']).groupby(grouping_key).mean()\n",
    "\n",
    "    # Step 4: Reset index and merge the date column\n",
    "    averaged_data.reset_index(drop=True, inplace=True)\n",
    "    averaged_data['date_forecast'] = date_column.values\n",
    "    return averaged_data\n",
    "\n",
    "#Removes all features from a df except selected_features\n",
    "def clean_df(df, selected_features):\n",
    "    return df[selected_features]\n",
    "\n",
    "  #Scales all the feature value in a way they take a simmilar range\n",
    "def scale_df(df):\n",
    "    scaler = StandardScaler()\n",
    "    df = scaler.fit_transform(df)\n",
    "    return df\n",
    "\n",
    "#Function which resizes the training data such that only the rows with the same date and time for weather is kept.\n",
    "#X_train is either observed or forcasted weather and y_train is how much energy is produced.\n",
    "#y_features are a list containing the column names of y_train\n",
    "#X_date_feature is the feature name which the date and time for the weather is savew. This will probably always be \"date_forecast\" and may be changed\n",
    "def resize_training_data(X_train, y_train):\n",
    "    y_features = y_train.columns.tolist()\n",
    "    X_date_feature = \"date_forecast\"\n",
    "\n",
    "    merged = pd.merge(X_train, y_train,left_on=X_date_feature, right_on='time', how='inner')\n",
    "    y_train_resized = merged[y_features]\n",
    "    columns_to_drop = y_features + [X_date_feature]\n",
    "    X_train_resized = merged.drop(columns = columns_to_drop)\n",
    "    return X_train_resized, y_train_resized\"\"\""
   ]
  },
  {
   "cell_type": "code",
   "execution_count": 114,
   "metadata": {
    "executionInfo": {
     "elapsed": 2,
     "status": "ok",
     "timestamp": 1697196751776,
     "user": {
      "displayName": "Simen Fritzner",
      "userId": "09016032329545939855"
     },
     "user_tz": -120
    },
    "id": "dz9R1BJpRZgj"
   },
   "outputs": [],
   "source": [
    "selected_features = [\"date_forecast\", \"direct_rad:W\", \"clear_sky_rad:W\" , \"diffuse_rad:W\",\"is_in_shadow:idx\", \"relative_humidity_1000hPa:p\"]"
   ]
  },
  {
   "cell_type": "code",
   "execution_count": 115,
   "metadata": {
    "tags": []
   },
   "outputs": [],
   "source": [
    "#load y values\n",
    "y_a = pd.read_parquet('../Data_and_task/A/train_targets.parquet')\n",
    "y_b = pd.read_parquet('../Data_and_task/B/train_targets.parquet')\n",
    "y_c = pd.read_parquet('../Data_and_task/C/train_targets.parquet')\n",
    "y_b = y_b.dropna()\n",
    "y_c=y_c.dropna()"
   ]
  },
  {
   "cell_type": "code",
   "execution_count": 126,
   "metadata": {
    "tags": []
   },
   "outputs": [],
   "source": [
    "#Loading estimated/forecasted training_weather from file\n",
    "X_estimated_a = pd.read_parquet('../Data_and_task/A/X_train_estimated.parquet')\n",
    "X_estimated_b = pd.read_parquet('../Data_and_task/B/X_train_estimated.parquet')\n",
    "X_estimated_c = pd.read_parquet('../Data_and_task/C/X_train_estimated.parquet')\n",
    "\n",
    "#Loading observed weather from file\n",
    "X_observed_a = pd.read_parquet('../Data_and_task/A/X_train_observed.parquet')\n",
    "X_observed_b = pd.read_parquet('../Data_and_task/B/X_train_observed.parquet')\n",
    "X_observed_c = pd.read_parquet('../Data_and_task/C/X_train_observed.parquet')\n",
    "\n",
    "#Loading estimated/forecasted test_weather from file\n",
    "X_test_a = pd.read_parquet('../Data_and_task/A/X_test_estimated.parquet')\n",
    "X_test_b = pd.read_parquet('../Data_and_task/B/X_test_estimated.parquet')\n",
    "X_test_c = pd.read_parquet('../Data_and_task/C/X_test_estimated.parquet')"
   ]
  },
  {
   "cell_type": "code",
   "execution_count": 117,
   "metadata": {
    "executionInfo": {
     "elapsed": 6,
     "status": "ok",
     "timestamp": 1697196755417,
     "user": {
      "displayName": "Simen Fritzner",
      "userId": "09016032329545939855"
     },
     "user_tz": -120
    },
    "id": "q5ntt1BfRhgG"
   },
   "outputs": [],
   "source": [
    "\"\"\"X_estimated_clean_a = clean_df(X_estimated_a, selected_features)\n",
    "X_estimated_clean_b = clean_df(X_estimated_b, selected_features)\n",
    "X_estimated_clean_c = clean_df(X_estimated_c, selected_features)\"\"\""
   ]
  },
  {
   "cell_type": "code",
   "execution_count": 118,
   "metadata": {},
   "outputs": [],
   "source": [
    "\"\"\"X_observed_clean_a = clean_df(X_observed_a, selected_features)\n",
    "X_observed_clean_b = clean_df(X_observed_b, selected_features)\n",
    "X_observed_clean_c = clean_df(X_observed_c, selected_features)\"\"\""
   ]
  },
  {
   "cell_type": "code",
   "execution_count": 119,
   "metadata": {},
   "outputs": [],
   "source": [
    "\"\"\"X_test_real_clean_a = clean_df(X_test_a, selected_features)\n",
    "X_test_real_clean_b = clean_df(X_test_b, selected_features)\n",
    "X_test_real_clean_c = clean_df(X_test_c, selected_features)\"\"\""
   ]
  },
  {
   "cell_type": "code",
   "execution_count": 120,
   "metadata": {},
   "outputs": [],
   "source": [
    "\"\"\"X_estimated_clean_mean_a = mean_df(X_estimated_clean_a)\n",
    "X_estimated_clean_mean_b = mean_df(X_estimated_clean_b)\n",
    "X_estimated_clean_mean_c = mean_df(X_estimated_clean_c)\n",
    "\n",
    "\n",
    "X_test_real_clean_mean_a = mean_df(X_test_real_clean_a)\n",
    "X_test_real_clean_mean_b = mean_df(X_test_real_clean_b)\n",
    "X_test_real_clean_mean_c = mean_df(X_test_real_clean_c)\"\"\""
   ]
  },
  {
   "cell_type": "code",
   "execution_count": 121,
   "metadata": {
    "executionInfo": {
     "elapsed": 5,
     "status": "ok",
     "timestamp": 1697196755417,
     "user": {
      "displayName": "Simen Fritzner",
      "userId": "09016032329545939855"
     },
     "user_tz": -120
    },
    "id": "e-m6RLJCRjnA"
   },
   "outputs": [],
   "source": [
    "\"\"\"X_train_a, X_valid_a, X_test_a = training_data_split(X_observed_clean_a, X_estimated_clean_mean_a)\n",
    "X_train_b, X_valid_b, X_test_b = training_data_split(X_observed_clean_b, X_estimated_clean_mean_b)\n",
    "X_train_c, X_valid_c, X_test_c = training_data_split(X_observed_clean_c, X_estimated_clean_mean_c)\"\"\""
   ]
  },
  {
   "cell_type": "code",
   "execution_count": 122,
   "metadata": {
    "executionInfo": {
     "elapsed": 6,
     "status": "ok",
     "timestamp": 1697196755418,
     "user": {
      "displayName": "Simen Fritzner",
      "userId": "09016032329545939855"
     },
     "user_tz": -120
    },
    "id": "RzV8adyxRlEG"
   },
   "outputs": [],
   "source": [
    "\"\"\"X_train_a, y_train_a = resize_training_data(X_train_a, y_a)\n",
    "X_train_b, y_train_b = resize_training_data(X_train_b, y_b)\n",
    "X_train_c, y_train_c = resize_training_data(X_train_c, y_c)\n",
    "\n",
    "X_valid_a, y_valid_a = resize_training_data(X_valid_a, y_a)\n",
    "X_valid_b, y_valid_b = resize_training_data(X_valid_b, y_b)\n",
    "X_valid_c, y_valid_c = resize_training_data(X_valid_c, y_c)\n",
    "\n",
    "X_test_a, y_test_a = resize_training_data(X_test_a, y_a)\n",
    "X_test_b, y_test_b = resize_training_data(X_test_b, y_b)\n",
    "X_test_c, y_test_c = resize_training_data(X_test_c, y_c)\"\"\""
   ]
  },
  {
   "cell_type": "code",
   "execution_count": 127,
   "metadata": {
    "executionInfo": {
     "elapsed": 6,
     "status": "ok",
     "timestamp": 1697196755418,
     "user": {
      "displayName": "Simen Fritzner",
      "userId": "09016032329545939855"
     },
     "user_tz": -120
    },
    "id": "wQTG1t7FScUy"
   },
   "outputs": [],
   "source": [
    "Lin_reg_a = xgBoost(X_observed_a, X_estimated_a, y_a, selected_features)\n",
    "Lin_reg_a.fit()\n",
    "Lin_reg_a.pred()\n",
    "\n",
    "Lin_reg_b = xgBoost(X_observed_b, X_estimated_b, y_b, selected_features)\n",
    "Lin_reg_b.fit()\n",
    "Lin_reg_b.pred()\n",
    "\n",
    "Lin_reg_c = xgBoost(X_observed_c, X_estimated_c, y_c, selected_features)\n",
    "Lin_reg_c.fit()\n",
    "Lin_reg_c.pred()\n"
   ]
  },
  {
   "cell_type": "code",
   "execution_count": 128,
   "metadata": {
    "executionInfo": {
     "elapsed": 5,
     "status": "ok",
     "timestamp": 1697196755418,
     "user": {
      "displayName": "Simen Fritzner",
      "userId": "09016032329545939855"
     },
     "user_tz": -120
    },
    "id": "cY7zeUylSu7u"
   },
   "outputs": [
    {
     "name": "stdout",
     "output_type": "stream",
     "text": [
      "A: Mean Absolute Error: 271.50978408702275\n",
      "B: Mean Absolute Error: 45.25430121435226\n",
      "C: Mean Absolute Error: 49.398893013268584\n"
     ]
    }
   ],
   "source": [
    "#Evaluate mean asbolute error\n",
    "mae_a = Lin_reg_a.mae()\n",
    "print(\"A: Mean Absolute Error:\", mae_a)\n",
    "\n",
    "mae_b =Lin_reg_b.mae()\n",
    "print(\"B: Mean Absolute Error:\", mae_b)\n",
    "\n",
    "mae_c = Lin_reg_c.mae()\n",
    "print(\"C: Mean Absolute Error:\", mae_c)\n",
    "\n",
    "#Saving y_pred in a proper csv file\n",
    "#filename = \"CSV/second_submission.csv\"\n",
    "#submission(filename, y_pred)"
   ]
  },
  {
   "cell_type": "code",
   "execution_count": 129,
   "metadata": {
    "executionInfo": {
     "elapsed": 5,
     "status": "ok",
     "timestamp": 1697196755418,
     "user": {
      "displayName": "Simen Fritzner",
      "userId": "09016032329545939855"
     },
     "user_tz": -120
    },
    "id": "RsNxULbuSzT0"
   },
   "outputs": [
    {
     "name": "stdout",
     "output_type": "stream",
     "text": [
      "[[-0.6670817  -1.111886   -1.081068    1.912505    0.613693  ]\n",
      " [-0.6670817  -1.111886   -1.081068    1.912505    0.58469915]\n",
      " [-0.6670817  -1.111886   -1.081068    1.912505    0.46711427]\n",
      " ...\n",
      " [-0.6670817  -1.1077288  -1.064515    1.912505    0.470336  ]\n",
      " [-0.6670817  -1.111886   -1.081068    1.912505    0.7087274 ]\n",
      " [-0.6670817  -1.111886   -1.081068    1.912505    0.78926516]]\n",
      "[[-0.6670847  -1.1118907  -1.0810686   1.9090255   0.6124732 ]\n",
      " [-0.6670847  -1.1118907  -1.0810686   1.9090255   0.5834794 ]\n",
      " [-0.6670847  -1.1118907  -1.0810686   1.9090255   0.46750328]\n",
      " ...\n",
      " [-0.6670847  -1.1077335  -1.0645152   1.9090255   0.46428156]\n",
      " [-0.6670847  -1.1118907  -1.0810686   1.9090255   0.7026768 ]\n",
      " [-0.6670847  -1.1118907  -1.0810686   1.9090255   0.78643686]]\n",
      "[[-0.6631393  -1.1112114  -1.0805107   1.7000666   0.6291268 ]\n",
      " [-0.6631393  -1.1112114  -1.0805107   1.7000666   0.5656663 ]\n",
      " [-0.6631393  -1.1112114  -1.0805107   1.7000666   0.40066963]\n",
      " ...\n",
      " [-0.6631393  -1.1072206  -1.0645202   1.7000666   0.5958104 ]\n",
      " [-0.6631393  -1.1112114  -1.0805107   1.7000666   0.8099896 ]\n",
      " [-0.6631393  -1.1112114  -1.0805107   1.7000666   0.86075765]]\n"
     ]
    }
   ],
   "source": [
    "Lin_reg_a.pred(X_test_a)\n",
    "\n",
    "Lin_reg_b.pred(X_test_b)\n",
    "\n",
    "Lin_reg_c.pred(X_test_c)\n"
   ]
  },
  {
   "cell_type": "code",
   "execution_count": 71,
   "metadata": {
    "colab": {
     "base_uri": "https://localhost:8080/",
     "height": 1000
    },
    "executionInfo": {
     "elapsed": 301191,
     "status": "ok",
     "timestamp": 1697197056604,
     "user": {
      "displayName": "Simen Fritzner",
      "userId": "09016032329545939855"
     },
     "user_tz": -120
    },
    "id": "tIzOjbYgUEw2",
    "outputId": "9505b799-dca6-46d8-d5c6-b019d25cd43e"
   },
   "outputs": [],
   "source": [
    "from sklearn.model_selection import GridSearchCV\n",
    "from sklearn.metrics import mean_absolute_error\n",
    "\n",
    "# Define the parameter grid\n",
    "param_grid = {\n",
    "    'learning_rate': [0.01, 0.1, 0.2],\n",
    "    'max_depth': [3, 4, 5],\n",
    "    'subsample': [0.5, 0.7, 0.9],\n",
    "    'colsample_bytree': [0.5, 0.7, 0.9],\n",
    "    'n_estimators': [100, 200, 500],\n",
    "    'objective': ['reg:squarederror']\n",
    "}\n",
    "\n",
    "# Initialize XGBoost Regressor\n",
    "xg_reg = xgb.XGBRegressor()\n",
    "# Initialize Grid Search. \n",
    "#To see what happens change verbose=x to 0, 1 or 2\n",
    "grid_search = GridSearchCV(estimator=xg_reg, param_grid=param_grid, scoring='neg_mean_absolute_error', cv=3, verbose=0)\n"
   ]
  },
  {
   "cell_type": "code",
   "execution_count": 72,
   "metadata": {
    "tags": []
   },
   "outputs": [],
   "source": [
    "#NOTE need to ask Simen what grid_search is \n",
    "grid_search_a = clone(grid_search)\n",
    "grid_search_b = clone(grid_search)\n",
    "grid_search_c = clone(grid_search)"
   ]
  },
  {
   "cell_type": "code",
   "execution_count": 74,
   "metadata": {},
   "outputs": [
    {
     "name": "stdout",
     "output_type": "stream",
     "text": [
      "Restart\n",
      "ferdig a\n",
      "ferdig b\n",
      "ferdig c\n"
     ]
    }
   ],
   "source": [
    "# Fit the model\n",
    "print(\"Restart\")\n",
    "grid_search_a.fit(X_train_a, y_train_a[\"pv_measurement\"])\n",
    "print(\"ferdig a\")\n",
    "grid_search_b.fit(X_train_b, y_train_b[\"pv_measurement\"])\n",
    "print(\"ferdig b\")\n",
    "grid_search_c.fit(X_train_c, y_train_c[\"pv_measurement\"])\n",
    "print(\"ferdig c\")\n",
    "# Get the best parameters\n",
    "best_params = grid_search.best_params_\n",
    "#print(f\"Best parameters: {best_params}\")"
   ]
  },
  {
   "cell_type": "code",
   "execution_count": 75,
   "metadata": {},
   "outputs": [
    {
     "data": {
      "text/html": [
       "<style>#sk-container-id-4 {color: black;}#sk-container-id-4 pre{padding: 0;}#sk-container-id-4 div.sk-toggleable {background-color: white;}#sk-container-id-4 label.sk-toggleable__label {cursor: pointer;display: block;width: 100%;margin-bottom: 0;padding: 0.3em;box-sizing: border-box;text-align: center;}#sk-container-id-4 label.sk-toggleable__label-arrow:before {content: \"▸\";float: left;margin-right: 0.25em;color: #696969;}#sk-container-id-4 label.sk-toggleable__label-arrow:hover:before {color: black;}#sk-container-id-4 div.sk-estimator:hover label.sk-toggleable__label-arrow:before {color: black;}#sk-container-id-4 div.sk-toggleable__content {max-height: 0;max-width: 0;overflow: hidden;text-align: left;background-color: #f0f8ff;}#sk-container-id-4 div.sk-toggleable__content pre {margin: 0.2em;color: black;border-radius: 0.25em;background-color: #f0f8ff;}#sk-container-id-4 input.sk-toggleable__control:checked~div.sk-toggleable__content {max-height: 200px;max-width: 100%;overflow: auto;}#sk-container-id-4 input.sk-toggleable__control:checked~label.sk-toggleable__label-arrow:before {content: \"▾\";}#sk-container-id-4 div.sk-estimator input.sk-toggleable__control:checked~label.sk-toggleable__label {background-color: #d4ebff;}#sk-container-id-4 div.sk-label input.sk-toggleable__control:checked~label.sk-toggleable__label {background-color: #d4ebff;}#sk-container-id-4 input.sk-hidden--visually {border: 0;clip: rect(1px 1px 1px 1px);clip: rect(1px, 1px, 1px, 1px);height: 1px;margin: -1px;overflow: hidden;padding: 0;position: absolute;width: 1px;}#sk-container-id-4 div.sk-estimator {font-family: monospace;background-color: #f0f8ff;border: 1px dotted black;border-radius: 0.25em;box-sizing: border-box;margin-bottom: 0.5em;}#sk-container-id-4 div.sk-estimator:hover {background-color: #d4ebff;}#sk-container-id-4 div.sk-parallel-item::after {content: \"\";width: 100%;border-bottom: 1px solid gray;flex-grow: 1;}#sk-container-id-4 div.sk-label:hover label.sk-toggleable__label {background-color: #d4ebff;}#sk-container-id-4 div.sk-serial::before {content: \"\";position: absolute;border-left: 1px solid gray;box-sizing: border-box;top: 0;bottom: 0;left: 50%;z-index: 0;}#sk-container-id-4 div.sk-serial {display: flex;flex-direction: column;align-items: center;background-color: white;padding-right: 0.2em;padding-left: 0.2em;position: relative;}#sk-container-id-4 div.sk-item {position: relative;z-index: 1;}#sk-container-id-4 div.sk-parallel {display: flex;align-items: stretch;justify-content: center;background-color: white;position: relative;}#sk-container-id-4 div.sk-item::before, #sk-container-id-4 div.sk-parallel-item::before {content: \"\";position: absolute;border-left: 1px solid gray;box-sizing: border-box;top: 0;bottom: 0;left: 50%;z-index: -1;}#sk-container-id-4 div.sk-parallel-item {display: flex;flex-direction: column;z-index: 1;position: relative;background-color: white;}#sk-container-id-4 div.sk-parallel-item:first-child::after {align-self: flex-end;width: 50%;}#sk-container-id-4 div.sk-parallel-item:last-child::after {align-self: flex-start;width: 50%;}#sk-container-id-4 div.sk-parallel-item:only-child::after {width: 0;}#sk-container-id-4 div.sk-dashed-wrapped {border: 1px dashed gray;margin: 0 0.4em 0.5em 0.4em;box-sizing: border-box;padding-bottom: 0.4em;background-color: white;}#sk-container-id-4 div.sk-label label {font-family: monospace;font-weight: bold;display: inline-block;line-height: 1.2em;}#sk-container-id-4 div.sk-label-container {text-align: center;}#sk-container-id-4 div.sk-container {/* jupyter's `normalize.less` sets `[hidden] { display: none; }` but bootstrap.min.css set `[hidden] { display: none !important; }` so we also need the `!important` here to be able to override the default hidden behavior on the sphinx rendered scikit-learn.org. See: https://github.com/scikit-learn/scikit-learn/issues/21755 */display: inline-block !important;position: relative;}#sk-container-id-4 div.sk-text-repr-fallback {display: none;}</style><div id=\"sk-container-id-4\" class=\"sk-top-container\"><div class=\"sk-text-repr-fallback\"><pre>XGBRegressor(base_score=None, booster=None, callbacks=None,\n",
       "             colsample_bylevel=None, colsample_bynode=None,\n",
       "             colsample_bytree=0.7, device=None, early_stopping_rounds=None,\n",
       "             enable_categorical=False, eval_metric=None, feature_types=None,\n",
       "             gamma=None, grow_policy=None, importance_type=None,\n",
       "             interaction_constraints=None, learning_rate=0.1, max_bin=None,\n",
       "             max_cat_threshold=None, max_cat_to_onehot=None,\n",
       "             max_delta_step=None, max_depth=4, max_leaves=None,\n",
       "             min_child_weight=None, missing=nan, monotone_constraints=None,\n",
       "             multi_strategy=None, n_estimators=200, n_jobs=None,\n",
       "             num_parallel_tree=None, random_state=None, ...)</pre><b>In a Jupyter environment, please rerun this cell to show the HTML representation or trust the notebook. <br />On GitHub, the HTML representation is unable to render, please try loading this page with nbviewer.org.</b></div><div class=\"sk-container\" hidden><div class=\"sk-item\"><div class=\"sk-estimator sk-toggleable\"><input class=\"sk-toggleable__control sk-hidden--visually\" id=\"sk-estimator-id-4\" type=\"checkbox\" checked><label for=\"sk-estimator-id-4\" class=\"sk-toggleable__label sk-toggleable__label-arrow\">XGBRegressor</label><div class=\"sk-toggleable__content\"><pre>XGBRegressor(base_score=None, booster=None, callbacks=None,\n",
       "             colsample_bylevel=None, colsample_bynode=None,\n",
       "             colsample_bytree=0.7, device=None, early_stopping_rounds=None,\n",
       "             enable_categorical=False, eval_metric=None, feature_types=None,\n",
       "             gamma=None, grow_policy=None, importance_type=None,\n",
       "             interaction_constraints=None, learning_rate=0.1, max_bin=None,\n",
       "             max_cat_threshold=None, max_cat_to_onehot=None,\n",
       "             max_delta_step=None, max_depth=4, max_leaves=None,\n",
       "             min_child_weight=None, missing=nan, monotone_constraints=None,\n",
       "             multi_strategy=None, n_estimators=200, n_jobs=None,\n",
       "             num_parallel_tree=None, random_state=None, ...)</pre></div></div></div></div></div>"
      ],
      "text/plain": [
       "XGBRegressor(base_score=None, booster=None, callbacks=None,\n",
       "             colsample_bylevel=None, colsample_bynode=None,\n",
       "             colsample_bytree=0.7, device=None, early_stopping_rounds=None,\n",
       "             enable_categorical=False, eval_metric=None, feature_types=None,\n",
       "             gamma=None, grow_policy=None, importance_type=None,\n",
       "             interaction_constraints=None, learning_rate=0.1, max_bin=None,\n",
       "             max_cat_threshold=None, max_cat_to_onehot=None,\n",
       "             max_delta_step=None, max_depth=4, max_leaves=None,\n",
       "             min_child_weight=None, missing=nan, monotone_constraints=None,\n",
       "             multi_strategy=None, n_estimators=200, n_jobs=None,\n",
       "             num_parallel_tree=None, random_state=None, ...)"
      ]
     },
     "execution_count": 75,
     "metadata": {},
     "output_type": "execute_result"
    }
   ],
   "source": [
    "# Train a new XGBoost model with the best parameters\n",
    "best_xg_model = xgb.XGBRegressor(**best_params)\n",
    "best_xg_model_a = clone(best_xg_model)\n",
    "best_xg_model_b = clone(best_xg_model)\n",
    "best_xg_model_c = clone(best_xg_model)\n",
    "\n",
    "\n",
    "best_xg_model_a.fit(X_train_a, y_train_a[\"pv_measurement\"])\n",
    "best_xg_model_b.fit(X_train_b, y_train_b[\"pv_measurement\"])\n",
    "best_xg_model_c.fit(X_train_c, y_train_c[\"pv_measurement\"])\n",
    "\n",
    "# Calculate the Mean Absolute Error\n",
    "\n",
    "#Best parameters: {'colsample_bytree': 0.9, 'learning_rate': 0.1, 'max_depth': 4, 'n_estimators': 100, 'objective': 'reg:squarederror', 'subsample': 0.7}"
   ]
  },
  {
   "cell_type": "code",
   "execution_count": 77,
   "metadata": {
    "executionInfo": {
     "elapsed": 5,
     "status": "ok",
     "timestamp": 1697197056604,
     "user": {
      "displayName": "Simen Fritzner",
      "userId": "09016032329545939855"
     },
     "user_tz": -120
    },
    "id": "Q0ktjFCqsm_c",
    "tags": []
   },
   "outputs": [],
   "source": [
    "# Make predictions\n",
    "prediction_a = best_xg_model_a.predict(X_test_real_clean_mean_a.drop(columns = [\"date_forecast\"]))\n",
    "prediction_b = best_xg_model_b.predict(X_test_real_clean_mean_b.drop(columns = [\"date_forecast\"]))\n",
    "prediction_c = best_xg_model_c.predict(X_test_real_clean_mean_c.drop(columns = [\"date_forecast\"]))\n",
    "\n",
    "#y_pred = np.concatenate([Lin_reg_a.pred, Lin_reg_b.pred, Lin_reg_c.pred], axis = 0)\n",
    "\n",
    "np.save('X_test_c.npy', prediction_a)"
   ]
  },
  {
   "cell_type": "code",
   "execution_count": 80,
   "metadata": {
    "tags": []
   },
   "outputs": [
    {
     "ename": "ValueError",
     "evalue": "Found input variables with inconsistent numbers of samples: [440, 720]",
     "output_type": "error",
     "traceback": [
      "\u001b[1;31m---------------------------------------------------------------------------\u001b[0m",
      "\u001b[1;31mValueError\u001b[0m                                Traceback (most recent call last)",
      "Cell \u001b[1;32mIn[80], line 1\u001b[0m\n\u001b[1;32m----> 1\u001b[0m mae_a \u001b[38;5;241m=\u001b[39m mean_absolute_error(y_test_a[\u001b[38;5;124m\"\u001b[39m\u001b[38;5;124mpv_measurement\u001b[39m\u001b[38;5;124m\"\u001b[39m], prediction_a)\n\u001b[0;32m      3\u001b[0m \u001b[38;5;28mprint\u001b[39m(\u001b[38;5;124mf\u001b[39m\u001b[38;5;124m\"\u001b[39m\u001b[38;5;124mMean Absolute Error of the best model: \u001b[39m\u001b[38;5;132;01m{\u001b[39;00mmae_a\u001b[38;5;132;01m}\u001b[39;00m\u001b[38;5;124m\"\u001b[39m)\n",
      "File \u001b[1;32m~\\anaconda3\\Lib\\site-packages\\sklearn\\utils\\_param_validation.py:211\u001b[0m, in \u001b[0;36mvalidate_params.<locals>.decorator.<locals>.wrapper\u001b[1;34m(*args, **kwargs)\u001b[0m\n\u001b[0;32m    205\u001b[0m \u001b[38;5;28;01mtry\u001b[39;00m:\n\u001b[0;32m    206\u001b[0m     \u001b[38;5;28;01mwith\u001b[39;00m config_context(\n\u001b[0;32m    207\u001b[0m         skip_parameter_validation\u001b[38;5;241m=\u001b[39m(\n\u001b[0;32m    208\u001b[0m             prefer_skip_nested_validation \u001b[38;5;129;01mor\u001b[39;00m global_skip_validation\n\u001b[0;32m    209\u001b[0m         )\n\u001b[0;32m    210\u001b[0m     ):\n\u001b[1;32m--> 211\u001b[0m         \u001b[38;5;28;01mreturn\u001b[39;00m func(\u001b[38;5;241m*\u001b[39margs, \u001b[38;5;241m*\u001b[39m\u001b[38;5;241m*\u001b[39mkwargs)\n\u001b[0;32m    212\u001b[0m \u001b[38;5;28;01mexcept\u001b[39;00m InvalidParameterError \u001b[38;5;28;01mas\u001b[39;00m e:\n\u001b[0;32m    213\u001b[0m     \u001b[38;5;66;03m# When the function is just a wrapper around an estimator, we allow\u001b[39;00m\n\u001b[0;32m    214\u001b[0m     \u001b[38;5;66;03m# the function to delegate validation to the estimator, but we replace\u001b[39;00m\n\u001b[0;32m    215\u001b[0m     \u001b[38;5;66;03m# the name of the estimator by the name of the function in the error\u001b[39;00m\n\u001b[0;32m    216\u001b[0m     \u001b[38;5;66;03m# message to avoid confusion.\u001b[39;00m\n\u001b[0;32m    217\u001b[0m     msg \u001b[38;5;241m=\u001b[39m re\u001b[38;5;241m.\u001b[39msub(\n\u001b[0;32m    218\u001b[0m         \u001b[38;5;124mr\u001b[39m\u001b[38;5;124m\"\u001b[39m\u001b[38;5;124mparameter of \u001b[39m\u001b[38;5;124m\\\u001b[39m\u001b[38;5;124mw+ must be\u001b[39m\u001b[38;5;124m\"\u001b[39m,\n\u001b[0;32m    219\u001b[0m         \u001b[38;5;124mf\u001b[39m\u001b[38;5;124m\"\u001b[39m\u001b[38;5;124mparameter of \u001b[39m\u001b[38;5;132;01m{\u001b[39;00mfunc\u001b[38;5;241m.\u001b[39m\u001b[38;5;18m__qualname__\u001b[39m\u001b[38;5;132;01m}\u001b[39;00m\u001b[38;5;124m must be\u001b[39m\u001b[38;5;124m\"\u001b[39m,\n\u001b[0;32m    220\u001b[0m         \u001b[38;5;28mstr\u001b[39m(e),\n\u001b[0;32m    221\u001b[0m     )\n",
      "File \u001b[1;32m~\\anaconda3\\Lib\\site-packages\\sklearn\\metrics\\_regression.py:204\u001b[0m, in \u001b[0;36mmean_absolute_error\u001b[1;34m(y_true, y_pred, sample_weight, multioutput)\u001b[0m\n\u001b[0;32m    140\u001b[0m \u001b[38;5;129m@validate_params\u001b[39m(\n\u001b[0;32m    141\u001b[0m     {\n\u001b[0;32m    142\u001b[0m         \u001b[38;5;124m\"\u001b[39m\u001b[38;5;124my_true\u001b[39m\u001b[38;5;124m\"\u001b[39m: [\u001b[38;5;124m\"\u001b[39m\u001b[38;5;124marray-like\u001b[39m\u001b[38;5;124m\"\u001b[39m],\n\u001b[1;32m   (...)\u001b[0m\n\u001b[0;32m    150\u001b[0m     y_true, y_pred, \u001b[38;5;241m*\u001b[39m, sample_weight\u001b[38;5;241m=\u001b[39m\u001b[38;5;28;01mNone\u001b[39;00m, multioutput\u001b[38;5;241m=\u001b[39m\u001b[38;5;124m\"\u001b[39m\u001b[38;5;124muniform_average\u001b[39m\u001b[38;5;124m\"\u001b[39m\n\u001b[0;32m    151\u001b[0m ):\n\u001b[0;32m    152\u001b[0m \u001b[38;5;250m    \u001b[39m\u001b[38;5;124;03m\"\"\"Mean absolute error regression loss.\u001b[39;00m\n\u001b[0;32m    153\u001b[0m \n\u001b[0;32m    154\u001b[0m \u001b[38;5;124;03m    Read more in the :ref:`User Guide <mean_absolute_error>`.\u001b[39;00m\n\u001b[1;32m   (...)\u001b[0m\n\u001b[0;32m    202\u001b[0m \u001b[38;5;124;03m    0.85...\u001b[39;00m\n\u001b[0;32m    203\u001b[0m \u001b[38;5;124;03m    \"\"\"\u001b[39;00m\n\u001b[1;32m--> 204\u001b[0m     y_type, y_true, y_pred, multioutput \u001b[38;5;241m=\u001b[39m _check_reg_targets(\n\u001b[0;32m    205\u001b[0m         y_true, y_pred, multioutput\n\u001b[0;32m    206\u001b[0m     )\n\u001b[0;32m    207\u001b[0m     check_consistent_length(y_true, y_pred, sample_weight)\n\u001b[0;32m    208\u001b[0m     output_errors \u001b[38;5;241m=\u001b[39m np\u001b[38;5;241m.\u001b[39maverage(np\u001b[38;5;241m.\u001b[39mabs(y_pred \u001b[38;5;241m-\u001b[39m y_true), weights\u001b[38;5;241m=\u001b[39msample_weight, axis\u001b[38;5;241m=\u001b[39m\u001b[38;5;241m0\u001b[39m)\n",
      "File \u001b[1;32m~\\anaconda3\\Lib\\site-packages\\sklearn\\metrics\\_regression.py:99\u001b[0m, in \u001b[0;36m_check_reg_targets\u001b[1;34m(y_true, y_pred, multioutput, dtype)\u001b[0m\n\u001b[0;32m     65\u001b[0m \u001b[38;5;28;01mdef\u001b[39;00m \u001b[38;5;21m_check_reg_targets\u001b[39m(y_true, y_pred, multioutput, dtype\u001b[38;5;241m=\u001b[39m\u001b[38;5;124m\"\u001b[39m\u001b[38;5;124mnumeric\u001b[39m\u001b[38;5;124m\"\u001b[39m):\n\u001b[0;32m     66\u001b[0m \u001b[38;5;250m    \u001b[39m\u001b[38;5;124;03m\"\"\"Check that y_true and y_pred belong to the same regression task.\u001b[39;00m\n\u001b[0;32m     67\u001b[0m \n\u001b[0;32m     68\u001b[0m \u001b[38;5;124;03m    Parameters\u001b[39;00m\n\u001b[1;32m   (...)\u001b[0m\n\u001b[0;32m     97\u001b[0m \u001b[38;5;124;03m        correct keyword.\u001b[39;00m\n\u001b[0;32m     98\u001b[0m \u001b[38;5;124;03m    \"\"\"\u001b[39;00m\n\u001b[1;32m---> 99\u001b[0m     check_consistent_length(y_true, y_pred)\n\u001b[0;32m    100\u001b[0m     y_true \u001b[38;5;241m=\u001b[39m check_array(y_true, ensure_2d\u001b[38;5;241m=\u001b[39m\u001b[38;5;28;01mFalse\u001b[39;00m, dtype\u001b[38;5;241m=\u001b[39mdtype)\n\u001b[0;32m    101\u001b[0m     y_pred \u001b[38;5;241m=\u001b[39m check_array(y_pred, ensure_2d\u001b[38;5;241m=\u001b[39m\u001b[38;5;28;01mFalse\u001b[39;00m, dtype\u001b[38;5;241m=\u001b[39mdtype)\n",
      "File \u001b[1;32m~\\anaconda3\\Lib\\site-packages\\sklearn\\utils\\validation.py:409\u001b[0m, in \u001b[0;36mcheck_consistent_length\u001b[1;34m(*arrays)\u001b[0m\n\u001b[0;32m    407\u001b[0m uniques \u001b[38;5;241m=\u001b[39m np\u001b[38;5;241m.\u001b[39munique(lengths)\n\u001b[0;32m    408\u001b[0m \u001b[38;5;28;01mif\u001b[39;00m \u001b[38;5;28mlen\u001b[39m(uniques) \u001b[38;5;241m>\u001b[39m \u001b[38;5;241m1\u001b[39m:\n\u001b[1;32m--> 409\u001b[0m     \u001b[38;5;28;01mraise\u001b[39;00m \u001b[38;5;167;01mValueError\u001b[39;00m(\n\u001b[0;32m    410\u001b[0m         \u001b[38;5;124m\"\u001b[39m\u001b[38;5;124mFound input variables with inconsistent numbers of samples: \u001b[39m\u001b[38;5;132;01m%r\u001b[39;00m\u001b[38;5;124m\"\u001b[39m\n\u001b[0;32m    411\u001b[0m         \u001b[38;5;241m%\u001b[39m [\u001b[38;5;28mint\u001b[39m(l) \u001b[38;5;28;01mfor\u001b[39;00m l \u001b[38;5;129;01min\u001b[39;00m lengths]\n\u001b[0;32m    412\u001b[0m     )\n",
      "\u001b[1;31mValueError\u001b[0m: Found input variables with inconsistent numbers of samples: [440, 720]"
     ]
    }
   ],
   "source": [
    "\n",
    "mae_a = mean_absolute_error(y_test_a[\"pv_measurement\"], prediction_a)\n",
    "print(f\"Mean Absolute Error of the best model: {mae_a}\")\n"
   ]
  },
  {
   "cell_type": "code",
   "execution_count": null,
   "metadata": {},
   "outputs": [],
   "source": []
  }
 ],
 "metadata": {
  "colab": {
   "authorship_tag": "ABX9TyPoyIhDU9IrHX273zHuhlEv",
   "mount_file_id": "1UZmaarS_n3uxU9Y4gtI9ANCdDEbIoONg",
   "provenance": []
  },
  "kernelspec": {
   "display_name": "Python 3 (ipykernel)",
   "language": "python",
   "name": "python3"
  },
  "language_info": {
   "codemirror_mode": {
    "name": "ipython",
    "version": 3
   },
   "file_extension": ".py",
   "mimetype": "text/x-python",
   "name": "python",
   "nbconvert_exporter": "python",
   "pygments_lexer": "ipython3",
   "version": "3.11.4"
  }
 },
 "nbformat": 4,
 "nbformat_minor": 4
}
