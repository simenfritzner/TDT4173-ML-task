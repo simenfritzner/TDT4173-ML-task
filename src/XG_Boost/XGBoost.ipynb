{
 "cells": [
  {
   "cell_type": "code",
   "execution_count": 41,
   "metadata": {
    "tags": []
   },
   "outputs": [
    {
     "name": "stdout",
     "output_type": "stream",
     "text": [
      "The autoreload extension is already loaded. To reload it, use:\n",
      "  %reload_ext autoreload\n"
     ]
    }
   ],
   "source": [
    "%load_ext autoreload\n",
    "#To update the imported files"
   ]
  },
  {
   "cell_type": "code",
   "execution_count": 42,
   "metadata": {
    "executionInfo": {
     "elapsed": 274,
     "status": "ok",
     "timestamp": 1697196751282,
     "user": {
      "displayName": "Simen Fritzner",
      "userId": "09016032329545939855"
     },
     "user_tz": -120
    },
    "id": "szO4WgD6RS1a",
    "tags": []
   },
   "outputs": [],
   "source": [
    "%autoreload\n",
    "import os\n",
    "import numpy as np\n",
    "import pandas as pd\n",
    "from sklearn.preprocessing import StandardScaler\n",
    "import xgboost as xgb\n",
    "from sklearn.metrics import mean_absolute_error\n",
    "from sklearn.base import clone\n",
    "from utilities_xgBoost import *\n",
    "\n",
    "%matplotlib inline\n",
    "\n",
    "pd.set_option('display.max_rows', 200)\n",
    "pd.set_option('display.max_columns', 200)"
   ]
  },
  {
   "cell_type": "code",
   "execution_count": 43,
   "metadata": {
    "executionInfo": {
     "elapsed": 2,
     "status": "ok",
     "timestamp": 1697196751776,
     "user": {
      "displayName": "Simen Fritzner",
      "userId": "09016032329545939855"
     },
     "user_tz": -120
    },
    "id": "dz9R1BJpRZgj"
   },
   "outputs": [],
   "source": [
    "selected_features = [\"date_forecast\", \"direct_rad:W\", \"clear_sky_rad:W\" , \"diffuse_rad:W\",\"is_in_shadow:idx\", \"relative_humidity_1000hPa:p\"]"
   ]
  },
  {
   "cell_type": "code",
   "execution_count": 44,
   "metadata": {
    "tags": []
   },
   "outputs": [],
   "source": [
    "#load y values\n",
    "y_a = pd.read_parquet('../Data_and_task/A/train_targets.parquet')\n",
    "y_b = pd.read_parquet('../Data_and_task/B/train_targets.parquet')\n",
    "y_c = pd.read_parquet('../Data_and_task/C/train_targets.parquet')\n",
    "y_b = y_b.dropna()\n",
    "y_c=y_c.dropna()"
   ]
  },
  {
   "cell_type": "code",
   "execution_count": 45,
   "metadata": {
    "tags": []
   },
   "outputs": [],
   "source": [
    "#Loading estimated/forecasted training_weather from file\n",
    "X_estimated_a = pd.read_parquet('../Data_and_task/A/X_train_estimated.parquet')\n",
    "X_estimated_b = pd.read_parquet('../Data_and_task/B/X_train_estimated.parquet')\n",
    "X_estimated_c = pd.read_parquet('../Data_and_task/C/X_train_estimated.parquet')\n",
    "\n",
    "#Loading observed weather from file\n",
    "X_observed_a = pd.read_parquet('../Data_and_task/A/X_train_observed.parquet')\n",
    "X_observed_b = pd.read_parquet('../Data_and_task/B/X_train_observed.parquet')\n",
    "X_observed_c = pd.read_parquet('../Data_and_task/C/X_train_observed.parquet')\n",
    "\n",
    "#Loading estimated/forecasted test_weather from file\n",
    "X_test_a = pd.read_parquet('../Data_and_task/A/X_test_estimated.parquet')\n",
    "X_test_b = pd.read_parquet('../Data_and_task/B/X_test_estimated.parquet')\n",
    "X_test_c = pd.read_parquet('../Data_and_task/C/X_test_estimated.parquet')"
   ]
  },
  {
   "cell_type": "code",
   "execution_count": 46,
   "metadata": {
    "executionInfo": {
     "elapsed": 6,
     "status": "ok",
     "timestamp": 1697196755418,
     "user": {
      "displayName": "Simen Fritzner",
      "userId": "09016032329545939855"
     },
     "user_tz": -120
    },
    "id": "wQTG1t7FScUy"
   },
   "outputs": [],
   "source": [
    "xgBoost_a = xgBoost(X_observed_a, X_estimated_a, y_a, selected_features)\n",
    "xgBoost_a.fit()\n",
    "xgBoost_a.pred()\n",
    "\n",
    "xgBoost_b = xgBoost(X_observed_b, X_estimated_b, y_b, selected_features)\n",
    "xgBoost_b.fit()\n",
    "xgBoost_b.pred()\n",
    "\n",
    "xgBoost_c = xgBoost(X_observed_c, X_estimated_c, y_c, selected_features)\n",
    "xgBoost_c.fit()\n",
    "xgBoost_c.pred()\n"
   ]
  },
  {
   "cell_type": "code",
   "execution_count": 47,
   "metadata": {
    "executionInfo": {
     "elapsed": 5,
     "status": "ok",
     "timestamp": 1697196755418,
     "user": {
      "displayName": "Simen Fritzner",
      "userId": "09016032329545939855"
     },
     "user_tz": -120
    },
    "id": "cY7zeUylSu7u"
   },
   "outputs": [
    {
     "name": "stdout",
     "output_type": "stream",
     "text": [
      "A: Mean Absolute Error: 271.50978408702275\n",
      "B: Mean Absolute Error: 45.25430121435226\n",
      "C: Mean Absolute Error: 49.398893013268584\n"
     ]
    }
   ],
   "source": [
    "#Evaluate mean asbolute error\n",
    "mae_a = xgBoost_a.mae()\n",
    "print(\"A: Mean Absolute Error:\", mae_a)\n",
    "\n",
    "mae_b =xgBoost_b.mae()\n",
    "print(\"B: Mean Absolute Error:\", mae_b)\n",
    "\n",
    "mae_c = xgBoost_c.mae()\n",
    "print(\"C: Mean Absolute Error:\", mae_c)\n",
    "\n",
    "#Saving y_pred in a proper csv file\n",
    "#filename = \"CSV/second_submission.csv\"\n",
    "#submission(filename, y_pred)"
   ]
  },
  {
   "cell_type": "code",
   "execution_count": 48,
   "metadata": {
    "executionInfo": {
     "elapsed": 5,
     "status": "ok",
     "timestamp": 1697196755418,
     "user": {
      "displayName": "Simen Fritzner",
      "userId": "09016032329545939855"
     },
     "user_tz": -120
    },
    "id": "RsNxULbuSzT0"
   },
   "outputs": [
    {
     "name": "stdout",
     "output_type": "stream",
     "text": [
      "[[-0.6670817  -1.111886   -1.081068    1.912505    0.613693  ]\n",
      " [-0.6670817  -1.111886   -1.081068    1.912505    0.58469915]\n",
      " [-0.6670817  -1.111886   -1.081068    1.912505    0.46711427]\n",
      " ...\n",
      " [-0.6670817  -1.1077288  -1.064515    1.912505    0.470336  ]\n",
      " [-0.6670817  -1.111886   -1.081068    1.912505    0.7087274 ]\n",
      " [-0.6670817  -1.111886   -1.081068    1.912505    0.78926516]]\n",
      "[[-0.6670847  -1.1118907  -1.0810686   1.9090255   0.6124732 ]\n",
      " [-0.6670847  -1.1118907  -1.0810686   1.9090255   0.5834794 ]\n",
      " [-0.6670847  -1.1118907  -1.0810686   1.9090255   0.46750328]\n",
      " ...\n",
      " [-0.6670847  -1.1077335  -1.0645152   1.9090255   0.46428156]\n",
      " [-0.6670847  -1.1118907  -1.0810686   1.9090255   0.7026768 ]\n",
      " [-0.6670847  -1.1118907  -1.0810686   1.9090255   0.78643686]]\n",
      "[[-0.6631393  -1.1112114  -1.0805107   1.7000666   0.6291268 ]\n",
      " [-0.6631393  -1.1112114  -1.0805107   1.7000666   0.5656663 ]\n",
      " [-0.6631393  -1.1112114  -1.0805107   1.7000666   0.40066963]\n",
      " ...\n",
      " [-0.6631393  -1.1072206  -1.0645202   1.7000666   0.5958104 ]\n",
      " [-0.6631393  -1.1112114  -1.0805107   1.7000666   0.8099896 ]\n",
      " [-0.6631393  -1.1112114  -1.0805107   1.7000666   0.86075765]]\n"
     ]
    }
   ],
   "source": [
    "xgBoost_a.pred(X_test_a)\n",
    "\n",
    "xgBoost_b.pred(X_test_b)\n",
    "\n",
    "xgBoost_c.pred(X_test_c)\n"
   ]
  },
  {
   "cell_type": "code",
   "execution_count": 49,
   "metadata": {
    "tags": []
   },
   "outputs": [
    {
     "name": "stdout",
     "output_type": "stream",
     "text": [
      "[13.548817 13.548817 13.548817 ...  0.        0.        0.      ]\n"
     ]
    }
   ],
   "source": [
    "y_pred_xgBoost = np.concatenate([xgBoost_a.pred, xgBoost_b.pred, xgBoost_c.pred], axis = 0)\n",
    "print(y_pred_xgBoost)\n",
    "filename = \"CSV/sub.csv\"\n",
    "submission(filename, y_pred_xgBoost)"
   ]
  },
  {
   "cell_type": "code",
   "execution_count": null,
   "metadata": {},
   "outputs": [],
   "source": []
  },
  {
   "cell_type": "code",
   "execution_count": null,
   "metadata": {},
   "outputs": [],
   "source": []
  }
 ],
 "metadata": {
  "colab": {
   "authorship_tag": "ABX9TyPoyIhDU9IrHX273zHuhlEv",
   "mount_file_id": "1UZmaarS_n3uxU9Y4gtI9ANCdDEbIoONg",
   "provenance": []
  },
  "kernelspec": {
   "display_name": "Python 3 (ipykernel)",
   "language": "python",
   "name": "python3"
  },
  "language_info": {
   "codemirror_mode": {
    "name": "ipython",
    "version": 3
   },
   "file_extension": ".py",
   "mimetype": "text/x-python",
   "name": "python",
   "nbconvert_exporter": "python",
   "pygments_lexer": "ipython3",
   "version": "3.11.4"
  }
 },
 "nbformat": 4,
 "nbformat_minor": 4
}
