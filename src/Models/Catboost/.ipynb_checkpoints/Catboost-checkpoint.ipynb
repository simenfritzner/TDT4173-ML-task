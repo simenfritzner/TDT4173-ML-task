{
 "cells": [
  {
   "cell_type": "code",
   "execution_count": 27,
   "id": "23826291-c84d-4a62-9567-5023d74a3413",
   "metadata": {
    "tags": []
   },
   "outputs": [
    {
     "name": "stdout",
     "output_type": "stream",
     "text": [
      "The autoreload extension is already loaded. To reload it, use:\n",
      "  %reload_ext autoreload\n"
     ]
    }
   ],
   "source": [
    "%load_ext autoreload\n",
    "#To update the imported files"
   ]
  },
  {
   "cell_type": "code",
   "execution_count": 28,
   "id": "8d97f887-ab2c-4d1c-99ab-35a0d95ef5a8",
   "metadata": {
    "tags": []
   },
   "outputs": [],
   "source": [
    "%autoreload\n",
    "import sys\n",
    "import warnings\n",
    "warnings.filterwarnings(\"ignore\")\n",
    "\n",
    "sys.path.insert(0, '../')\n",
    "from constants import *\n",
    "from utilities_catboost import *\n",
    "from utilities import *"
   ]
  },
  {
   "cell_type": "code",
   "execution_count": 32,
   "id": "585306f9-6b47-40a3-bf02-40d34600bade",
   "metadata": {
    "tags": []
   },
   "outputs": [
    {
     "ename": "NameError",
     "evalue": "name 'learning_rate' is not defined",
     "output_type": "error",
     "traceback": [
      "\u001b[1;31m---------------------------------------------------------------------------\u001b[0m",
      "\u001b[1;31mNameError\u001b[0m                                 Traceback (most recent call last)",
      "Cell \u001b[1;32mIn[32], line 2\u001b[0m\n\u001b[0;32m      1\u001b[0m hyperparameters \u001b[38;5;241m=\u001b[39m {\n\u001b[1;32m----> 2\u001b[0m     learning_rate: \u001b[38;5;241m0.03\u001b[39m,\n\u001b[0;32m      3\u001b[0m     depth: \u001b[38;5;241m6\u001b[39m,\n\u001b[0;32m      4\u001b[0m     l2_leaf_reg :\u001b[38;5;241m3.0\u001b[39m,\n\u001b[0;32m      5\u001b[0m     iterations: \u001b[38;5;241m150\u001b[39m,  \u001b[38;5;66;03m# or you can use 'n_estimators=1000'\u001b[39;00m\n\u001b[0;32m      6\u001b[0m     loss_function: \u001b[38;5;124m'\u001b[39m\u001b[38;5;124mRMSE\u001b[39m\u001b[38;5;124m'\u001b[39m,  \u001b[38;5;66;03m# Root Mean Square Error\u001b[39;00m\n\u001b[0;32m      7\u001b[0m     border_count: \u001b[38;5;241m254\u001b[39m,\n\u001b[0;32m      8\u001b[0m     random_seed: \u001b[38;5;28;01mNone\u001b[39;00m,  \u001b[38;5;66;03m# You can set this to any specific integer or leave it as None\u001b[39;00m\n\u001b[0;32m      9\u001b[0m     thread_count: \u001b[38;5;241m-\u001b[39m\u001b[38;5;241m1\u001b[39m\n\u001b[0;32m     10\u001b[0m }\n",
      "\u001b[1;31mNameError\u001b[0m: name 'learning_rate' is not defined"
     ]
    }
   ],
   "source": [
    "hyperparameters = {\n",
    "    'learning_rate': 0.03,\n",
    "    'depth': 6,\n",
    "    'l2_leaf_reg': 3.0,\n",
    "    'iterations': 150,  # or you can use 'n_estimators': 150\n",
    "    'loss_function': 'RMSE',  # Root Mean Square Error\n",
    "    'border_count': 254,\n",
    "    'random_seed': None,  # You can set this to any specific integer or leave it as None\n",
    "    'thread_count': -1\n",
    "}\n"
   ]
  },
  {
   "cell_type": "code",
   "execution_count": 30,
   "id": "f59027c4-d5ad-49dc-8b1a-d426947df2bc",
   "metadata": {
    "tags": []
   },
   "outputs": [],
   "source": [
    "selected_features_a = selected_features.copy()\n",
    "#selected_features_a.remove(\"direct_rad:W\")\n",
    "hyperparameters_a = hyperparameters\n",
    "wanted_months_a = wanted_months"
   ]
  },
  {
   "cell_type": "code",
   "execution_count": 23,
   "id": "e4eb1e02-08d9-49b9-9926-82441de5eff7",
   "metadata": {
    "tags": []
   },
   "outputs": [],
   "source": [
    "X_train_a_prep = prepare_X(X_observed_a, X_estimated_a, selected_features_a, wanted_months_a)\n",
    "X_train_a, y_train_a = resize_training_data(X_train_a_prep, y_a)\n",
    "X_test_a_prep = prepare_testdata_rf_a(X_test_a, selected_features_a)"
   ]
  },
  {
   "cell_type": "code",
   "execution_count": 24,
   "id": "831974e5-ed20-4d1e-bad7-404c583fb567",
   "metadata": {
    "tags": []
   },
   "outputs": [],
   "source": [
    "catboost_a = catboost_model(hyperparameters_a, X_train_a, X_test_a_prep, y_train_a)"
   ]
  },
  {
   "cell_type": "code",
   "execution_count": 25,
   "id": "cb2a68b9-cb54-46c8-bff2-69d90bc744e4",
   "metadata": {
    "tags": []
   },
   "outputs": [],
   "source": [
    "#catboost_a_cross_val_predictions,catboost_a_cross_val_actuals, catboost_a_cross_val_mae_mean = catboost_a.cross_val_stack(X_train_a, y_train_a)"
   ]
  },
  {
   "cell_type": "code",
   "execution_count": 26,
   "id": "367c8cbb-474a-46e7-9b89-9b9936420178",
   "metadata": {
    "tags": []
   },
   "outputs": [
    {
     "name": "stdout",
     "output_type": "stream",
     "text": [
      "Cross-validation scores: [303.86780044 293.98601187 300.27801501 285.79658624 190.90991341]\n",
      "Mean cross-validation score: 274.96766539331554\n"
     ]
    }
   ],
   "source": [
    "catboost_a.cross_validate(X_train_a, y_train_a)"
   ]
  },
  {
   "cell_type": "code",
   "execution_count": null,
   "id": "c68460cf-1af0-4072-8387-ab37453105eb",
   "metadata": {},
   "outputs": [],
   "source": [
    "catboost_a.fit()\n",
    "catboost_a.pred()\n",
    "catboost_a_test_pred = catboost_a.prediction\n",
    "catboost_a.feature_importence_plot()"
   ]
  },
  {
   "cell_type": "markdown",
   "id": "96c8357a-b081-4d8f-aab4-ce0e3919c6ad",
   "metadata": {},
   "source": [
    "# Dataset B"
   ]
  },
  {
   "cell_type": "code",
   "execution_count": null,
   "id": "29f5b474-033a-4afe-96a2-7217c74fd229",
   "metadata": {},
   "outputs": [],
   "source": [
    "selected_features_b = selected_features.copy()\n",
    "hyperparameters_b = hyperparameters\n",
    "wanted_months_b = wanted_months"
   ]
  },
  {
   "cell_type": "code",
   "execution_count": null,
   "id": "fa87aba1-4c74-4037-b9f3-301ef5008e11",
   "metadata": {},
   "outputs": [],
   "source": [
    "X_train_b_prep = prepare_X(X_observed_b.copy(), X_estimated_b.copy(), selected_features_b, wanted_months_b)\n",
    "X_train_b, y_train_b = resize_training_data(X_train_b_prep, y_b)\n",
    "X_test_b_prep = prepare_testdata_rf_a(X_test_b, selected_features_b)\n",
    "#X_train_b, y_train_b = add_a_to_the_other_datasets_nan(X_train_a.copy(), y_train_a.copy(), X_train_b.copy(), y_train_b.copy())"
   ]
  },
  {
   "cell_type": "code",
   "execution_count": null,
   "id": "3bfe812e-69ae-4b9f-b481-c3a3e2b82b6b",
   "metadata": {},
   "outputs": [],
   "source": [
    "catboost_b = catboost_model(hyperparameters_b, X_train_b, X_test_b_prep, y_train_b)"
   ]
  },
  {
   "cell_type": "code",
   "execution_count": null,
   "id": "0c860065-0b51-416a-8d38-3e2b64cd95cd",
   "metadata": {},
   "outputs": [],
   "source": [
    "catboost_b_cross_val_predictions,catboost_b_cross_val_actuals, catboost_b_cross_val_mae_mean = catboost_b.cross_val_stack(X_train_b, y_train_b)"
   ]
  },
  {
   "cell_type": "code",
   "execution_count": null,
   "id": "a5ee2e71-ef6b-407d-abc1-94009b8a509c",
   "metadata": {},
   "outputs": [],
   "source": [
    "#catboost_b.cross_validate(X_train_b, y_train_b)"
   ]
  },
  {
   "cell_type": "code",
   "execution_count": null,
   "id": "a7b51e2c-904b-49d4-b23a-740d872568ca",
   "metadata": {},
   "outputs": [],
   "source": [
    "catboost_b.fit()\n",
    "catboost_b.pred()\n",
    "catboost_b_test_pred = catboost_b.prediction\n",
    "catboost_b.feature_importence_plot()"
   ]
  },
  {
   "cell_type": "markdown",
   "id": "14da3ca2-e79e-43f5-8a76-7795362032c4",
   "metadata": {},
   "source": [
    "# Dataset C"
   ]
  },
  {
   "cell_type": "code",
   "execution_count": null,
   "id": "b5eb267e-fa31-4df7-a518-4e7aa11c9cc7",
   "metadata": {},
   "outputs": [],
   "source": [
    "selected_features_c = selected_features.copy()\n",
    "hyperparameters_c = hyperparameters\n",
    "wanted_months_c = wanted_months"
   ]
  },
  {
   "cell_type": "code",
   "execution_count": null,
   "id": "db453125-56bb-4698-9be2-b96568986758",
   "metadata": {},
   "outputs": [],
   "source": [
    "X_train_c_prep = prepare_X(X_observed_c, X_estimated_c, selected_features_c, wanted_months_c)\n",
    "X_train_c, y_train_c = resize_training_data(X_train_c_prep, y_c)\n",
    "X_test_c_prep = prepare_testdata_rf_a(X_test_c, selected_features_c)\n",
    "#X_train_c, y_train_c = add_a_to_the_other_datasets_nan(X_train_a.copy(), y_train_a.copy(), X_train_c.copy(), y_train_c.copy())"
   ]
  },
  {
   "cell_type": "code",
   "execution_count": null,
   "id": "0450bb0f-7cf1-4894-a421-65841c2dc48a",
   "metadata": {},
   "outputs": [],
   "source": [
    "catboost_c = catboost_model(hyperparameters_c, X_train_c, X_test_c_prep, y_train_c)"
   ]
  },
  {
   "cell_type": "code",
   "execution_count": null,
   "id": "b52f4a54-2272-4e86-abf5-661b94d239b6",
   "metadata": {},
   "outputs": [],
   "source": [
    "catboost_c_cross_val_predictions,catboost_c_cross_val_actuals, catboost_c_cross_val_mae_mean = catboost_c.cross_val_stack(X_train_c, y_train_c)"
   ]
  },
  {
   "cell_type": "code",
   "execution_count": null,
   "id": "e9aa6aa4-0568-49ae-a038-aebb7cd3909f",
   "metadata": {},
   "outputs": [],
   "source": [
    "#catboost_c.cross_validate(X_train_c, y_train_c)"
   ]
  },
  {
   "cell_type": "code",
   "execution_count": null,
   "id": "0edad3c5-d664-4e3a-8ca9-cc429db48273",
   "metadata": {},
   "outputs": [],
   "source": [
    "catboost_c.fit()\n",
    "catboost_c.pred()\n",
    "catboost_c_test_pred = catboost_c.prediction"
   ]
  }
 ],
 "metadata": {
  "kernelspec": {
   "display_name": "Python 3 (ipykernel)",
   "language": "python",
   "name": "python3"
  },
  "language_info": {
   "codemirror_mode": {
    "name": "ipython",
    "version": 3
   },
   "file_extension": ".py",
   "mimetype": "text/x-python",
   "name": "python",
   "nbconvert_exporter": "python",
   "pygments_lexer": "ipython3",
   "version": "3.11.4"
  }
 },
 "nbformat": 4,
 "nbformat_minor": 5
}
