{
 "cells": [
  {
   "cell_type": "code",
   "execution_count": 2,
   "id": "23826291-c84d-4a62-9567-5023d74a3413",
   "metadata": {},
   "outputs": [],
   "source": [
    "%load_ext autoreload\n",
    "#To update the imported files"
   ]
  },
  {
   "cell_type": "code",
   "execution_count": 4,
   "id": "8d97f887-ab2c-4d1c-99ab-35a0d95ef5a8",
   "metadata": {},
   "outputs": [
    {
     "name": "stderr",
     "output_type": "stream",
     "text": [
      "[autoreload of utilities_catboost failed: Traceback (most recent call last):\n",
      "  File \"/Users/simenfritzner/opt/anaconda3/lib/python3.9/site-packages/IPython/extensions/autoreload.py\", line 245, in check\n",
      "    superreload(m, reload, self.old_objects)\n",
      "  File \"/Users/simenfritzner/opt/anaconda3/lib/python3.9/site-packages/IPython/extensions/autoreload.py\", line 394, in superreload\n",
      "    module = reload(module)\n",
      "  File \"/Users/simenfritzner/opt/anaconda3/lib/python3.9/imp.py\", line 314, in reload\n",
      "    return importlib.reload(module)\n",
      "  File \"/Users/simenfritzner/opt/anaconda3/lib/python3.9/importlib/__init__.py\", line 169, in reload\n",
      "    _bootstrap._exec(spec, module)\n",
      "  File \"<frozen importlib._bootstrap>\", line 613, in _exec\n",
      "  File \"<frozen importlib._bootstrap_external>\", line 850, in exec_module\n",
      "  File \"<frozen importlib._bootstrap>\", line 228, in _call_with_frames_removed\n",
      "  File \"/Users/simenfritzner/Documents/Skole/Semester 5/Maskinlæring/ML_Task/TDT4173-ML-task/src/Models/Catboost/utilities_catboost.py\", line 2, in <module>\n",
      "    from catboost import CatBoostRegressor, Pool\n",
      "ModuleNotFoundError: No module named 'catboost'\n",
      "]\n"
     ]
    }
   ],
   "source": [
    "%autoreload\n",
    "import sys\n",
    "import warnings\n",
    "warnings.filterwarnings(\"ignore\")\n",
    "\n",
    "sys.path.insert(0, '../')\n",
    "from constants import *\n",
    "from utilities_catboost import *\n",
    "from utilities import *"
   ]
  },
  {
   "cell_type": "code",
   "execution_count": null,
   "id": "585306f9-6b47-40a3-bf02-40d34600bade",
   "metadata": {},
   "outputs": [],
   "source": [
    "hyperparameters = {'colsample_bytree': 0.7, 'learning_rate': 0.1, 'max_depth': 4, 'n_estimators': 100, 'objective': 'reg:squarederror', 'subsample': 0.7, 'eval_metric' : 'mae'}"
   ]
  },
  {
   "cell_type": "code",
   "execution_count": null,
   "id": "f59027c4-d5ad-49dc-8b1a-d426947df2bc",
   "metadata": {},
   "outputs": [],
   "source": [
    "selected_features_a = selected_features.copy()\n",
    "#selected_features_a.remove(\"direct_rad:W\")\n",
    "hyperparameters_a = hyperparameters\n",
    "wanted_months_a = wanted_months"
   ]
  },
  {
   "cell_type": "code",
   "execution_count": null,
   "id": "e4eb1e02-08d9-49b9-9926-82441de5eff7",
   "metadata": {},
   "outputs": [],
   "source": [
    "X_train_a_prep = prepare_X(X_observed_a, X_estimated_a, selected_features_a, wanted_months_a)\n",
    "X_train_a, y_train_a = resize_training_data(X_train_a_prep, y_a)\n",
    "X_test_a_prep = prepare_testdata_rf_a(X_test_a, selected_features_a)"
   ]
  },
  {
   "cell_type": "code",
   "execution_count": null,
   "id": "831974e5-ed20-4d1e-bad7-404c583fb567",
   "metadata": {},
   "outputs": [],
   "source": [
    "catboost_a = catboost_model(hyperparameters_a, X_train_a, X_test_a_prep, y_train_a)"
   ]
  },
  {
   "cell_type": "code",
   "execution_count": null,
   "id": "cb2a68b9-cb54-46c8-bff2-69d90bc744e4",
   "metadata": {},
   "outputs": [],
   "source": [
    "catboost_a_cross_val_predictions,catboost_a_cross_val_actuals, catboost_a_cross_val_mae_mean = catboost_a.cross_val_stack(X_train_a, y_train_a)"
   ]
  },
  {
   "cell_type": "code",
   "execution_count": null,
   "id": "367c8cbb-474a-46e7-9b89-9b9936420178",
   "metadata": {},
   "outputs": [],
   "source": [
    "#catboost_a.cross_validate(X_train_a, y_train_a)"
   ]
  },
  {
   "cell_type": "code",
   "execution_count": null,
   "id": "c68460cf-1af0-4072-8387-ab37453105eb",
   "metadata": {},
   "outputs": [],
   "source": [
    "catboost_a.fit()\n",
    "catboost_a.pred()\n",
    "catboost_a_test_pred = catboost_a.prediction\n",
    "catboost_a.feature_importence_plot()"
   ]
  },
  {
   "cell_type": "code",
   "execution_count": null,
   "id": "5d0e65b4-fbfe-46eb-992c-a958cfb8cf25",
   "metadata": {},
   "outputs": [],
   "source": [
    "X_valid = X_train_a[-24*30:]\n",
    "X_train_a_reduced = X_train_a[:-24*30]\n",
    "y_train_a_reduced = y_train_a[:-24*30]\n",
    "y_valid = y_train_a[-24*30:]\n",
    "catboost_base = catboost_model(hyperparameters_a, X_train_a_reduced, X_test_a_prep, y_train_a_reduced)\n",
    "catboost_base.fit()\n",
    "catboost_base.pred(X_valid)\n",
    "mae = mean_absolute_error(y_valid[\"pv_measurement\"], catboost_base.pred_estimated)\n",
    "print(mae)\n",
    "import matplotlib.pyplot as plt\n",
    "\n",
    "# Again, assuming you have the following:\n",
    "# series_data - This is your pandas Series\n",
    "# ndarray1 - Your first NumPy array\n",
    "# ndarray2 - Your second NumPy array\n",
    "\n",
    "# Now plot all three with matplotlib\n",
    "plt.figure(figsize=(10,5))\n",
    "\n",
    "plt.plot(y_valid.index, y_valid[\"pv_measurement\"], label='Series Data', linewidth=2)\n",
    "plt.plot(y_valid.index, catboost_base.pred_estimated, label='catboost', linewidth=2)  # Assumes same index as series_data\n",
    "\n",
    "plt.legend()\n",
    "plt.title('Comparison of Series and Ndarrays')\n",
    "plt.xlabel('Index')\n",
    "plt.ylabel('Values')\n",
    "plt.show()\n",
    "catboost_base.feature_importence_plot()"
   ]
  },
  {
   "cell_type": "markdown",
   "id": "96c8357a-b081-4d8f-aab4-ce0e3919c6ad",
   "metadata": {},
   "source": [
    "# Dataset B"
   ]
  },
  {
   "cell_type": "code",
   "execution_count": null,
   "id": "29f5b474-033a-4afe-96a2-7217c74fd229",
   "metadata": {},
   "outputs": [],
   "source": [
    "selected_features_b = selected_features.copy()\n",
    "hyperparameters_b = hyperparameters\n",
    "wanted_months_b = wanted_months"
   ]
  },
  {
   "cell_type": "code",
   "execution_count": null,
   "id": "fa87aba1-4c74-4037-b9f3-301ef5008e11",
   "metadata": {},
   "outputs": [],
   "source": [
    "X_train_b_prep = prepare_X(X_observed_b.copy(), X_estimated_b.copy(), selected_features_b, wanted_months_b)\n",
    "X_train_b, y_train_b = resize_training_data(X_train_b_prep, y_b)\n",
    "X_test_b_prep = prepare_testdata_rf_a(X_test_b, selected_features_b)\n",
    "#X_train_b, y_train_b = add_a_to_the_other_datasets_nan(X_train_a.copy(), y_train_a.copy(), X_train_b.copy(), y_train_b.copy())"
   ]
  },
  {
   "cell_type": "code",
   "execution_count": null,
   "id": "3bfe812e-69ae-4b9f-b481-c3a3e2b82b6b",
   "metadata": {},
   "outputs": [],
   "source": [
    "catboost_b = catboost_model(hyperparameters_b, X_train_b, X_test_b_prep, y_train_b)"
   ]
  },
  {
   "cell_type": "code",
   "execution_count": null,
   "id": "0c860065-0b51-416a-8d38-3e2b64cd95cd",
   "metadata": {},
   "outputs": [],
   "source": [
    "catboost_b_cross_val_predictions,catboost_b_cross_val_actuals, catboost_b_cross_val_mae_mean = catboost_b.cross_val_stack(X_train_b, y_train_b)"
   ]
  },
  {
   "cell_type": "code",
   "execution_count": null,
   "id": "a5ee2e71-ef6b-407d-abc1-94009b8a509c",
   "metadata": {},
   "outputs": [],
   "source": [
    "#catboost_b.cross_validate(X_train_b, y_train_b)"
   ]
  },
  {
   "cell_type": "code",
   "execution_count": null,
   "id": "a7b51e2c-904b-49d4-b23a-740d872568ca",
   "metadata": {},
   "outputs": [],
   "source": [
    "catboost_b.fit()\n",
    "catboost_b.pred()\n",
    "catboost_b_test_pred = catboost_b.prediction\n",
    "catboost_b.feature_importence_plot()"
   ]
  },
  {
   "cell_type": "markdown",
   "id": "14da3ca2-e79e-43f5-8a76-7795362032c4",
   "metadata": {},
   "source": [
    "# Dataset C"
   ]
  },
  {
   "cell_type": "code",
   "execution_count": null,
   "id": "b5eb267e-fa31-4df7-a518-4e7aa11c9cc7",
   "metadata": {},
   "outputs": [],
   "source": [
    "selected_features_c = selected_features.copy()\n",
    "hyperparameters_c = hyperparameters\n",
    "wanted_months_c = wanted_months"
   ]
  },
  {
   "cell_type": "code",
   "execution_count": null,
   "id": "db453125-56bb-4698-9be2-b96568986758",
   "metadata": {},
   "outputs": [],
   "source": [
    "X_train_c_prep = prepare_X(X_observed_c, X_estimated_c, selected_features_c, wanted_months_c)\n",
    "X_train_c, y_train_c = resize_training_data(X_train_c_prep, y_c)\n",
    "X_test_c_prep = prepare_testdata_rf_a(X_test_c, selected_features_c)\n",
    "#X_train_c, y_train_c = add_a_to_the_other_datasets_nan(X_train_a.copy(), y_train_a.copy(), X_train_c.copy(), y_train_c.copy())"
   ]
  },
  {
   "cell_type": "code",
   "execution_count": null,
   "id": "0450bb0f-7cf1-4894-a421-65841c2dc48a",
   "metadata": {},
   "outputs": [],
   "source": [
    "catboost_c = catboost_model(hyperparameters_c, X_train_c, X_test_c_prep, y_train_c)"
   ]
  },
  {
   "cell_type": "code",
   "execution_count": null,
   "id": "b52f4a54-2272-4e86-abf5-661b94d239b6",
   "metadata": {},
   "outputs": [],
   "source": [
    "catboost_c_cross_val_predictions,catboost_c_cross_val_actuals, catboost_c_cross_val_mae_mean = catboost_c.cross_val_stack(X_train_c, y_train_c)"
   ]
  },
  {
   "cell_type": "code",
   "execution_count": null,
   "id": "e9aa6aa4-0568-49ae-a038-aebb7cd3909f",
   "metadata": {},
   "outputs": [],
   "source": [
    "#catboost_c.cross_validate(X_train_c, y_train_c)"
   ]
  },
  {
   "cell_type": "code",
   "execution_count": null,
   "id": "0edad3c5-d664-4e3a-8ca9-cc429db48273",
   "metadata": {},
   "outputs": [],
   "source": [
    "catboost_c.fit()\n",
    "catboost_c.pred()\n",
    "catboost_c_test_pred = catboost_c.prediction"
   ]
  }
 ],
 "metadata": {
  "kernelspec": {
   "display_name": "Python 3 (ipykernel)",
   "language": "python",
   "name": "python3"
  },
  "language_info": {
   "codemirror_mode": {
    "name": "ipython",
    "version": 3
   },
   "file_extension": ".py",
   "mimetype": "text/x-python",
   "name": "python",
   "nbconvert_exporter": "python",
   "pygments_lexer": "ipython3",
   "version": "3.9.13"
  }
 },
 "nbformat": 4,
 "nbformat_minor": 5
}
