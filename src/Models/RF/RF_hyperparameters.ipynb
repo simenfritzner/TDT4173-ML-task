{
 "cells": [
  {
   "cell_type": "code",
   "execution_count": 1,
   "id": "51e03cab-62dd-4439-a5ba-63584ff04cdc",
   "metadata": {},
   "outputs": [],
   "source": [
    "%load_ext autoreload"
   ]
  },
  {
   "cell_type": "code",
   "execution_count": 2,
   "id": "215a5cc7-5941-44c4-9e3d-920e6c652450",
   "metadata": {},
   "outputs": [],
   "source": [
    "%autoreload\n",
    "import sys\n",
    "\n",
    "sys.path.insert(0, '../')\n",
    "from constants import *\n",
    "from utilities_RF import *\n",
    "\n",
    "from sklearn.ensemble import RandomForestRegressor\n",
    "from sklearn.metrics import make_scorer, mean_absolute_error\n",
    "from sklearn.model_selection import GridSearchCV\n"
   ]
  },
  {
   "cell_type": "code",
   "execution_count": 3,
   "id": "074bccd2-5e37-4d83-96f8-b3584cba34bc",
   "metadata": {},
   "outputs": [],
   "source": [
    "selected_features = [\"date_forecast\", 'direct_rad:W', 'direct_rad_1h:J', 'clear_sky_rad:W',\n",
    "                     'clear_sky_energy_1h:J', 'diffuse_rad:W', 'sun_elevation:d', 'is_in_shadow:idx', 'is_day:idx']\n",
    "X_train = pd.concat([clean_df(X_observed_a, selected_features), clean_df(X_estimated_a, selected_features)])\n",
    "X_train, y_train = resize_training_data(X_train,y_a)"
   ]
  },
  {
   "cell_type": "code",
   "execution_count": 4,
   "id": "eb05070d-1773-4f5d-b52b-e6dcbd2f6177",
   "metadata": {},
   "outputs": [
    {
     "name": "stderr",
     "output_type": "stream",
     "text": [
      "\n",
      "KeyboardInterrupt\n",
      "\n"
     ]
    }
   ],
   "source": [
    "# Define the parameter grid\n",
    "param_grid = {\n",
    "    'n_estimators': [50, 100, 200],\n",
    "    'max_depth': [None, 10, 20, 30],\n",
    "    'min_samples_split': [2, 5, 10],\n",
    "    'min_samples_leaf': [1, 2, 4]\n",
    "}\n",
    "\n",
    "# Create a Random Forest Regressor\n",
    "rf = RandomForestRegressor(random_state=42)\n",
    "\n",
    "# Create the scorer\n",
    "scorer = make_scorer(mean_absolute_error, greater_is_better=False)\n",
    "\n",
    "# Create the grid search\n",
    "grid_search = GridSearchCV(estimator=rf, param_grid=param_grid, scoring=scorer, cv=5)\n",
    "\n",
    "# Fit the grid search\n",
    "grid_search.fit(X_train, y_train[\"pv_measurement\"])\n",
    "\n",
    "# Get the best parameters\n",
    "best_params = grid_search.best_params_\n",
    "\n",
    "print(f\"Best parameters: {best_params}\")"
   ]
  },
  {
   "cell_type": "code",
   "execution_count": null,
   "id": "03b43063-95ca-46d6-a265-bdae8bf3ab88",
   "metadata": {},
   "outputs": [],
   "source": []
  }
 ],
 "metadata": {
  "kernelspec": {
   "display_name": "Python 3 (ipykernel)",
   "language": "python",
   "name": "python3"
  },
  "language_info": {
   "codemirror_mode": {
    "name": "ipython",
    "version": 3
   },
   "file_extension": ".py",
   "mimetype": "text/x-python",
   "name": "python",
   "nbconvert_exporter": "python",
   "pygments_lexer": "ipython3",
   "version": "3.11.4"
  }
 },
 "nbformat": 4,
 "nbformat_minor": 5
}
