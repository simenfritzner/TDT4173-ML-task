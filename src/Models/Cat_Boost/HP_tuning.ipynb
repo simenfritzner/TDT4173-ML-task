{
 "cells": [
  {
   "cell_type": "code",
   "execution_count": 3,
   "id": "be32ccf5-370e-4f14-a4e7-2668f90d62f5",
   "metadata": {
    "tags": []
   },
   "outputs": [],
   "source": [
    "%load_ext autoreload\n",
    "#To update the imported files"
   ]
  },
  {
   "cell_type": "code",
   "execution_count": 4,
   "id": "5b16437a-d247-4326-85c5-fc24feeaf10a",
   "metadata": {
    "tags": []
   },
   "outputs": [],
   "source": [
    "%autoreload\n",
    "import catboost as cb\n",
    "from sklearn.metrics import mean_squared_error\n",
    "from sklearn.model_selection import train_test_split\n",
    "import optuna\n",
    "\n",
    "import sys"
   ]
  },
  {
   "cell_type": "code",
   "execution_count": 5,
   "id": "764f3ce0-f2e1-4acb-91bc-ce8e04759477",
   "metadata": {
    "tags": []
   },
   "outputs": [],
   "source": [
    "import sys\n",
    "sys.path.insert(0, '../')\n",
    "from constants import *\n",
    "from utilities import *\n",
    "from utilities_CB import *"
   ]
  },
  {
   "cell_type": "code",
   "execution_count": 6,
   "id": "1f99bfab-0e06-4be3-995d-7b54ef5797a5",
   "metadata": {
    "tags": []
   },
   "outputs": [],
   "source": [
    "selected_features_a = selected_features.copy()\n",
    "selected_features_a.remove(\"direct_rad:W\")\n",
    "hyperparameters_a = {'max_depth': None, 'min_samples_leaf': 4, 'min_samples_split': 2, 'n_estimators': 200}\n",
    "wanted_months_a = wanted_months"
   ]
  },
  {
   "cell_type": "code",
   "execution_count": 7,
   "id": "84981087-5c3c-4b65-ab58-a3c9ef14808a",
   "metadata": {
    "tags": []
   },
   "outputs": [],
   "source": [
    "X_train_a_prep = prepare_X(X_observed_a, X_estimated_a, selected_features_a, wanted_months_a)\n",
    "X_train_a, y_train_a = resize_training_data(X_train_a_prep, y_a)\n",
    "X_test_a_prep = prepare_testdata_rf_a(X_test_a, selected_features_a)"
   ]
  },
  {
   "cell_type": "code",
   "execution_count": 8,
   "id": "f01f91c3-8604-4ff6-acca-b3ca2f9122ed",
   "metadata": {
    "tags": []
   },
   "outputs": [],
   "source": [
    "#Hyperparametertuning_CB_a = Hyperparametertuning_CB(X_train_a, y_train_a[\"pv_measurement\"])"
   ]
  },
  {
   "cell_type": "code",
   "execution_count": 12,
   "id": "d5af7f67-f0a2-4e1e-88c6-544e3cff8f02",
   "metadata": {
    "tags": []
   },
   "outputs": [],
   "source": [
    "Hyperparametertuning_CB_a = {\n",
    "    'learning_rate': 0.09397097456221813,\n",
    "    'depth': 10,\n",
    "    'subsample': 0.0606748466581659,\n",
    "    'colsample_bylevel': 0.9932978912580446,\n",
    "    'min_data_in_leaf': 60,\n",
    "    #'loss_function': 'MAE'  # Example loss function\n",
    "}\n"
   ]
  },
  {
   "cell_type": "code",
   "execution_count": 13,
   "id": "30ba4845-b410-4140-9979-82f51a773f8e",
   "metadata": {
    "tags": []
   },
   "outputs": [],
   "source": [
    "CB_a = catboost(Hyperparametertuning_CB_a, X_train_a, X_test_a_prep, y_train_a)"
   ]
  },
  {
   "cell_type": "code",
   "execution_count": 14,
   "id": "c9ca119f-bfb0-4737-ad18-cc28ca0a1121",
   "metadata": {
    "tags": []
   },
   "outputs": [
    {
     "name": "stdout",
     "output_type": "stream",
     "text": [
      "Cross-validation scores: [363.48051683 331.00634417 331.75755061 284.65602024 176.33548793]\n",
      "Mean cross-validation score: 297.4471839553795\n"
     ]
    }
   ],
   "source": [
    "CB_a.cross_validate(X_train_a, y_train_a)"
   ]
  },
  {
   "cell_type": "code",
   "execution_count": null,
   "id": "ed8996a9-735d-418c-aef5-43735ac310e4",
   "metadata": {},
   "outputs": [],
   "source": []
  }
 ],
 "metadata": {
  "kernelspec": {
   "display_name": "Python 3 (ipykernel)",
   "language": "python",
   "name": "python3"
  },
  "language_info": {
   "codemirror_mode": {
    "name": "ipython",
    "version": 3
   },
   "file_extension": ".py",
   "mimetype": "text/x-python",
   "name": "python",
   "nbconvert_exporter": "python",
   "pygments_lexer": "ipython3",
   "version": "3.11.4"
  }
 },
 "nbformat": 4,
 "nbformat_minor": 5
}
