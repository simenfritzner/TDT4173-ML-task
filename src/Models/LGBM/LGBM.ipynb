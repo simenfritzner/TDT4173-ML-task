{
 "cells": [
  {
   "cell_type": "code",
   "execution_count": 4,
   "id": "f81baca5-fdf6-4b8e-8250-85fc115af952",
   "metadata": {},
   "outputs": [
    {
     "name": "stdout",
     "output_type": "stream",
     "text": [
      "The autoreload extension is already loaded. To reload it, use:\n",
      "  %reload_ext autoreload\n"
     ]
    }
   ],
   "source": [
    "%load_ext autoreload\n",
    "#To update the imported files"
   ]
  },
  {
   "cell_type": "code",
   "execution_count": null,
   "id": "44c7ce91-52a0-4a88-9823-9557430cf594",
   "metadata": {},
   "outputs": [
    {
     "name": "stdout",
     "output_type": "stream",
     "text": [
      "Collecting lightgbm\n",
      "  Obtaining dependency information for lightgbm from https://files.pythonhosted.org/packages/b3/f8/ee33e36194eb03a76eccf3adac3fba51f0e56fbd20609bb531659d48d3cb/lightgbm-4.1.0-py3-none-win_amd64.whl.metadata\n",
      "  Downloading lightgbm-4.1.0-py3-none-win_amd64.whl.metadata (19 kB)\n",
      "Requirement already satisfied: numpy in c:\\users\\gustav\\anaconda3\\lib\\site-packages (from lightgbm) (1.24.3)\n",
      "Requirement already satisfied: scipy in c:\\users\\gustav\\anaconda3\\lib\\site-packages (from lightgbm) (1.10.1)\n",
      "Downloading lightgbm-4.1.0-py3-none-win_amd64.whl (1.3 MB)\n",
      "   ---------------------------------------- 0.0/1.3 MB ? eta -:--:--\n",
      "   ----- ---------------------------------- 0.2/1.3 MB 5.9 MB/s eta 0:00:01\n",
      "   -------------------- ------------------- 0.7/1.3 MB 8.7 MB/s eta 0:00:01\n",
      "   ---------------------------------------  1.3/1.3 MB 10.4 MB/s eta 0:00:01\n",
      "   ---------------------------------------- 1.3/1.3 MB 8.4 MB/s eta 0:00:00\n",
      "Installing collected packages: lightgbm\n",
      "Successfully installed lightgbm-4.1.0\n"
     ]
    }
   ],
   "source": [
    "!pip install lightgbm"
   ]
  },
  {
   "cell_type": "code",
   "execution_count": 5,
   "id": "a3458847-a095-452c-9ba9-6dc6e65b4a83",
   "metadata": {},
   "outputs": [],
   "source": [
    "%autoreload\n",
    "import os\n",
    "import pandas as pd\n",
    "import numpy as np\n",
    "import numpy as np\n",
    "import seaborn as sns\n",
    "import matplotlib.pylab as plt\n",
    "from sklearn.metrics import mean_absolute_error\n",
    "import lightgbm as lgb\n",
    "from LGBM_utilities import *\n",
    "%matplotlib inline\n",
    "\n",
    "pd.set_option('display.max_rows', 200)\n",
    "pd.set_option('display.max_columns', 200)"
   ]
  },
  {
   "cell_type": "markdown",
   "id": "337ef8a1-c6c6-4db7-90c8-b4cb60ee184a",
   "metadata": {},
   "source": [
    "# Loading in the data from file:"
   ]
  },
  {
   "cell_type": "code",
   "execution_count": null,
   "id": "828129c5-b4f4-4329-8008-6b37e29cc2fd",
   "metadata": {},
   "outputs": [],
   "source": [
    "#Loading the y-paramter from file, might be changed to y_a etc.\n",
    "y_a = pd.read_parquet('../Data_and_task/A/train_targets.parquet')\n",
    "y_b = pd.read_parquet('../Data_and_task/B/train_targets.parquet')\n",
    "y_c = pd.read_parquet('../Data_and_task/C/train_targets.parquet')\n",
    "y_b = y_b.dropna()\n",
    "y_c=y_c.dropna()"
   ]
  },
  {
   "cell_type": "code",
   "execution_count": null,
   "id": "f485f2e3-57f0-423a-ac22-6ab5a9968e4b",
   "metadata": {},
   "outputs": [],
   "source": [
    "#Loading estimated/forecasted training_weather from file\n",
    "X_estimated_a = pd.read_parquet('../Data_and_task/A/X_train_estimated.parquet')\n",
    "X_estimated_b = pd.read_parquet('../Data_and_task/B/X_train_estimated.parquet')\n",
    "X_estimated_c = pd.read_parquet('../Data_and_task/C/X_train_estimated.parquet')"
   ]
  },
  {
   "cell_type": "code",
   "execution_count": null,
   "id": "b4497f7f-0085-450b-9878-ad6f6a5d1fe3",
   "metadata": {},
   "outputs": [],
   "source": [
    "#Loading observed weather from file\n",
    "X_observed_a = pd.read_parquet('../Data_and_task/A/X_train_observed.parquet')\n",
    "X_observed_b = pd.read_parquet('../Data_and_task/B/X_train_observed.parquet')\n",
    "X_observed_c = pd.read_parquet('../Data_and_task/C/X_train_observed.parquet')"
   ]
  },
  {
   "cell_type": "code",
   "execution_count": null,
   "id": "f98ee2bb-b307-418b-9bfe-0220e023bb39",
   "metadata": {},
   "outputs": [],
   "source": [
    "#Loading estimated/forecasted test_weather from file\n",
    "X_test_a = pd.read_parquet('../Data_and_task/A/X_test_estimated.parquet')\n",
    "X_test_b = pd.read_parquet('../Data_and_task/B/X_test_estimated.parquet')\n",
    "X_test_c = pd.read_parquet('../Data_and_task/C/X_test_estimated.parquet')"
   ]
  },
  {
   "cell_type": "markdown",
   "id": "b49d5d5c-d7d8-4457-a6f4-63b46420b648",
   "metadata": {},
   "source": [
    "# Defining the features we want to keep for the model"
   ]
  },
  {
   "cell_type": "code",
   "execution_count": null,
   "id": "64fca55a-030e-4532-9184-9e15eb598f9d",
   "metadata": {},
   "outputs": [],
   "source": [
    "#Cleaning data such that only wanted features are included\n",
    "selected_features = [\"date_forecast\", \"direct_rad:W\", \"clear_sky_rad:W\" , \"diffuse_rad:W\",\"is_in_shadow:idx\", \"relative_humidity_1000hPa:p\"]"
   ]
  },
  {
   "cell_type": "code",
   "execution_count": null,
   "id": "40c03348-3a3b-4b41-864f-3116686287d5",
   "metadata": {},
   "outputs": [],
   "source": [
    "X_estimated_clean = "
   ]
  },
  {
   "cell_type": "code",
   "execution_count": null,
   "id": "c46dd18c-fbbf-4140-8f92-67a57118d69c",
   "metadata": {},
   "outputs": [],
   "source": [
    "# Create the dataset object for LightGBM\n",
    "d_train = lgb.Dataset(X_train, label=y_train)\n",
    "\n",
    "# Define the parameters. You might want to tune these\n",
    "params = {\n",
    "    'objective': 'regression',\n",
    "    'metric': 'rmse',\n",
    "    'boosting_type': 'gbdt',\n",
    "    'num_leaves': 31,\n",
    "    'learning_rate': 0.05,\n",
    "    'feature_fraction': 0.9\n",
    "}\n",
    "\n",
    "model = lgb.train(params, d_train, 100)  # 100 is the number of boosting rounds\n"
   ]
  }
 ],
 "metadata": {
  "kernelspec": {
   "display_name": "Python 3 (ipykernel)",
   "language": "python",
   "name": "python3"
  },
  "language_info": {
   "codemirror_mode": {
    "name": "ipython",
    "version": 3
   },
   "file_extension": ".py",
   "mimetype": "text/x-python",
   "name": "python",
   "nbconvert_exporter": "python",
   "pygments_lexer": "ipython3",
   "version": "3.11.4"
  }
 },
 "nbformat": 4,
 "nbformat_minor": 5
}
