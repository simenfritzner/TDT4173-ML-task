{
 "cells": [
  {
   "cell_type": "code",
   "execution_count": 31,
   "metadata": {
    "executionInfo": {
     "elapsed": 378,
     "status": "ok",
     "timestamp": 1697187224467,
     "user": {
      "displayName": "Simen Fritzner",
      "userId": "09016032329545939855"
     },
     "user_tz": -120
    },
    "id": "-6w37fYn8ux_"
   },
   "outputs": [],
   "source": [
    "import lightgbm as lgb\n",
    "import numpy as np\n",
    "import pandas as pd\n",
    "from sklearn.preprocessing import StandardScaler\n",
    "from google.colab import drive"
   ]
  },
  {
   "cell_type": "code",
   "execution_count": 32,
   "metadata": {
    "executionInfo": {
     "elapsed": 3,
     "status": "ok",
     "timestamp": 1697187224468,
     "user": {
      "displayName": "Simen Fritzner",
      "userId": "09016032329545939855"
     },
     "user_tz": -120
    },
    "id": "1wH2fMz9824L"
   },
   "outputs": [],
   "source": [
    "def training_data_split(X_observed_clean, X_estimated_clean_mean):\n",
    "    X_train_estimated = X_estimated_clean_mean[:int(X_estimated_clean_mean.shape[0] * 3 / 4)]\n",
    "    X_valid = X_estimated_clean_mean[int(X_estimated_clean_mean.shape[0] * 3 / 4):int(X_estimated_clean_mean.shape[0] * 9 / 10)]\n",
    "    X_test = X_estimated_clean_mean[int(X_estimated_clean_mean.shape[0] * 9 / 10):]\n",
    "\n",
    "    X_train = pd.concat([X_observed_clean, X_train_estimated])\n",
    "    return X_train, X_valid, X_test\n",
    "\n",
    "#A function which takes the mean out of every 4th column and saves it on the time on the time of the 4th. Makes it so it is every hour.\n",
    "#TODO: Should be swapped for Gustavs code!\n",
    "def mean_df(df):\n",
    "    # Assuming df is your DataFrame and 'date_forecast' is your date column\n",
    "    # Making a copy of the DataFrame to avoid modifying the original data\n",
    "    df_copy = df.copy()\n",
    "\n",
    "    # Step 1: Keeping every 4th row in the date column\n",
    "    date_column = df_copy['date_forecast'].iloc[::4]\n",
    "\n",
    "    # Step 2: Creating a grouping key\n",
    "    grouping_key = np.floor(np.arange(len(df_copy)) / 4)\n",
    "\n",
    "    # Step 3: Group by the key and calculate the mean, excluding the date column\n",
    "    averaged_data = df_copy.drop(columns=['date_forecast']).groupby(grouping_key).mean()\n",
    "\n",
    "    # Step 4: Reset index and merge the date column\n",
    "    averaged_data.reset_index(drop=True, inplace=True)\n",
    "    averaged_data['date_forecast'] = date_column.values\n",
    "    return averaged_data\n",
    "\n",
    "#Removes all features from a df except selected_features\n",
    "def clean_df(df, selected_features):\n",
    "    return df[selected_features]\n",
    "\n",
    "  #Scales all the feature value in a way they take a simmilar range\n",
    "def scale_df(df):\n",
    "    scaler = StandardScaler()\n",
    "    df = scaler.fit_transform(df)\n",
    "    return df\n",
    "\n",
    "#Function which resizes the training data such that only the rows with the same date and time for weather is kept.\n",
    "#X_train is either observed or forcasted weather and y_train is how much energy is produced.\n",
    "#y_features are a list containing the column names of y_train\n",
    "#X_date_feature is the feature name which the date and time for the weather is savew. This will probably always be \"date_forecast\" and may be changed\n",
    "def resize_training_data(X_train, y_train):\n",
    "    y_features = y_train.columns.tolist()\n",
    "    X_date_feature = \"date_forecast\"\n",
    "\n",
    "    merged = pd.merge(X_train, y_train,left_on=X_date_feature, right_on='time', how='inner')\n",
    "    y_train_resized = merged[y_features]\n",
    "    columns_to_drop = y_features + [X_date_feature]\n",
    "    X_train_resized = merged.drop(columns = columns_to_drop)\n",
    "    return X_train_resized, y_train_resized"
   ]
  },
  {
   "cell_type": "code",
   "execution_count": 33,
   "metadata": {
    "executionInfo": {
     "elapsed": 2,
     "status": "ok",
     "timestamp": 1697187224468,
     "user": {
      "displayName": "Simen Fritzner",
      "userId": "09016032329545939855"
     },
     "user_tz": -120
    },
    "id": "O-di1dGN_Wk6"
   },
   "outputs": [],
   "source": [
    "selected_features = [\"date_forecast\", \"direct_rad:W\", \"clear_sky_rad:W\" , \"diffuse_rad:W\",\"is_in_shadow:idx\", \"relative_humidity_1000hPa:p\"]"
   ]
  },
  {
   "cell_type": "code",
   "execution_count": 34,
   "metadata": {
    "executionInfo": {
     "elapsed": 2758,
     "status": "ok",
     "timestamp": 1697187227224,
     "user": {
      "displayName": "Simen Fritzner",
      "userId": "09016032329545939855"
     },
     "user_tz": -120
    },
    "id": "vShhWkmc8-Lz"
   },
   "outputs": [],
   "source": [
    "y = pd.read_parquet('/content/drive/MyDrive/Colab Notebooks/ML/C/train_targets.parquet')\n",
    "X_estimated= pd.read_parquet('/content/drive/MyDrive/Colab Notebooks/ML/C/X_train_estimated.parquet')\n",
    "X_observed= pd.read_parquet('/content/drive/MyDrive/Colab Notebooks/ML/C/X_train_observed.parquet')\n",
    "X_test_real = pd.read_parquet('/content/drive/MyDrive/Colab Notebooks/ML/C/X_test_estimated.parquet')"
   ]
  },
  {
   "cell_type": "code",
   "execution_count": 35,
   "metadata": {
    "executionInfo": {
     "elapsed": 14,
     "status": "ok",
     "timestamp": 1697187227224,
     "user": {
      "displayName": "Simen Fritzner",
      "userId": "09016032329545939855"
     },
     "user_tz": -120
    },
    "id": "fnN0GnDo-3nB"
   },
   "outputs": [],
   "source": [
    "X_estimated_clean = clean_df(X_estimated, selected_features)\n",
    "X_observed_clean = clean_df(X_observed, selected_features)\n",
    "X_test_real_clean = clean_df(X_test_real, selected_features)\n",
    "X_estimated_clean_mean = mean_df(X_estimated_clean)\n",
    "X_test_real_clean_mean = mean_df(X_test_real_clean)"
   ]
  },
  {
   "cell_type": "code",
   "execution_count": 36,
   "metadata": {
    "executionInfo": {
     "elapsed": 12,
     "status": "ok",
     "timestamp": 1697187227224,
     "user": {
      "displayName": "Simen Fritzner",
      "userId": "09016032329545939855"
     },
     "user_tz": -120
    },
    "id": "T8o-GT7B_h9-"
   },
   "outputs": [],
   "source": [
    "X_train, X_valid, X_test = training_data_split(X_observed_clean, X_estimated_clean_mean)"
   ]
  },
  {
   "cell_type": "code",
   "execution_count": 37,
   "metadata": {
    "executionInfo": {
     "elapsed": 11,
     "status": "ok",
     "timestamp": 1697187227224,
     "user": {
      "displayName": "Simen Fritzner",
      "userId": "09016032329545939855"
     },
     "user_tz": -120
    },
    "id": "4WwB-nVUAAV8"
   },
   "outputs": [],
   "source": [
    "X_train, y_train = resize_training_data(X_train, y)\n",
    "X_valid, y_valid = resize_training_data(X_valid, y)\n",
    "X_test, y_test = resize_training_data(X_test, y)\n",
    "\n",
    "import re\n",
    "\n",
    "# Clean column names by removing special characters\n",
    "X_train.columns = [re.sub(r'[\\\\\":,{}]', '', col) for col in X_train.columns]"
   ]
  },
  {
   "cell_type": "markdown",
   "metadata": {
    "id": "vKo8CNzNGAVB"
   },
   "source": [
    "# **Scaling made it worse**"
   ]
  },
  {
   "cell_type": "code",
   "execution_count": 38,
   "metadata": {
    "executionInfo": {
     "elapsed": 11,
     "status": "ok",
     "timestamp": 1697187227224,
     "user": {
      "displayName": "Simen Fritzner",
      "userId": "09016032329545939855"
     },
     "user_tz": -120
    },
    "id": "x5zljVdxDsq-"
   },
   "outputs": [],
   "source": [
    "#X_train = scale_df(X_train)\n",
    "#X_valid = scale_df(X_valid)\n",
    "#X_test = scale_df(X_test)\n",
    "#X_test_real = scale_df(X_test_real_clean.drop(columns = [\"date_forecast\"]))"
   ]
  },
  {
   "cell_type": "code",
   "execution_count": 39,
   "metadata": {
    "colab": {
     "base_uri": "https://localhost:8080/",
     "height": 89
    },
    "executionInfo": {
     "elapsed": 12,
     "status": "ok",
     "timestamp": 1697187227225,
     "user": {
      "displayName": "Simen Fritzner",
      "userId": "09016032329545939855"
     },
     "user_tz": -120
    },
    "id": "mBHeyQ6oAJFO",
    "outputId": "4d0f0077-2dc1-430d-8cb6-75cd7b3f705b"
   },
   "outputs": [
    {
     "data": {
      "application/vnd.google.colaboratory.intrinsic+json": {
       "type": "string"
      },
      "text/plain": [
       "'\\n# Create the dataset object for LightGBM\\nd_train = lgb.Dataset(X_train, label=y_train[\"pv_measurement\"])\\n\\n# Define the parameters. You might want to tune these\\nparams = {\\n    \\'objective\\': \\'regression\\',\\n    \\'metric\\': \\'mae\\',\\n    \\'boosting_type\\': \\'gbdt\\',\\n    \\'num_leaves\\': 10,\\n    \\'learning_rate\\': 0.1,\\n    \\'feature_fraction\\': 0.9\\n}\\n\\nmodel = lgb.train(params, d_train, 100)  # 100 is the number of boosting rounds'"
      ]
     },
     "execution_count": 39,
     "metadata": {},
     "output_type": "execute_result"
    }
   ],
   "source": [
    "\"\"\"\n",
    "# Create the dataset object for LightGBM\n",
    "d_train = lgb.Dataset(X_train, label=y_train[\"pv_measurement\"])\n",
    "\n",
    "# Define the parameters. You might want to tune these\n",
    "params = {\n",
    "    'objective': 'regression',\n",
    "    'metric': 'mae',\n",
    "    'boosting_type': 'gbdt',\n",
    "    'num_leaves': 10,\n",
    "    'learning_rate': 0.1,\n",
    "    'feature_fraction': 0.9\n",
    "}\n",
    "\n",
    "model = lgb.train(params, d_train, 100)  # 100 is the number of boosting rounds\"\"\""
   ]
  },
  {
   "cell_type": "code",
   "execution_count": 40,
   "metadata": {
    "colab": {
     "base_uri": "https://localhost:8080/",
     "height": 71
    },
    "executionInfo": {
     "elapsed": 9,
     "status": "ok",
     "timestamp": 1697187227225,
     "user": {
      "displayName": "Simen Fritzner",
      "userId": "09016032329545939855"
     },
     "user_tz": -120
    },
    "id": "QKSkklGOBFbi",
    "outputId": "0e122ac6-3816-4c71-b560-5882a89b45bf"
   },
   "outputs": [
    {
     "data": {
      "application/vnd.google.colaboratory.intrinsic+json": {
       "type": "string"
      },
      "text/plain": [
       "'from sklearn.metrics import mean_absolute_error\\n\\n# Predicting on the test set\\ny_pred = model.predict(X_test)\\ny_pred[y_pred < 6.2] = 0\\n# Calculating the MAE\\nmae = mean_absolute_error(y_test[\"pv_measurement\"], y_pred)\\n#print(y_pred)\\nprint(f\"Mean Absolute Error (MAE) on the predictions: {mae}\")'"
      ]
     },
     "execution_count": 40,
     "metadata": {},
     "output_type": "execute_result"
    }
   ],
   "source": [
    "\"\"\"from sklearn.metrics import mean_absolute_error\n",
    "\n",
    "# Predicting on the test set\n",
    "y_pred = model.predict(X_test)\n",
    "y_pred[y_pred < 6.2] = 0\n",
    "# Calculating the MAE\n",
    "mae = mean_absolute_error(y_test[\"pv_measurement\"], y_pred)\n",
    "#print(y_pred)\n",
    "print(f\"Mean Absolute Error (MAE) on the predictions: {mae}\")\"\"\""
   ]
  },
  {
   "cell_type": "code",
   "execution_count": 41,
   "metadata": {
    "colab": {
     "base_uri": "https://localhost:8080/",
     "output_embedded_package_id": "1GaBZ9L_WzuYtK-l-bc5-G5aPx4e0xGht"
    },
    "executionInfo": {
     "elapsed": 137051,
     "status": "ok",
     "timestamp": 1697187364268,
     "user": {
      "displayName": "Simen Fritzner",
      "userId": "09016032329545939855"
     },
     "user_tz": -120
    },
    "id": "A_v-9DHiCGU7",
    "outputId": "cb86817d-b1a4-4664-cd10-c2fbed342e4f"
   },
   "outputs": [
    {
     "data": {
      "text/plain": [
       "Output hidden; open in https://colab.research.google.com to view."
      ]
     },
     "metadata": {},
     "output_type": "display_data"
    }
   ],
   "source": [
    "from sklearn.model_selection import GridSearchCV\n",
    "\n",
    "# Define the parameter grid\n",
    "param_grid = {\n",
    "    'num_leaves': [31, 127],\n",
    "    'reg_alpha': [0.1, 0.5],\n",
    "    'min_data_in_leaf': [30, 50, 100, 300, 400],\n",
    "    'lambda_l1': [0, 1, 1.5],\n",
    "    'lambda_l2': [0, 1]\n",
    "}\n",
    "\n",
    "# Create a LightGBM model\n",
    "estimator = lgb.LGBMRegressor(boosting_type='gbdt', objective='regression', metric='rmse', learning_rate=0.05)\n",
    "\n",
    "# Create the grid search object\n",
    "gsearch = GridSearchCV(estimator, param_grid, cv=3)\n",
    "\n",
    "# Fit models\n",
    "gsearch.fit(X_train, y_train[\"pv_measurement\"])\n",
    "\n",
    "# Print the best parameters found\n",
    "print(gsearch.best_params_)\n",
    "\n",
    "#{'lambda_l1': 1.5, 'lambda_l2': 0, 'min_data_in_leaf': 400, 'num_leaves': 31, 'reg_alpha': 0.1}"
   ]
  },
  {
   "cell_type": "code",
   "execution_count": 42,
   "metadata": {
    "colab": {
     "base_uri": "https://localhost:8080/"
    },
    "executionInfo": {
     "elapsed": 89,
     "status": "ok",
     "timestamp": 1697187364269,
     "user": {
      "displayName": "Simen Fritzner",
      "userId": "09016032329545939855"
     },
     "user_tz": -120
    },
    "id": "Gj70rEaFC1nu",
    "outputId": "bf1b420a-2733-43c7-b16f-aa1d4ea05f04"
   },
   "outputs": [
    {
     "name": "stdout",
     "output_type": "stream",
     "text": [
      "[LightGBM] [Warning] min_data_in_leaf is set=30, min_child_samples=20 will be ignored. Current value: min_data_in_leaf=30\n",
      "[LightGBM] [Warning] lambda_l2 is set=0, reg_lambda=0.0 will be ignored. Current value: lambda_l2=0\n",
      "[LightGBM] [Warning] lambda_l1 is set=0, reg_alpha=0.1 will be ignored. Current value: lambda_l1=0\n"
     ]
    }
   ],
   "source": [
    "best_model = gsearch.best_estimator_\n",
    "predictions = best_model.predict(X_test_real_clean_mean.drop(columns = [\"date_forecast\"]))"
   ]
  },
  {
   "cell_type": "code",
   "execution_count": 43,
   "metadata": {
    "executionInfo": {
     "elapsed": 4,
     "status": "ok",
     "timestamp": 1697187364269,
     "user": {
      "displayName": "Simen Fritzner",
      "userId": "09016032329545939855"
     },
     "user_tz": -120
    },
    "id": "ewrcZbOcPOH-"
   },
   "outputs": [],
   "source": [
    "#predictions.shape"
   ]
  },
  {
   "cell_type": "code",
   "execution_count": 44,
   "metadata": {
    "executionInfo": {
     "elapsed": 4,
     "status": "ok",
     "timestamp": 1697187364269,
     "user": {
      "displayName": "Simen Fritzner",
      "userId": "09016032329545939855"
     },
     "user_tz": -120
    },
    "id": "xO21KKR7MDFL"
   },
   "outputs": [],
   "source": [
    "np.save('X_test_c.npy', predictions)"
   ]
  },
  {
   "cell_type": "code",
   "execution_count": 45,
   "metadata": {
    "executionInfo": {
     "elapsed": 3,
     "status": "ok",
     "timestamp": 1697187364269,
     "user": {
      "displayName": "Simen Fritzner",
      "userId": "09016032329545939855"
     },
     "user_tz": -120
    },
    "id": "kzYugmvPC3UQ"
   },
   "outputs": [],
   "source": [
    "#predictions = predictions.clip(min = 0, max = None)\n",
    "#mae = mean_absolute_error(y_test[\"pv_measurement\"], predictions)\n",
    "\n",
    "#print(f\"Mean Absolute Error (MAE) on the predictions: {mae}\")"
   ]
  }
 ],
 "metadata": {
  "colab": {
   "authorship_tag": "ABX9TyMOwfc4dMxxEbiNrpEw1Lvd",
   "mount_file_id": "16XIpcUL_gkfTjU1QgUDEP-eJvwyf934Y",
   "provenance": []
  },
  "kernelspec": {
   "display_name": "Python 3 (ipykernel)",
   "language": "python",
   "name": "python3"
  },
  "language_info": {
   "codemirror_mode": {
    "name": "ipython",
    "version": 3
   },
   "file_extension": ".py",
   "mimetype": "text/x-python",
   "name": "python",
   "nbconvert_exporter": "python",
   "pygments_lexer": "ipython3",
   "version": "3.9.13"
  }
 },
 "nbformat": 4,
 "nbformat_minor": 4
}
