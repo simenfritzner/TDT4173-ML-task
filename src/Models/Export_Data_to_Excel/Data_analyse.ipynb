{
 "cells": [
  {
   "cell_type": "code",
   "execution_count": 29,
   "metadata": {
    "executionInfo": {
     "elapsed": 239,
     "status": "ok",
     "timestamp": 1697207503163,
     "user": {
      "displayName": "Simen Fritzner",
      "userId": "09016032329545939855"
     },
     "user_tz": -120
    },
    "id": "khXBbRzeGcwy",
    "tags": []
   },
   "outputs": [
    {
     "name": "stdout",
     "output_type": "stream",
     "text": [
      "The autoreload extension is already loaded. To reload it, use:\n",
      "  %reload_ext autoreload\n"
     ]
    }
   ],
   "source": [
    "%load_ext autoreload\n",
    "#To update the imported files"
   ]
  },
  {
   "cell_type": "code",
   "execution_count": 51,
   "metadata": {
    "tags": []
   },
   "outputs": [],
   "source": [
    "%autoreload\n",
    "import sys\n",
    "\n",
    "sys.path.insert(0, '../')\n",
    "from constants import *\n",
    "from utilities import *"
   ]
  },
  {
   "cell_type": "code",
   "execution_count": 31,
   "metadata": {
    "tags": []
   },
   "outputs": [],
   "source": [
    "#X_estimated_a.to_excel('X_estimated_a.xlsx', index=False, engine='openpyxl')\n",
    "#X_estimated_b.to_excel('X_estimated_b.xlsx', index=False, engine='openpyxl')\n",
    "#X_estimated_c.to_excel('X_estimated_c.xlsx', index=False, engine='openpyxl')"
   ]
  },
  {
   "cell_type": "code",
   "execution_count": 32,
   "metadata": {
    "tags": []
   },
   "outputs": [],
   "source": [
    "#X_observed_a.to_excel('X_observed_a.xlsx', index=False, engine='openpyxl')\n",
    "#X_observed_b.to_excel('X_observed_b.xlsx', index=False, engine='openpyxl')\n",
    "#X_observed_c.to_excel('X_observed_c.xlsx', index=False, engine='openpyxl')"
   ]
  },
  {
   "cell_type": "code",
   "execution_count": 33,
   "metadata": {
    "tags": []
   },
   "outputs": [],
   "source": [
    "#X_test_a.to_excel('X_test_a.xlsx', index=False, engine='openpyxl')\n",
    "#X_test_b.to_excel('X_test_b.xlsx', index=False, engine='openpyxl') \n",
    "#X_test_c.to_excel('X_test_c.xlsx', index=False, engine='openpyxl')"
   ]
  },
  {
   "cell_type": "code",
   "execution_count": 34,
   "metadata": {
    "tags": []
   },
   "outputs": [],
   "source": [
    "x_estimated_a_March = X_estimated_a.iloc[14696:]\n",
    "#x_estimated_a_Mai \n",
    "#x_estimated_a_Juni\n",
    "#x_estimated_a_Juli\n",
    "\n",
    "x_estimated_b_March = X_estimated_b.iloc[14696:]\n",
    "#x_estimated_b_Mai \n",
    "#x_estimated_b_Juni\n",
    "#x_estimated_b_Juli\n",
    "\n",
    "x_estimated_c_March = X_estimated_c.iloc[14696:]\n",
    "#x_estimated_c_Mai \n",
    "#x_estimated_c_Juni\n",
    "#x_estimated_c_Juli"
   ]
  },
  {
   "cell_type": "code",
   "execution_count": 35,
   "metadata": {
    "tags": []
   },
   "outputs": [],
   "source": [
    "#Subset for March in X_observed_a\n",
    "March_subset_1_X_observed_a = X_observed_a.iloc[29098-2:31977-1]  # Note that Python is 0-indexed and the ending index is exclusive\n",
    "March_subset_2_X_observed_a = X_observed_a.iloc[64138-2:67017-1]\n",
    "March_subset_3_X_observed_a = X_observed_a.iloc[99178-2:102057-1]\n",
    "\n",
    "# Concatenate subsets for March\n",
    "March_subset_X_observed_a = pd.concat([March_subset_1_X_observed_a, March_subset_2_X_observed_a, March_subset_3_X_observed_a])\n",
    "\n",
    "#Subset for March in X_observed_a for Mai\n",
    "Mai_subset_1_X_observed_a = X_observed_a.iloc[31978-2:34953-1]  \n",
    "Mai_subset_2_X_observed_a = X_observed_a.iloc[67018-2:69993-1]  \n",
    "Mai_subset_3_X_observed_a = X_observed_a.iloc[102058-2:105033-1]  \n",
    "\n",
    "# Concatenate subsets for Mai\n",
    "Mai_subset_X_observed_a = pd.concat([Mai_subset_1_X_observed_a, Mai_subset_2_X_observed_a, Mai_subset_3_X_observed_a])\n",
    "\n",
    "#Subset for Juni in X_observed_a \n",
    "Juni_subset_1_X_observed_a = X_observed_a.iloc[2-2:2697-1]  \n",
    "Juni_subset_2_X_observed_a = X_observed_a.iloc[34954-2:37833-1]  \n",
    "Juni_subset_3_X_observed_a = X_observed_a.iloc[69994-2:72873-1] \n",
    "Juni_subset_4_X_observed_a = X_observed_a.iloc[105034-2:107923-1] \n",
    "\n",
    "# Concatenate subsets for Juni\n",
    "Juni_subset_X_observed_a = pd.concat([Juni_subset_1_X_observed_a, Juni_subset_2_X_observed_a, Juni_subset_3_X_observed_a, Juni_subset_4_X_observed_a])\n",
    "\n",
    "#Subset for March in X_observed_a \n",
    "July_subset_1_X_observed_a = X_observed_a.iloc[2698-2:5673-1]  \n",
    "July_subset_2_X_observed_a = X_observed_a.iloc[37834-2:40809-1]  \n",
    "July_subset_3_X_observed_a = X_observed_a.iloc[72874-2:75844-1]  \n",
    "July_subset_4_X_observed_a = X_observed_a.iloc[107914-2:110889-1]  \n",
    "\n",
    "# Concatenate subsets for July\n",
    "July_subset_X_observed_a = pd.concat([July_subset_1_X_observed_a, July_subset_2_X_observed_a, July_subset_3_X_observed_a, July_subset_4_X_observed_a])\n",
    "\n",
    "# Concatenate subsets for all dates \n",
    "subset_X_observed_a = pd.concat([March_subset_X_observed_a, Mai_subset_X_observed_a, Juni_subset_X_observed_a, July_subset_X_observed_a])"
   ]
  },
  {
   "cell_type": "code",
   "execution_count": 36,
   "metadata": {
    "tags": []
   },
   "outputs": [],
   "source": [
    "#March_subset_1_X_observed_a.to_excel('March_subset_1_X_observed_a.xlsx', index=False, engine='openpyxl')\n",
    "#March_subset_2_X_observed_a.to_excel('March_subset_2_X_observed_a.xlsx', index=False, engine='openpyxl')\n",
    "#March_subset_3_X_observed_a.to_excel('March_subset_3_X_observed_a.xlsx', index=False, engine='openpyxl')\n",
    "\n",
    "#subset_X_observed_a.to_excel('subset_X_observed_a.xlsx', index=False, engine='openpyxl')"
   ]
  },
  {
   "cell_type": "code",
   "execution_count": 37,
   "metadata": {
    "tags": []
   },
   "outputs": [],
   "source": [
    "#Subset for March in X_observed_b\n",
    "March_subset_1_X_observed_b = X_observed_b.iloc[8642-2:11521-1]  # Note that Python is 0-indexed and the ending index is exclusive\n",
    "March_subset_2_X_observed_b = X_observed_b.iloc[43778-2:46657-1]\n",
    "March_subset_3_X_observed_b = X_observed_b.iloc[78818-2:81697-1]\n",
    "March_subset_4_X_observed_b = X_observed_b.iloc[113858-2:116737-1]\n",
    "\n",
    "# Concatenate subsets for March\n",
    "March_subset_X_observed_b = pd.concat([March_subset_1_X_observed_b, March_subset_2_X_observed_b, March_subset_3_X_observed_b])\n",
    "\n",
    "#Subset for March in X_observed_b for Mai\n",
    "Mai_subset_1_X_observed_b = X_observed_b.iloc[11522-2:14497-1]  \n",
    "Mai_subset_2_X_observed_b = X_observed_b.iloc[46658-2:49633-1]  \n",
    "Mai_subset_3_X_observed_b = X_observed_b.iloc[81698-2:84673-1]  \n",
    "Mai_subset_4_X_observed_b = X_observed_b.iloc[116738-2:]   #to 116930\n",
    "\n",
    "# Concatenate subsets for Mai\n",
    "Mai_subset_X_observed_b = pd.concat([Mai_subset_1_X_observed_b, Mai_subset_2_X_observed_b, Mai_subset_3_X_observed_b])\n",
    "\n",
    "#Subset for Juni in X_observed_a \n",
    "Juni_subset_1_X_observed_b = X_observed_b.iloc[14498-2:17377-1]  \n",
    "Juni_subset_2_X_observed_b = X_observed_b.iloc[49634-2:52513-1]  \n",
    "Juni_subset_3_X_observed_b = X_observed_b.iloc[84674-2:87553-1] \n",
    "\n",
    "# Concatenate subsets for Juni\n",
    "Juni_subset_X_observed_b = pd.concat([Juni_subset_1_X_observed_b, Juni_subset_2_X_observed_b, Juni_subset_3_X_observed_b])\n",
    "\n",
    "#Subset for March in X_observed_a \n",
    "July_subset_1_X_observed_b = X_observed_b.iloc[17378-2:20353-1]  \n",
    "July_subset_2_X_observed_b = X_observed_b.iloc[52514-2:55489-1]  \n",
    "July_subset_3_X_observed_b = X_observed_b.iloc[87554-2:90529-1]  \n",
    "\n",
    "# Concatenate subsets for July\n",
    "July_subset_X_observed_b = pd.concat([July_subset_1_X_observed_b, July_subset_2_X_observed_b, July_subset_3_X_observed_b])\n",
    "\n",
    "# Concatenate subsets for all dates \n",
    "subset_X_observed_b = pd.concat([March_subset_X_observed_b, Mai_subset_X_observed_b, Juni_subset_X_observed_b, July_subset_X_observed_b])"
   ]
  },
  {
   "cell_type": "code",
   "execution_count": null,
   "metadata": {
    "tags": []
   },
   "outputs": [],
   "source": []
  },
  {
   "cell_type": "code",
   "execution_count": 38,
   "metadata": {},
   "outputs": [],
   "source": [
    "#Subset for March in X_observed_c\n",
    "March_subset_1_X_observed_c = X_observed_c.iloc[8642-2:11521-1]  # Note that Python is 0-indexed and the ending index is exclusive\n",
    "March_subset_2_X_observed_c = X_observed_c.iloc[43778-2:46657-1]\n",
    "March_subset_3_X_observed_c = X_observed_c.iloc[78818-2:81697-1]\n",
    "March_subset_4_X_observed_c = X_observed_c.iloc[113858-2:116737-1]\n",
    "\n",
    "# Concatenate subsets for March\n",
    "March_subset_X_observed_c = pd.concat([March_subset_1_X_observed_c, March_subset_2_X_observed_c, March_subset_3_X_observed_c])\n",
    "\n",
    "#Subset for March in X_observed_a for Mai\n",
    "Mai_subset_1_X_observed_c = X_observed_c.iloc[11522-2:14497-1]  \n",
    "Mai_subset_2_X_observed_c = X_observed_c.iloc[46658-2:49633-1]  \n",
    "Mai_subset_3_X_observed_c = X_observed_c.iloc[81698-2:84673-1]  \n",
    "Mai_subset_4_X_observed_c = X_observed_c.iloc[116738-2:] \n",
    "\n",
    "# Concatenate subsets for Mai\n",
    "Mai_subset_X_observed_c = pd.concat([Mai_subset_1_X_observed_c, Mai_subset_2_X_observed_c, Mai_subset_3_X_observed_c])\n",
    "\n",
    "#Subset for Juni in X_observed_a \n",
    "Juni_subset_1_X_observed_c = X_observed_c.iloc[14498-2:17377-1]  \n",
    "Juni_subset_2_X_observed_c = X_observed_c.iloc[49634-2:52513-1]  \n",
    "Juni_subset_3_X_observed_c = X_observed_c.iloc[84674-2:87553-1] \n",
    "\n",
    "# Concatenate subsets for Juni\n",
    "Juni_subset_X_observed_c = pd.concat([Juni_subset_1_X_observed_c, Juni_subset_2_X_observed_c, Juni_subset_3_X_observed_c])\n",
    "\n",
    "#Subset for March in X_observed_a \n",
    "July_subset_1_X_observed_c = X_observed_c.iloc[17378-2:20353-1]  \n",
    "July_subset_2_X_observed_c = X_observed_c.iloc[52514-2:55489-1]  \n",
    "July_subset_3_X_observed_c = X_observed_c.iloc[87554-2:90529-1]  \n",
    "\n",
    "# Concatenate subsets for July\n",
    "July_subset_X_observed_c = pd.concat([July_subset_1_X_observed_c, July_subset_2_X_observed_c, July_subset_3_X_observed_c])\n",
    "\n",
    "# Concatenate subsets for all dates \n",
    "subset_X_observed_c = pd.concat([March_subset_X_observed_c, Mai_subset_X_observed_c, Juni_subset_X_observed_c, July_subset_X_observed_c])"
   ]
  },
  {
   "cell_type": "code",
   "execution_count": 39,
   "metadata": {
    "tags": []
   },
   "outputs": [],
   "source": [
    "#subset_X_observed_c.to_excel('subset_X_observed_c.xlsx', index=False, engine='openpyxl')"
   ]
  }
 ],
 "metadata": {
  "colab": {
   "authorship_tag": "ABX9TyNvDK8VkXGj55F7u4OPdtM3",
   "mount_file_id": "1V1XQmyvQ_eAqlX6BgUIYzGG-80Kblkug",
   "provenance": []
  },
  "kernelspec": {
   "display_name": "Python 3 (ipykernel)",
   "language": "python",
   "name": "python3"
  },
  "language_info": {
   "codemirror_mode": {
    "name": "ipython",
    "version": 3
   },
   "file_extension": ".py",
   "mimetype": "text/x-python",
   "name": "python",
   "nbconvert_exporter": "python",
   "pygments_lexer": "ipython3",
   "version": "3.11.4"
  }
 },
 "nbformat": 4,
 "nbformat_minor": 4
}
