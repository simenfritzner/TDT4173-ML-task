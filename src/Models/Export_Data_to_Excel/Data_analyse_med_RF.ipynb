{
 "cells": [
  {
   "cell_type": "code",
   "execution_count": 1,
   "metadata": {
    "executionInfo": {
     "elapsed": 239,
     "status": "ok",
     "timestamp": 1697207503163,
     "user": {
      "displayName": "Simen Fritzner",
      "userId": "09016032329545939855"
     },
     "user_tz": -120
    },
    "id": "khXBbRzeGcwy",
    "tags": []
   },
   "outputs": [],
   "source": [
    "%load_ext autoreload\n",
    "#To update the imported files"
   ]
  },
  {
   "cell_type": "code",
   "execution_count": 2,
   "metadata": {
    "tags": []
   },
   "outputs": [
    {
     "ename": "SyntaxError",
     "evalue": "expected ':' (utilities_data.py, line 24)",
     "output_type": "error",
     "traceback": [
      "Traceback \u001b[1;36m(most recent call last)\u001b[0m:\n",
      "\u001b[0m  File \u001b[0;32m~\\anaconda3\\Lib\\site-packages\\IPython\\core\\interactiveshell.py:3505\u001b[0m in \u001b[0;35mrun_code\u001b[0m\n    exec(code_obj, self.user_global_ns, self.user_ns)\u001b[0m\n",
      "\u001b[1;36m  Cell \u001b[1;32mIn[2], line 7\u001b[1;36m\n\u001b[1;33m    from utilities_data import *\u001b[1;36m\n",
      "\u001b[1;36m  File \u001b[1;32m~\\Documents\\maskinlaering\\ML_prosject\\TDT4173-ML-task\\src\\Models\\Export_Data_to_Excel\\utilities_data.py:24\u001b[1;36m\u001b[0m\n\u001b[1;33m    def get_hyperparameters_for_rf(x_observed, x_estimated, y, selected_features )\u001b[0m\n\u001b[1;37m                                                                                  ^\u001b[0m\n\u001b[1;31mSyntaxError\u001b[0m\u001b[1;31m:\u001b[0m expected ':'\n"
     ]
    }
   ],
   "source": [
    "%autoreload\n",
    "import pandas as pd\n",
    "import numpy as np\n",
    "from sklearn.ensemble import RandomForestRegressor\n",
    "from sklearn.metrics import make_scorer, mean_absolute_error\n",
    "from sklearn.model_selection import GridSearchCV\n",
    "from utilities_data import *"
   ]
  },
  {
   "cell_type": "code",
   "execution_count": 48,
   "metadata": {
    "tags": []
   },
   "outputs": [],
   "source": [
    "import sys\n",
    "sys.path.insert(0, '../')\n",
    "from constants import *\n",
    "from utilities import *\n",
    "sys.path.insert(0, '../RF')\n",
    "from utilities_RF import *"
   ]
  },
  {
   "cell_type": "code",
   "execution_count": 49,
   "metadata": {},
   "outputs": [],
   "source": [
    "y_b = drop_repeating_sequences(y_b.copy())\n",
    "y_b = delete_ranges_of_zeros_and_interrupting_values(y_b.copy(),200,[0.8625])\n",
    "y_b = delete_ranges_of_zeros_and_interrupting_values(y_b.copy(),25,[0.8625])\n",
    "y_b = drop_long_sequences(y_b.copy(),25)\n",
    "y_c = delete_ranges_of_zeros_and_interrupting_values(y_c.copy(),5,[19.6,9.8])"
   ]
  },
  {
   "cell_type": "code",
   "execution_count": 50,
   "metadata": {
    "tags": []
   },
   "outputs": [],
   "source": [
    "y_b_augmented = y_b\n",
    "y_c_augmented = y_c"
   ]
  },
  {
   "cell_type": "code",
   "execution_count": 51,
   "metadata": {
    "tags": []
   },
   "outputs": [],
   "source": [
    "X_observed_a = agumenting_time(X_observed_a.copy())\n",
    "X_observed_b = agumenting_time(X_observed_b.copy())\n",
    "X_observed_c = agumenting_time(X_observed_c.copy())\n",
    "\n",
    "X_estimated_a = agumenting_time(X_estimated_a.copy())\n",
    "X_estimated_b = agumenting_time(X_estimated_b.copy())\n",
    "X_estimated_c = agumenting_time(X_estimated_c.copy())\n",
    "\n",
    "X_test_a = agumenting_time(X_test_a.copy())\n",
    "X_test_b = agumenting_time(X_test_b.copy())\n",
    "X_test_c = agumenting_time(X_test_c.copy())\n"
   ]
  },
  {
   "cell_type": "code",
   "execution_count": 52,
   "metadata": {
    "tags": []
   },
   "outputs": [],
   "source": [
    "#Subset for March in X_observed_a\n",
    "March_subset_1_X_observed_a = X_observed_a.iloc[29098-2:31977-1]  # Note that Python is 0-indexed and the ending index is exclusive\n",
    "March_subset_2_X_observed_a = X_observed_a.iloc[64138-2:67017-1]\n",
    "March_subset_3_X_observed_a = X_observed_a.iloc[99178-2:102057-1]\n",
    "\n",
    "# Concatenate subsets for March\n",
    "March_subset_X_observed_a = pd.concat([March_subset_1_X_observed_a, March_subset_2_X_observed_a, March_subset_3_X_observed_a])\n",
    "March_subset_X_observed_a = direct_rad_div_diffuse_rad(March_subset_X_observed_a)\n",
    "\n",
    "#Subset for March in X_observed_a for Mai\n",
    "Mai_subset_1_X_observed_a = X_observed_a.iloc[31978-2:34953-1]  \n",
    "Mai_subset_2_X_observed_a = X_observed_a.iloc[67018-2:69993-1]  \n",
    "Mai_subset_3_X_observed_a = X_observed_a.iloc[102058-2:105033-1]  \n",
    "\n",
    "# Concatenate subsets for Mai\n",
    "Mai_subset_X_observed_a = pd.concat([Mai_subset_1_X_observed_a, Mai_subset_2_X_observed_a, Mai_subset_3_X_observed_a])\n",
    "Mai_subset_X_observed_a = direct_rad_div_diffuse_rad(Mai_subset_X_observed_a)\n",
    "\n",
    "#Subset for Juni in X_observed_a \n",
    "Juni_subset_1_X_observed_a = X_observed_a.iloc[2-2:2697-1]  \n",
    "Juni_subset_2_X_observed_a = X_observed_a.iloc[34954-2:37833-1]  \n",
    "Juni_subset_3_X_observed_a = X_observed_a.iloc[69994-2:72873-1] \n",
    "Juni_subset_4_X_observed_a = X_observed_a.iloc[105034-2:107923-1] \n",
    "\n",
    "# Concatenate subsets for Juni\n",
    "Juni_subset_X_observed_a = pd.concat([Juni_subset_1_X_observed_a, Juni_subset_2_X_observed_a, Juni_subset_3_X_observed_a, Juni_subset_4_X_observed_a])\n",
    "Juni_subset_X_observed_a = direct_rad_div_diffuse_rad(Juni_subset_X_observed_a)\n",
    "\n",
    "#Subset for March in X_observed_a \n",
    "July_subset_1_X_observed_a = X_observed_a.iloc[2698-2:5673-1]  \n",
    "July_subset_2_X_observed_a = X_observed_a.iloc[37834-2:40809-1]  \n",
    "July_subset_3_X_observed_a = X_observed_a.iloc[72874-2:75844-1]  \n",
    "July_subset_4_X_observed_a = X_observed_a.iloc[107914-2:110889-1]  \n",
    "\n",
    "# Concatenate subsets for July\n",
    "July_subset_X_observed_a = pd.concat([July_subset_1_X_observed_a, July_subset_2_X_observed_a, July_subset_3_X_observed_a, July_subset_4_X_observed_a])\n",
    "July_subset_X_observed_a = direct_rad_div_diffuse_rad(July_subset_X_observed_a)\n",
    "\n",
    "\n",
    "# Concatenate subsets for all dates \n",
    "subset_X_observed_a = pd.concat([March_subset_X_observed_a,Mai_subset_X_observed_a, Juni_subset_X_observed_a, July_subset_X_observed_a])"
   ]
  },
  {
   "cell_type": "code",
   "execution_count": 53,
   "metadata": {
    "tags": []
   },
   "outputs": [],
   "source": [
    "#March_subset_X_observed_a.to_excel('March_subset_X_observed_a.xlsx', index=False, engine='openpyxl')\n",
    "#Mai_subset_X_observed_a.to_excel('Mai_subset_X_observed_a.xlsx', index=False, engine='openpyxl')\n",
    "#Juni_subset_X_observed_a.to_excel('Juni_subset_X_observed_a.xlsx', index=False, engine='openpyxl')\n",
    "#July_subset_X_observed_a.to_excel('July_subset_X_observed_a.xlsx', index=False, engine='openpyxl')"
   ]
  },
  {
   "cell_type": "code",
   "execution_count": 54,
   "metadata": {
    "tags": []
   },
   "outputs": [
    {
     "name": "stdout",
     "output_type": "stream",
     "text": [
      "dif_dat_rad    False\n",
      "dtype: bool\n",
      "dif_dat_rad    False\n",
      "dtype: bool\n",
      "dif_dat_rad    False\n",
      "dtype: bool\n",
      "dif_dat_rad    False\n",
      "dtype: bool\n",
      "dif_dat_rad    False\n",
      "dtype: bool\n"
     ]
    }
   ],
   "source": [
    "print(March_subset_X_observed_a[['dif_dat_rad']].isna().any())\n",
    "print(Mai_subset_X_observed_a[['dif_dat_rad']].isna().any())\n",
    "print(Juni_subset_X_observed_a[['dif_dat_rad']].isna().any())\n",
    "print(July_subset_X_observed_a[['dif_dat_rad']].isna().any())\n",
    "print(subset_X_observed_a[['dif_dat_rad']].isna().any())"
   ]
  },
  {
   "cell_type": "code",
   "execution_count": 55,
   "metadata": {
    "tags": []
   },
   "outputs": [],
   "source": [
    "#March_subset_1_X_observed_a.to_excel('March_subset_1_X_observed_a.xlsx', index=False, engine='openpyxl')\n",
    "#March_subset_2_X_observed_a.to_excel('March_subset_2_X_observed_a.xlsx', index=False, engine='openpyxl')\n",
    "#March_subset_3_X_observed_a.to_excel('March_subset_3_X_observed_a.xlsx', index=False, engine='openpyxl')\n",
    "\n",
    "#subset_X_observed_a.to_excel('subset_X_observed_a.xlsx', index=False, engine='openpyxl')"
   ]
  },
  {
   "cell_type": "code",
   "execution_count": null,
   "metadata": {
    "tags": []
   },
   "outputs": [],
   "source": []
  },
  {
   "cell_type": "code",
   "execution_count": 56,
   "metadata": {
    "tags": []
   },
   "outputs": [],
   "source": [
    "#Subset for March in X_observed_b\n",
    "March_subset_1_X_observed_b = X_observed_b.iloc[8642-2:11521-1]  # Note that Python is 0-indexed and the ending index is exclusive\n",
    "March_subset_2_X_observed_b = X_observed_b.iloc[43778-2:46657-1]\n",
    "March_subset_3_X_observed_b = X_observed_b.iloc[78818-2:81697-1]\n",
    "March_subset_4_X_observed_b = X_observed_b.iloc[113858-2:116737-1]\n",
    "\n",
    "# Concatenate subsets for March\n",
    "March_subset_X_observed_b = pd.concat([March_subset_1_X_observed_b, March_subset_2_X_observed_b, March_subset_3_X_observed_b,March_subset_4_X_observed_b ])\n",
    "March_subset_X_observed_b = direct_rad_div_diffuse_rad(March_subset_X_observed_b)\n",
    "\n",
    "#Subset for March in X_observed_b for Mai\n",
    "Mai_subset_1_X_observed_b = X_observed_b.iloc[11522-2:14497-1]  \n",
    "Mai_subset_2_X_observed_b = X_observed_b.iloc[46658-2:49633-1]  \n",
    "Mai_subset_3_X_observed_b = X_observed_b.iloc[81698-2:84673-1]  \n",
    "Mai_subset_4_X_observed_b = X_observed_b.iloc[116738-2:]   #to 116930\n",
    "\n",
    "# Concatenate subsets for Mai\n",
    "Mai_subset_X_observed_b = pd.concat([Mai_subset_1_X_observed_b, Mai_subset_2_X_observed_b, Mai_subset_3_X_observed_b, Mai_subset_4_X_observed_b])\n",
    "Mai_subset_X_observed_b = direct_rad_div_diffuse_rad(Mai_subset_X_observed_b)\n",
    "\n",
    "#Subset for Juni in X_observed_a \n",
    "Juni_subset_1_X_observed_b = X_observed_b.iloc[14498-2:17377-1]  \n",
    "Juni_subset_2_X_observed_b = X_observed_b.iloc[49634-2:52513-1]  \n",
    "Juni_subset_3_X_observed_b = X_observed_b.iloc[84674-2:87553-1] \n",
    "\n",
    "# Concatenate subsets for Juni\n",
    "Juni_subset_X_observed_b = pd.concat([Juni_subset_1_X_observed_b, Juni_subset_2_X_observed_b, Juni_subset_3_X_observed_b])\n",
    "Juni_subset_X_observed_b = direct_rad_div_diffuse_rad(Juni_subset_X_observed_b)\n",
    "\n",
    "#Subset for March in X_observed_a \n",
    "July_subset_1_X_observed_b = X_observed_b.iloc[17378-2:20353-1]  \n",
    "July_subset_2_X_observed_b = X_observed_b.iloc[52514-2:55489-1]  \n",
    "July_subset_3_X_observed_b = X_observed_b.iloc[87554-2:90529-1]  \n",
    "\n",
    "# Concatenate subsets for July\n",
    "July_subset_X_observed_b = pd.concat([July_subset_1_X_observed_b, July_subset_2_X_observed_b, July_subset_3_X_observed_b])\n",
    "July_subset_X_observed_b = direct_rad_div_diffuse_rad(July_subset_X_observed_b)\n",
    "\n",
    "\n",
    "# Concatenate subsets for all dates \n",
    "subset_X_observed_b = pd.concat([March_subset_X_observed_b,Mai_subset_X_observed_b, Juni_subset_X_observed_b, July_subset_X_observed_b])"
   ]
  },
  {
   "cell_type": "code",
   "execution_count": 57,
   "metadata": {
    "tags": []
   },
   "outputs": [],
   "source": [
    "#March_subset_X_observed_b.to_excel('March_subset_X_observed_b.xlsx', index=False, engine='openpyxl')\n",
    "#Mai_subset_X_observed_b.to_excel('Mai_subset_X_observed_b.xlsx', index=False, engine='openpyxl')\n",
    "#Juni_subset_X_observed_b.to_excel('Juni_subset_X_observed_b.xlsx', index=False, engine='openpyxl')\n",
    "#July_subset_X_observed_b.to_excel('July_subset_X_observed_b.xlsx', index=False, engine='openpyxl')"
   ]
  },
  {
   "cell_type": "code",
   "execution_count": 58,
   "metadata": {},
   "outputs": [],
   "source": [
    "#Subset for March in X_observed_c\n",
    "March_subset_1_X_observed_c = X_observed_c.iloc[8642-2:11521-1]  # Note that Python is 0-indexed and the ending index is exclusive\n",
    "March_subset_2_X_observed_c = X_observed_c.iloc[43778-2:46657-1]\n",
    "March_subset_3_X_observed_c = X_observed_c.iloc[78818-2:81697-1]\n",
    "March_subset_4_X_observed_c = X_observed_c.iloc[113858-2:116737-1]\n",
    "\n",
    "# Concatenate subsets for March\n",
    "March_subset_X_observed_c = pd.concat([March_subset_1_X_observed_c, March_subset_2_X_observed_c, March_subset_3_X_observed_c, March_subset_4_X_observed_c])\n",
    "March_subset_X_observed_c = direct_rad_div_diffuse_rad(March_subset_X_observed_c)\n",
    "\n",
    "\n",
    "#Subset for March in X_observed_a for Mai\n",
    "Mai_subset_1_X_observed_c = X_observed_c.iloc[11522-2:14497-1]  \n",
    "Mai_subset_2_X_observed_c = X_observed_c.iloc[46658-2:49633-1]  \n",
    "Mai_subset_3_X_observed_c = X_observed_c.iloc[81698-2:84673-1]  \n",
    "Mai_subset_4_X_observed_c = X_observed_c.iloc[116738-2:] \n",
    "\n",
    "# Concatenate subsets for Mai\n",
    "Mai_subset_X_observed_c = pd.concat([Mai_subset_1_X_observed_c, Mai_subset_2_X_observed_c, Mai_subset_3_X_observed_c, Mai_subset_4_X_observed_c])\n",
    "Mai_subset_X_observed_c = direct_rad_div_diffuse_rad(Mai_subset_X_observed_c)\n",
    "\n",
    "\n",
    "#Subset for Juni in X_observed_a \n",
    "Juni_subset_1_X_observed_c = X_observed_c.iloc[14498-2:17377-1]  \n",
    "Juni_subset_2_X_observed_c = X_observed_c.iloc[49634-2:52513-1]  \n",
    "Juni_subset_3_X_observed_c = X_observed_c.iloc[84674-2:87553-1] \n",
    "\n",
    "# Concatenate subsets for Juni\n",
    "Juni_subset_X_observed_c = pd.concat([Juni_subset_1_X_observed_c, Juni_subset_2_X_observed_c, Juni_subset_3_X_observed_c])\n",
    "Juni_subset_X_observed_c = direct_rad_div_diffuse_rad(Juni_subset_X_observed_c)\n",
    "\n",
    "\n",
    "#Subset for March in X_observed_a \n",
    "July_subset_1_X_observed_c = X_observed_c.iloc[17378-2:20353-1]  \n",
    "July_subset_2_X_observed_c = X_observed_c.iloc[52514-2:55489-1]  \n",
    "July_subset_3_X_observed_c = X_observed_c.iloc[87554-2:90529-1]  \n",
    "\n",
    "# Concatenate subsets for July\n",
    "July_subset_X_observed_c = pd.concat([July_subset_1_X_observed_c, July_subset_2_X_observed_c, July_subset_3_X_observed_c])\n",
    "July_subset_X_observed_c = direct_rad_div_diffuse_rad(July_subset_X_observed_c)\n",
    "\n",
    "\n",
    "# Concatenate subsets for all dates \n",
    "subset_X_observed_c = pd.concat([March_subset_X_observed_c, Mai_subset_X_observed_c, Juni_subset_X_observed_c, July_subset_X_observed_c])"
   ]
  },
  {
   "cell_type": "code",
   "execution_count": null,
   "metadata": {
    "tags": []
   },
   "outputs": [],
   "source": []
  },
  {
   "cell_type": "code",
   "execution_count": 59,
   "metadata": {
    "tags": []
   },
   "outputs": [
    {
     "name": "stdout",
     "output_type": "stream",
     "text": [
      "dif_dat_rad    False\n",
      "dtype: bool\n",
      "dif_dat_rad    False\n",
      "dtype: bool\n",
      "dif_dat_rad    False\n",
      "dtype: bool\n",
      "dif_dat_rad    False\n",
      "dtype: bool\n",
      "dif_dat_rad    False\n",
      "dtype: bool\n"
     ]
    }
   ],
   "source": [
    "print(March_subset_X_observed_c[['dif_dat_rad']].isna().any())\n",
    "print(Mai_subset_X_observed_c[['dif_dat_rad']].isna().any())\n",
    "print(Juni_subset_X_observed_c[['dif_dat_rad']].isna().any())\n",
    "print(July_subset_X_observed_c[['dif_dat_rad']].isna().any())\n",
    "print(subset_X_observed_c[['dif_dat_rad']].isna().any())"
   ]
  },
  {
   "cell_type": "code",
   "execution_count": 60,
   "metadata": {},
   "outputs": [],
   "source": [
    "added_fetures = \"dif_dat_rad\", \"cos\" , \"sin\""
   ]
  },
  {
   "cell_type": "code",
   "execution_count": 61,
   "metadata": {
    "tags": []
   },
   "outputs": [],
   "source": [
    "selected_features = ['date_forecast',\n",
    " 'absolute_humidity_2m:gm3',\n",
    " 'air_density_2m:kgm3',\n",
    " 'clear_sky_energy_1h:J',\n",
    " 'clear_sky_rad:W',\n",
    " 'dew_or_rime:idx',\n",
    " 'dew_point_2m:K',\n",
    " 'diffuse_rad:W',             \n",
    " 'diffuse_rad_1h:J',\n",
    " 'direct_rad_1h:J',\n",
    " 'effective_cloud_cover:p',\n",
    " 'elevation:m',\n",
    " 'fresh_snow_12h:cm',\n",
    " 'fresh_snow_1h:cm',\n",
    " 'fresh_snow_24h:cm',\n",
    " 'fresh_snow_3h:cm',\n",
    " 'fresh_snow_6h:cm',\n",
    " 'is_day:idx',\n",
    " 'is_in_shadow:idx',\n",
    " 'msl_pressure:hPa',\n",
    " 'precip_5min:mm',\n",
    " 'precip_type_5min:idx',\n",
    " 'pressure_100m:hPa',\n",
    " 'pressure_50m:hPa',\n",
    " 'prob_rime:p',\n",
    " 'rain_water:kgm2',\n",
    " 'relative_humidity_1000hPa:p',\n",
    " 'sfc_pressure:hPa',\n",
    " 'snow_depth:cm',\n",
    " 'snow_drift:idx',\n",
    " 'snow_melt_10min:mm',\n",
    " 'snow_water:kgm2',\n",
    " 'sun_azimuth:d',\n",
    " 'sun_elevation:d',\n",
    " 'super_cooled_liquid_water:kgm2',\n",
    " 't_1000hPa:K',\n",
    " 'total_cloud_cover:p',\n",
    " 'visibility:m',\n",
    " 'wind_speed_10m:ms',\n",
    " 'wind_speed_u_10m:ms',\n",
    " 'wind_speed_v_10m:ms',\n",
    " 'wind_speed_w_1000hPa:ms',\n",
    "                    \"dif_dat_rad\",\"day\",\"month\",\"hour_sin\", \"hour_cos\"]\n",
    "hyperparameters = {'max_depth': None, 'n_estimators': 100, 'n_jobs' : -1}\n",
    "Best_parameters_a = {'max_depth': None, 'min_samples_leaf': 4, 'min_samples_split': 2, 'n_estimators': 200}\n",
    "Best_parameters_b= {'max_depth': 20, 'min_samples_leaf': 4, 'min_samples_split': 2, 'n_estimators': 200}\n",
    "Best_parameters_c = {'max_depth': 20, 'min_samples_leaf': 1, 'min_samples_split': 2, 'n_estimators': 50}"
   ]
  },
  {
   "cell_type": "code",
   "execution_count": 62,
   "metadata": {},
   "outputs": [],
   "source": [
    "X_estimated_a_edited = direct_rad_div_diffuse_rad(X_estimated_a)\n",
    "X_estimated_b_edited = direct_rad_div_diffuse_rad(X_estimated_b)\n",
    "X_estimated_c_edited = direct_rad_div_diffuse_rad(X_estimated_c)\n"
   ]
  },
  {
   "cell_type": "code",
   "execution_count": 63,
   "metadata": {
    "tags": []
   },
   "outputs": [
    {
     "name": "stdout",
     "output_type": "stream",
     "text": [
      "diffuse_rad:W    False\n",
      "dtype: bool\n",
      "diffuse_rad:W    False\n",
      "dtype: bool\n",
      "diffuse_rad:W    False\n",
      "dtype: bool\n"
     ]
    }
   ],
   "source": [
    "print(X_test_a[[\"diffuse_rad:W\"]].isna().any())\n",
    "print(X_test_b[[\"diffuse_rad:W\"]].isna().any())\n",
    "print(X_test_c[[\"diffuse_rad:W\"]].isna().any())"
   ]
  },
  {
   "cell_type": "code",
   "execution_count": 64,
   "metadata": {
    "tags": []
   },
   "outputs": [
    {
     "name": "stdout",
     "output_type": "stream",
     "text": [
      "diffuse_rad:W    False\n",
      "dtype: bool\n",
      "diffuse_rad:W    False\n",
      "dtype: bool\n",
      "diffuse_rad:W    False\n",
      "dtype: bool\n"
     ]
    }
   ],
   "source": [
    "print(X_estimated_a[[\"diffuse_rad:W\"]].isna().any())\n",
    "print(X_estimated_b[[\"diffuse_rad:W\"]].isna().any())\n",
    "print(X_estimated_c[[\"diffuse_rad:W\"]].isna().any())"
   ]
  },
  {
   "cell_type": "code",
   "execution_count": 69,
   "metadata": {
    "tags": []
   },
   "outputs": [],
   "source": []
  },
  {
   "cell_type": "code",
   "execution_count": 65,
   "metadata": {
    "tags": []
   },
   "outputs": [],
   "source": [
    "rf_a = Random_Forest(Best_parameters_a, subset_X_observed_a, X_estimated_a, y_a, selected_features)\n",
    "rf_a.fit()\n",
    "rf_a.pred()\n",
    "\n",
    "rf_b = Random_Forest(Best_parameters_b, subset_X_observed_b, X_estimated_b, y_b, selected_features)\n",
    "rf_b.fit()\n",
    "rf_b.pred()\n",
    "\n",
    "rf_c = Random_Forest(Best_parameters_c, subset_X_observed_c, X_estimated_c, y_c, selected_features)\n",
    "rf_c.fit()\n",
    "rf_c.pred()"
   ]
  },
  {
   "cell_type": "code",
   "execution_count": 66,
   "metadata": {
    "tags": []
   },
   "outputs": [
    {
     "name": "stdout",
     "output_type": "stream",
     "text": [
      "A: Mean Absolute Error: 231.36324679869549\n",
      "B: Mean Absolute Error: 33.10792606116678\n",
      "C: Mean Absolute Error: 16.003983715854098\n"
     ]
    }
   ],
   "source": [
    "#Evaluate mean asbolute error\n",
    "mae_a = rf_a.mae()\n",
    "print(\"A: Mean Absolute Error:\", mae_a)\n",
    "\n",
    "mae_b = rf_b.mae()\n",
    "print(\"B: Mean Absolute Error:\", mae_b)\n",
    "\n",
    "mae_c = rf_c.mae()\n",
    "print(\"C: Mean Absolute Error:\", mae_c)"
   ]
  },
  {
   "cell_type": "code",
   "execution_count": 67,
   "metadata": {
    "tags": []
   },
   "outputs": [],
   "source": [
    "rf_a.pred(X_test_a)\n",
    "rf_b.pred(X_test_b)\n",
    "rf_c.pred(X_test_c)\n",
    "\n",
    "y_pred_rf_test = np.concatenate((rf_a.prediction, rf_b.prediction, rf_c.prediction), axis=0)\n",
    "y_pred_rf_valid = np.concatenate((rf_a.pred_estimated, rf_b.pred_estimated, rf_c.pred_estimated), axis=0)"
   ]
  },
  {
   "cell_type": "code",
   "execution_count": 68,
   "metadata": {
    "tags": []
   },
   "outputs": [],
   "source": [
    "submission(\"rf_med_diff_dat_og_augmented_y_day_and_month_new_parameters_3.csv\", y_pred_rf_test, \"../../\")"
   ]
  },
  {
   "cell_type": "code",
   "execution_count": null,
   "metadata": {},
   "outputs": [],
   "source": []
  }
 ],
 "metadata": {
  "colab": {
   "authorship_tag": "ABX9TyNvDK8VkXGj55F7u4OPdtM3",
   "mount_file_id": "1V1XQmyvQ_eAqlX6BgUIYzGG-80Kblkug",
   "provenance": []
  },
  "kernelspec": {
   "display_name": "Python 3 (ipykernel)",
   "language": "python",
   "name": "python3"
  },
  "language_info": {
   "codemirror_mode": {
    "name": "ipython",
    "version": 3
   },
   "file_extension": ".py",
   "mimetype": "text/x-python",
   "name": "python",
   "nbconvert_exporter": "python",
   "pygments_lexer": "ipython3",
   "version": "3.11.4"
  }
 },
 "nbformat": 4,
 "nbformat_minor": 4
}
