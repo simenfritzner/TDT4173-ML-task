{
 "cells": [
  {
   "cell_type": "code",
   "execution_count": 43,
   "id": "51e03cab-62dd-4439-a5ba-63584ff04cdc",
   "metadata": {},
   "outputs": [
    {
     "name": "stdout",
     "output_type": "stream",
     "text": [
      "The autoreload extension is already loaded. To reload it, use:\n",
      "  %reload_ext autoreload\n"
     ]
    }
   ],
   "source": [
    "%load_ext autoreload"
   ]
  },
  {
   "cell_type": "code",
   "execution_count": 49,
   "id": "215a5cc7-5941-44c4-9e3d-920e6c652450",
   "metadata": {},
   "outputs": [],
   "source": [
    "%autoreload\n",
    "import sys\n",
    "import os\n",
    "sys.path.insert(0, '../')\n",
    "from constants import *\n",
    "from utilities_data import *\n",
    "from sklearn.ensemble import RandomForestRegressor\n",
    "from sklearn.metrics import make_scorer, mean_absolute_error\n",
    "from sklearn.model_selection import GridSearchCV\n"
   ]
  },
  {
   "cell_type": "code",
   "execution_count": 50,
   "id": "d1cc3079-7169-4052-9b3b-e0e7a54f0429",
   "metadata": {
    "tags": []
   },
   "outputs": [],
   "source": [
    "import sys\n",
    "sys.path.insert(0, '../')\n",
    "from constants import *\n",
    "from utilities import *\n",
    "sys.path.insert(0, '../RF')\n",
    "from utilities_RF import *"
   ]
  },
  {
   "cell_type": "code",
   "execution_count": 51,
   "id": "3e9de31a-e6ae-4c34-a0b7-8d4f79582131",
   "metadata": {
    "tags": []
   },
   "outputs": [
    {
     "name": "stdout",
     "output_type": "stream",
     "text": [
      "                     time  pv_measurement\n",
      "5913  2019-09-04 08:00:00           137.2\n",
      "5914  2019-09-04 09:00:00             0.0\n",
      "5915  2019-09-04 10:00:00             0.0\n",
      "5916  2019-09-04 11:00:00             0.0\n",
      "5917  2019-09-04 12:00:00             0.0\n",
      "...                   ...             ...\n",
      "31386 2023-03-29 23:00:00            -0.0\n",
      "31387 2023-03-30 00:00:00             0.0\n",
      "31410 2023-03-30 23:00:00            -0.0\n",
      "31411 2023-03-31 00:00:00             0.0\n",
      "32081 2023-04-27 22:00:00            -0.0\n",
      "\n",
      "[12888 rows x 2 columns]\n"
     ]
    }
   ],
   "source": [
    "y_b = drop_repeating_sequences(y_b.copy())\n",
    "y_b = delete_ranges_of_zeros_and_interrupting_values(y_b.copy(),200,[0.8625])\n",
    "y_b = delete_ranges_of_zeros_and_interrupting_values(y_b.copy(),25,[0.8625])\n",
    "y_b = drop_long_sequences(y_b.copy(),25)\n",
    "y_c = delete_ranges_of_zeros_and_interrupting_values(y_c.copy(),5,[19.6,9.8])"
   ]
  },
  {
   "cell_type": "code",
   "execution_count": 47,
   "id": "8e06d73f-9f2c-4c56-b3e0-b25394b8cb87",
   "metadata": {
    "tags": []
   },
   "outputs": [
    {
     "name": "stdout",
     "output_type": "stream",
     "text": [
      "                     time  pv_measurement\n",
      "5913  2019-09-04 08:00:00           137.2\n",
      "5914  2019-09-04 09:00:00             0.0\n",
      "5915  2019-09-04 10:00:00             0.0\n",
      "5916  2019-09-04 11:00:00             0.0\n",
      "5917  2019-09-04 12:00:00             0.0\n",
      "...                   ...             ...\n",
      "31386 2023-03-29 23:00:00            -0.0\n",
      "31387 2023-03-30 00:00:00             0.0\n",
      "31410 2023-03-30 23:00:00            -0.0\n",
      "31411 2023-03-31 00:00:00             0.0\n",
      "32081 2023-04-27 22:00:00            -0.0\n",
      "\n",
      "[12888 rows x 2 columns]\n"
     ]
    }
   ],
   "source": []
  },
  {
   "cell_type": "code",
   "execution_count": 34,
   "id": "074bccd2-5e37-4d83-96f8-b3584cba34bc",
   "metadata": {},
   "outputs": [],
   "source": [
    "selected_features = ['date_forecast',\n",
    " 'absolute_humidity_2m:gm3',\n",
    " 'air_density_2m:kgm3',\n",
    " 'clear_sky_energy_1h:J',\n",
    " 'clear_sky_rad:W',\n",
    " 'dew_or_rime:idx',\n",
    " 'dew_point_2m:K',\n",
    " 'diffuse_rad:W',             \n",
    " 'diffuse_rad_1h:J',\n",
    " 'direct_rad_1h:J',\n",
    " 'effective_cloud_cover:p',\n",
    " 'elevation:m',\n",
    " 'fresh_snow_12h:cm',\n",
    " 'fresh_snow_1h:cm',\n",
    " 'fresh_snow_24h:cm',\n",
    " 'fresh_snow_3h:cm',\n",
    " 'fresh_snow_6h:cm',\n",
    " 'is_day:idx',\n",
    " 'is_in_shadow:idx',\n",
    " 'msl_pressure:hPa',\n",
    " 'precip_5min:mm',\n",
    " 'precip_type_5min:idx',\n",
    " 'pressure_100m:hPa',\n",
    " 'pressure_50m:hPa',\n",
    " 'prob_rime:p',\n",
    " 'rain_water:kgm2',\n",
    " 'relative_humidity_1000hPa:p',\n",
    " 'sfc_pressure:hPa',\n",
    " 'snow_depth:cm',\n",
    " 'snow_drift:idx',\n",
    " 'snow_melt_10min:mm',\n",
    " 'snow_water:kgm2',\n",
    " 'sun_azimuth:d',\n",
    " 'sun_elevation:d',\n",
    " 'super_cooled_liquid_water:kgm2',\n",
    " 't_1000hPa:K',\n",
    " 'total_cloud_cover:p',\n",
    " 'visibility:m',\n",
    " 'wind_speed_10m:ms',\n",
    " 'wind_speed_u_10m:ms',\n",
    " 'wind_speed_v_10m:ms',\n",
    " 'wind_speed_w_1000hPa:ms',\n",
    "                    \"dif_dat_rad\",\"day\",\"month\",\"hour_sin\", \"hour_cos\"]\n"
   ]
  },
  {
   "cell_type": "code",
   "execution_count": 35,
   "id": "5ce7fe76-d5f6-4f2e-9456-bea8af43a59a",
   "metadata": {
    "tags": []
   },
   "outputs": [],
   "source": [
    "# Store the initial directory when you start the notebook\n",
    "initial_directory = os.getcwd()\n",
    "\n",
    "# Create a function to reset to the initial directory\n",
    "def reset_to_initial_directory():\n",
    "    os.chdir(initial_directory)"
   ]
  },
  {
   "cell_type": "code",
   "execution_count": 36,
   "id": "c079321f-2838-4ac5-a3bb-6d640d432bc9",
   "metadata": {
    "tags": []
   },
   "outputs": [
    {
     "name": "stdout",
     "output_type": "stream",
     "text": [
      "C:\\Users\\Gustav\\Documents\\maskinlaering\\ML_prosject\\TDT4173-ML-task\\src\\Models\\Export_Data_to_Excel\n",
      "The autoreload extension is already loaded. To reload it, use:\n",
      "  %reload_ext autoreload\n",
      "dif_dat_rad    False\n",
      "dtype: bool\n",
      "dif_dat_rad    False\n",
      "dtype: bool\n",
      "dif_dat_rad    False\n",
      "dtype: bool\n",
      "dif_dat_rad    False\n",
      "dtype: bool\n",
      "dif_dat_rad    False\n",
      "dtype: bool\n",
      "dif_dat_rad    False\n",
      "dtype: bool\n",
      "dif_dat_rad    False\n",
      "dtype: bool\n",
      "dif_dat_rad    False\n",
      "dtype: bool\n",
      "dif_dat_rad    False\n",
      "dtype: bool\n",
      "dif_dat_rad    False\n",
      "dtype: bool\n",
      "diffuse_rad:W    False\n",
      "dtype: bool\n",
      "diffuse_rad:W    False\n",
      "dtype: bool\n",
      "diffuse_rad:W    False\n",
      "dtype: bool\n",
      "diffuse_rad:W    False\n",
      "dtype: bool\n",
      "diffuse_rad:W    False\n",
      "dtype: bool\n",
      "diffuse_rad:W    False\n",
      "dtype: bool\n",
      "A: Mean Absolute Error: 231.36324679869549\n",
      "B: Mean Absolute Error: 33.10792606116678\n",
      "C: Mean Absolute Error: 16.555320308064584\n"
     ]
    }
   ],
   "source": [
    "reset_to_initial_directory()\n",
    "%cd \"../Export_Data_to_Excel\"\n",
    "%run Data_analyse_med_RF.ipynb\n",
    "X_observed_c_new = subset_X_observed_c\n",
    "X_estimated_c_new = X_estimated_c_edited\n",
    "y_c_new = y_c_augmented\n",
    "reset_to_initial_directory()"
   ]
  },
  {
   "cell_type": "code",
   "execution_count": 37,
   "id": "47cd2bfb-521e-4cd8-abde-c5094b6220ba",
   "metadata": {
    "tags": []
   },
   "outputs": [],
   "source": [
    "X_train = pd.concat([clean_df(X_observed_c_new, selected_features), clean_df(X_estimated_c_new, selected_features)])\n",
    "X_train, y_train = resize_training_data(X_train,y_c_new)"
   ]
  },
  {
   "cell_type": "code",
   "execution_count": 38,
   "id": "eb05070d-1773-4f5d-b52b-e6dcbd2f6177",
   "metadata": {},
   "outputs": [
    {
     "name": "stdout",
     "output_type": "stream",
     "text": [
      "Best parameters b: {'max_depth': 20, 'min_samples_leaf': 1, 'min_samples_split': 2, 'n_estimators': 50}\n"
     ]
    }
   ],
   "source": [
    "# Define the parameter grid\n",
    "param_grid = {\n",
    "    'n_estimators': [50, 100, 200],\n",
    "    'max_depth': [None, 10, 20, 30],\n",
    "    'min_samples_split': [2, 5, 10],\n",
    "    'min_samples_leaf': [1, 2, 4]\n",
    "}\n",
    "\n",
    "# Create a Random Forest Regressor\n",
    "rf = RandomForestRegressor(random_state=42)\n",
    "\n",
    "# Create the scorer\n",
    "scorer = make_scorer(mean_absolute_error, greater_is_better=False)\n",
    "\n",
    "# Create the grid search\n",
    "grid_search = GridSearchCV(estimator=rf, param_grid=param_grid, scoring=scorer, cv=5)\n",
    "\n",
    "# Fit the grid search\n",
    "grid_search.fit(X_train, y_train[\"pv_measurement\"])\n",
    "\n",
    "# Get the best parameters\n",
    "best_params = grid_search.best_params_\n",
    "\n",
    "print(f\"Best parameters b: {best_params}\")"
   ]
  },
  {
   "cell_type": "code",
   "execution_count": 41,
   "id": "ad4bb749-8aea-48b7-84e6-097d492ba8d8",
   "metadata": {
    "tags": []
   },
   "outputs": [
    {
     "name": "stdout",
     "output_type": "stream",
     "text": [
      "                     time  pv_measurement\n",
      "5913  2019-09-04 08:00:00           137.2\n",
      "5914  2019-09-04 09:00:00             0.0\n",
      "5915  2019-09-04 10:00:00             0.0\n",
      "5916  2019-09-04 11:00:00             0.0\n",
      "5917  2019-09-04 12:00:00             0.0\n",
      "...                   ...             ...\n",
      "31386 2023-03-29 23:00:00            -0.0\n",
      "31387 2023-03-30 00:00:00             0.0\n",
      "31410 2023-03-30 23:00:00            -0.0\n",
      "31411 2023-03-31 00:00:00             0.0\n",
      "32081 2023-04-27 22:00:00            -0.0\n",
      "\n",
      "[12888 rows x 2 columns]\n"
     ]
    }
   ],
   "source": [
    "Best_parameters_a ={'max_depth': None, 'min_samples_leaf': 4, 'min_samples_split': 2, 'n_estimators': 200}\n",
    "Best_parameters_b= {'max_depth': 20, 'min_samples_leaf': 4, 'min_samples_split': 2, 'n_estimators': 200}\n",
    "Best_parameters_c = {'max_depth': 20, 'min_samples_leaf': 1, 'min_samples_split': 2, 'n_estimators': 50}"
   ]
  },
  {
   "cell_type": "code",
   "execution_count": null,
   "id": "a8da92a0-fd26-4ded-994e-5f91c3b06c1e",
   "metadata": {},
   "outputs": [],
   "source": []
  }
 ],
 "metadata": {
  "kernelspec": {
   "display_name": "Python 3 (ipykernel)",
   "language": "python",
   "name": "python3"
  },
  "language_info": {
   "codemirror_mode": {
    "name": "ipython",
    "version": 3
   },
   "file_extension": ".py",
   "mimetype": "text/x-python",
   "name": "python",
   "nbconvert_exporter": "python",
   "pygments_lexer": "ipython3",
   "version": "3.11.4"
  }
 },
 "nbformat": 4,
 "nbformat_minor": 5
}
