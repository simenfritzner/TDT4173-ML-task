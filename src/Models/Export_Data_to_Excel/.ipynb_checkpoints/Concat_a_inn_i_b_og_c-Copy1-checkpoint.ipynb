{
 "cells": [
  {
   "cell_type": "code",
   "execution_count": 16,
   "metadata": {
    "executionInfo": {
     "elapsed": 239,
     "status": "ok",
     "timestamp": 1697207503163,
     "user": {
      "displayName": "Simen Fritzner",
      "userId": "09016032329545939855"
     },
     "user_tz": -120
    },
    "id": "khXBbRzeGcwy",
    "tags": []
   },
   "outputs": [
    {
     "name": "stdout",
     "output_type": "stream",
     "text": [
      "The autoreload extension is already loaded. To reload it, use:\n",
      "  %reload_ext autoreload\n"
     ]
    }
   ],
   "source": [
    "%load_ext autoreload\n",
    "#To update the imported files"
   ]
  },
  {
   "cell_type": "code",
   "execution_count": 17,
   "metadata": {
    "tags": []
   },
   "outputs": [],
   "source": [
    "%autoreload\n",
    "import pandas as pd\n",
    "import numpy as np\n",
    "from sklearn.ensemble import RandomForestRegressor\n",
    "from sklearn.metrics import make_scorer, mean_absolute_error\n",
    "from sklearn.model_selection import GridSearchCV\n",
    "from utilities_data import *"
   ]
  },
  {
   "cell_type": "code",
   "execution_count": 18,
   "metadata": {
    "tags": []
   },
   "outputs": [],
   "source": [
    "import sys\n",
    "sys.path.insert(0, '../')\n",
    "from constants import *\n",
    "from utilities import *\n",
    "sys.path.insert(0, '../RF')\n",
    "from utilities_RF import *"
   ]
  },
  {
   "cell_type": "code",
   "execution_count": null,
   "metadata": {},
   "outputs": [],
   "source": []
  },
  {
   "cell_type": "code",
   "execution_count": 19,
   "metadata": {
    "tags": []
   },
   "outputs": [],
   "source": [
    "y_b_augmented = y_b\n",
    "y_c_augmented = y_c"
   ]
  },
  {
   "cell_type": "code",
   "execution_count": null,
   "metadata": {},
   "outputs": [],
   "source": []
  },
  {
   "cell_type": "code",
   "execution_count": 20,
   "metadata": {},
   "outputs": [],
   "source": [
    "import pandas as pd\n",
    "\n",
    "def add_a_to_the_other_datasets(X_train_a, y_a, X_train_other, y_other):\n",
    "    # Convert 'time' columns to datetime\n",
    "    y_a[\"new_time\"] = pd.to_datetime(y_a['time'])\n",
    "    y_other[\"new_time\"] = pd.to_datetime(y_other['time'])\n",
    "\n",
    "    # Extract month from datetime\n",
    "    y_a[\"month\"] = y_a['new_time'].dt.month\n",
    "    y_other[\"month\"] = y_other['new_time'].dt.month\n",
    "\n",
    "    # Iterate over each unique month\n",
    "    for month in y_a['month'].unique():\n",
    "        # Calculate average 'pv_measurement' for the current month in both datasets\n",
    "        average_pv_a = y_a.loc[y_a['month'] == month, 'pv_measurement'].mean()\n",
    "        average_pv_other = y_other.loc[y_other['month'] == month, 'pv_measurement'].mean()\n",
    "\n",
    "        # Calculate scaling factor\n",
    "        scaling_factor = average_pv_other / average_pv_a if average_pv_a != 0 else 0\n",
    "\n",
    "        # Apply scaling to 'pv_measurement' in y_a for the current month\n",
    "        y_a.loc[y_a['month'] == month, 'pv_measurement'] *= scaling_factor\n",
    "        \n",
    "    y_a.drop(columns=['new_time', 'month'], inplace=True)\n",
    "    y_other.drop(columns=['new_time', 'month'], inplace=True)\n",
    "    \n",
    "    X_train_other_and_a = pd.concat([X_train_a, X_train_other])\n",
    "    y_other_and_a = pd.concat([y_a, y_other])\n",
    "    \n",
    "    # Return the modified datasets\n",
    "    return X_train_other_and_a, y_other_and_a\n",
    "\n",
    "# Example usage\n",
    "# X_train_a, y_a, X_train_other, y_other = add_a_to_the_other_datasets(X_train_a, y_a, X_train_other, y_other)\n",
    "\n"
   ]
  },
  {
   "cell_type": "code",
   "execution_count": null,
   "metadata": {},
   "outputs": [],
   "source": []
  },
  {
   "cell_type": "code",
   "execution_count": 21,
   "metadata": {
    "tags": []
   },
   "outputs": [],
   "source": [
    "X_train_other_and_a, y_other_and_a = add_a_to_the_other_datasets(X_observed_a.copy(), y_a.copy(), X_observed_b.copy(), y_b.copy())"
   ]
  },
  {
   "cell_type": "code",
   "execution_count": null,
   "metadata": {},
   "outputs": [],
   "source": []
  }
 ],
 "metadata": {
  "colab": {
   "authorship_tag": "ABX9TyNvDK8VkXGj55F7u4OPdtM3",
   "mount_file_id": "1V1XQmyvQ_eAqlX6BgUIYzGG-80Kblkug",
   "provenance": []
  },
  "kernelspec": {
   "display_name": "Python 3 (ipykernel)",
   "language": "python",
   "name": "python3"
  },
  "language_info": {
   "codemirror_mode": {
    "name": "ipython",
    "version": 3
   },
   "file_extension": ".py",
   "mimetype": "text/x-python",
   "name": "python",
   "nbconvert_exporter": "python",
   "pygments_lexer": "ipython3",
   "version": "3.11.4"
  }
 },
 "nbformat": 4,
 "nbformat_minor": 4
}
