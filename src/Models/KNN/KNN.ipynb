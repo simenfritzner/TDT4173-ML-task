{
 "cells": [
  {
   "cell_type": "code",
   "execution_count": 1,
   "id": "dc50b679-9eff-455e-bfe2-84c9a5b2e3e8",
   "metadata": {},
   "outputs": [],
   "source": [
    "%load_ext autoreload\n",
    "#To update the imported files"
   ]
  },
  {
   "cell_type": "code",
   "execution_count": 2,
   "id": "e7268e6d-d405-42cb-b769-1906c0dda04c",
   "metadata": {},
   "outputs": [],
   "source": [
    "%autoreload\n",
    "import sys\n",
    "import warnings\n",
    "warnings.filterwarnings(\"ignore\")\n",
    "\n",
    "sys.path.insert(0, '../')\n",
    "from constants import *\n",
    "from knn import *\n",
    "from utilities import *"
   ]
  },
  {
   "cell_type": "code",
   "execution_count": 3,
   "id": "22088567-301c-473c-9c71-c069caa7da3f",
   "metadata": {},
   "outputs": [],
   "source": [
    "#Cleaning data such that only wanted features are included\n",
    "selected_features = [\"date_forecast\", 'direct_rad:W', 'direct_rad_1h:J', 'clear_sky_rad:W',\n",
    "                     'clear_sky_energy_1h:J', 'diffuse_rad:W', 'sun_elevation:d', 'is_in_shadow:idx', 'is_day:idx']\n",
    "hyperparameters = {\n",
    "    'n_neighbors': 30,\n",
    "    'metric': 'euclidean',\n",
    "    'weights': 'uniform'\n",
    "}\n"
   ]
  },
  {
   "cell_type": "code",
   "execution_count": 4,
   "id": "1606d570-549e-43e3-9685-bcec1353ae0a",
   "metadata": {},
   "outputs": [],
   "source": [
    "selected_features = ['date_forecast',\n",
    " 'absolute_humidity_2m:gm3',\n",
    " 'air_density_2m:kgm3',\n",
    " 'clear_sky_energy_1h:J',\n",
    " 'clear_sky_rad:W',\n",
    " 'dew_or_rime:idx',\n",
    " 'dew_point_2m:K',\n",
    " 'diffuse_rad:W',\n",
    " 'diffuse_rad_1h:J',\n",
    " 'direct_rad_1h:J',\n",
    " 'direct_rad:W',\n",
    " 'effective_cloud_cover:p',\n",
    " 'elevation:m',\n",
    " 'fresh_snow_12h:cm',\n",
    " 'fresh_snow_1h:cm',\n",
    " 'fresh_snow_24h:cm',\n",
    " 'fresh_snow_3h:cm',\n",
    " 'fresh_snow_6h:cm',\n",
    " 'is_day:idx',\n",
    " 'is_in_shadow:idx',\n",
    " 'msl_pressure:hPa',\n",
    " 'precip_5min:mm',\n",
    " 'precip_type_5min:idx',\n",
    " 'pressure_100m:hPa',\n",
    " 'pressure_50m:hPa',\n",
    " 'prob_rime:p',\n",
    " 'rain_water:kgm2',\n",
    " 'relative_humidity_1000hPa:p',\n",
    " 'sfc_pressure:hPa',\n",
    " 'snow_depth:cm',\n",
    " 'snow_drift:idx',\n",
    " 'snow_melt_10min:mm',\n",
    " 'snow_water:kgm2',\n",
    " 'sun_azimuth:d',\n",
    " 'sun_elevation:d',\n",
    " 'super_cooled_liquid_water:kgm2',\n",
    " 't_1000hPa:K',\n",
    " 'total_cloud_cover:p',\n",
    " 'visibility:m',\n",
    " 'wind_speed_10m:ms',\n",
    " 'wind_speed_u_10m:ms',\n",
    " 'wind_speed_v_10m:ms',\n",
    " 'wind_speed_w_1000hPa:ms']\n",
    "wanted_months = [3,4,5,6,7,8,9]"
   ]
  },
  {
   "cell_type": "markdown",
   "id": "2810471a-815a-4748-a8d4-8890d2f1c900",
   "metadata": {},
   "source": [
    "# Dataset A"
   ]
  },
  {
   "cell_type": "code",
   "execution_count": 5,
   "id": "00a9f485-a5cd-4786-bb50-c035e57ac72d",
   "metadata": {},
   "outputs": [],
   "source": [
    "selected_features_a = selected_features.copy()\n",
    "#selected_features_a.remove(\"direct_rad:W\")\n",
    "hyperparameters_a = hyperparameters\n",
    "wanted_months_a = wanted_months"
   ]
  },
  {
   "cell_type": "code",
   "execution_count": 6,
   "id": "349a76ad-62ec-4802-b405-0aeacb1afb5e",
   "metadata": {},
   "outputs": [],
   "source": [
    "X_train_a = prepare_X(X_observed_a, X_estimated_a, selected_features_a, wanted_months_a)\n",
    "X_train_a, y_train_a = resize_training_data(X_train_a, y_a)\n",
    "X_test_a = prepare_testdata_rf_a(X_test_a, selected_features_a)\n",
    "#X_train_a = scale_df(X_train_a, True)\n",
    "#X_test_a = scale_df(X_test_a, False)"
   ]
  },
  {
   "cell_type": "code",
   "execution_count": 7,
   "id": "732ab99a-effb-40ad-9ac8-e2f85ddce50f",
   "metadata": {},
   "outputs": [],
   "source": [
    "knn_a = KNN_model(hyperparameters, X_train_a, X_test_a, y_train_a)"
   ]
  },
  {
   "cell_type": "code",
   "execution_count": 8,
   "id": "a1a7b88f-6784-4ee9-a09b-d5df234080a2",
   "metadata": {},
   "outputs": [],
   "source": [
    "knn_a_cross_val_predictions,knn_a_cross_val_actuals, knn_a_cross_val_mae_mean = knn_a.cross_val_stack(X_train_a, y_train_a)"
   ]
  },
  {
   "cell_type": "code",
   "execution_count": null,
   "id": "3c0e4b30-34f1-45a0-9e77-901e03b258d2",
   "metadata": {},
   "outputs": [],
   "source": [
    "knn_a.cross_validate(X_train_a, y_train_a)"
   ]
  },
  {
   "cell_type": "code",
   "execution_count": null,
   "id": "93f10331-2813-4cdb-9ae3-32c631dd7a9a",
   "metadata": {},
   "outputs": [],
   "source": [
    "knn_a.fit()\n",
    "knn_a.pred()\n",
    "knn_a_test_pred = knn_a.prediction"
   ]
  },
  {
   "cell_type": "markdown",
   "id": "20fb186f-d8b7-482f-b9d0-610f8227a372",
   "metadata": {},
   "source": [
    "# Dataset B"
   ]
  },
  {
   "cell_type": "code",
   "execution_count": null,
   "id": "f3ba8de2-e7ac-4691-a106-dcd7226f6b3c",
   "metadata": {},
   "outputs": [],
   "source": [
    "selected_features_b = selected_features\n",
    "hyperparameters_b = hyperparameters\n",
    "wanted_months_b = wanted_months"
   ]
  },
  {
   "cell_type": "code",
   "execution_count": null,
   "id": "d11623b1-c1b3-4975-b3c0-c82575ec176a",
   "metadata": {},
   "outputs": [],
   "source": [
    "X_train_b = prepare_X(X_observed_b, X_estimated_b, selected_features_b, wanted_months_b)\n",
    "X_train_b, y_train_b = resize_training_data(X_train_b, y_b)\n",
    "X_test_b = prepare_testdata_rf_a(X_test_b, selected_features_b)\n",
    "#X_train_b = scale_df(X_train_b, True)\n",
    "#X_test_b = scale_df(X_test_b, False)"
   ]
  },
  {
   "cell_type": "code",
   "execution_count": null,
   "id": "4f228b2f-e72d-4fc4-b356-8cd459d9fbad",
   "metadata": {},
   "outputs": [],
   "source": [
    "knn_b = KNN_model(hyperparameters_b, X_train_b, X_test_b, y_train_b)"
   ]
  },
  {
   "cell_type": "code",
   "execution_count": null,
   "id": "6bd30f20-5cf1-4f76-98cf-5e33f1985da1",
   "metadata": {},
   "outputs": [],
   "source": [
    "knn_b_cross_val_predictions,knn_b_cross_val_actuals, knn_b_cross_val_mae_mean = knn_b.cross_val_stack(X_train_a, y_train_a)"
   ]
  },
  {
   "cell_type": "code",
   "execution_count": null,
   "id": "0546c72e-8353-439b-a5b6-53a4bd96dabd",
   "metadata": {},
   "outputs": [],
   "source": [
    "knn_b.cross_validate(X_train_b, y_train_b)"
   ]
  },
  {
   "cell_type": "code",
   "execution_count": null,
   "id": "f8da858a-bcf6-4d66-986e-457fb51a83b3",
   "metadata": {},
   "outputs": [],
   "source": [
    "knn_b.fit()\n",
    "knn_b.pred()\n",
    "knn_b_test_pred = knn_b.prediction"
   ]
  },
  {
   "cell_type": "markdown",
   "id": "670638c4-9ff3-4529-a477-6d61c5a25249",
   "metadata": {},
   "source": [
    "# Dataset C"
   ]
  },
  {
   "cell_type": "code",
   "execution_count": null,
   "id": "c93aca43-27a0-47dc-bb62-0d3d3f5ef625",
   "metadata": {},
   "outputs": [],
   "source": [
    "selected_features_b = selected_features\n",
    "hyperparameters_b = hyperparameters = {\n",
    "    'n_neighbors': 20,\n",
    "    'metric': 'euclidean',\n",
    "    'weights': 'uniform'\n",
    "}\n",
    "\n",
    "wanted_months_c = wanted_months"
   ]
  },
  {
   "cell_type": "code",
   "execution_count": null,
   "id": "d06c6c62-f12e-46a3-8807-f3e219d5b6d5",
   "metadata": {},
   "outputs": [],
   "source": [
    "X_train_c = prepare_X(X_observed_c, X_estimated_c, selected_features_c, wanted_months_c)\n",
    "X_train_c, y_train_c = resize_training_data(X_train_c, y_c)\n",
    "X_test_c = prepare_testdata_rf_a(X_test_c, selected_features_c)\n",
    "#X_train_c = scale_df(X_train_c, True)\n",
    "#X_test_c = scale_df(X_test_c, False)"
   ]
  },
  {
   "cell_type": "code",
   "execution_count": null,
   "id": "34ae1d6f-2825-4044-89f7-ddfdde276a18",
   "metadata": {},
   "outputs": [],
   "source": [
    "knn_c = KNN_model(hyperparameters, X_train_c, X_test_c, y_train_c)"
   ]
  },
  {
   "cell_type": "code",
   "execution_count": null,
   "id": "b74a4625-9261-4be3-8811-83262ef3fa44",
   "metadata": {},
   "outputs": [],
   "source": [
    "knn_c_cross_val_predictions,knn_c_cross_val_actuals, knn_c_cross_val_mae_mean = knn_c.cross_val_stack(X_train_a, y_train_a)"
   ]
  },
  {
   "cell_type": "code",
   "execution_count": null,
   "id": "b1f03966-c234-49d9-b457-95bd3a53cb22",
   "metadata": {},
   "outputs": [],
   "source": [
    "knn_c.cross_validate(X_train_c, y_train_c)"
   ]
  },
  {
   "cell_type": "code",
   "execution_count": null,
   "id": "a309607a-4229-46a5-8b0a-203b719cc983",
   "metadata": {},
   "outputs": [],
   "source": [
    "knn_c.fit()\n",
    "knn_c.pred()\n",
    "knn_c_test_pred = knn_c.prediction"
   ]
  },
  {
   "cell_type": "code",
   "execution_count": null,
   "id": "358eb546-b481-4f2a-b1f4-f87ef1968577",
   "metadata": {},
   "outputs": [],
   "source": [
    "y_pred_knn_valid_pred = np.concatenate((knn_a.cross_val_predictions, knn_b.cross_val_predictions, knn_c.cross_val_predictions), axis=0)\n",
    "y_pred_knn_valid_true = np.concatenate((knn_a.cross_val_actuals, knn_b.cross_val_actuals, knn_c.cross_val_actuals), axis=0)"
   ]
  }
 ],
 "metadata": {
  "kernelspec": {
   "display_name": "Python 3 (ipykernel)",
   "language": "python",
   "name": "python3"
  },
  "language_info": {
   "codemirror_mode": {
    "name": "ipython",
    "version": 3
   },
   "file_extension": ".py",
   "mimetype": "text/x-python",
   "name": "python",
   "nbconvert_exporter": "python",
   "pygments_lexer": "ipython3",
   "version": "3.9.13"
  }
 },
 "nbformat": 4,
 "nbformat_minor": 5
}
