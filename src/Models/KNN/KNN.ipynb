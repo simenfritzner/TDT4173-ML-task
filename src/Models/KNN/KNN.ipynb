{
 "cells": [
  {
   "cell_type": "code",
   "execution_count": 28,
   "id": "dc50b679-9eff-455e-bfe2-84c9a5b2e3e8",
   "metadata": {},
   "outputs": [
    {
     "name": "stdout",
     "output_type": "stream",
     "text": [
      "The autoreload extension is already loaded. To reload it, use:\n",
      "  %reload_ext autoreload\n"
     ]
    }
   ],
   "source": [
    "%load_ext autoreload\n",
    "#To update the imported files"
   ]
  },
  {
   "cell_type": "code",
   "execution_count": 53,
   "id": "e7268e6d-d405-42cb-b769-1906c0dda04c",
   "metadata": {},
   "outputs": [],
   "source": [
    "%autoreload\n",
    "import sys\n",
    "import warnings\n",
    "warnings.filterwarnings(\"ignore\")\n",
    "\n",
    "sys.path.insert(0, '../')\n",
    "from constants import *\n",
    "from knn import *\n",
    "from utilities import *"
   ]
  },
  {
   "cell_type": "code",
   "execution_count": 44,
   "id": "22088567-301c-473c-9c71-c069caa7da3f",
   "metadata": {},
   "outputs": [],
   "source": [
    "hyperparameters = {\n",
    "    'n_neighbors': 30,\n",
    "    'metric': 'euclidean',\n",
    "    'weights': 'uniform'\n",
    "}"
   ]
  },
  {
   "cell_type": "markdown",
   "id": "2810471a-815a-4748-a8d4-8890d2f1c900",
   "metadata": {},
   "source": [
    "# Dataset A"
   ]
  },
  {
   "cell_type": "code",
   "execution_count": 45,
   "id": "00a9f485-a5cd-4786-bb50-c035e57ac72d",
   "metadata": {},
   "outputs": [],
   "source": [
    "selected_features_a = selected_features.copy()\n",
    "selected_features_a.remove('hour')\n",
    "selected_features_a.remove('month')\n",
    "selected_features_a.remove('time_decimal')\n",
    "selected_features_a.remove('hour_sin')\n",
    "selected_features_a.remove('hour_cos')\n",
    "selected_features_a.remove('minute')\n",
    "hyperparameters_a = hyperparameters\n",
    "wanted_months_a = wanted_months"
   ]
  },
  {
   "cell_type": "code",
   "execution_count": 39,
   "id": "349a76ad-62ec-4802-b405-0aeacb1afb5e",
   "metadata": {},
   "outputs": [],
   "source": [
    "X_train_a_prep = prepare_X(X_observed_a, X_estimated_a, selected_features_a, wanted_months_a)\n",
    "X_train_a, y_train_a = resize_training_data(X_train_a_prep, y_a)\n",
    "X_test_a_prep = prepare_testdata_rf_a(X_test_a, selected_features_a)\n",
    "X_train_a = scale_df(X_train_a, True)\n",
    "X_test_a_scaled = scale_df(X_test_a_prep, False)"
   ]
  },
  {
   "cell_type": "code",
   "execution_count": 54,
   "id": "732ab99a-effb-40ad-9ac8-e2f85ddce50f",
   "metadata": {},
   "outputs": [],
   "source": [
    "knn_a = KNN_model(hyperparameters_a, X_train_a, X_test_a_scaled, y_train_a)"
   ]
  },
  {
   "cell_type": "code",
   "execution_count": 55,
   "id": "a1a7b88f-6784-4ee9-a09b-d5df234080a2",
   "metadata": {},
   "outputs": [],
   "source": [
    "knn_a_cross_val_predictions,knn_a_cross_val_actuals, knn_a_cross_val_mae_mean = knn_a.cross_val_stack_np(X_train_a, y_train_a)"
   ]
  },
  {
   "cell_type": "code",
   "execution_count": 50,
   "id": "3c0e4b30-34f1-45a0-9e77-901e03b258d2",
   "metadata": {},
   "outputs": [
    {
     "name": "stdout",
     "output_type": "stream",
     "text": [
      "Cross-validation scores: [359.11044798 332.99532556 332.71956061 285.39889205 152.5185185 ]\n",
      "Mean cross-validation score: 292.5485489409861\n"
     ]
    }
   ],
   "source": [
    "#knn_a.cross_validate(X_train_a, y_train_a)"
   ]
  },
  {
   "cell_type": "code",
   "execution_count": null,
   "id": "93f10331-2813-4cdb-9ae3-32c631dd7a9a",
   "metadata": {},
   "outputs": [],
   "source": [
    "knn_a.fit()\n",
    "knn_a.pred()\n",
    "knn_a_test_pred = knn_a.prediction"
   ]
  },
  {
   "cell_type": "code",
   "execution_count": null,
   "id": "77c499b8-6267-4f86-be95-f7462e153d5e",
   "metadata": {},
   "outputs": [],
   "source": [
    "# Define the parameter grid to search over\n",
    "param_grid_a = {\n",
    "    'n_neighbors': [3, 5, 7, 10],\n",
    "    'weights': ['uniform', 'distance'],\n",
    "    'metric': ['euclidean', 'manhattan']\n",
    "    # Add other hyperparameters you want to tune\n",
    "}\n",
    "\n",
    "# Tune the hyperparameters\n",
    "#best_model, search_results = knn_a.tune_hyperparameters(X_train_a, y_train_a, param_grid_a)"
   ]
  },
  {
   "cell_type": "markdown",
   "id": "20fb186f-d8b7-482f-b9d0-610f8227a372",
   "metadata": {
    "tags": []
   },
   "source": [
    "# Dataset B"
   ]
  },
  {
   "cell_type": "code",
   "execution_count": null,
   "id": "f3ba8de2-e7ac-4691-a106-dcd7226f6b3c",
   "metadata": {},
   "outputs": [],
   "source": [
    "selected_features_b = selected_features\n",
    "hyperparameters_b = hyperparameters\n",
    "wanted_months_b = wanted_months"
   ]
  },
  {
   "cell_type": "code",
   "execution_count": null,
   "id": "d11623b1-c1b3-4975-b3c0-c82575ec176a",
   "metadata": {},
   "outputs": [],
   "source": [
    "X_train_b_prep = prepare_X(X_observed_b, X_estimated_b, selected_features_b, wanted_months_b)\n",
    "X_train_b, y_train_b = resize_training_data(X_train_b_prep, y_b)\n",
    "X_test_b_prep = prepare_testdata_rf_a(X_test_b, selected_features_b)\n",
    "X_train_b = scale_df(X_train_b, True)\n",
    "X_test_b_scaled = scale_df(X_test_b_prep, False)"
   ]
  },
  {
   "cell_type": "code",
   "execution_count": null,
   "id": "4f228b2f-e72d-4fc4-b356-8cd459d9fbad",
   "metadata": {},
   "outputs": [],
   "source": [
    "knn_b = KNN_model(hyperparameters_b, X_train_b, X_test_b_scaled, y_train_b)"
   ]
  },
  {
   "cell_type": "code",
   "execution_count": null,
   "id": "6bd30f20-5cf1-4f76-98cf-5e33f1985da1",
   "metadata": {},
   "outputs": [],
   "source": [
    "knn_b_cross_val_predictions,knn_b_cross_val_actuals, knn_b_cross_val_mae_mean = knn_b.cross_val_stack_np(X_train_b, y_train_b)"
   ]
  },
  {
   "cell_type": "code",
   "execution_count": null,
   "id": "0546c72e-8353-439b-a5b6-53a4bd96dabd",
   "metadata": {},
   "outputs": [],
   "source": [
    "#knn_b.cross_validate(X_train_b, y_train_b)"
   ]
  },
  {
   "cell_type": "code",
   "execution_count": null,
   "id": "f8da858a-bcf6-4d66-986e-457fb51a83b3",
   "metadata": {},
   "outputs": [],
   "source": [
    "knn_b.fit()\n",
    "knn_b.pred()\n",
    "knn_b_test_pred = knn_b.prediction"
   ]
  },
  {
   "cell_type": "code",
   "execution_count": null,
   "id": "24c59f10-ed71-402a-b6c5-b93d0c773cc7",
   "metadata": {},
   "outputs": [],
   "source": [
    "# Define the parameter grid to search over\n",
    "param_grid_b = {\n",
    "    'n_neighbors': [3, 5, 7, 10],\n",
    "    'weights': ['uniform', 'distance'],\n",
    "    'metric': ['euclidean', 'manhattan']\n",
    "    # Add other hyperparameters you want to tune\n",
    "}\n",
    "\n",
    "# Tune the hyperparameters\n",
    "#best_model, search_results = knn_b.tune_hyperparameters(X_train_b, y_train_b, param_grid_b)"
   ]
  },
  {
   "cell_type": "markdown",
   "id": "670638c4-9ff3-4529-a477-6d61c5a25249",
   "metadata": {},
   "source": [
    "# Dataset C"
   ]
  },
  {
   "cell_type": "code",
   "execution_count": null,
   "id": "c93aca43-27a0-47dc-bb62-0d3d3f5ef625",
   "metadata": {},
   "outputs": [],
   "source": [
    "selected_features_c = selected_features\n",
    "hyperparameters_c = hyperparameters = {\n",
    "    'n_neighbors': 20,\n",
    "    'metric': 'euclidean',\n",
    "    'weights': 'uniform'\n",
    "}\n",
    "\n",
    "wanted_months_c = wanted_months"
   ]
  },
  {
   "cell_type": "code",
   "execution_count": null,
   "id": "d06c6c62-f12e-46a3-8807-f3e219d5b6d5",
   "metadata": {},
   "outputs": [],
   "source": [
    "X_train_c_prep = prepare_X(X_observed_c, X_estimated_c, selected_features_c, wanted_months_c)\n",
    "X_train_c, y_train_c = resize_training_data(X_train_c_prep, y_c)\n",
    "X_test_c_prep = prepare_testdata_rf_a(X_test_c, selected_features_c)\n",
    "X_train_c = scale_df(X_train_c, True)\n",
    "X_test_c_scaled = scale_df(X_test_c_prep, False)"
   ]
  },
  {
   "cell_type": "code",
   "execution_count": null,
   "id": "34ae1d6f-2825-4044-89f7-ddfdde276a18",
   "metadata": {},
   "outputs": [],
   "source": [
    "knn_c = KNN_model(hyperparameters_c, X_train_c, X_test_c_scaled, y_train_c)"
   ]
  },
  {
   "cell_type": "code",
   "execution_count": null,
   "id": "b74a4625-9261-4be3-8811-83262ef3fa44",
   "metadata": {},
   "outputs": [],
   "source": [
    "knn_c_cross_val_predictions,knn_c_cross_val_actuals, knn_c_cross_val_mae_mean = knn_c.cross_val_stack_np(X_train_c, y_train_c)"
   ]
  },
  {
   "cell_type": "code",
   "execution_count": null,
   "id": "b1f03966-c234-49d9-b457-95bd3a53cb22",
   "metadata": {},
   "outputs": [],
   "source": [
    "#knn_c.cross_validate(X_train_c, y_train_c)"
   ]
  },
  {
   "cell_type": "code",
   "execution_count": null,
   "id": "a309607a-4229-46a5-8b0a-203b719cc983",
   "metadata": {},
   "outputs": [],
   "source": [
    "knn_c.fit()\n",
    "knn_c.pred()\n",
    "knn_c_test_pred = knn_c.prediction"
   ]
  },
  {
   "cell_type": "code",
   "execution_count": null,
   "id": "7e6e8509-b21b-42a8-909d-b0a4c2d6b9a9",
   "metadata": {},
   "outputs": [],
   "source": [
    "# Define the parameter grid to search over\n",
    "param_grid_c = {\n",
    "    'n_neighbors': [3, 5, 7, 10],\n",
    "    'weights': ['uniform', 'distance'],\n",
    "    'metric': ['euclidean', 'manhattan']\n",
    "    # Add other hyperparameters you want to tune\n",
    "}\n",
    "\n",
    "# Tune the hyperparameters\n",
    "#best_model, search_results = knn_c.tune_hyperparameters(X_train_c, y_train_c, param_grid_c)"
   ]
  },
  {
   "cell_type": "code",
   "execution_count": null,
   "id": "358eb546-b481-4f2a-b1f4-f87ef1968577",
   "metadata": {},
   "outputs": [],
   "source": [
    "y_pred_knn_valid_pred = np.concatenate((knn_a.cross_val_predictions, knn_b.cross_val_predictions, knn_c.cross_val_predictions), axis=0)\n",
    "y_pred_knn_valid_true = np.concatenate((knn_a.cross_val_actuals, knn_b.cross_val_actuals, knn_c.cross_val_actuals), axis=0)"
   ]
  }
 ],
 "metadata": {
  "kernelspec": {
   "display_name": "Python 3 (ipykernel)",
   "language": "python",
   "name": "python3"
  },
  "language_info": {
   "codemirror_mode": {
    "name": "ipython",
    "version": 3
   },
   "file_extension": ".py",
   "mimetype": "text/x-python",
   "name": "python",
   "nbconvert_exporter": "python",
   "pygments_lexer": "ipython3",
   "version": "3.11.4"
  }
 },
 "nbformat": 4,
 "nbformat_minor": 5
}
