{
 "cells": [
  {
   "cell_type": "code",
   "execution_count": 14,
   "id": "dc50b679-9eff-455e-bfe2-84c9a5b2e3e8",
   "metadata": {},
   "outputs": [
    {
     "name": "stdout",
     "output_type": "stream",
     "text": [
      "The autoreload extension is already loaded. To reload it, use:\n",
      "  %reload_ext autoreload\n"
     ]
    }
   ],
   "source": [
    "%load_ext autoreload\n",
    "#To update the imported files"
   ]
  },
  {
   "cell_type": "code",
   "execution_count": 15,
   "id": "e7268e6d-d405-42cb-b769-1906c0dda04c",
   "metadata": {},
   "outputs": [],
   "source": [
    "%autoreload\n",
    "import sys\n",
    "\n",
    "sys.path.insert(0, '../')\n",
    "from constants import *\n",
    "from knn import *\n",
    "from utilities import *"
   ]
  },
  {
   "cell_type": "code",
   "execution_count": 16,
   "id": "22088567-301c-473c-9c71-c069caa7da3f",
   "metadata": {},
   "outputs": [],
   "source": [
    "#Cleaning data such that only wanted features are included\n",
    "selected_features = [\"date_forecast\", 'direct_rad:W', 'direct_rad_1h:J', 'clear_sky_rad:W',\n",
    "                     'clear_sky_energy_1h:J', 'diffuse_rad:W', 'sun_elevation:d', 'is_in_shadow:idx', 'is_day:idx']\n",
    "hyperparameters = {\n",
    "    'n_neighbors': 5,\n",
    "    'metric': 'euclidean',\n",
    "    'weights': 'uniform'\n",
    "}"
   ]
  },
  {
   "cell_type": "code",
   "execution_count": 17,
   "id": "1606d570-549e-43e3-9685-bcec1353ae0a",
   "metadata": {},
   "outputs": [],
   "source": [
    "selected_features = ['date_forecast',\n",
    " 'absolute_humidity_2m:gm3',\n",
    " 'air_density_2m:kgm3',\n",
    " 'clear_sky_energy_1h:J',\n",
    " 'clear_sky_rad:W',\n",
    " 'dew_or_rime:idx',\n",
    " 'dew_point_2m:K',\n",
    " 'diffuse_rad:W',\n",
    " 'diffuse_rad_1h:J',\n",
    " 'direct_rad_1h:J',\n",
    " 'effective_cloud_cover:p',\n",
    " 'elevation:m',\n",
    " 'fresh_snow_12h:cm',\n",
    " 'fresh_snow_1h:cm',\n",
    " 'fresh_snow_24h:cm',\n",
    " 'fresh_snow_3h:cm',\n",
    " 'fresh_snow_6h:cm',\n",
    " 'is_day:idx',\n",
    " 'is_in_shadow:idx',\n",
    " 'msl_pressure:hPa',\n",
    " 'precip_5min:mm',\n",
    " 'precip_type_5min:idx',\n",
    " 'pressure_100m:hPa',\n",
    " 'pressure_50m:hPa',\n",
    " 'prob_rime:p',\n",
    " 'rain_water:kgm2',\n",
    " 'relative_humidity_1000hPa:p',\n",
    " 'sfc_pressure:hPa',\n",
    " 'snow_depth:cm',\n",
    " 'snow_drift:idx',\n",
    " 'snow_melt_10min:mm',\n",
    " 'snow_water:kgm2',\n",
    " 'sun_azimuth:d',\n",
    " 'sun_elevation:d',\n",
    " 'super_cooled_liquid_water:kgm2',\n",
    " 't_1000hPa:K',\n",
    " 'total_cloud_cover:p',\n",
    " 'visibility:m',\n",
    " 'wind_speed_10m:ms',\n",
    " 'wind_speed_u_10m:ms',\n",
    " 'wind_speed_v_10m:ms',\n",
    " 'wind_speed_w_1000hPa:ms']"
   ]
  },
  {
   "cell_type": "markdown",
   "id": "2810471a-815a-4748-a8d4-8890d2f1c900",
   "metadata": {},
   "source": [
    "# Dataset A"
   ]
  },
  {
   "cell_type": "code",
   "execution_count": 18,
   "id": "d0671b95-def7-4316-af71-8b76daa18764",
   "metadata": {},
   "outputs": [
    {
     "name": "stderr",
     "output_type": "stream",
     "text": [
      "/Users/simenfritzner/opt/anaconda3/lib/python3.9/site-packages/sklearn/utils/validation.py:623: FutureWarning: is_sparse is deprecated and will be removed in a future version. Check `isinstance(dtype, pd.SparseDtype)` instead.\n",
      "  if not hasattr(array, \"sparse\") and array.dtypes.apply(is_sparse).any():\n",
      "/Users/simenfritzner/opt/anaconda3/lib/python3.9/site-packages/sklearn/utils/validation.py:623: FutureWarning: is_sparse is deprecated and will be removed in a future version. Check `isinstance(dtype, pd.SparseDtype)` instead.\n",
      "  if not hasattr(array, \"sparse\") and array.dtypes.apply(is_sparse).any():\n",
      "/Users/simenfritzner/opt/anaconda3/lib/python3.9/site-packages/sklearn/utils/validation.py:623: FutureWarning: is_sparse is deprecated and will be removed in a future version. Check `isinstance(dtype, pd.SparseDtype)` instead.\n",
      "  if not hasattr(array, \"sparse\") and array.dtypes.apply(is_sparse).any():\n"
     ]
    }
   ],
   "source": [
    "selected_features_a = selected_features\n",
    "hyperparameters_a = hyperparameters\n",
    "X_train_a, y_train_a = prepare_data_rf_a(X_observed_a, X_estimated_a, y_a, selected_features_a)\n",
    "X_train_a = scale_df(X_train_a, True)\n",
    "X_test_a = prepare_testdata_rf_a(X_test_a, selected_features_a)\n",
    "X_test_a = scale_df(X_test_a, False)"
   ]
  },
  {
   "cell_type": "code",
   "execution_count": 19,
   "id": "732ab99a-effb-40ad-9ac8-e2f85ddce50f",
   "metadata": {},
   "outputs": [],
   "source": [
    "knn_a = KNN_model(hyperparameters, X_train_a, X_test_a, y_train_a)"
   ]
  },
  {
   "cell_type": "code",
   "execution_count": 20,
   "id": "3c0e4b30-34f1-45a0-9e77-901e03b258d2",
   "metadata": {},
   "outputs": [
    {
     "name": "stdout",
     "output_type": "stream",
     "text": [
      "Cross-validation scores: [216.4483191  277.40783735 275.68965737 198.00056195 191.76764416]\n",
      "Mean cross-validation score: 231.862803983585\n"
     ]
    }
   ],
   "source": [
    "knn_a.cross_validate(X_train_a, y_train_a)"
   ]
  },
  {
   "cell_type": "code",
   "execution_count": 21,
   "id": "93f10331-2813-4cdb-9ae3-32c631dd7a9a",
   "metadata": {},
   "outputs": [],
   "source": [
    "knn_a.fit()\n",
    "knn_a.pred()"
   ]
  },
  {
   "cell_type": "markdown",
   "id": "20fb186f-d8b7-482f-b9d0-610f8227a372",
   "metadata": {},
   "source": [
    "# Dataset B"
   ]
  },
  {
   "cell_type": "code",
   "execution_count": 22,
   "id": "f3ba8de2-e7ac-4691-a106-dcd7226f6b3c",
   "metadata": {},
   "outputs": [
    {
     "name": "stderr",
     "output_type": "stream",
     "text": [
      "/Users/simenfritzner/opt/anaconda3/lib/python3.9/site-packages/sklearn/utils/validation.py:623: FutureWarning: is_sparse is deprecated and will be removed in a future version. Check `isinstance(dtype, pd.SparseDtype)` instead.\n",
      "  if not hasattr(array, \"sparse\") and array.dtypes.apply(is_sparse).any():\n",
      "/Users/simenfritzner/opt/anaconda3/lib/python3.9/site-packages/sklearn/utils/validation.py:623: FutureWarning: is_sparse is deprecated and will be removed in a future version. Check `isinstance(dtype, pd.SparseDtype)` instead.\n",
      "  if not hasattr(array, \"sparse\") and array.dtypes.apply(is_sparse).any():\n",
      "/Users/simenfritzner/opt/anaconda3/lib/python3.9/site-packages/sklearn/utils/validation.py:623: FutureWarning: is_sparse is deprecated and will be removed in a future version. Check `isinstance(dtype, pd.SparseDtype)` instead.\n",
      "  if not hasattr(array, \"sparse\") and array.dtypes.apply(is_sparse).any():\n"
     ]
    }
   ],
   "source": [
    "selected_features_b = selected_features\n",
    "hyperparameters_b = hyperparameters\n",
    "X_train_b, y_train_b = prepare_data_rf_a(X_observed_b, X_estimated_b, y_b, selected_features_b)\n",
    "X_train_b = scale_df(X_train_b, True)\n",
    "X_test_b = prepare_testdata_rf_a(X_test_b, selected_features_b)\n",
    "X_test_b = scale_df(X_test_b, False)"
   ]
  },
  {
   "cell_type": "code",
   "execution_count": 23,
   "id": "4f228b2f-e72d-4fc4-b356-8cd459d9fbad",
   "metadata": {},
   "outputs": [],
   "source": [
    "knn_b = KNN_model(hyperparameters_b, X_train_b, X_test_b, y_train_b)"
   ]
  },
  {
   "cell_type": "code",
   "execution_count": 24,
   "id": "0546c72e-8353-439b-a5b6-53a4bd96dabd",
   "metadata": {},
   "outputs": [
    {
     "name": "stdout",
     "output_type": "stream",
     "text": [
      "Cross-validation scores: [52.34948927 26.39339428 52.36925315 23.16858475 22.97229559]\n",
      "Mean cross-validation score: 35.45060340863738\n"
     ]
    }
   ],
   "source": [
    "knn_b.cross_validate(X_train_b, y_train_b)"
   ]
  },
  {
   "cell_type": "code",
   "execution_count": 25,
   "id": "f8da858a-bcf6-4d66-986e-457fb51a83b3",
   "metadata": {},
   "outputs": [],
   "source": [
    "knn_b.fit()\n",
    "knn_b.pred()"
   ]
  },
  {
   "cell_type": "markdown",
   "id": "670638c4-9ff3-4529-a477-6d61c5a25249",
   "metadata": {},
   "source": [
    "# Dataset C"
   ]
  },
  {
   "cell_type": "code",
   "execution_count": 26,
   "id": "c93aca43-27a0-47dc-bb62-0d3d3f5ef625",
   "metadata": {},
   "outputs": [
    {
     "name": "stderr",
     "output_type": "stream",
     "text": [
      "/Users/simenfritzner/opt/anaconda3/lib/python3.9/site-packages/sklearn/utils/validation.py:623: FutureWarning: is_sparse is deprecated and will be removed in a future version. Check `isinstance(dtype, pd.SparseDtype)` instead.\n",
      "  if not hasattr(array, \"sparse\") and array.dtypes.apply(is_sparse).any():\n",
      "/Users/simenfritzner/opt/anaconda3/lib/python3.9/site-packages/sklearn/utils/validation.py:623: FutureWarning: is_sparse is deprecated and will be removed in a future version. Check `isinstance(dtype, pd.SparseDtype)` instead.\n",
      "  if not hasattr(array, \"sparse\") and array.dtypes.apply(is_sparse).any():\n",
      "/Users/simenfritzner/opt/anaconda3/lib/python3.9/site-packages/sklearn/utils/validation.py:623: FutureWarning: is_sparse is deprecated and will be removed in a future version. Check `isinstance(dtype, pd.SparseDtype)` instead.\n",
      "  if not hasattr(array, \"sparse\") and array.dtypes.apply(is_sparse).any():\n"
     ]
    }
   ],
   "source": [
    "selected_features_c = selected_features\n",
    "hyperparameters_c = hyperparameters\n",
    "X_train_c, y_train_c = prepare_data_rf_a(X_observed_c, X_estimated_c, y_c, selected_features_c)\n",
    "X_train_c = scale_df(X_train_c, True)\n",
    "X_test_c = prepare_testdata_rf_a(X_test_c, selected_features_c)\n",
    "X_test_c = scale_df(X_test_c, False)"
   ]
  },
  {
   "cell_type": "code",
   "execution_count": 27,
   "id": "34ae1d6f-2825-4044-89f7-ddfdde276a18",
   "metadata": {},
   "outputs": [],
   "source": [
    "knn_c = KNN_model(hyperparameters, X_train_c, X_test_c, y_train_c)"
   ]
  },
  {
   "cell_type": "code",
   "execution_count": 28,
   "id": "b1f03966-c234-49d9-b457-95bd3a53cb22",
   "metadata": {},
   "outputs": [
    {
     "name": "stdout",
     "output_type": "stream",
     "text": [
      "Cross-validation scores: [18.01155436 44.73083506 26.64150863 24.2774043  25.00710395]\n",
      "Mean cross-validation score: 27.733681259901708\n"
     ]
    }
   ],
   "source": [
    "knn_c.cross_validate(X_train_c, y_train_c)"
   ]
  },
  {
   "cell_type": "code",
   "execution_count": 29,
   "id": "a309607a-4229-46a5-8b0a-203b719cc983",
   "metadata": {},
   "outputs": [],
   "source": [
    "knn_c.fit()\n",
    "knn_c.pred()"
   ]
  },
  {
   "cell_type": "code",
   "execution_count": 30,
   "id": "358eb546-b481-4f2a-b1f4-f87ef1968577",
   "metadata": {},
   "outputs": [],
   "source": [
    "y_pred_knn_test = np.concatenate((knn_a.prediction, knn_b.prediction, knn_c.prediction), axis=0)\n",
    "y_pred_knn_valid = np.concatenate((knn_a.pred_estimated, knn_b.pred_estimated, knn_c.pred_estimated), axis=0)"
   ]
  }
 ],
 "metadata": {
  "kernelspec": {
   "display_name": "Python 3 (ipykernel)",
   "language": "python",
   "name": "python3"
  },
  "language_info": {
   "codemirror_mode": {
    "name": "ipython",
    "version": 3
   },
   "file_extension": ".py",
   "mimetype": "text/x-python",
   "name": "python",
   "nbconvert_exporter": "python",
   "pygments_lexer": "ipython3",
   "version": "3.9.13"
  }
 },
 "nbformat": 4,
 "nbformat_minor": 5
}
