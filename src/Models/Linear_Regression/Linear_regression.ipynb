{
 "cells": [
  {
   "cell_type": "code",
   "execution_count": 28,
   "id": "dc50b679-9eff-455e-bfe2-84c9a5b2e3e8",
   "metadata": {},
   "outputs": [
    {
     "name": "stdout",
     "output_type": "stream",
     "text": [
      "The autoreload extension is already loaded. To reload it, use:\n",
      "  %reload_ext autoreload\n"
     ]
    }
   ],
   "source": [
    "%load_ext autoreload"
   ]
  },
  {
   "cell_type": "code",
   "execution_count": 29,
   "id": "e7268e6d-d405-42cb-b769-1906c0dda04c",
   "metadata": {},
   "outputs": [],
   "source": [
    "%autoreload\n",
    "import sys\n",
    "\n",
    "sys.path.insert(0, '../')\n",
    "from constants import *\n",
    "from lin_reg import *"
   ]
  },
  {
   "cell_type": "markdown",
   "id": "60c58f83-8498-4777-a443-a4a0e48e22e9",
   "metadata": {},
   "source": [
    "# Defining the features we want to keep for the model"
   ]
  },
  {
   "cell_type": "code",
   "execution_count": 30,
   "id": "22088567-301c-473c-9c71-c069caa7da3f",
   "metadata": {},
   "outputs": [],
   "source": [
    "#Cleaning data such that only wanted features are included\n",
    "selected_features = [\"date_forecast\", 'direct_rad:W', 'direct_rad_1h:J', 'clear_sky_rad:W',\n",
    "                     'clear_sky_energy_1h:J', 'diffuse_rad:W', 'sun_elevation:d', 'is_in_shadow:idx', 'is_day:idx']"
   ]
  },
  {
   "cell_type": "markdown",
   "id": "2810471a-815a-4748-a8d4-8890d2f1c900",
   "metadata": {},
   "source": [
    "# Fitting a linear regression model and predicting on test data from X_estimated"
   ]
  },
  {
   "cell_type": "code",
   "execution_count": 31,
   "id": "81830e22-d04c-49e7-9c0d-5aa389586cf0",
   "metadata": {},
   "outputs": [],
   "source": [
    "Lin_reg_a = Lin_reg(X_observed_a, X_estimated_a, y_a, selected_features)\n",
    "Lin_reg_a.fit()\n",
    "Lin_reg_a.pred()\n",
    "\n",
    "Lin_reg_b = Lin_reg(X_observed_b, X_estimated_b, y_b, selected_features)\n",
    "Lin_reg_b.fit()\n",
    "Lin_reg_b.pred()\n",
    "\n",
    "Lin_reg_c = Lin_reg(X_observed_c, X_estimated_c, y_c, selected_features)\n",
    "Lin_reg_c.fit()\n",
    "Lin_reg_c.pred()"
   ]
  },
  {
   "cell_type": "markdown",
   "id": "1e05db8d-1563-4d9e-9fc0-b0037ccbc5d0",
   "metadata": {},
   "source": [
    "# Evaluating Mean Absolute Error on the test data from X_estimated"
   ]
  },
  {
   "cell_type": "code",
   "execution_count": 32,
   "id": "275d6461-83d4-42f9-8161-d85857d479ad",
   "metadata": {},
   "outputs": [
    {
     "name": "stdout",
     "output_type": "stream",
     "text": [
      "A: Mean Absolute Error: 164.3402795368281\n",
      "B: Mean Absolute Error: 27.53432354253654\n",
      "C: Mean Absolute Error: 27.467160453612635\n"
     ]
    }
   ],
   "source": [
    "#Evaluate mean asbolute error\n",
    "mae_a = Lin_reg_a.mae()\n",
    "print(\"A: Mean Absolute Error:\", mae_a)\n",
    "\n",
    "mae_b =Lin_reg_b.mae()\n",
    "print(\"B: Mean Absolute Error:\", mae_b)\n",
    "\n",
    "mae_c = Lin_reg_c.mae()\n",
    "print(\"C: Mean Absolute Error:\", mae_c)\n",
    "\n",
    "#Saving y_pred in a proper csv file\n",
    "#filename = \"CSV/second_submission.csv\"\n",
    "#submission(filename, y_pred)"
   ]
  },
  {
   "cell_type": "code",
   "execution_count": 33,
   "id": "1355bfac-b941-4819-bc90-b9af945c90a0",
   "metadata": {
    "tags": []
   },
   "outputs": [],
   "source": [
    "Lin_reg_a.pred(X_test_a)\n",
    "Lin_reg_b.pred(X_test_b)\n",
    "Lin_reg_c.pred(X_test_c)\n",
    "\n",
    "y_pred_Lin_reg_test = np.concatenate((Lin_reg_a.prediction, Lin_reg_b.prediction, Lin_reg_c.prediction), axis=0)\n",
    "y_pred_Lin_reg_valid = np.concatenate((Lin_reg_a.pred_estimated, Lin_reg_b.pred_estimated, Lin_reg_c.pred_estimated), axis=0)\n",
    "y_valid = np.concatenate((Lin_reg_a.y_test[\"pv_measurement\"], Lin_reg_b.y_test[\"pv_measurement\"], Lin_reg_c.y_test[\"pv_measurement\"]), axis=0)\n"
   ]
  },
  {
   "cell_type": "code",
   "execution_count": null,
   "id": "d19d43c2-15b7-45d6-8512-db420215bf87",
   "metadata": {},
   "outputs": [],
   "source": []
  }
 ],
 "metadata": {
  "kernelspec": {
   "display_name": "Python 3 (ipykernel)",
   "language": "python",
   "name": "python3"
  },
  "language_info": {
   "codemirror_mode": {
    "name": "ipython",
    "version": 3
   },
   "file_extension": ".py",
   "mimetype": "text/x-python",
   "name": "python",
   "nbconvert_exporter": "python",
   "pygments_lexer": "ipython3",
   "version": "3.11.4"
  }
 },
 "nbformat": 4,
 "nbformat_minor": 5
}
