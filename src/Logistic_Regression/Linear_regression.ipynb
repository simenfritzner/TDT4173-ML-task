{
 "cells": [
  {
   "cell_type": "code",
   "execution_count": 62,
   "id": "dc50b679-9eff-455e-bfe2-84c9a5b2e3e8",
   "metadata": {},
   "outputs": [],
   "source": [
    "import os\n",
    "import pandas as pd\n",
    "import numpy as np\n",
    "import matplotlib.pylab as plt\n",
    "from sklearn.model_selection import train_test_split\n",
    "from sklearn.preprocessing import StandardScaler\n",
    "from sklearn.linear_model import LinearRegression\n",
    "from sklearn.metrics import classification_report, accuracy_score\n",
    "from sklearn.metrics import mean_squared_error\n",
    "%matplotlib inline\n",
    "\n",
    "pd.set_option('display.max_rows', 200)\n",
    "pd.set_option('display.max_columns', 200)"
   ]
  },
  {
   "cell_type": "code",
   "execution_count": 22,
   "id": "8e8b4625-d0d5-4140-9803-ceff93b93ca4",
   "metadata": {},
   "outputs": [
    {
     "data": {
      "text/html": [
       "<div>\n",
       "<style scoped>\n",
       "    .dataframe tbody tr th:only-of-type {\n",
       "        vertical-align: middle;\n",
       "    }\n",
       "\n",
       "    .dataframe tbody tr th {\n",
       "        vertical-align: top;\n",
       "    }\n",
       "\n",
       "    .dataframe thead th {\n",
       "        text-align: right;\n",
       "    }\n",
       "</style>\n",
       "<table border=\"1\" class=\"dataframe\">\n",
       "  <thead>\n",
       "    <tr style=\"text-align: right;\">\n",
       "      <th></th>\n",
       "      <th>time</th>\n",
       "      <th>pv_measurement</th>\n",
       "    </tr>\n",
       "  </thead>\n",
       "  <tbody>\n",
       "    <tr>\n",
       "      <th>0</th>\n",
       "      <td>2019-06-02 22:00:00</td>\n",
       "      <td>0.00</td>\n",
       "    </tr>\n",
       "    <tr>\n",
       "      <th>1</th>\n",
       "      <td>2019-06-02 23:00:00</td>\n",
       "      <td>0.00</td>\n",
       "    </tr>\n",
       "    <tr>\n",
       "      <th>2</th>\n",
       "      <td>2019-06-03 00:00:00</td>\n",
       "      <td>0.00</td>\n",
       "    </tr>\n",
       "    <tr>\n",
       "      <th>3</th>\n",
       "      <td>2019-06-03 01:00:00</td>\n",
       "      <td>0.00</td>\n",
       "    </tr>\n",
       "    <tr>\n",
       "      <th>4</th>\n",
       "      <td>2019-06-03 02:00:00</td>\n",
       "      <td>19.36</td>\n",
       "    </tr>\n",
       "    <tr>\n",
       "      <th>...</th>\n",
       "      <td>...</td>\n",
       "      <td>...</td>\n",
       "    </tr>\n",
       "    <tr>\n",
       "      <th>34080</th>\n",
       "      <td>2023-04-30 19:00:00</td>\n",
       "      <td>9.02</td>\n",
       "    </tr>\n",
       "    <tr>\n",
       "      <th>34081</th>\n",
       "      <td>2023-04-30 20:00:00</td>\n",
       "      <td>0.00</td>\n",
       "    </tr>\n",
       "    <tr>\n",
       "      <th>34082</th>\n",
       "      <td>2023-04-30 21:00:00</td>\n",
       "      <td>0.00</td>\n",
       "    </tr>\n",
       "    <tr>\n",
       "      <th>34083</th>\n",
       "      <td>2023-04-30 22:00:00</td>\n",
       "      <td>0.00</td>\n",
       "    </tr>\n",
       "    <tr>\n",
       "      <th>34084</th>\n",
       "      <td>2023-04-30 23:00:00</td>\n",
       "      <td>0.00</td>\n",
       "    </tr>\n",
       "  </tbody>\n",
       "</table>\n",
       "<p>34085 rows × 2 columns</p>\n",
       "</div>"
      ],
      "text/plain": [
       "                     time  pv_measurement\n",
       "0     2019-06-02 22:00:00            0.00\n",
       "1     2019-06-02 23:00:00            0.00\n",
       "2     2019-06-03 00:00:00            0.00\n",
       "3     2019-06-03 01:00:00            0.00\n",
       "4     2019-06-03 02:00:00           19.36\n",
       "...                   ...             ...\n",
       "34080 2023-04-30 19:00:00            9.02\n",
       "34081 2023-04-30 20:00:00            0.00\n",
       "34082 2023-04-30 21:00:00            0.00\n",
       "34083 2023-04-30 22:00:00            0.00\n",
       "34084 2023-04-30 23:00:00            0.00\n",
       "\n",
       "[34085 rows x 2 columns]"
      ]
     },
     "metadata": {},
     "output_type": "display_data"
    }
   ],
   "source": [
    "train_a = pd.read_parquet('../Data_and_task/A/train_targets.parquet')\n",
    "train_b = pd.read_parquet('../Data_and_task/B/train_targets.parquet')\n",
    "train_c = pd.read_parquet('../Data_and_task/C/train_targets.parquet')"
   ]
  },
  {
   "cell_type": "code",
   "execution_count": 38,
   "id": "01007176-36d4-4044-93eb-c8284b3a7a7e",
   "metadata": {},
   "outputs": [],
   "source": [
    "X_train_estimated_a = pd.read_parquet('../Data_and_task/A/X_train_estimated.parquet')\n",
    "X_train_estimated_b = pd.read_parquet('../Data_and_task/B/X_train_estimated.parquet')\n",
    "X_train_estimated_c = pd.read_parquet('../Data_and_task/C/X_train_estimated.parquet')"
   ]
  },
  {
   "cell_type": "code",
   "execution_count": 39,
   "id": "e6290827-1675-4bd6-8557-daa3622cea24",
   "metadata": {},
   "outputs": [],
   "source": [
    "X_train_observed_a = pd.read_parquet('../Data_and_task/A/X_train_observed.parquet')\n",
    "X_train_observed_b = pd.read_parquet('../Data_and_task/B/X_train_observed.parquet')\n",
    "X_train_observed_c = pd.read_parquet('../Data_and_task/C/X_train_observed.parquet')"
   ]
  },
  {
   "cell_type": "code",
   "execution_count": 40,
   "id": "96b86c3d-9bc1-40ca-93f6-7bd5baeddeb3",
   "metadata": {},
   "outputs": [],
   "source": [
    "X_test_estimated_a = pd.read_parquet('../Data_and_task/A/X_test_estimated.parquet')\n",
    "X_test_estimated_b = pd.read_parquet('../Data_and_task/B/X_test_estimated.parquet')\n",
    "X_test_estimated_c = pd.read_parquet('../Data_and_task/C/X_test_estimated.parquet')"
   ]
  },
  {
   "cell_type": "code",
   "execution_count": 77,
   "id": "22088567-301c-473c-9c71-c069caa7da3f",
   "metadata": {},
   "outputs": [],
   "source": [
    "selected_features = [\n",
    "    \"clear_sky_rad:W\", \"diffuse_rad:W\", \"direct_rad:W\",\n",
    "    \"absolute_humidity_2m:gm3\", \"effective_cloud_cover:p\",\n",
    "    \"is_day:idx\", \"is_in_shadow:idx\", \"fresh_snow_12h:cm\",\n",
    "    \"sun_azimuth:d\", \"sun_elevation:d\", \"wind_speed_10m:ms\"\n",
    "]\n",
    "X_train_observed_a_clean = X_train_observed_a[selected_features].copy()\n",
    "X_train_estimated_a_clean = X_train_estimated_a[selected_features].copy()\n",
    "X_test_estimated_a_clean = X_test_estimated_a[selected_features].copy()"
   ]
  },
  {
   "cell_type": "code",
   "execution_count": 79,
   "id": "30415cbf-33cd-4df6-ba55-c91095bf01be",
   "metadata": {},
   "outputs": [
    {
     "name": "stdout",
     "output_type": "stream",
     "text": [
      "Root Mean Squared Error: 520.9673562938567\n"
     ]
    },
    {
     "name": "stderr",
     "output_type": "stream",
     "text": [
      "/Users/simenfritzner/opt/anaconda3/lib/python3.9/site-packages/sklearn/utils/validation.py:623: FutureWarning: is_sparse is deprecated and will be removed in a future version. Check `isinstance(dtype, pd.SparseDtype)` instead.\n",
      "  if not hasattr(array, \"sparse\") and array.dtypes.apply(is_sparse).any():\n",
      "/Users/simenfritzner/opt/anaconda3/lib/python3.9/site-packages/sklearn/utils/validation.py:623: FutureWarning: is_sparse is deprecated and will be removed in a future version. Check `isinstance(dtype, pd.SparseDtype)` instead.\n",
      "  if not hasattr(array, \"sparse\") and array.dtypes.apply(is_sparse).any():\n"
     ]
    }
   ],
   "source": [
    "#Training a Linear regression model on x_observed_a\n",
    "train_a_observed= train_a.iloc[:X_train_observed_a[::4].shape[0]].copy()\n",
    "\n",
    "scaler = StandardScaler()\n",
    "X_train_scaled = scaler.fit_transform(X_train_observed_a_clean[::4])\n",
    "reg = LinearRegression()\n",
    "reg.fit(X_train_scaled, train_a_observed[\"pv_measurement\"])\n",
    "\n",
    "# Make predictions\n",
    "y_pred = reg.predict(X_train_scaled)\n",
    "\n",
    "# Evaluate the model\n",
    "mse = mean_squared_error(train_a_observed[\"pv_measurement\"], y_pred)\n",
    "print(\"Root Mean Squared Error:\", np.sqrt(mse))"
   ]
  },
  {
   "cell_type": "code",
   "execution_count": 80,
   "id": "e359d0f8-a3fb-4f57-a45e-32f125a9e6c5",
   "metadata": {},
   "outputs": [
    {
     "name": "stdout",
     "output_type": "stream",
     "text": [
      "Root Mean Squared Error: 574.8418926175561\n"
     ]
    },
    {
     "name": "stderr",
     "output_type": "stream",
     "text": [
      "/Users/simenfritzner/opt/anaconda3/lib/python3.9/site-packages/sklearn/utils/validation.py:623: FutureWarning: is_sparse is deprecated and will be removed in a future version. Check `isinstance(dtype, pd.SparseDtype)` instead.\n",
      "  if not hasattr(array, \"sparse\") and array.dtypes.apply(is_sparse).any():\n",
      "/Users/simenfritzner/opt/anaconda3/lib/python3.9/site-packages/sklearn/utils/validation.py:623: FutureWarning: is_sparse is deprecated and will be removed in a future version. Check `isinstance(dtype, pd.SparseDtype)` instead.\n",
      "  if not hasattr(array, \"sparse\") and array.dtypes.apply(is_sparse).any():\n"
     ]
    }
   ],
   "source": [
    "train_a_estimated= train_a.iloc[X_train_observed_a[::4].shape[0]:].copy()\n",
    "\n",
    "scaler = StandardScaler()\n",
    "X_train_scaled = scaler.fit_transform(X_train_estimated_a_clean[::4])\n",
    "reg = LinearRegression()\n",
    "reg.fit(X_train_scaled, train_a_estimated[\"pv_measurement\"])\n",
    "\n",
    "# Make predictions\n",
    "y_pred = reg.predict(X_train_scaled)\n",
    "\n",
    "# Evaluate the model\n",
    "mse = mean_squared_error(train_a_estimated[\"pv_measurement\"], y_pred)\n",
    "print(\"Root Mean Squared Error:\", np.sqrt(mse))"
   ]
  }
 ],
 "metadata": {
  "kernelspec": {
   "display_name": "Python 3 (ipykernel)",
   "language": "python",
   "name": "python3"
  },
  "language_info": {
   "codemirror_mode": {
    "name": "ipython",
    "version": 3
   },
   "file_extension": ".py",
   "mimetype": "text/x-python",
   "name": "python",
   "nbconvert_exporter": "python",
   "pygments_lexer": "ipython3",
   "version": "3.9.13"
  }
 },
 "nbformat": 4,
 "nbformat_minor": 5
}
