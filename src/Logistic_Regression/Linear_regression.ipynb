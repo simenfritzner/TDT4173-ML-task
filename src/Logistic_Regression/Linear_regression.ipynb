{
 "cells": [
  {
   "cell_type": "code",
   "execution_count": 1534,
   "id": "dc50b679-9eff-455e-bfe2-84c9a5b2e3e8",
   "metadata": {},
   "outputs": [
    {
     "name": "stdout",
     "output_type": "stream",
     "text": [
      "The autoreload extension is already loaded. To reload it, use:\n",
      "  %reload_ext autoreload\n"
     ]
    }
   ],
   "source": [
    "%load_ext autoreload\n",
    "#To update the imported files"
   ]
  },
  {
   "cell_type": "code",
   "execution_count": 1535,
   "id": "e7268e6d-d405-42cb-b769-1906c0dda04c",
   "metadata": {},
   "outputs": [],
   "source": [
    "%autoreload\n",
    "import os\n",
    "import pandas as pd\n",
    "import numpy as np\n",
    "import matplotlib.pylab as plt\n",
    "from sklearn.model_selection import train_test_split\n",
    "from sklearn.preprocessing import StandardScaler\n",
    "from sklearn.linear_model import LinearRegression\n",
    "from sklearn.metrics import classification_report, accuracy_score\n",
    "from sklearn.metrics import mean_absolute_error\n",
    "from utilities import *\n",
    "import seaborn as sns\n",
    "%matplotlib inline\n",
    "\n",
    "pd.set_option('display.max_rows', 200)\n",
    "pd.set_option('display.max_columns', 200)"
   ]
  },
  {
   "cell_type": "code",
   "execution_count": 1536,
   "id": "8e8b4625-d0d5-4140-9803-ceff93b93ca4",
   "metadata": {},
   "outputs": [],
   "source": [
    "#Loading the y-paramter from file, might be changed to y_a etc.\n",
    "train_a = pd.read_parquet('../Data_and_task/A/train_targets.parquet')\n",
    "train_b = pd.read_parquet('../Data_and_task/B/train_targets.parquet')\n",
    "train_c = pd.read_parquet('../Data_and_task/C/train_targets.parquet')"
   ]
  },
  {
   "cell_type": "code",
   "execution_count": 1537,
   "id": "01007176-36d4-4044-93eb-c8284b3a7a7e",
   "metadata": {},
   "outputs": [],
   "source": [
    "#Loading estimated/forecasted training_weather from file\n",
    "X_train_estimated_a = pd.read_parquet('../Data_and_task/A/X_train_estimated.parquet')\n",
    "X_train_estimated_b = pd.read_parquet('../Data_and_task/B/X_train_estimated.parquet')\n",
    "X_train_estimated_c = pd.read_parquet('../Data_and_task/C/X_train_estimated.parquet')"
   ]
  },
  {
   "cell_type": "code",
   "execution_count": 1538,
   "id": "e6290827-1675-4bd6-8557-daa3622cea24",
   "metadata": {},
   "outputs": [],
   "source": [
    "#Loading observed weather from file\n",
    "X_train_observed_a = pd.read_parquet('../Data_and_task/A/X_train_observed.parquet')\n",
    "X_train_observed_b = pd.read_parquet('../Data_and_task/B/X_train_observed.parquet')\n",
    "X_train_observed_c = pd.read_parquet('../Data_and_task/C/X_train_observed.parquet')"
   ]
  },
  {
   "cell_type": "code",
   "execution_count": 1539,
   "id": "96b86c3d-9bc1-40ca-93f6-7bd5baeddeb3",
   "metadata": {},
   "outputs": [],
   "source": [
    "#Loading estimated/forecasted test_weather from file\n",
    "X_test_estimated_a = pd.read_parquet('../Data_and_task/A/X_test_estimated.parquet')\n",
    "X_test_estimated_b = pd.read_parquet('../Data_and_task/B/X_test_estimated.parquet')\n",
    "X_test_estimated_c = pd.read_parquet('../Data_and_task/C/X_test_estimated.parquet')"
   ]
  },
  {
   "cell_type": "code",
   "execution_count": 1540,
   "id": "5eb1e05b",
   "metadata": {},
   "outputs": [],
   "source": [
    "#Cleaning data such that only wanted features are included\n",
    "\n",
    "selected_features = [\"date_forecast\", \"direct_rad:W\", \"direct_rad_1h:J\", \"clear_sky_rad:W\", \"clear_sky_energy_1h:J\", \"diffuse_rad:W\",\n",
    "\"diffuse_rad_1h:J\", \"sun_elevation:d\", \"is_in_shadow:idx\", \"is_day:idx\"]\n",
    "\n",
    "#Defining y_fetures, will always be the same\n",
    "y_features = [\"time\", \"pv_measurement\"]\n",
    "\n",
    "#Fjernen kvarter-radene og fjerner \"date_calc\" kolonnen hvis den finnes\n",
    "X_train_observed_a_clean = clean_X_data(X_train_observed_a)\n",
    "X_train_observed_b_clean = clean_X_data(X_train_observed_b)\n",
    "X_train_observed_c_clean = clean_X_data(X_train_observed_c)\n",
    "X_train_estimated_a_clean = clean_X_data(X_train_observed_a)\n",
    "X_train_estimated_b_clean = clean_X_data(X_train_observed_b)\n",
    "X_train_estimated_c_clean = clean_X_data(X_train_observed_c)\n",
    "X_test_estimated_a_clean = clean_X_data(X_test_estimated_a)\n",
    "X_test_estimated_b_clean = clean_X_data(X_test_estimated_b)\n",
    "X_test_estimated_c_clean = clean_X_data(X_test_estimated_c)\n",
    "\n",
    "X_train_observed_a_clean_selected_features = X_train_observed_a_clean[selected_features].copy()\n",
    "X_train_observed_b_clean_selected_features = X_train_observed_b_clean[selected_features].copy()\n",
    "X_train_observed_c_clean_selected_features = X_train_observed_c_clean[selected_features].copy()\n",
    "X_train_estimated_a_clean_selected_features = X_train_estimated_a_clean[selected_features].copy()\n",
    "X_train_estimated_b_clean_selected_features = X_train_estimated_b_clean[selected_features].copy()\n",
    "X_train_estimated_c_clean_selected_features = X_train_estimated_c_clean[selected_features].copy()\n",
    "X_test_estimated_a_clean_selected_features = X_test_estimated_a_clean[selected_features].copy()\n",
    "X_test_estimated_b_clean_selected_features = X_test_estimated_b_clean[selected_features].copy()\n",
    "X_test_estimated_c_clean_selected_features = X_test_estimated_c_clean[selected_features].copy()"
   ]
  },
  {
   "cell_type": "code",
   "execution_count": 1541,
   "id": "a5b5d8e2",
   "metadata": {},
   "outputs": [
    {
     "data": {
      "text/plain": [
       "'train_b.drop(train_b.index[335:720], inplace=True)\\ntrain_b.drop(train_b.index[10966:11306], inplace=True)\\ntrain_b.drop(train_b.index[13411:14469], inplace=True)\\ntrain_b.drop(train_b.index[15180:15216], inplace=True)\\ntrain_b.drop(train_b.index[18690:20140], inplace=True)\\ntrain_b.drop(train_b.index[20370:20441], inplace=True)\\ntrain_b.drop(train_b.index[21260:21315], inplace=True)\\n# Sletter rader:335 til 720, 10966 til 11306, 13411 til 14469, 15180 til 15216, 18690 til 20140, 20370 til 20441, 21260 til 21315'"
      ]
     },
     "execution_count": 1541,
     "metadata": {},
     "output_type": "execute_result"
    }
   ],
   "source": [
    "\"\"\"train_b.drop(train_b.index[335:720], inplace=True)\n",
    "train_b.drop(train_b.index[10966:11306], inplace=True)\n",
    "train_b.drop(train_b.index[13411:14469], inplace=True)\n",
    "train_b.drop(train_b.index[15180:15216], inplace=True)\n",
    "train_b.drop(train_b.index[18690:20140], inplace=True)\n",
    "train_b.drop(train_b.index[20370:20441], inplace=True)\n",
    "train_b.drop(train_b.index[21260:21315], inplace=True)\n",
    "# Sletter rader:335 til 720, 10966 til 11306, 13411 til 14469, 15180 til 15216, 18690 til 20140, 20370 til 20441, 21260 til 21315\"\"\""
   ]
  },
  {
   "cell_type": "code",
   "execution_count": 1542,
   "id": "8299c56a",
   "metadata": {},
   "outputs": [],
   "source": [
    "train_c.dropna(inplace=True)\n",
    "\n",
    "# delete_ranges_of_zeros(train_c, 'pv_measurement', 5, [19.6, 9.8])\n",
    "\n",
    "deleted_ranges = delete_sequence_with_repeating_numbers(train_b, \"pv_measurement\", 25)\n",
    "delete_repeating_non_zero_numbers(train_b, 'pv_measurement', 3)"
   ]
  },
  {
   "cell_type": "code",
   "execution_count": 1543,
   "id": "b0d375b5",
   "metadata": {},
   "outputs": [
    {
     "name": "stdout",
     "output_type": "stream",
     "text": [
      "Mean Absolute Error: 13.732492558093316\n"
     ]
    }
   ],
   "source": [
    "#Training a Linear regression model on X_observed_a and testing it on X_estimated_a and evaluating it on MAE, PURELY for testing!\n",
    "#See below for how its done when submitting\n",
    "X_train_observed_b_clean_selected_features_resized, train_b_observed_resized = resize_trainingdata(X_train_observed_b_clean_selected_features, train_b, \"date_forecast\", y_features)\n",
    "X_train_estimated_b_clean_selected_features_resized, train_b_estimated_resized = resize_trainingdata(X_train_estimated_b_clean_selected_features, train_b, \"date_forecast\", y_features)\n",
    "\n",
    "#Scaling the data for more fair comparions and faster convergence, ChatGPT\n",
    "scaler = StandardScaler()\n",
    "X_train_scaled = scaler.fit_transform(X_train_observed_b_clean_selected_features_resized)\n",
    "X_test_scaled = scaler.fit_transform(X_train_estimated_b_clean_selected_features_resized)\n",
    "\n",
    "#Training the model\n",
    "reg = LinearRegression()\n",
    "reg.fit(X_train_scaled, train_b_observed_resized[\"pv_measurement\"])\n",
    "\n",
    "# Make predictions\n",
    "y_pred = reg.predict(X_test_scaled)\n",
    "\n",
    "#Evaluate mean asbolute error\n",
    "mae = mean_absolute_error(train_b_estimated_resized[\"pv_measurement\"], y_pred)\n",
    "print(\"Mean Absolute Error:\", mae)"
   ]
  }
 ],
 "metadata": {
  "kernelspec": {
   "display_name": "Python 3 (ipykernel)",
   "language": "python",
   "name": "python3"
  },
  "language_info": {
   "codemirror_mode": {
    "name": "ipython",
    "version": 3
   },
   "file_extension": ".py",
   "mimetype": "text/x-python",
   "name": "python",
   "nbconvert_exporter": "python",
   "pygments_lexer": "ipython3",
   "version": "3.11.4"
  }
 },
 "nbformat": 4,
 "nbformat_minor": 5
}
