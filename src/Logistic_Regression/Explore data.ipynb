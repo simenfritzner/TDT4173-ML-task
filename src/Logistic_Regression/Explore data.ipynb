{
 "cells": [
  {
   "cell_type": "code",
   "execution_count": 36,
   "id": "dc50b679-9eff-455e-bfe2-84c9a5b2e3e8",
   "metadata": {},
   "outputs": [
    {
     "name": "stdout",
     "output_type": "stream",
     "text": [
      "The autoreload extension is already loaded. To reload it, use:\n",
      "  %reload_ext autoreload\n"
     ]
    }
   ],
   "source": [
    "%load_ext autoreload\n",
    "#To update the imported files"
   ]
  },
  {
   "cell_type": "code",
   "execution_count": 37,
   "id": "e7268e6d-d405-42cb-b769-1906c0dda04c",
   "metadata": {},
   "outputs": [],
   "source": [
    "%autoreload\n",
    "import os\n",
    "import pandas as pd\n",
    "import numpy as np\n",
    "import matplotlib.pylab as plt\n",
    "from sklearn.model_selection import train_test_split\n",
    "from sklearn.preprocessing import StandardScaler\n",
    "from sklearn.linear_model import LinearRegression\n",
    "from sklearn.metrics import classification_report, accuracy_score\n",
    "from sklearn.metrics import mean_absolute_error\n",
    "from utilities import *\n",
    "import seaborn as sns\n",
    "%matplotlib inline\n",
    "\n",
    "pd.set_option('display.max_rows', 200)\n",
    "pd.set_option('display.max_columns', 200)"
   ]
  },
  {
   "cell_type": "code",
   "execution_count": 38,
   "id": "8e8b4625-d0d5-4140-9803-ceff93b93ca4",
   "metadata": {},
   "outputs": [],
   "source": [
    "#Loading the y-paramter from file, might be changed to y_a etc.\n",
    "train_a = pd.read_parquet('../Data_and_task/A/train_targets.parquet')\n",
    "train_b = pd.read_parquet('../Data_and_task/B/train_targets.parquet')\n",
    "train_c = pd.read_parquet('../Data_and_task/C/train_targets.parquet')"
   ]
  },
  {
   "cell_type": "code",
   "execution_count": 39,
   "id": "01007176-36d4-4044-93eb-c8284b3a7a7e",
   "metadata": {},
   "outputs": [],
   "source": [
    "#Loading estimated/forecasted training_weather from file\n",
    "X_train_estimated_a = pd.read_parquet('../Data_and_task/A/X_train_estimated.parquet')\n",
    "X_train_estimated_b = pd.read_parquet('../Data_and_task/B/X_train_estimated.parquet')\n",
    "X_train_estimated_c = pd.read_parquet('../Data_and_task/C/X_train_estimated.parquet')"
   ]
  },
  {
   "cell_type": "code",
   "execution_count": 40,
   "id": "e6290827-1675-4bd6-8557-daa3622cea24",
   "metadata": {},
   "outputs": [],
   "source": [
    "#Loading observed weather from file\n",
    "X_train_observed_a = pd.read_parquet('../Data_and_task/A/X_train_observed.parquet')\n",
    "X_train_observed_b = pd.read_parquet('../Data_and_task/B/X_train_observed.parquet')\n",
    "X_train_observed_c = pd.read_parquet('../Data_and_task/C/X_train_observed.parquet')"
   ]
  },
  {
   "cell_type": "code",
   "execution_count": 41,
   "id": "96b86c3d-9bc1-40ca-93f6-7bd5baeddeb3",
   "metadata": {},
   "outputs": [],
   "source": [
    "#Loading estimated/forecasted test_weather from file\n",
    "X_test_estimated_a = pd.read_parquet('../Data_and_task/A/X_test_estimated.parquet')\n",
    "X_test_estimated_b = pd.read_parquet('../Data_and_task/B/X_test_estimated.parquet')\n",
    "X_test_estimated_c = pd.read_parquet('../Data_and_task/C/X_test_estimated.parquet')"
   ]
  },
  {
   "cell_type": "code",
   "execution_count": null,
   "id": "98f3d171",
   "metadata": {},
   "outputs": [],
   "source": [
    "round_to_two_decimals(train_a, 'pv_measurement')\n",
    "round_to_two_decimals(train_b, 'pv_measurement')\n",
    "round_to_two_decimals(train_c, 'pv_measurement')"
   ]
  },
  {
   "cell_type": "code",
   "execution_count": 42,
   "id": "b79ed634",
   "metadata": {},
   "outputs": [],
   "source": [
    "with pd.ExcelWriter('train_abc.xlsx') as writer:\n",
    "    train_a.to_excel(writer, sheet_name='train_a', index=False)\n",
    "    train_b.to_excel(writer, sheet_name='train_b', index=False)\n",
    "    train_c.to_excel(writer, sheet_name='train_c', index=False)"
   ]
  },
  {
   "cell_type": "code",
   "execution_count": 43,
   "id": "3eae91ae",
   "metadata": {},
   "outputs": [],
   "source": [
    "deleted_ranges = delete_sequence_with_repeating_numbers(train_a, \"pv_measurement\", 25)\n",
    "deleted_ranges = delete_sequence_with_repeating_numbers(train_b, \"pv_measurement\", 25)\n",
    "deleted_ranges = delete_sequence_with_repeating_numbers(train_c, \"pv_measurement\", 25)"
   ]
  },
  {
   "cell_type": "code",
   "execution_count": 44,
   "id": "7908df54",
   "metadata": {},
   "outputs": [],
   "source": [
    "with pd.ExcelWriter('train_abc_after_deleting_repeating_numbers.xlsx') as writer:\n",
    "    train_a.to_excel(writer, sheet_name='train_a', index=False)\n",
    "    train_b.to_excel(writer, sheet_name='train_b', index=False)\n",
    "    train_c.to_excel(writer, sheet_name='train_c', index=False)"
   ]
  },
  {
   "cell_type": "code",
   "execution_count": 45,
   "id": "5eb1e05b",
   "metadata": {},
   "outputs": [],
   "source": [
    "#Cleaning data such that only wanted features are included\n",
    "\n",
    "selected_features = [\"date_forecast\", \"direct_rad:W\", \"direct_rad_1h:J\", \"clear_sky_rad:W\", \"clear_sky_energy_1h:J\", \"diffuse_rad:W\",\n",
    "\"diffuse_rad_1h:J\", \"sun_elevation:d\", \"is_in_shadow:idx\", \"is_day:idx\"]\n",
    "\n",
    "#Defining y_fetures, will always be the same\n",
    "y_features = [\"time\", \"pv_measurement\"]\n",
    "\n",
    "#Fjernen kvarter-radene og fjerner \"date_calc\" kolonnen hvis den finnes\n",
    "X_train_observed_a_clean = clean_X_data(X_train_observed_a)\n",
    "X_train_observed_b_clean = clean_X_data(X_train_observed_b)\n",
    "X_train_observed_c_clean = clean_X_data(X_train_observed_c)\n",
    "X_train_estimated_a_clean = clean_X_data(X_train_observed_a)\n",
    "X_train_estimated_b_clean = clean_X_data(X_train_observed_b)\n",
    "X_train_estimated_c_clean = clean_X_data(X_train_observed_c)\n",
    "X_test_estimated_a_clean = clean_X_data(X_test_estimated_a)\n",
    "X_test_estimated_b_clean = clean_X_data(X_test_estimated_b)\n",
    "X_test_estimated_c_clean = clean_X_data(X_test_estimated_c)\n",
    "\n",
    "X_train_observed_a_clean_selected_features = X_train_observed_a_clean[selected_features].copy()\n",
    "X_train_observed_b_clean_selected_features = X_train_observed_b_clean[selected_features].copy()\n",
    "X_train_observed_c_clean_selected_features = X_train_observed_c_clean[selected_features].copy()\n",
    "X_train_estimated_a_clean_selected_features = X_train_estimated_a_clean[selected_features].copy()\n",
    "X_train_estimated_b_clean_selected_features = X_train_estimated_b_clean[selected_features].copy()\n",
    "X_train_estimated_c_clean_selected_features = X_train_estimated_c_clean[selected_features].copy()\n",
    "X_test_estimated_a_clean_selected_features = X_test_estimated_a_clean[selected_features].copy()\n",
    "X_test_estimated_b_clean_selected_features = X_test_estimated_b_clean[selected_features].copy()\n",
    "X_test_estimated_c_clean_selected_features = X_test_estimated_c_clean[selected_features].copy()"
   ]
  }
 ],
 "metadata": {
  "kernelspec": {
   "display_name": "Python 3 (ipykernel)",
   "language": "python",
   "name": "python3"
  },
  "language_info": {
   "codemirror_mode": {
    "name": "ipython",
    "version": 3
   },
   "file_extension": ".py",
   "mimetype": "text/x-python",
   "name": "python",
   "nbconvert_exporter": "python",
   "pygments_lexer": "ipython3",
   "version": "3.11.4"
  }
 },
 "nbformat": 4,
 "nbformat_minor": 5
}
