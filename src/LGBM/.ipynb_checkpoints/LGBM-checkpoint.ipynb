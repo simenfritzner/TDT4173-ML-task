{
 "cells": [
  {
   "cell_type": "code",
   "execution_count": 1,
   "id": "f81baca5-fdf6-4b8e-8250-85fc115af952",
   "metadata": {},
   "outputs": [],
   "source": [
    "%load_ext autoreload\n",
    "#To update the imported files"
   ]
  },
  {
   "cell_type": "code",
   "execution_count": 3,
   "id": "a3458847-a095-452c-9ba9-6dc6e65b4a83",
   "metadata": {},
   "outputs": [],
   "source": [
    "%autoreload\n",
    "import os\n",
    "import pandas as pd\n",
    "import numpy as np\n",
    "import numpy as np\n",
    "import seaborn as sns\n",
    "import matplotlib.pylab as plt\n",
    "from sklearn.metrics import mean_absolute_error\n",
    "import lightgbm as lgb\n",
    "%matplotlib inline\n",
    "\n",
    "pd.set_option('display.max_rows', 200)\n",
    "pd.set_option('display.max_columns', 200)"
   ]
  },
  {
   "cell_type": "markdown",
   "id": "337ef8a1-c6c6-4db7-90c8-b4cb60ee184a",
   "metadata": {},
   "source": [
    "# Loading in the data from file:"
   ]
  },
  {
   "cell_type": "code",
   "execution_count": 4,
   "id": "828129c5-b4f4-4329-8008-6b37e29cc2fd",
   "metadata": {},
   "outputs": [],
   "source": [
    "#Loading the y-paramter from file, might be changed to y_a etc.\n",
    "y_a = pd.read_parquet('../Data_and_task/A/train_targets.parquet')\n",
    "y_b = pd.read_parquet('../Data_and_task/B/train_targets.parquet')\n",
    "y_c = pd.read_parquet('../Data_and_task/C/train_targets.parquet')\n",
    "y_b = y_b.dropna()\n",
    "y_c=y_c.dropna()"
   ]
  },
  {
   "cell_type": "code",
   "execution_count": 5,
   "id": "f485f2e3-57f0-423a-ac22-6ab5a9968e4b",
   "metadata": {},
   "outputs": [],
   "source": [
    "#Loading estimated/forecasted training_weather from file\n",
    "X_estimated_a = pd.read_parquet('../Data_and_task/A/X_train_estimated.parquet')\n",
    "X_estimated_b = pd.read_parquet('../Data_and_task/B/X_train_estimated.parquet')\n",
    "X_estimated_c = pd.read_parquet('../Data_and_task/C/X_train_estimated.parquet')"
   ]
  },
  {
   "cell_type": "code",
   "execution_count": 6,
   "id": "b4497f7f-0085-450b-9878-ad6f6a5d1fe3",
   "metadata": {},
   "outputs": [],
   "source": [
    "#Loading observed weather from file\n",
    "X_observed_a = pd.read_parquet('../Data_and_task/A/X_train_observed.parquet')\n",
    "X_observed_b = pd.read_parquet('../Data_and_task/B/X_train_observed.parquet')\n",
    "X_observed_c = pd.read_parquet('../Data_and_task/C/X_train_observed.parquet')"
   ]
  },
  {
   "cell_type": "code",
   "execution_count": 7,
   "id": "f98ee2bb-b307-418b-9bfe-0220e023bb39",
   "metadata": {},
   "outputs": [],
   "source": [
    "#Loading estimated/forecasted test_weather from file\n",
    "X_test_a = pd.read_parquet('../Data_and_task/A/X_test_estimated.parquet')\n",
    "X_test_b = pd.read_parquet('../Data_and_task/B/X_test_estimated.parquet')\n",
    "X_test_c = pd.read_parquet('../Data_and_task/C/X_test_estimated.parquet')"
   ]
  },
  {
   "cell_type": "markdown",
   "id": "b49d5d5c-d7d8-4457-a6f4-63b46420b648",
   "metadata": {},
   "source": [
    "# Defining the features we want to keep for the model"
   ]
  },
  {
   "cell_type": "code",
   "execution_count": 8,
   "id": "64fca55a-030e-4532-9184-9e15eb598f9d",
   "metadata": {},
   "outputs": [],
   "source": [
    "#Cleaning data such that only wanted features are included\n",
    "selected_features = [\"date_forecast\", \"direct_rad:W\", \"clear_sky_rad:W\" , \"diffuse_rad:W\",\"is_in_shadow:idx\", \"relative_humidity_1000hPa:p\"]"
   ]
  },
  {
   "cell_type": "code",
   "execution_count": null,
   "id": "c46dd18c-fbbf-4140-8f92-67a57118d69c",
   "metadata": {},
   "outputs": [],
   "source": [
    "# Create the dataset object for LightGBM\n",
    "d_train = lgb.Dataset(X_train, label=y_train)\n",
    "\n",
    "# Define the parameters. You might want to tune these\n",
    "params = {\n",
    "    'objective': 'regression',\n",
    "    'metric': 'rmse',\n",
    "    'boosting_type': 'gbdt',\n",
    "    'num_leaves': 31,\n",
    "    'learning_rate': 0.05,\n",
    "    'feature_fraction': 0.9\n",
    "}\n",
    "\n",
    "model = lgb.train(params, d_train, 100)  # 100 is the number of boosting rounds\n"
   ]
  }
 ],
 "metadata": {
  "kernelspec": {
   "display_name": "Python 3 (ipykernel)",
   "language": "python",
   "name": "python3"
  },
  "language_info": {
   "codemirror_mode": {
    "name": "ipython",
    "version": 3
   },
   "file_extension": ".py",
   "mimetype": "text/x-python",
   "name": "python",
   "nbconvert_exporter": "python",
   "pygments_lexer": "ipython3",
   "version": "3.9.13"
  }
 },
 "nbformat": 4,
 "nbformat_minor": 5
}
